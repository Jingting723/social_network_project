{
  "cells": [
    {
      "cell_type": "markdown",
      "source": [
        "# Aim \n",
        "\n",
        "> This notebook does node classification for reddit users. It first creats a homogonous graph with users as nodes and edges as either users commenting to other users' posts or replying to messages. \n",
        "\n",
        "> Based on users' features (comment and link karmas), the average user upvotes (for posts and comments) are predicted. \n",
        "\n",
        "> GCN and GAT are compared along with fine tuning for different parameters.  "
      ],
      "metadata": {
        "id": "3Gpydln4q5DQ"
      }
    },
    {
      "cell_type": "code",
      "source": [
        "pip install torch-geometric"
      ],
      "metadata": {
        "id": "8IFriX_HqXOH",
        "colab": {
          "base_uri": "https://localhost:8080/"
        },
        "outputId": "2f7293ee-9bac-4ae0-b372-c41e4bc8eb81"
      },
      "execution_count": 1,
      "outputs": [
        {
          "output_type": "stream",
          "name": "stdout",
          "text": [
            "Looking in indexes: https://pypi.org/simple, https://us-python.pkg.dev/colab-wheels/public/simple/\n",
            "Collecting torch-geometric\n",
            "  Downloading torch_geometric-2.3.1.tar.gz (661 kB)\n",
            "\u001b[2K     \u001b[90m━━━━━━━━━━━━━━━━━━━━━━━━━━━━━━━━━━━━━━━\u001b[0m \u001b[32m661.6/661.6 kB\u001b[0m \u001b[31m9.3 MB/s\u001b[0m eta \u001b[36m0:00:00\u001b[0m\n",
            "\u001b[?25h  Installing build dependencies ... \u001b[?25l\u001b[?25hdone\n",
            "  Getting requirements to build wheel ... \u001b[?25l\u001b[?25hdone\n",
            "  Preparing metadata (pyproject.toml) ... \u001b[?25l\u001b[?25hdone\n",
            "Requirement already satisfied: pyparsing in /usr/local/lib/python3.10/dist-packages (from torch-geometric) (3.0.9)\n",
            "Requirement already satisfied: requests in /usr/local/lib/python3.10/dist-packages (from torch-geometric) (2.27.1)\n",
            "Requirement already satisfied: tqdm in /usr/local/lib/python3.10/dist-packages (from torch-geometric) (4.65.0)\n",
            "Requirement already satisfied: jinja2 in /usr/local/lib/python3.10/dist-packages (from torch-geometric) (3.1.2)\n",
            "Requirement already satisfied: scikit-learn in /usr/local/lib/python3.10/dist-packages (from torch-geometric) (1.2.2)\n",
            "Requirement already satisfied: numpy in /usr/local/lib/python3.10/dist-packages (from torch-geometric) (1.24.3)\n",
            "Requirement already satisfied: scipy in /usr/local/lib/python3.10/dist-packages (from torch-geometric) (1.10.1)\n",
            "Requirement already satisfied: psutil>=5.8.0 in /usr/local/lib/python3.10/dist-packages (from torch-geometric) (5.9.5)\n",
            "Requirement already satisfied: MarkupSafe>=2.0 in /usr/local/lib/python3.10/dist-packages (from jinja2->torch-geometric) (2.1.2)\n",
            "Requirement already satisfied: urllib3<1.27,>=1.21.1 in /usr/local/lib/python3.10/dist-packages (from requests->torch-geometric) (1.26.15)\n",
            "Requirement already satisfied: idna<4,>=2.5 in /usr/local/lib/python3.10/dist-packages (from requests->torch-geometric) (3.4)\n",
            "Requirement already satisfied: charset-normalizer~=2.0.0 in /usr/local/lib/python3.10/dist-packages (from requests->torch-geometric) (2.0.12)\n",
            "Requirement already satisfied: certifi>=2017.4.17 in /usr/local/lib/python3.10/dist-packages (from requests->torch-geometric) (2022.12.7)\n",
            "Requirement already satisfied: threadpoolctl>=2.0.0 in /usr/local/lib/python3.10/dist-packages (from scikit-learn->torch-geometric) (3.1.0)\n",
            "Requirement already satisfied: joblib>=1.1.1 in /usr/local/lib/python3.10/dist-packages (from scikit-learn->torch-geometric) (1.2.0)\n",
            "Building wheels for collected packages: torch-geometric\n",
            "  Building wheel for torch-geometric (pyproject.toml) ... \u001b[?25l\u001b[?25hdone\n",
            "  Created wheel for torch-geometric: filename=torch_geometric-2.3.1-py3-none-any.whl size=910476 sha256=fa072322124ce553d521f34abee727992d4c87501bb6c73b7fdb2933bec44a93\n",
            "  Stored in directory: /root/.cache/pip/wheels/ac/dc/30/e2874821ff308ee67dcd7a66dbde912411e19e35a1addda028\n",
            "Successfully built torch-geometric\n",
            "Installing collected packages: torch-geometric\n",
            "Successfully installed torch-geometric-2.3.1\n"
          ]
        }
      ]
    },
    {
      "cell_type": "markdown",
      "source": [
        "## Importing libraries"
      ],
      "metadata": {
        "id": "iRXA7bMPqoT_"
      }
    },
    {
      "cell_type": "code",
      "execution_count": 2,
      "metadata": {
        "id": "jbQ_nBN8ViJR"
      },
      "outputs": [],
      "source": [
        "import pandas as pd \n",
        "import numpy as np\n",
        "import collections\n",
        "\n",
        "import matplotlib\n",
        "import matplotlib.pyplot as plt\n",
        "\n",
        "import torch\n",
        "import torch.nn as nn\n",
        "import torch.nn.functional as F\n",
        "\n",
        "from torch_geometric.data import Data\n",
        "from torch_geometric.utils.convert import to_networkx\n",
        "from torch_geometric.nn import GCNConv, SGConv\n",
        "\n",
        "import networkx as nx"
      ]
    },
    {
      "cell_type": "code",
      "execution_count": 3,
      "metadata": {
        "colab": {
          "base_uri": "https://localhost:8080/"
        },
        "id": "JQ5w1hCvVlwh",
        "outputId": "7911cd97-c2a8-44c2-d87d-03f02879b9a1"
      },
      "outputs": [
        {
          "output_type": "stream",
          "name": "stdout",
          "text": [
            "Mounted at /content/drive\n"
          ]
        }
      ],
      "source": [
        "from google.colab import drive\n",
        "drive.mount('/content/drive')\n",
        "\n",
        "import os\n",
        "os.chdir('/content/drive/My Drive/vanderbilt/social/project')"
      ]
    },
    {
      "cell_type": "markdown",
      "source": [
        "## Data munging"
      ],
      "metadata": {
        "id": "lzcLRSYVqsCO"
      }
    },
    {
      "cell_type": "code",
      "execution_count": 4,
      "metadata": {
        "id": "Bvg_r5joWYhf"
      },
      "outputs": [],
      "source": [
        "users = pd.read_csv(\"users.csv\", header= None)\n",
        "edges = pd.read_csv(\"edges.csv\", header = None)\n",
        "df = pd.read_csv(\"df.csv\", index_col = 0)"
      ]
    },
    {
      "cell_type": "code",
      "execution_count": 5,
      "metadata": {
        "id": "w1fZRHU7J6MY"
      },
      "outputs": [],
      "source": [
        "users = users.reset_index()"
      ]
    },
    {
      "cell_type": "code",
      "execution_count": 6,
      "metadata": {
        "id": "fAUw_3G3KQoE"
      },
      "outputs": [],
      "source": [
        "users.columns = [\"userid\", 'username']"
      ]
    },
    {
      "cell_type": "code",
      "execution_count": 7,
      "metadata": {
        "colab": {
          "base_uri": "https://localhost:8080/",
          "height": 423
        },
        "id": "xs-B7-HES-2G",
        "outputId": "e980bac4-74ce-48ed-9057-ec72f5296edd"
      },
      "outputs": [
        {
          "output_type": "execute_result",
          "data": {
            "text/plain": [
              "     userid              username\n",
              "0         0          that_90s_guy\n",
              "1         1         AutoModerator\n",
              "2         2     scumbagdetector15\n",
              "3         3                 csch2\n",
              "4         4    PlayerofVideoGames\n",
              "..      ...                   ...\n",
              "608     608  Lanky_Information825\n",
              "609     609            xebeka6808\n",
              "610     610            HumanJenoM\n",
              "611     611             mvandemar\n",
              "612     612           flossraptor\n",
              "\n",
              "[613 rows x 2 columns]"
            ],
            "text/html": [
              "\n",
              "  <div id=\"df-63cf719e-0e40-4032-8719-6e76bdf10bc1\">\n",
              "    <div class=\"colab-df-container\">\n",
              "      <div>\n",
              "<style scoped>\n",
              "    .dataframe tbody tr th:only-of-type {\n",
              "        vertical-align: middle;\n",
              "    }\n",
              "\n",
              "    .dataframe tbody tr th {\n",
              "        vertical-align: top;\n",
              "    }\n",
              "\n",
              "    .dataframe thead th {\n",
              "        text-align: right;\n",
              "    }\n",
              "</style>\n",
              "<table border=\"1\" class=\"dataframe\">\n",
              "  <thead>\n",
              "    <tr style=\"text-align: right;\">\n",
              "      <th></th>\n",
              "      <th>userid</th>\n",
              "      <th>username</th>\n",
              "    </tr>\n",
              "  </thead>\n",
              "  <tbody>\n",
              "    <tr>\n",
              "      <th>0</th>\n",
              "      <td>0</td>\n",
              "      <td>that_90s_guy</td>\n",
              "    </tr>\n",
              "    <tr>\n",
              "      <th>1</th>\n",
              "      <td>1</td>\n",
              "      <td>AutoModerator</td>\n",
              "    </tr>\n",
              "    <tr>\n",
              "      <th>2</th>\n",
              "      <td>2</td>\n",
              "      <td>scumbagdetector15</td>\n",
              "    </tr>\n",
              "    <tr>\n",
              "      <th>3</th>\n",
              "      <td>3</td>\n",
              "      <td>csch2</td>\n",
              "    </tr>\n",
              "    <tr>\n",
              "      <th>4</th>\n",
              "      <td>4</td>\n",
              "      <td>PlayerofVideoGames</td>\n",
              "    </tr>\n",
              "    <tr>\n",
              "      <th>...</th>\n",
              "      <td>...</td>\n",
              "      <td>...</td>\n",
              "    </tr>\n",
              "    <tr>\n",
              "      <th>608</th>\n",
              "      <td>608</td>\n",
              "      <td>Lanky_Information825</td>\n",
              "    </tr>\n",
              "    <tr>\n",
              "      <th>609</th>\n",
              "      <td>609</td>\n",
              "      <td>xebeka6808</td>\n",
              "    </tr>\n",
              "    <tr>\n",
              "      <th>610</th>\n",
              "      <td>610</td>\n",
              "      <td>HumanJenoM</td>\n",
              "    </tr>\n",
              "    <tr>\n",
              "      <th>611</th>\n",
              "      <td>611</td>\n",
              "      <td>mvandemar</td>\n",
              "    </tr>\n",
              "    <tr>\n",
              "      <th>612</th>\n",
              "      <td>612</td>\n",
              "      <td>flossraptor</td>\n",
              "    </tr>\n",
              "  </tbody>\n",
              "</table>\n",
              "<p>613 rows × 2 columns</p>\n",
              "</div>\n",
              "      <button class=\"colab-df-convert\" onclick=\"convertToInteractive('df-63cf719e-0e40-4032-8719-6e76bdf10bc1')\"\n",
              "              title=\"Convert this dataframe to an interactive table.\"\n",
              "              style=\"display:none;\">\n",
              "        \n",
              "  <svg xmlns=\"http://www.w3.org/2000/svg\" height=\"24px\"viewBox=\"0 0 24 24\"\n",
              "       width=\"24px\">\n",
              "    <path d=\"M0 0h24v24H0V0z\" fill=\"none\"/>\n",
              "    <path d=\"M18.56 5.44l.94 2.06.94-2.06 2.06-.94-2.06-.94-.94-2.06-.94 2.06-2.06.94zm-11 1L8.5 8.5l.94-2.06 2.06-.94-2.06-.94L8.5 2.5l-.94 2.06-2.06.94zm10 10l.94 2.06.94-2.06 2.06-.94-2.06-.94-.94-2.06-.94 2.06-2.06.94z\"/><path d=\"M17.41 7.96l-1.37-1.37c-.4-.4-.92-.59-1.43-.59-.52 0-1.04.2-1.43.59L10.3 9.45l-7.72 7.72c-.78.78-.78 2.05 0 2.83L4 21.41c.39.39.9.59 1.41.59.51 0 1.02-.2 1.41-.59l7.78-7.78 2.81-2.81c.8-.78.8-2.07 0-2.86zM5.41 20L4 18.59l7.72-7.72 1.47 1.35L5.41 20z\"/>\n",
              "  </svg>\n",
              "      </button>\n",
              "      \n",
              "  <style>\n",
              "    .colab-df-container {\n",
              "      display:flex;\n",
              "      flex-wrap:wrap;\n",
              "      gap: 12px;\n",
              "    }\n",
              "\n",
              "    .colab-df-convert {\n",
              "      background-color: #E8F0FE;\n",
              "      border: none;\n",
              "      border-radius: 50%;\n",
              "      cursor: pointer;\n",
              "      display: none;\n",
              "      fill: #1967D2;\n",
              "      height: 32px;\n",
              "      padding: 0 0 0 0;\n",
              "      width: 32px;\n",
              "    }\n",
              "\n",
              "    .colab-df-convert:hover {\n",
              "      background-color: #E2EBFA;\n",
              "      box-shadow: 0px 1px 2px rgba(60, 64, 67, 0.3), 0px 1px 3px 1px rgba(60, 64, 67, 0.15);\n",
              "      fill: #174EA6;\n",
              "    }\n",
              "\n",
              "    [theme=dark] .colab-df-convert {\n",
              "      background-color: #3B4455;\n",
              "      fill: #D2E3FC;\n",
              "    }\n",
              "\n",
              "    [theme=dark] .colab-df-convert:hover {\n",
              "      background-color: #434B5C;\n",
              "      box-shadow: 0px 1px 3px 1px rgba(0, 0, 0, 0.15);\n",
              "      filter: drop-shadow(0px 1px 2px rgba(0, 0, 0, 0.3));\n",
              "      fill: #FFFFFF;\n",
              "    }\n",
              "  </style>\n",
              "\n",
              "      <script>\n",
              "        const buttonEl =\n",
              "          document.querySelector('#df-63cf719e-0e40-4032-8719-6e76bdf10bc1 button.colab-df-convert');\n",
              "        buttonEl.style.display =\n",
              "          google.colab.kernel.accessAllowed ? 'block' : 'none';\n",
              "\n",
              "        async function convertToInteractive(key) {\n",
              "          const element = document.querySelector('#df-63cf719e-0e40-4032-8719-6e76bdf10bc1');\n",
              "          const dataTable =\n",
              "            await google.colab.kernel.invokeFunction('convertToInteractive',\n",
              "                                                     [key], {});\n",
              "          if (!dataTable) return;\n",
              "\n",
              "          const docLinkHtml = 'Like what you see? Visit the ' +\n",
              "            '<a target=\"_blank\" href=https://colab.research.google.com/notebooks/data_table.ipynb>data table notebook</a>'\n",
              "            + ' to learn more about interactive tables.';\n",
              "          element.innerHTML = '';\n",
              "          dataTable['output_type'] = 'display_data';\n",
              "          await google.colab.output.renderOutput(dataTable, element);\n",
              "          const docLink = document.createElement('div');\n",
              "          docLink.innerHTML = docLinkHtml;\n",
              "          element.appendChild(docLink);\n",
              "        }\n",
              "      </script>\n",
              "    </div>\n",
              "  </div>\n",
              "  "
            ]
          },
          "metadata": {},
          "execution_count": 7
        }
      ],
      "source": [
        "users"
      ]
    },
    {
      "cell_type": "code",
      "execution_count": 8,
      "metadata": {
        "colab": {
          "base_uri": "https://localhost:8080/",
          "height": 423
        },
        "id": "zXokE98A_R2k",
        "outputId": "bcf3a39d-cbc2-4031-c0bb-1a2080df8116"
      },
      "outputs": [
        {
          "output_type": "execute_result",
          "data": {
            "text/plain": [
              "                      comment_karma  link_karma  avg_upvotes\n",
              "that_90s_guy                31343.0     20684.0  1503.390000\n",
              "AutoModerator                1000.0      1000.0     1.004695\n",
              "scumbagdetector15           18369.0         1.0   170.600000\n",
              "csch2                        1981.0      2622.0   136.000000\n",
              "PlayerofVideoGames          18476.0       473.0    57.000000\n",
              "...                             ...         ...          ...\n",
              "Lanky_Information825          326.0         3.0     5.000000\n",
              "xebeka6808                   4631.0       765.0     5.000000\n",
              "HumanJenoM                   8117.0       505.0     3.000000\n",
              "mvandemar                    4467.0      2391.0     2.000000\n",
              "flossraptor                 11986.0      1899.0     1.000000\n",
              "\n",
              "[613 rows x 3 columns]"
            ],
            "text/html": [
              "\n",
              "  <div id=\"df-f8a75311-5094-49e0-b217-eb3ae2329610\">\n",
              "    <div class=\"colab-df-container\">\n",
              "      <div>\n",
              "<style scoped>\n",
              "    .dataframe tbody tr th:only-of-type {\n",
              "        vertical-align: middle;\n",
              "    }\n",
              "\n",
              "    .dataframe tbody tr th {\n",
              "        vertical-align: top;\n",
              "    }\n",
              "\n",
              "    .dataframe thead th {\n",
              "        text-align: right;\n",
              "    }\n",
              "</style>\n",
              "<table border=\"1\" class=\"dataframe\">\n",
              "  <thead>\n",
              "    <tr style=\"text-align: right;\">\n",
              "      <th></th>\n",
              "      <th>comment_karma</th>\n",
              "      <th>link_karma</th>\n",
              "      <th>avg_upvotes</th>\n",
              "    </tr>\n",
              "  </thead>\n",
              "  <tbody>\n",
              "    <tr>\n",
              "      <th>that_90s_guy</th>\n",
              "      <td>31343.0</td>\n",
              "      <td>20684.0</td>\n",
              "      <td>1503.390000</td>\n",
              "    </tr>\n",
              "    <tr>\n",
              "      <th>AutoModerator</th>\n",
              "      <td>1000.0</td>\n",
              "      <td>1000.0</td>\n",
              "      <td>1.004695</td>\n",
              "    </tr>\n",
              "    <tr>\n",
              "      <th>scumbagdetector15</th>\n",
              "      <td>18369.0</td>\n",
              "      <td>1.0</td>\n",
              "      <td>170.600000</td>\n",
              "    </tr>\n",
              "    <tr>\n",
              "      <th>csch2</th>\n",
              "      <td>1981.0</td>\n",
              "      <td>2622.0</td>\n",
              "      <td>136.000000</td>\n",
              "    </tr>\n",
              "    <tr>\n",
              "      <th>PlayerofVideoGames</th>\n",
              "      <td>18476.0</td>\n",
              "      <td>473.0</td>\n",
              "      <td>57.000000</td>\n",
              "    </tr>\n",
              "    <tr>\n",
              "      <th>...</th>\n",
              "      <td>...</td>\n",
              "      <td>...</td>\n",
              "      <td>...</td>\n",
              "    </tr>\n",
              "    <tr>\n",
              "      <th>Lanky_Information825</th>\n",
              "      <td>326.0</td>\n",
              "      <td>3.0</td>\n",
              "      <td>5.000000</td>\n",
              "    </tr>\n",
              "    <tr>\n",
              "      <th>xebeka6808</th>\n",
              "      <td>4631.0</td>\n",
              "      <td>765.0</td>\n",
              "      <td>5.000000</td>\n",
              "    </tr>\n",
              "    <tr>\n",
              "      <th>HumanJenoM</th>\n",
              "      <td>8117.0</td>\n",
              "      <td>505.0</td>\n",
              "      <td>3.000000</td>\n",
              "    </tr>\n",
              "    <tr>\n",
              "      <th>mvandemar</th>\n",
              "      <td>4467.0</td>\n",
              "      <td>2391.0</td>\n",
              "      <td>2.000000</td>\n",
              "    </tr>\n",
              "    <tr>\n",
              "      <th>flossraptor</th>\n",
              "      <td>11986.0</td>\n",
              "      <td>1899.0</td>\n",
              "      <td>1.000000</td>\n",
              "    </tr>\n",
              "  </tbody>\n",
              "</table>\n",
              "<p>613 rows × 3 columns</p>\n",
              "</div>\n",
              "      <button class=\"colab-df-convert\" onclick=\"convertToInteractive('df-f8a75311-5094-49e0-b217-eb3ae2329610')\"\n",
              "              title=\"Convert this dataframe to an interactive table.\"\n",
              "              style=\"display:none;\">\n",
              "        \n",
              "  <svg xmlns=\"http://www.w3.org/2000/svg\" height=\"24px\"viewBox=\"0 0 24 24\"\n",
              "       width=\"24px\">\n",
              "    <path d=\"M0 0h24v24H0V0z\" fill=\"none\"/>\n",
              "    <path d=\"M18.56 5.44l.94 2.06.94-2.06 2.06-.94-2.06-.94-.94-2.06-.94 2.06-2.06.94zm-11 1L8.5 8.5l.94-2.06 2.06-.94-2.06-.94L8.5 2.5l-.94 2.06-2.06.94zm10 10l.94 2.06.94-2.06 2.06-.94-2.06-.94-.94-2.06-.94 2.06-2.06.94z\"/><path d=\"M17.41 7.96l-1.37-1.37c-.4-.4-.92-.59-1.43-.59-.52 0-1.04.2-1.43.59L10.3 9.45l-7.72 7.72c-.78.78-.78 2.05 0 2.83L4 21.41c.39.39.9.59 1.41.59.51 0 1.02-.2 1.41-.59l7.78-7.78 2.81-2.81c.8-.78.8-2.07 0-2.86zM5.41 20L4 18.59l7.72-7.72 1.47 1.35L5.41 20z\"/>\n",
              "  </svg>\n",
              "      </button>\n",
              "      \n",
              "  <style>\n",
              "    .colab-df-container {\n",
              "      display:flex;\n",
              "      flex-wrap:wrap;\n",
              "      gap: 12px;\n",
              "    }\n",
              "\n",
              "    .colab-df-convert {\n",
              "      background-color: #E8F0FE;\n",
              "      border: none;\n",
              "      border-radius: 50%;\n",
              "      cursor: pointer;\n",
              "      display: none;\n",
              "      fill: #1967D2;\n",
              "      height: 32px;\n",
              "      padding: 0 0 0 0;\n",
              "      width: 32px;\n",
              "    }\n",
              "\n",
              "    .colab-df-convert:hover {\n",
              "      background-color: #E2EBFA;\n",
              "      box-shadow: 0px 1px 2px rgba(60, 64, 67, 0.3), 0px 1px 3px 1px rgba(60, 64, 67, 0.15);\n",
              "      fill: #174EA6;\n",
              "    }\n",
              "\n",
              "    [theme=dark] .colab-df-convert {\n",
              "      background-color: #3B4455;\n",
              "      fill: #D2E3FC;\n",
              "    }\n",
              "\n",
              "    [theme=dark] .colab-df-convert:hover {\n",
              "      background-color: #434B5C;\n",
              "      box-shadow: 0px 1px 3px 1px rgba(0, 0, 0, 0.15);\n",
              "      filter: drop-shadow(0px 1px 2px rgba(0, 0, 0, 0.3));\n",
              "      fill: #FFFFFF;\n",
              "    }\n",
              "  </style>\n",
              "\n",
              "      <script>\n",
              "        const buttonEl =\n",
              "          document.querySelector('#df-f8a75311-5094-49e0-b217-eb3ae2329610 button.colab-df-convert');\n",
              "        buttonEl.style.display =\n",
              "          google.colab.kernel.accessAllowed ? 'block' : 'none';\n",
              "\n",
              "        async function convertToInteractive(key) {\n",
              "          const element = document.querySelector('#df-f8a75311-5094-49e0-b217-eb3ae2329610');\n",
              "          const dataTable =\n",
              "            await google.colab.kernel.invokeFunction('convertToInteractive',\n",
              "                                                     [key], {});\n",
              "          if (!dataTable) return;\n",
              "\n",
              "          const docLinkHtml = 'Like what you see? Visit the ' +\n",
              "            '<a target=\"_blank\" href=https://colab.research.google.com/notebooks/data_table.ipynb>data table notebook</a>'\n",
              "            + ' to learn more about interactive tables.';\n",
              "          element.innerHTML = '';\n",
              "          dataTable['output_type'] = 'display_data';\n",
              "          await google.colab.output.renderOutput(dataTable, element);\n",
              "          const docLink = document.createElement('div');\n",
              "          docLink.innerHTML = docLinkHtml;\n",
              "          element.appendChild(docLink);\n",
              "        }\n",
              "      </script>\n",
              "    </div>\n",
              "  </div>\n",
              "  "
            ]
          },
          "metadata": {},
          "execution_count": 8
        }
      ],
      "source": [
        "df"
      ]
    },
    {
      "cell_type": "code",
      "execution_count": 9,
      "metadata": {
        "id": "E2osbsAd15eU"
      },
      "outputs": [],
      "source": [
        "node_features = df[[\"comment_karma\", \"link_karma\"]]\n",
        "num_classes = 2"
      ]
    },
    {
      "cell_type": "code",
      "execution_count": 10,
      "metadata": {
        "colab": {
          "base_uri": "https://localhost:8080/",
          "height": 423
        },
        "id": "tVsLBxNq2ctP",
        "outputId": "38de3de8-2a42-4e38-97fa-9b713387fbb8"
      },
      "outputs": [
        {
          "output_type": "execute_result",
          "data": {
            "text/plain": [
              "                      comment_karma  link_karma\n",
              "that_90s_guy                31343.0     20684.0\n",
              "AutoModerator                1000.0      1000.0\n",
              "scumbagdetector15           18369.0         1.0\n",
              "csch2                        1981.0      2622.0\n",
              "PlayerofVideoGames          18476.0       473.0\n",
              "...                             ...         ...\n",
              "Lanky_Information825          326.0         3.0\n",
              "xebeka6808                   4631.0       765.0\n",
              "HumanJenoM                   8117.0       505.0\n",
              "mvandemar                    4467.0      2391.0\n",
              "flossraptor                 11986.0      1899.0\n",
              "\n",
              "[613 rows x 2 columns]"
            ],
            "text/html": [
              "\n",
              "  <div id=\"df-144e8fa3-134a-40a8-b88b-4b420f8b1afa\">\n",
              "    <div class=\"colab-df-container\">\n",
              "      <div>\n",
              "<style scoped>\n",
              "    .dataframe tbody tr th:only-of-type {\n",
              "        vertical-align: middle;\n",
              "    }\n",
              "\n",
              "    .dataframe tbody tr th {\n",
              "        vertical-align: top;\n",
              "    }\n",
              "\n",
              "    .dataframe thead th {\n",
              "        text-align: right;\n",
              "    }\n",
              "</style>\n",
              "<table border=\"1\" class=\"dataframe\">\n",
              "  <thead>\n",
              "    <tr style=\"text-align: right;\">\n",
              "      <th></th>\n",
              "      <th>comment_karma</th>\n",
              "      <th>link_karma</th>\n",
              "    </tr>\n",
              "  </thead>\n",
              "  <tbody>\n",
              "    <tr>\n",
              "      <th>that_90s_guy</th>\n",
              "      <td>31343.0</td>\n",
              "      <td>20684.0</td>\n",
              "    </tr>\n",
              "    <tr>\n",
              "      <th>AutoModerator</th>\n",
              "      <td>1000.0</td>\n",
              "      <td>1000.0</td>\n",
              "    </tr>\n",
              "    <tr>\n",
              "      <th>scumbagdetector15</th>\n",
              "      <td>18369.0</td>\n",
              "      <td>1.0</td>\n",
              "    </tr>\n",
              "    <tr>\n",
              "      <th>csch2</th>\n",
              "      <td>1981.0</td>\n",
              "      <td>2622.0</td>\n",
              "    </tr>\n",
              "    <tr>\n",
              "      <th>PlayerofVideoGames</th>\n",
              "      <td>18476.0</td>\n",
              "      <td>473.0</td>\n",
              "    </tr>\n",
              "    <tr>\n",
              "      <th>...</th>\n",
              "      <td>...</td>\n",
              "      <td>...</td>\n",
              "    </tr>\n",
              "    <tr>\n",
              "      <th>Lanky_Information825</th>\n",
              "      <td>326.0</td>\n",
              "      <td>3.0</td>\n",
              "    </tr>\n",
              "    <tr>\n",
              "      <th>xebeka6808</th>\n",
              "      <td>4631.0</td>\n",
              "      <td>765.0</td>\n",
              "    </tr>\n",
              "    <tr>\n",
              "      <th>HumanJenoM</th>\n",
              "      <td>8117.0</td>\n",
              "      <td>505.0</td>\n",
              "    </tr>\n",
              "    <tr>\n",
              "      <th>mvandemar</th>\n",
              "      <td>4467.0</td>\n",
              "      <td>2391.0</td>\n",
              "    </tr>\n",
              "    <tr>\n",
              "      <th>flossraptor</th>\n",
              "      <td>11986.0</td>\n",
              "      <td>1899.0</td>\n",
              "    </tr>\n",
              "  </tbody>\n",
              "</table>\n",
              "<p>613 rows × 2 columns</p>\n",
              "</div>\n",
              "      <button class=\"colab-df-convert\" onclick=\"convertToInteractive('df-144e8fa3-134a-40a8-b88b-4b420f8b1afa')\"\n",
              "              title=\"Convert this dataframe to an interactive table.\"\n",
              "              style=\"display:none;\">\n",
              "        \n",
              "  <svg xmlns=\"http://www.w3.org/2000/svg\" height=\"24px\"viewBox=\"0 0 24 24\"\n",
              "       width=\"24px\">\n",
              "    <path d=\"M0 0h24v24H0V0z\" fill=\"none\"/>\n",
              "    <path d=\"M18.56 5.44l.94 2.06.94-2.06 2.06-.94-2.06-.94-.94-2.06-.94 2.06-2.06.94zm-11 1L8.5 8.5l.94-2.06 2.06-.94-2.06-.94L8.5 2.5l-.94 2.06-2.06.94zm10 10l.94 2.06.94-2.06 2.06-.94-2.06-.94-.94-2.06-.94 2.06-2.06.94z\"/><path d=\"M17.41 7.96l-1.37-1.37c-.4-.4-.92-.59-1.43-.59-.52 0-1.04.2-1.43.59L10.3 9.45l-7.72 7.72c-.78.78-.78 2.05 0 2.83L4 21.41c.39.39.9.59 1.41.59.51 0 1.02-.2 1.41-.59l7.78-7.78 2.81-2.81c.8-.78.8-2.07 0-2.86zM5.41 20L4 18.59l7.72-7.72 1.47 1.35L5.41 20z\"/>\n",
              "  </svg>\n",
              "      </button>\n",
              "      \n",
              "  <style>\n",
              "    .colab-df-container {\n",
              "      display:flex;\n",
              "      flex-wrap:wrap;\n",
              "      gap: 12px;\n",
              "    }\n",
              "\n",
              "    .colab-df-convert {\n",
              "      background-color: #E8F0FE;\n",
              "      border: none;\n",
              "      border-radius: 50%;\n",
              "      cursor: pointer;\n",
              "      display: none;\n",
              "      fill: #1967D2;\n",
              "      height: 32px;\n",
              "      padding: 0 0 0 0;\n",
              "      width: 32px;\n",
              "    }\n",
              "\n",
              "    .colab-df-convert:hover {\n",
              "      background-color: #E2EBFA;\n",
              "      box-shadow: 0px 1px 2px rgba(60, 64, 67, 0.3), 0px 1px 3px 1px rgba(60, 64, 67, 0.15);\n",
              "      fill: #174EA6;\n",
              "    }\n",
              "\n",
              "    [theme=dark] .colab-df-convert {\n",
              "      background-color: #3B4455;\n",
              "      fill: #D2E3FC;\n",
              "    }\n",
              "\n",
              "    [theme=dark] .colab-df-convert:hover {\n",
              "      background-color: #434B5C;\n",
              "      box-shadow: 0px 1px 3px 1px rgba(0, 0, 0, 0.15);\n",
              "      filter: drop-shadow(0px 1px 2px rgba(0, 0, 0, 0.3));\n",
              "      fill: #FFFFFF;\n",
              "    }\n",
              "  </style>\n",
              "\n",
              "      <script>\n",
              "        const buttonEl =\n",
              "          document.querySelector('#df-144e8fa3-134a-40a8-b88b-4b420f8b1afa button.colab-df-convert');\n",
              "        buttonEl.style.display =\n",
              "          google.colab.kernel.accessAllowed ? 'block' : 'none';\n",
              "\n",
              "        async function convertToInteractive(key) {\n",
              "          const element = document.querySelector('#df-144e8fa3-134a-40a8-b88b-4b420f8b1afa');\n",
              "          const dataTable =\n",
              "            await google.colab.kernel.invokeFunction('convertToInteractive',\n",
              "                                                     [key], {});\n",
              "          if (!dataTable) return;\n",
              "\n",
              "          const docLinkHtml = 'Like what you see? Visit the ' +\n",
              "            '<a target=\"_blank\" href=https://colab.research.google.com/notebooks/data_table.ipynb>data table notebook</a>'\n",
              "            + ' to learn more about interactive tables.';\n",
              "          element.innerHTML = '';\n",
              "          dataTable['output_type'] = 'display_data';\n",
              "          await google.colab.output.renderOutput(dataTable, element);\n",
              "          const docLink = document.createElement('div');\n",
              "          docLink.innerHTML = docLinkHtml;\n",
              "          element.appendChild(docLink);\n",
              "        }\n",
              "      </script>\n",
              "    </div>\n",
              "  </div>\n",
              "  "
            ]
          },
          "metadata": {},
          "execution_count": 10
        }
      ],
      "source": [
        "node_features"
      ]
    },
    {
      "cell_type": "code",
      "execution_count": 11,
      "metadata": {
        "colab": {
          "base_uri": "https://localhost:8080/"
        },
        "id": "ggt7sB-Z1HPq",
        "outputId": "7bbf6151-12b6-4aee-91d1-5a1847745a2c"
      },
      "outputs": [
        {
          "output_type": "execute_result",
          "data": {
            "text/plain": [
              "torch.Size([613, 2])"
            ]
          },
          "metadata": {},
          "execution_count": 11
        }
      ],
      "source": [
        "# Convert to numpy\n",
        "x = torch.tensor(node_features.values)\n",
        "x.shape # [num_nodes x num_features]"
      ]
    },
    {
      "cell_type": "code",
      "execution_count": 12,
      "metadata": {
        "colab": {
          "base_uri": "https://localhost:8080/",
          "height": 423
        },
        "id": "7Hvy05XYQ6wv",
        "outputId": "d5e4c19f-8206-4e2e-f707-b1c38dc3a726"
      },
      "outputs": [
        {
          "output_type": "execute_result",
          "data": {
            "text/plain": [
              "                      comment_karma  link_karma  avg_upvotes\n",
              "that_90s_guy                31343.0     20684.0  1503.390000\n",
              "AutoModerator                1000.0      1000.0     1.004695\n",
              "scumbagdetector15           18369.0         1.0   170.600000\n",
              "csch2                        1981.0      2622.0   136.000000\n",
              "PlayerofVideoGames          18476.0       473.0    57.000000\n",
              "...                             ...         ...          ...\n",
              "Lanky_Information825          326.0         3.0     5.000000\n",
              "xebeka6808                   4631.0       765.0     5.000000\n",
              "HumanJenoM                   8117.0       505.0     3.000000\n",
              "mvandemar                    4467.0      2391.0     2.000000\n",
              "flossraptor                 11986.0      1899.0     1.000000\n",
              "\n",
              "[613 rows x 3 columns]"
            ],
            "text/html": [
              "\n",
              "  <div id=\"df-f6db0b80-ed89-408d-9e38-e5182af368af\">\n",
              "    <div class=\"colab-df-container\">\n",
              "      <div>\n",
              "<style scoped>\n",
              "    .dataframe tbody tr th:only-of-type {\n",
              "        vertical-align: middle;\n",
              "    }\n",
              "\n",
              "    .dataframe tbody tr th {\n",
              "        vertical-align: top;\n",
              "    }\n",
              "\n",
              "    .dataframe thead th {\n",
              "        text-align: right;\n",
              "    }\n",
              "</style>\n",
              "<table border=\"1\" class=\"dataframe\">\n",
              "  <thead>\n",
              "    <tr style=\"text-align: right;\">\n",
              "      <th></th>\n",
              "      <th>comment_karma</th>\n",
              "      <th>link_karma</th>\n",
              "      <th>avg_upvotes</th>\n",
              "    </tr>\n",
              "  </thead>\n",
              "  <tbody>\n",
              "    <tr>\n",
              "      <th>that_90s_guy</th>\n",
              "      <td>31343.0</td>\n",
              "      <td>20684.0</td>\n",
              "      <td>1503.390000</td>\n",
              "    </tr>\n",
              "    <tr>\n",
              "      <th>AutoModerator</th>\n",
              "      <td>1000.0</td>\n",
              "      <td>1000.0</td>\n",
              "      <td>1.004695</td>\n",
              "    </tr>\n",
              "    <tr>\n",
              "      <th>scumbagdetector15</th>\n",
              "      <td>18369.0</td>\n",
              "      <td>1.0</td>\n",
              "      <td>170.600000</td>\n",
              "    </tr>\n",
              "    <tr>\n",
              "      <th>csch2</th>\n",
              "      <td>1981.0</td>\n",
              "      <td>2622.0</td>\n",
              "      <td>136.000000</td>\n",
              "    </tr>\n",
              "    <tr>\n",
              "      <th>PlayerofVideoGames</th>\n",
              "      <td>18476.0</td>\n",
              "      <td>473.0</td>\n",
              "      <td>57.000000</td>\n",
              "    </tr>\n",
              "    <tr>\n",
              "      <th>...</th>\n",
              "      <td>...</td>\n",
              "      <td>...</td>\n",
              "      <td>...</td>\n",
              "    </tr>\n",
              "    <tr>\n",
              "      <th>Lanky_Information825</th>\n",
              "      <td>326.0</td>\n",
              "      <td>3.0</td>\n",
              "      <td>5.000000</td>\n",
              "    </tr>\n",
              "    <tr>\n",
              "      <th>xebeka6808</th>\n",
              "      <td>4631.0</td>\n",
              "      <td>765.0</td>\n",
              "      <td>5.000000</td>\n",
              "    </tr>\n",
              "    <tr>\n",
              "      <th>HumanJenoM</th>\n",
              "      <td>8117.0</td>\n",
              "      <td>505.0</td>\n",
              "      <td>3.000000</td>\n",
              "    </tr>\n",
              "    <tr>\n",
              "      <th>mvandemar</th>\n",
              "      <td>4467.0</td>\n",
              "      <td>2391.0</td>\n",
              "      <td>2.000000</td>\n",
              "    </tr>\n",
              "    <tr>\n",
              "      <th>flossraptor</th>\n",
              "      <td>11986.0</td>\n",
              "      <td>1899.0</td>\n",
              "      <td>1.000000</td>\n",
              "    </tr>\n",
              "  </tbody>\n",
              "</table>\n",
              "<p>613 rows × 3 columns</p>\n",
              "</div>\n",
              "      <button class=\"colab-df-convert\" onclick=\"convertToInteractive('df-f6db0b80-ed89-408d-9e38-e5182af368af')\"\n",
              "              title=\"Convert this dataframe to an interactive table.\"\n",
              "              style=\"display:none;\">\n",
              "        \n",
              "  <svg xmlns=\"http://www.w3.org/2000/svg\" height=\"24px\"viewBox=\"0 0 24 24\"\n",
              "       width=\"24px\">\n",
              "    <path d=\"M0 0h24v24H0V0z\" fill=\"none\"/>\n",
              "    <path d=\"M18.56 5.44l.94 2.06.94-2.06 2.06-.94-2.06-.94-.94-2.06-.94 2.06-2.06.94zm-11 1L8.5 8.5l.94-2.06 2.06-.94-2.06-.94L8.5 2.5l-.94 2.06-2.06.94zm10 10l.94 2.06.94-2.06 2.06-.94-2.06-.94-.94-2.06-.94 2.06-2.06.94z\"/><path d=\"M17.41 7.96l-1.37-1.37c-.4-.4-.92-.59-1.43-.59-.52 0-1.04.2-1.43.59L10.3 9.45l-7.72 7.72c-.78.78-.78 2.05 0 2.83L4 21.41c.39.39.9.59 1.41.59.51 0 1.02-.2 1.41-.59l7.78-7.78 2.81-2.81c.8-.78.8-2.07 0-2.86zM5.41 20L4 18.59l7.72-7.72 1.47 1.35L5.41 20z\"/>\n",
              "  </svg>\n",
              "      </button>\n",
              "      \n",
              "  <style>\n",
              "    .colab-df-container {\n",
              "      display:flex;\n",
              "      flex-wrap:wrap;\n",
              "      gap: 12px;\n",
              "    }\n",
              "\n",
              "    .colab-df-convert {\n",
              "      background-color: #E8F0FE;\n",
              "      border: none;\n",
              "      border-radius: 50%;\n",
              "      cursor: pointer;\n",
              "      display: none;\n",
              "      fill: #1967D2;\n",
              "      height: 32px;\n",
              "      padding: 0 0 0 0;\n",
              "      width: 32px;\n",
              "    }\n",
              "\n",
              "    .colab-df-convert:hover {\n",
              "      background-color: #E2EBFA;\n",
              "      box-shadow: 0px 1px 2px rgba(60, 64, 67, 0.3), 0px 1px 3px 1px rgba(60, 64, 67, 0.15);\n",
              "      fill: #174EA6;\n",
              "    }\n",
              "\n",
              "    [theme=dark] .colab-df-convert {\n",
              "      background-color: #3B4455;\n",
              "      fill: #D2E3FC;\n",
              "    }\n",
              "\n",
              "    [theme=dark] .colab-df-convert:hover {\n",
              "      background-color: #434B5C;\n",
              "      box-shadow: 0px 1px 3px 1px rgba(0, 0, 0, 0.15);\n",
              "      filter: drop-shadow(0px 1px 2px rgba(0, 0, 0, 0.3));\n",
              "      fill: #FFFFFF;\n",
              "    }\n",
              "  </style>\n",
              "\n",
              "      <script>\n",
              "        const buttonEl =\n",
              "          document.querySelector('#df-f6db0b80-ed89-408d-9e38-e5182af368af button.colab-df-convert');\n",
              "        buttonEl.style.display =\n",
              "          google.colab.kernel.accessAllowed ? 'block' : 'none';\n",
              "\n",
              "        async function convertToInteractive(key) {\n",
              "          const element = document.querySelector('#df-f6db0b80-ed89-408d-9e38-e5182af368af');\n",
              "          const dataTable =\n",
              "            await google.colab.kernel.invokeFunction('convertToInteractive',\n",
              "                                                     [key], {});\n",
              "          if (!dataTable) return;\n",
              "\n",
              "          const docLinkHtml = 'Like what you see? Visit the ' +\n",
              "            '<a target=\"_blank\" href=https://colab.research.google.com/notebooks/data_table.ipynb>data table notebook</a>'\n",
              "            + ' to learn more about interactive tables.';\n",
              "          element.innerHTML = '';\n",
              "          dataTable['output_type'] = 'display_data';\n",
              "          await google.colab.output.renderOutput(dataTable, element);\n",
              "          const docLink = document.createElement('div');\n",
              "          docLink.innerHTML = docLinkHtml;\n",
              "          element.appendChild(docLink);\n",
              "        }\n",
              "      </script>\n",
              "    </div>\n",
              "  </div>\n",
              "  "
            ]
          },
          "metadata": {},
          "execution_count": 12
        }
      ],
      "source": [
        "df"
      ]
    },
    {
      "cell_type": "code",
      "execution_count": 13,
      "metadata": {
        "id": "3Ud1aopvAhO9",
        "collapsed": true
      },
      "outputs": [],
      "source": [
        "median_upvotes = np.median(df.avg_upvotes) # dichotomizing upvotes"
      ]
    },
    {
      "cell_type": "code",
      "execution_count": 14,
      "metadata": {
        "colab": {
          "base_uri": "https://localhost:8080/"
        },
        "id": "oxYjv-LgRlcJ",
        "outputId": "9ed6c16b-24df-4591-dff8-eb014a9f3b1b"
      },
      "outputs": [
        {
          "output_type": "execute_result",
          "data": {
            "text/plain": [
              "3.0"
            ]
          },
          "metadata": {},
          "execution_count": 14
        }
      ],
      "source": [
        "median_upvotes"
      ]
    },
    {
      "cell_type": "code",
      "execution_count": 15,
      "metadata": {
        "id": "v5-PaRw2BKw7"
      },
      "outputs": [],
      "source": [
        "labels = [1 if upvotes >= median_upvotes else 0 for upvotes in df['avg_upvotes']]"
      ]
    },
    {
      "cell_type": "code",
      "execution_count": 16,
      "metadata": {
        "colab": {
          "base_uri": "https://localhost:8080/"
        },
        "id": "T58Eg8KzBToF",
        "outputId": "54c122cf-f79e-47bc-ca7b-03f9338ba898"
      },
      "outputs": [
        {
          "output_type": "execute_result",
          "data": {
            "text/plain": [
              "Counter({1: 334, 0: 279})"
            ]
          },
          "metadata": {},
          "execution_count": 16
        }
      ],
      "source": [
        "collections.Counter(labels) # balanced by design (median)"
      ]
    },
    {
      "cell_type": "code",
      "execution_count": 17,
      "metadata": {
        "colab": {
          "base_uri": "https://localhost:8080/"
        },
        "id": "TLqnXip-3Q4j",
        "outputId": "21800dae-8802-4b55-87f7-7de7133548a5"
      },
      "outputs": [
        {
          "output_type": "execute_result",
          "data": {
            "text/plain": [
              "torch.Size([613])"
            ]
          },
          "metadata": {},
          "execution_count": 17
        }
      ],
      "source": [
        "y = torch.tensor(labels, dtype=torch.long)\n",
        "y.shape"
      ]
    },
    {
      "cell_type": "code",
      "execution_count": 18,
      "metadata": {
        "id": "MStSmErV3-5F"
      },
      "outputs": [],
      "source": [
        "edges[['source', 'dest']] = edges[0].str.split(\"###\", expand = True) # I added \"###\" while scraping from reddit"
      ]
    },
    {
      "cell_type": "code",
      "execution_count": 19,
      "metadata": {
        "colab": {
          "base_uri": "https://localhost:8080/",
          "height": 423
        },
        "id": "sooufPMBCdVi",
        "outputId": "97a89494-460b-43f3-8f1b-2c4a2cd1b7d7"
      },
      "outputs": [
        {
          "output_type": "execute_result",
          "data": {
            "text/plain": [
              "                                              0               source  \\\n",
              "0                  AutoModerator###that_90s_guy        AutoModerator   \n",
              "1              scumbagdetector15###that_90s_guy    scumbagdetector15   \n",
              "2                     csch2###scumbagdetector15                csch2   \n",
              "3                     scumbagdetector15###csch2    scumbagdetector15   \n",
              "4        PlayerofVideoGames###scumbagdetector15   PlayerofVideoGames   \n",
              "...                                         ...                  ...   \n",
              "1669          flossraptor###Alternative_Ad_9702          flossraptor   \n",
              "1670             Timofey_###Alternative_Ad_9702             Timofey_   \n",
              "1671  Alternative_Ad_9702###Alternative_Ad_9702  Alternative_Ad_9702   \n",
              "1672           xebeka6808###Alternative_Ad_9702           xebeka6808   \n",
              "1673           xebeka6808###Alternative_Ad_9702           xebeka6808   \n",
              "\n",
              "                     dest  \n",
              "0            that_90s_guy  \n",
              "1            that_90s_guy  \n",
              "2       scumbagdetector15  \n",
              "3                   csch2  \n",
              "4       scumbagdetector15  \n",
              "...                   ...  \n",
              "1669  Alternative_Ad_9702  \n",
              "1670  Alternative_Ad_9702  \n",
              "1671  Alternative_Ad_9702  \n",
              "1672  Alternative_Ad_9702  \n",
              "1673  Alternative_Ad_9702  \n",
              "\n",
              "[1674 rows x 3 columns]"
            ],
            "text/html": [
              "\n",
              "  <div id=\"df-cc3e809b-454b-450b-80e2-d782a261c0ba\">\n",
              "    <div class=\"colab-df-container\">\n",
              "      <div>\n",
              "<style scoped>\n",
              "    .dataframe tbody tr th:only-of-type {\n",
              "        vertical-align: middle;\n",
              "    }\n",
              "\n",
              "    .dataframe tbody tr th {\n",
              "        vertical-align: top;\n",
              "    }\n",
              "\n",
              "    .dataframe thead th {\n",
              "        text-align: right;\n",
              "    }\n",
              "</style>\n",
              "<table border=\"1\" class=\"dataframe\">\n",
              "  <thead>\n",
              "    <tr style=\"text-align: right;\">\n",
              "      <th></th>\n",
              "      <th>0</th>\n",
              "      <th>source</th>\n",
              "      <th>dest</th>\n",
              "    </tr>\n",
              "  </thead>\n",
              "  <tbody>\n",
              "    <tr>\n",
              "      <th>0</th>\n",
              "      <td>AutoModerator###that_90s_guy</td>\n",
              "      <td>AutoModerator</td>\n",
              "      <td>that_90s_guy</td>\n",
              "    </tr>\n",
              "    <tr>\n",
              "      <th>1</th>\n",
              "      <td>scumbagdetector15###that_90s_guy</td>\n",
              "      <td>scumbagdetector15</td>\n",
              "      <td>that_90s_guy</td>\n",
              "    </tr>\n",
              "    <tr>\n",
              "      <th>2</th>\n",
              "      <td>csch2###scumbagdetector15</td>\n",
              "      <td>csch2</td>\n",
              "      <td>scumbagdetector15</td>\n",
              "    </tr>\n",
              "    <tr>\n",
              "      <th>3</th>\n",
              "      <td>scumbagdetector15###csch2</td>\n",
              "      <td>scumbagdetector15</td>\n",
              "      <td>csch2</td>\n",
              "    </tr>\n",
              "    <tr>\n",
              "      <th>4</th>\n",
              "      <td>PlayerofVideoGames###scumbagdetector15</td>\n",
              "      <td>PlayerofVideoGames</td>\n",
              "      <td>scumbagdetector15</td>\n",
              "    </tr>\n",
              "    <tr>\n",
              "      <th>...</th>\n",
              "      <td>...</td>\n",
              "      <td>...</td>\n",
              "      <td>...</td>\n",
              "    </tr>\n",
              "    <tr>\n",
              "      <th>1669</th>\n",
              "      <td>flossraptor###Alternative_Ad_9702</td>\n",
              "      <td>flossraptor</td>\n",
              "      <td>Alternative_Ad_9702</td>\n",
              "    </tr>\n",
              "    <tr>\n",
              "      <th>1670</th>\n",
              "      <td>Timofey_###Alternative_Ad_9702</td>\n",
              "      <td>Timofey_</td>\n",
              "      <td>Alternative_Ad_9702</td>\n",
              "    </tr>\n",
              "    <tr>\n",
              "      <th>1671</th>\n",
              "      <td>Alternative_Ad_9702###Alternative_Ad_9702</td>\n",
              "      <td>Alternative_Ad_9702</td>\n",
              "      <td>Alternative_Ad_9702</td>\n",
              "    </tr>\n",
              "    <tr>\n",
              "      <th>1672</th>\n",
              "      <td>xebeka6808###Alternative_Ad_9702</td>\n",
              "      <td>xebeka6808</td>\n",
              "      <td>Alternative_Ad_9702</td>\n",
              "    </tr>\n",
              "    <tr>\n",
              "      <th>1673</th>\n",
              "      <td>xebeka6808###Alternative_Ad_9702</td>\n",
              "      <td>xebeka6808</td>\n",
              "      <td>Alternative_Ad_9702</td>\n",
              "    </tr>\n",
              "  </tbody>\n",
              "</table>\n",
              "<p>1674 rows × 3 columns</p>\n",
              "</div>\n",
              "      <button class=\"colab-df-convert\" onclick=\"convertToInteractive('df-cc3e809b-454b-450b-80e2-d782a261c0ba')\"\n",
              "              title=\"Convert this dataframe to an interactive table.\"\n",
              "              style=\"display:none;\">\n",
              "        \n",
              "  <svg xmlns=\"http://www.w3.org/2000/svg\" height=\"24px\"viewBox=\"0 0 24 24\"\n",
              "       width=\"24px\">\n",
              "    <path d=\"M0 0h24v24H0V0z\" fill=\"none\"/>\n",
              "    <path d=\"M18.56 5.44l.94 2.06.94-2.06 2.06-.94-2.06-.94-.94-2.06-.94 2.06-2.06.94zm-11 1L8.5 8.5l.94-2.06 2.06-.94-2.06-.94L8.5 2.5l-.94 2.06-2.06.94zm10 10l.94 2.06.94-2.06 2.06-.94-2.06-.94-.94-2.06-.94 2.06-2.06.94z\"/><path d=\"M17.41 7.96l-1.37-1.37c-.4-.4-.92-.59-1.43-.59-.52 0-1.04.2-1.43.59L10.3 9.45l-7.72 7.72c-.78.78-.78 2.05 0 2.83L4 21.41c.39.39.9.59 1.41.59.51 0 1.02-.2 1.41-.59l7.78-7.78 2.81-2.81c.8-.78.8-2.07 0-2.86zM5.41 20L4 18.59l7.72-7.72 1.47 1.35L5.41 20z\"/>\n",
              "  </svg>\n",
              "      </button>\n",
              "      \n",
              "  <style>\n",
              "    .colab-df-container {\n",
              "      display:flex;\n",
              "      flex-wrap:wrap;\n",
              "      gap: 12px;\n",
              "    }\n",
              "\n",
              "    .colab-df-convert {\n",
              "      background-color: #E8F0FE;\n",
              "      border: none;\n",
              "      border-radius: 50%;\n",
              "      cursor: pointer;\n",
              "      display: none;\n",
              "      fill: #1967D2;\n",
              "      height: 32px;\n",
              "      padding: 0 0 0 0;\n",
              "      width: 32px;\n",
              "    }\n",
              "\n",
              "    .colab-df-convert:hover {\n",
              "      background-color: #E2EBFA;\n",
              "      box-shadow: 0px 1px 2px rgba(60, 64, 67, 0.3), 0px 1px 3px 1px rgba(60, 64, 67, 0.15);\n",
              "      fill: #174EA6;\n",
              "    }\n",
              "\n",
              "    [theme=dark] .colab-df-convert {\n",
              "      background-color: #3B4455;\n",
              "      fill: #D2E3FC;\n",
              "    }\n",
              "\n",
              "    [theme=dark] .colab-df-convert:hover {\n",
              "      background-color: #434B5C;\n",
              "      box-shadow: 0px 1px 3px 1px rgba(0, 0, 0, 0.15);\n",
              "      filter: drop-shadow(0px 1px 2px rgba(0, 0, 0, 0.3));\n",
              "      fill: #FFFFFF;\n",
              "    }\n",
              "  </style>\n",
              "\n",
              "      <script>\n",
              "        const buttonEl =\n",
              "          document.querySelector('#df-cc3e809b-454b-450b-80e2-d782a261c0ba button.colab-df-convert');\n",
              "        buttonEl.style.display =\n",
              "          google.colab.kernel.accessAllowed ? 'block' : 'none';\n",
              "\n",
              "        async function convertToInteractive(key) {\n",
              "          const element = document.querySelector('#df-cc3e809b-454b-450b-80e2-d782a261c0ba');\n",
              "          const dataTable =\n",
              "            await google.colab.kernel.invokeFunction('convertToInteractive',\n",
              "                                                     [key], {});\n",
              "          if (!dataTable) return;\n",
              "\n",
              "          const docLinkHtml = 'Like what you see? Visit the ' +\n",
              "            '<a target=\"_blank\" href=https://colab.research.google.com/notebooks/data_table.ipynb>data table notebook</a>'\n",
              "            + ' to learn more about interactive tables.';\n",
              "          element.innerHTML = '';\n",
              "          dataTable['output_type'] = 'display_data';\n",
              "          await google.colab.output.renderOutput(dataTable, element);\n",
              "          const docLink = document.createElement('div');\n",
              "          docLink.innerHTML = docLinkHtml;\n",
              "          element.appendChild(docLink);\n",
              "        }\n",
              "      </script>\n",
              "    </div>\n",
              "  </div>\n",
              "  "
            ]
          },
          "metadata": {},
          "execution_count": 19
        }
      ],
      "source": [
        "edges"
      ]
    },
    {
      "cell_type": "code",
      "execution_count": 20,
      "metadata": {
        "id": "bUlatPzDBTJl"
      },
      "outputs": [],
      "source": [
        "edges = edges[['source', 'dest']]"
      ]
    },
    {
      "cell_type": "code",
      "execution_count": 21,
      "metadata": {
        "colab": {
          "base_uri": "https://localhost:8080/"
        },
        "id": "IXiyyeOaILcL",
        "outputId": "9c189172-b412-4eb4-9860-1efc216ac365"
      },
      "outputs": [
        {
          "output_type": "execute_result",
          "data": {
            "text/plain": [
              "0             AutoModerator\n",
              "1         scumbagdetector15\n",
              "2                     csch2\n",
              "3         scumbagdetector15\n",
              "4        PlayerofVideoGames\n",
              "               ...         \n",
              "1669            flossraptor\n",
              "1670               Timofey_\n",
              "1671    Alternative_Ad_9702\n",
              "1672             xebeka6808\n",
              "1673             xebeka6808\n",
              "Name: source, Length: 1674, dtype: object"
            ]
          },
          "metadata": {},
          "execution_count": 21
        }
      ],
      "source": [
        "edges['source']"
      ]
    },
    {
      "cell_type": "code",
      "execution_count": 22,
      "metadata": {
        "id": "cNWzQogFJNl9"
      },
      "outputs": [],
      "source": [
        "# Perform merge to obtain between users\n",
        "edges_source_id = pd.merge(edges['source'], users,\n",
        "                            left_on='source', right_on='username', how='left')"
      ]
    },
    {
      "cell_type": "code",
      "execution_count": 23,
      "metadata": {
        "colab": {
          "base_uri": "https://localhost:8080/",
          "height": 423
        },
        "id": "OM5yA3ZJDB3H",
        "outputId": "060c7846-93e5-43ca-88c1-a3d766f89e2f"
      },
      "outputs": [
        {
          "output_type": "execute_result",
          "data": {
            "text/plain": [
              "     userid              username\n",
              "0         0          that_90s_guy\n",
              "1         1         AutoModerator\n",
              "2         2     scumbagdetector15\n",
              "3         3                 csch2\n",
              "4         4    PlayerofVideoGames\n",
              "..      ...                   ...\n",
              "608     608  Lanky_Information825\n",
              "609     609            xebeka6808\n",
              "610     610            HumanJenoM\n",
              "611     611             mvandemar\n",
              "612     612           flossraptor\n",
              "\n",
              "[613 rows x 2 columns]"
            ],
            "text/html": [
              "\n",
              "  <div id=\"df-4e5fea4e-15df-4708-b45b-64bdc4c8c85e\">\n",
              "    <div class=\"colab-df-container\">\n",
              "      <div>\n",
              "<style scoped>\n",
              "    .dataframe tbody tr th:only-of-type {\n",
              "        vertical-align: middle;\n",
              "    }\n",
              "\n",
              "    .dataframe tbody tr th {\n",
              "        vertical-align: top;\n",
              "    }\n",
              "\n",
              "    .dataframe thead th {\n",
              "        text-align: right;\n",
              "    }\n",
              "</style>\n",
              "<table border=\"1\" class=\"dataframe\">\n",
              "  <thead>\n",
              "    <tr style=\"text-align: right;\">\n",
              "      <th></th>\n",
              "      <th>userid</th>\n",
              "      <th>username</th>\n",
              "    </tr>\n",
              "  </thead>\n",
              "  <tbody>\n",
              "    <tr>\n",
              "      <th>0</th>\n",
              "      <td>0</td>\n",
              "      <td>that_90s_guy</td>\n",
              "    </tr>\n",
              "    <tr>\n",
              "      <th>1</th>\n",
              "      <td>1</td>\n",
              "      <td>AutoModerator</td>\n",
              "    </tr>\n",
              "    <tr>\n",
              "      <th>2</th>\n",
              "      <td>2</td>\n",
              "      <td>scumbagdetector15</td>\n",
              "    </tr>\n",
              "    <tr>\n",
              "      <th>3</th>\n",
              "      <td>3</td>\n",
              "      <td>csch2</td>\n",
              "    </tr>\n",
              "    <tr>\n",
              "      <th>4</th>\n",
              "      <td>4</td>\n",
              "      <td>PlayerofVideoGames</td>\n",
              "    </tr>\n",
              "    <tr>\n",
              "      <th>...</th>\n",
              "      <td>...</td>\n",
              "      <td>...</td>\n",
              "    </tr>\n",
              "    <tr>\n",
              "      <th>608</th>\n",
              "      <td>608</td>\n",
              "      <td>Lanky_Information825</td>\n",
              "    </tr>\n",
              "    <tr>\n",
              "      <th>609</th>\n",
              "      <td>609</td>\n",
              "      <td>xebeka6808</td>\n",
              "    </tr>\n",
              "    <tr>\n",
              "      <th>610</th>\n",
              "      <td>610</td>\n",
              "      <td>HumanJenoM</td>\n",
              "    </tr>\n",
              "    <tr>\n",
              "      <th>611</th>\n",
              "      <td>611</td>\n",
              "      <td>mvandemar</td>\n",
              "    </tr>\n",
              "    <tr>\n",
              "      <th>612</th>\n",
              "      <td>612</td>\n",
              "      <td>flossraptor</td>\n",
              "    </tr>\n",
              "  </tbody>\n",
              "</table>\n",
              "<p>613 rows × 2 columns</p>\n",
              "</div>\n",
              "      <button class=\"colab-df-convert\" onclick=\"convertToInteractive('df-4e5fea4e-15df-4708-b45b-64bdc4c8c85e')\"\n",
              "              title=\"Convert this dataframe to an interactive table.\"\n",
              "              style=\"display:none;\">\n",
              "        \n",
              "  <svg xmlns=\"http://www.w3.org/2000/svg\" height=\"24px\"viewBox=\"0 0 24 24\"\n",
              "       width=\"24px\">\n",
              "    <path d=\"M0 0h24v24H0V0z\" fill=\"none\"/>\n",
              "    <path d=\"M18.56 5.44l.94 2.06.94-2.06 2.06-.94-2.06-.94-.94-2.06-.94 2.06-2.06.94zm-11 1L8.5 8.5l.94-2.06 2.06-.94-2.06-.94L8.5 2.5l-.94 2.06-2.06.94zm10 10l.94 2.06.94-2.06 2.06-.94-2.06-.94-.94-2.06-.94 2.06-2.06.94z\"/><path d=\"M17.41 7.96l-1.37-1.37c-.4-.4-.92-.59-1.43-.59-.52 0-1.04.2-1.43.59L10.3 9.45l-7.72 7.72c-.78.78-.78 2.05 0 2.83L4 21.41c.39.39.9.59 1.41.59.51 0 1.02-.2 1.41-.59l7.78-7.78 2.81-2.81c.8-.78.8-2.07 0-2.86zM5.41 20L4 18.59l7.72-7.72 1.47 1.35L5.41 20z\"/>\n",
              "  </svg>\n",
              "      </button>\n",
              "      \n",
              "  <style>\n",
              "    .colab-df-container {\n",
              "      display:flex;\n",
              "      flex-wrap:wrap;\n",
              "      gap: 12px;\n",
              "    }\n",
              "\n",
              "    .colab-df-convert {\n",
              "      background-color: #E8F0FE;\n",
              "      border: none;\n",
              "      border-radius: 50%;\n",
              "      cursor: pointer;\n",
              "      display: none;\n",
              "      fill: #1967D2;\n",
              "      height: 32px;\n",
              "      padding: 0 0 0 0;\n",
              "      width: 32px;\n",
              "    }\n",
              "\n",
              "    .colab-df-convert:hover {\n",
              "      background-color: #E2EBFA;\n",
              "      box-shadow: 0px 1px 2px rgba(60, 64, 67, 0.3), 0px 1px 3px 1px rgba(60, 64, 67, 0.15);\n",
              "      fill: #174EA6;\n",
              "    }\n",
              "\n",
              "    [theme=dark] .colab-df-convert {\n",
              "      background-color: #3B4455;\n",
              "      fill: #D2E3FC;\n",
              "    }\n",
              "\n",
              "    [theme=dark] .colab-df-convert:hover {\n",
              "      background-color: #434B5C;\n",
              "      box-shadow: 0px 1px 3px 1px rgba(0, 0, 0, 0.15);\n",
              "      filter: drop-shadow(0px 1px 2px rgba(0, 0, 0, 0.3));\n",
              "      fill: #FFFFFF;\n",
              "    }\n",
              "  </style>\n",
              "\n",
              "      <script>\n",
              "        const buttonEl =\n",
              "          document.querySelector('#df-4e5fea4e-15df-4708-b45b-64bdc4c8c85e button.colab-df-convert');\n",
              "        buttonEl.style.display =\n",
              "          google.colab.kernel.accessAllowed ? 'block' : 'none';\n",
              "\n",
              "        async function convertToInteractive(key) {\n",
              "          const element = document.querySelector('#df-4e5fea4e-15df-4708-b45b-64bdc4c8c85e');\n",
              "          const dataTable =\n",
              "            await google.colab.kernel.invokeFunction('convertToInteractive',\n",
              "                                                     [key], {});\n",
              "          if (!dataTable) return;\n",
              "\n",
              "          const docLinkHtml = 'Like what you see? Visit the ' +\n",
              "            '<a target=\"_blank\" href=https://colab.research.google.com/notebooks/data_table.ipynb>data table notebook</a>'\n",
              "            + ' to learn more about interactive tables.';\n",
              "          element.innerHTML = '';\n",
              "          dataTable['output_type'] = 'display_data';\n",
              "          await google.colab.output.renderOutput(dataTable, element);\n",
              "          const docLink = document.createElement('div');\n",
              "          docLink.innerHTML = docLinkHtml;\n",
              "          element.appendChild(docLink);\n",
              "        }\n",
              "      </script>\n",
              "    </div>\n",
              "  </div>\n",
              "  "
            ]
          },
          "metadata": {},
          "execution_count": 23
        }
      ],
      "source": [
        "users"
      ]
    },
    {
      "cell_type": "code",
      "execution_count": 24,
      "metadata": {
        "id": "8-e3FHCPVdSH"
      },
      "outputs": [],
      "source": [
        "edges_source_id = torch.from_numpy(edges_source_id['userid'].values)"
      ]
    },
    {
      "cell_type": "code",
      "execution_count": 25,
      "metadata": {
        "colab": {
          "base_uri": "https://localhost:8080/"
        },
        "id": "MbxLNpmYC8K8",
        "outputId": "bdec00df-0bfc-418e-d35b-e20d44e4ac80"
      },
      "outputs": [
        {
          "output_type": "execute_result",
          "data": {
            "text/plain": [
              "tensor([  1,   2,   3,  ..., 606, 609, 609])"
            ]
          },
          "metadata": {},
          "execution_count": 25
        }
      ],
      "source": [
        "edges_source_id"
      ]
    },
    {
      "cell_type": "code",
      "execution_count": 26,
      "metadata": {
        "id": "EbTUuIEPVeUr"
      },
      "outputs": [],
      "source": [
        "edges_dest_id = pd.merge(edges['dest'], users,\n",
        "                            left_on='dest', right_on='username', how='left')\n",
        "edges_dest_id = torch.from_numpy(edges_dest_id['userid'].values)\n"
      ]
    },
    {
      "cell_type": "code",
      "execution_count": 27,
      "metadata": {
        "colab": {
          "base_uri": "https://localhost:8080/"
        },
        "id": "bSRoUt4xWclB",
        "outputId": "8dc6e126-8275-4178-ddde-c94bf5e4b46b"
      },
      "outputs": [
        {
          "output_type": "execute_result",
          "data": {
            "text/plain": [
              "tensor([  0,   0,   2,  ..., 606, 606, 606])"
            ]
          },
          "metadata": {},
          "execution_count": 27
        }
      ],
      "source": [
        "edges_dest_id"
      ]
    },
    {
      "cell_type": "code",
      "execution_count": 28,
      "metadata": {
        "id": "57RT0-YfV4kh"
      },
      "outputs": [],
      "source": [
        "# # With this, we are ready to construct our `edge_index` in COO format\n",
        "# # following PyG semantics:\n",
        "edge_source_dest = torch.stack([edges_source_id, edges_dest_id], dim=0)"
      ]
    },
    {
      "cell_type": "code",
      "execution_count": 29,
      "metadata": {
        "colab": {
          "base_uri": "https://localhost:8080/"
        },
        "id": "vt_Tp_Ybnv9S",
        "outputId": "1e3be82a-7a2c-4d3a-f1fb-516993749379"
      },
      "outputs": [
        {
          "output_type": "stream",
          "name": "stderr",
          "text": [
            "<ipython-input-29-dc40f03e5e4c>:1: UserWarning: To copy construct from a tensor, it is recommended to use sourceTensor.clone().detach() or sourceTensor.clone().detach().requires_grad_(True), rather than torch.tensor(sourceTensor).\n",
            "  x = torch.tensor(x.float())\n",
            "<ipython-input-29-dc40f03e5e4c>:2: UserWarning: To copy construct from a tensor, it is recommended to use sourceTensor.clone().detach() or sourceTensor.clone().detach().requires_grad_(True), rather than torch.tensor(sourceTensor).\n",
            "  y = torch.tensor(y).ravel() # convert to 1D\n"
          ]
        }
      ],
      "source": [
        "x = torch.tensor(x.float())\n",
        "y = torch.tensor(y).ravel() # convert to 1D"
      ]
    },
    {
      "cell_type": "code",
      "execution_count": 30,
      "metadata": {
        "colab": {
          "base_uri": "https://localhost:8080/"
        },
        "id": "_c4VebSyoyKG",
        "outputId": "64f2f9b4-3c6d-401a-e80c-949f714df31e"
      },
      "outputs": [
        {
          "output_type": "execute_result",
          "data": {
            "text/plain": [
              "torch.Size([613])"
            ]
          },
          "metadata": {},
          "execution_count": 30
        }
      ],
      "source": [
        "y.shape"
      ]
    },
    {
      "cell_type": "markdown",
      "source": [
        "## Graph creation"
      ],
      "metadata": {
        "id": "AWeBiKf2sfPB"
      }
    },
    {
      "cell_type": "code",
      "execution_count": 31,
      "metadata": {
        "id": "cy8nRz5EV3_0"
      },
      "outputs": [],
      "source": [
        "data = Data(x= x , edge_index=edge_source_dest, y=y, num_classes = 2) "
      ]
    },
    {
      "cell_type": "code",
      "execution_count": 32,
      "metadata": {
        "colab": {
          "base_uri": "https://localhost:8080/"
        },
        "id": "G_bDi9BiVpuJ",
        "outputId": "051f362c-36b1-438f-b6b5-7b22de2e423c"
      },
      "outputs": [
        {
          "output_type": "execute_result",
          "data": {
            "text/plain": [
              "Data(x=[613, 2], edge_index=[2, 1674], y=[613], num_classes=2)"
            ]
          },
          "metadata": {},
          "execution_count": 32
        }
      ],
      "source": [
        "data"
      ]
    },
    {
      "cell_type": "code",
      "execution_count": 33,
      "metadata": {
        "id": "Fx77wQwRhGs-"
      },
      "outputs": [],
      "source": [
        "from torch_geometric.transforms import RandomNodeSplit as masking"
      ]
    },
    {
      "cell_type": "markdown",
      "metadata": {
        "id": "PPmfZul6iIMk"
      },
      "source": [
        "Probably this is not the best way to split. Probably splitting using random links would be better"
      ]
    },
    {
      "cell_type": "markdown",
      "metadata": {
        "id": "rd1MfTJ2Zr4v"
      },
      "source": [
        "## setting seeds"
      ]
    },
    {
      "cell_type": "code",
      "execution_count": 34,
      "metadata": {
        "id": "Wb3UqIBEZwKW"
      },
      "outputs": [],
      "source": [
        "import random\n",
        "\n",
        "import numpy as np\n",
        "from torch_geometric.seed import seed_everything\n",
        "seed_everything(4)"
      ]
    },
    {
      "cell_type": "code",
      "execution_count": 35,
      "metadata": {
        "colab": {
          "base_uri": "https://localhost:8080/"
        },
        "id": "0E-qaJalhiIT",
        "outputId": "1b7c6798-a3ec-45e0-f10c-58b9307398a4"
      },
      "outputs": [
        {
          "output_type": "stream",
          "name": "stdout",
          "text": [
            "Data(x=[613, 2], edge_index=[2, 1674], y=[613], num_classes=2, train_mask=[613], val_mask=[613], test_mask=[613])\n",
            "\n",
            "training samples 367\n",
            "validation samples 123\n",
            "test samples 123\n"
          ]
        }
      ],
      "source": [
        "msk=masking(split=\"train_rest\", num_splits = 1, num_val = 0.2, num_test= 0.2) # creating a mask to split \n",
        "data=msk(data)\n",
        "print(data)\n",
        "print()\n",
        "print(\"training samples\",torch.sum(data.train_mask).item())\n",
        "print(\"validation samples\",torch.sum(data.val_mask ).item())\n",
        "print(\"test samples\",torch.sum(data.test_mask ).item())\n",
        "\n",
        "# Hands-on Graph Neural Networks for Social Network Using PyTorch | by Awadelrahman M. A. Ahmed | Medium\n",
        "# https://awadrahman.medium.com/hands-on-graph-neural-networks-for-social-network-using-pytorch-30231c130b38\n"
      ]
    },
    {
      "cell_type": "code",
      "execution_count": 36,
      "metadata": {
        "id": "sQzgr1N_ipib"
      },
      "outputs": [],
      "source": [
        "num_of_feat=data.num_node_features"
      ]
    },
    {
      "cell_type": "code",
      "execution_count": 37,
      "metadata": {
        "colab": {
          "base_uri": "https://localhost:8080/"
        },
        "id": "eOP0CD-eirdH",
        "outputId": "b6a63486-217c-4c7f-ae71-1f147174aa44"
      },
      "outputs": [
        {
          "output_type": "execute_result",
          "data": {
            "text/plain": [
              "2"
            ]
          },
          "metadata": {},
          "execution_count": 37
        }
      ],
      "source": [
        "num_of_feat"
      ]
    },
    {
      "cell_type": "code",
      "execution_count": 38,
      "metadata": {
        "id": "LFr6tw9UicjF"
      },
      "outputs": [],
      "source": [
        "# class SocialGNN(torch.nn.Module):\n",
        "#     def __init__(self,num_of_feat,f):\n",
        "#         super(SocialGNN, self).__init__()\n",
        "#         self.conv1 = GCNConv(num_of_feat, f)\n",
        "#         self.conv2 = GCNConv(f, 2)\n",
        "#     def forward(self, data):\n",
        "#         x = data.x.float()\n",
        "#         edge_index =  data.edge_index\n",
        "#         x = self.conv1(x=x, edge_index=edge_index)\n",
        "#         x = F.relu(x)\n",
        "#         x = self.conv2(x, edge_index)\n",
        "#         return x"
      ]
    },
    {
      "cell_type": "code",
      "execution_count": 39,
      "metadata": {
        "id": "7_s20ARylGSk"
      },
      "outputs": [],
      "source": [
        "# def masked_loss(predictions,labels,mask):\n",
        "#     mask=mask.float()\n",
        "#     mask=mask/torch.mean(mask)\n",
        "#     loss=criterion(predictions,labels)\n",
        "#     loss=loss*mask\n",
        "#     loss=torch.mean(loss)\n",
        "#     return (loss)    \n",
        "# def masked_accuracy(predictions,labels,mask):\n",
        "#     mask=mask.float()\n",
        "#     mask/=torch.mean(mask)\n",
        "#     accuracy=(torch.argmax(predictions,axis=1)==labels).long()\n",
        "#     accuracy=mask*accuracy\n",
        "#     accuracy=torch.mean(accuracy)\n",
        "#     return (accuracy)"
      ]
    },
    {
      "cell_type": "code",
      "execution_count": 40,
      "metadata": {
        "id": "IAETFupilG8D"
      },
      "outputs": [],
      "source": [
        "# def train_social(net,data,epochs=10,lr=0.01):\n",
        "#     optimizer = torch.optim.Adam(net.parameters(), lr=lr) # 00001\n",
        "#     best_accuracy=0.0\n",
        "#     train_losses=[]\n",
        "#     train_accuracies=[]\n",
        "#     val_losses=[]\n",
        "#     val_accuracies=[]\n",
        "#     test_losses=[]\n",
        "#     test_accuracies=[]\n",
        "#     for ep in range(epochs+1):\n",
        "#         # print(ep)\n",
        "#         optimizer.zero_grad()\n",
        "#         out=net(data)\n",
        "#         loss=masked_loss(predictions=out,\n",
        "#                          labels=data.y,\n",
        "#                          mask=data.train_mask)\n",
        "#         loss.backward()\n",
        "#         optimizer.step()\n",
        "#         train_losses+=[loss.detach().numpy()]\n",
        "#         train_accuracy=masked_accuracy(predictions=out,\n",
        "#                                        labels=data.y, \n",
        "#                                        mask=data.train_mask)\n",
        "#         train_accuracies+=[train_accuracy]\n",
        "#         val_loss=masked_loss(predictions=out,\n",
        "#                              labels=data.y, \n",
        "#                              mask=data.val_mask)\n",
        "#         # print(loss, val_loss)\n",
        "#         val_losses+=[val_loss.detach().numpy()]\n",
        "#         # print(val_losses)\n",
        "#         val_accuracy=masked_accuracy(predictions=out,\n",
        "#                                      labels=data.y, \n",
        "#                                      mask=data.val_mask)\n",
        "#         val_accuracies+=[val_accuracy]\n",
        "#         # test_accuracy=masked_accuracy(predictions=out,\n",
        "#         #                               labels=data.y, \n",
        "#         #                               mask=data.test_mask)\n",
        "#         # test_accuracies+=[test_accuracy]\n",
        "#         if np.round(val_accuracy,4)> np.round(best_accuracy ,4):\n",
        "#             # print(\"Epoch {}/{}, Train_Loss: {:.4f}, Train_Accuracy: {:.4f}, Val_Accuracy: {:.4f}, Test_Accuracy: {:.4f}\"\n",
        "#             #           .format(ep+1,epochs, loss.item(), train_accuracy, val_accuracy,  test_accuracy))\n",
        "            \n",
        "#             print(\"Epoch {}/{}, Train_Loss: {:.4f}, Train_Accuracy: {:.4f}, Val_Accuracy: {:.4f}\"\n",
        "#             .format(ep+1,epochs, loss.item(), train_accuracy, val_accuracy))\n",
        "\n",
        "#             best_accuracy=val_accuracy\n",
        "#     plt.plot(val_losses)\n",
        "#     # plt.plot(train_losses)  \n",
        "#     # plt.plot(test_losses)  \n",
        "#     plt.show()\n",
        "#     # plt.plot(train_accuracies) \n",
        "#     plt.plot(val_accuracies)\n",
        "#     # plt.plot(test_accuracies) \n",
        "#     plt.show()"
      ]
    },
    {
      "cell_type": "code",
      "execution_count": 41,
      "metadata": {
        "id": "eiR_iopvlHN9",
        "collapsed": true
      },
      "outputs": [],
      "source": [
        "# net=SocialGNN(num_of_feat=num_of_feat,f=16)\n",
        "# criterion=nn.CrossEntropyLoss()\n",
        "# train_social(net,data,epochs=50,lr=0.1)"
      ]
    },
    {
      "cell_type": "code",
      "execution_count": 42,
      "metadata": {
        "collapsed": true,
        "id": "tC6bqPGYYXQ1"
      },
      "outputs": [],
      "source": [
        "# from torch_geometric.utils import train_test_split_edges\n",
        "\n",
        "# # Split the data into training, validation, and testing sets\n",
        "# train_data, val_data, test_data = train_test_split_edges(data, val_ratio=0.05, test_ratio=0.1)\n"
      ]
    },
    {
      "cell_type": "markdown",
      "metadata": {
        "id": "K1ZhHIE6uHBa"
      },
      "source": [
        "## GCN"
      ]
    },
    {
      "cell_type": "code",
      "execution_count": 80,
      "metadata": {
        "id": "ufiheV_d9sVE"
      },
      "outputs": [],
      "source": [
        "import torch\n",
        "import torch.nn.functional as F\n",
        "from torch_geometric.nn import GCNConv, Linear\n",
        "\n",
        "class GCN(torch.nn.Module):\n",
        "    def __init__(self, dropout):\n",
        "        super().__init__()\n",
        "        self.conv1 = GCNConv(data.num_node_features, 16, dropout=dropout)\n",
        "        self.conv2 = GCNConv(16, 1)\n",
        "        self.dropout = dropout\n",
        "\n",
        "    def forward(self, data):\n",
        "        x, edge_index = data.x, data.edge_index\n",
        "\n",
        "        x = self.conv1(x, edge_index)\n",
        "        x = F.relu(x)\n",
        "        x = F.dropout(x, p=self.dropout, training=self.training)\n",
        "        x = self.conv2(x, edge_index)\n",
        "\n",
        "\n",
        "        return x.squeeze()"
      ]
    },
    {
      "cell_type": "code",
      "execution_count": 89,
      "metadata": {
        "id": "ncY2hYxM99x2",
        "colab": {
          "base_uri": "https://localhost:8080/"
        },
        "outputId": "7b955317-d9ff-4704-a2f1-913436ea921e"
      },
      "outputs": [
        {
          "output_type": "execute_result",
          "data": {
            "text/plain": [
              "<function torch.nn.functional.binary_cross_entropy_with_logits(input: torch.Tensor, target: torch.Tensor, weight: Optional[torch.Tensor] = None, size_average: Optional[bool] = None, reduce: Optional[bool] = None, reduction: str = 'mean', pos_weight: Optional[torch.Tensor] = None) -> torch.Tensor>"
            ]
          },
          "metadata": {},
          "execution_count": 89
        }
      ],
      "source": [
        "model = GCN(dropout = 0.6) # dropout needs to be added in the model instantiation \n",
        "optimizer = torch.optim.Adam(model.parameters(), lr=1e-3, weight_decay=1e-2)\n",
        "# crit = torch.nn.BCELoss()\n",
        "crit = F.binary_cross_entropy_with_logits"
      ]
    },
    {
      "cell_type": "code",
      "source": [
        "model.train()\n",
        "loss_values = []\n",
        "for epoch in range(200):\n",
        "    optimizer.zero_grad()\n",
        "    out = model(data)\n",
        "    # loss = F.nll_loss(out[data.train_mask], data.y[data.train_mask])\n",
        "    # loss = crit(out[data.train_mask].squeeze(), data.y[data.train_mask].squeeze())\n",
        "    loss = crit(out[data.train_mask], data.y[data.train_mask].float())\n",
        "\n",
        "    loss_values.append(loss.item()) # to plot the training loss\n",
        "    loss.backward()\n",
        "    optimizer.step()"
      ],
      "metadata": {
        "id": "SAT_59c2cj20"
      },
      "execution_count": 82,
      "outputs": []
    },
    {
      "cell_type": "code",
      "execution_count": 83,
      "metadata": {
        "colab": {
          "base_uri": "https://localhost:8080/",
          "height": 430
        },
        "id": "XPVRe9FsTOPh",
        "outputId": "3b1a2ed0-1f44-4bbc-bc13-74fd79e1c01d"
      },
      "outputs": [
        {
          "output_type": "display_data",
          "data": {
            "text/plain": [
              "<Figure size 640x480 with 1 Axes>"
            ],
            "image/png": "[encoded data removed]"
          },
          "metadata": {}
        }
      ],
      "source": [
        "plt.plot(loss_values);"
      ]
    },
    {
      "cell_type": "code",
      "execution_count": 84,
      "metadata": {
        "colab": {
          "base_uri": "https://localhost:8080/"
        },
        "id": "33zdXIop-Tmt",
        "outputId": "a96a9cb7-b26d-4618-e12c-95cfddc5d3af",
        "collapsed": true
      },
      "outputs": [
        {
          "output_type": "stream",
          "name": "stdout",
          "text": [
            "Accuracy: 0.5772\n"
          ]
        }
      ],
      "source": [
        "model.eval()\n",
        "pred = model(data)\n",
        "# setting a threshold of 0 for logits \n",
        "threshold = torch.tensor(0.0, dtype=torch.float32)\n",
        "pred_labels =  torch.where(pred > threshold, 1, torch.zeros_like(pred)) # dichotomizing into 1 and 0\n",
        "correct = (pred_labels[data.val_mask] == data.y[data.val_mask]).sum()\n",
        "acc = int(correct) / int(data.test_mask.sum())\n",
        "print(f'Accuracy: {acc:.4f}')\n"
      ]
    },
    {
      "cell_type": "code",
      "source": [
        "# another way to calculate validation loss\n",
        "model.eval()\n",
        "with torch.no_grad():\n",
        "    logits = model(data)\n",
        "    pred_labels = torch.sigmoid(logits) > 0.5\n",
        "    correct = pred_labels[data.val_mask].eq(data.y[data.val_mask]).sum().item()\n",
        "    acc = correct / data.val_mask.sum().item()\n",
        "    print(f'Accuracy: {acc:.4f}')\n"
      ],
      "metadata": {
        "colab": {
          "base_uri": "https://localhost:8080/"
        },
        "id": "VrYr--MFILum",
        "outputId": "d8860d75-0cd2-4dcb-e835-f48a7f18c3c3"
      },
      "execution_count": 85,
      "outputs": [
        {
          "output_type": "stream",
          "name": "stdout",
          "text": [
            "Accuracy: 0.5772\n"
          ]
        }
      ]
    },
    {
      "cell_type": "markdown",
      "metadata": {
        "id": "yWQBqGVL_Q6i"
      },
      "source": [
        "### Hyperparameter tuning  \n",
        "\n",
        "- Number of layers:  1, 2, and also 5\n",
        "- L2 regularization on the neural network weight matrices/parameters\n",
        "(i.e., weight decay parameter: 0, 1e-4, and 1e-2)\n",
        "- Learning rate given as input to torch.optim.Adam(): 1e-5 and 1e-2\n",
        "\n",
        "I will calculate the mean and standard deviation of 3 runs "
      ]
    },
    {
      "cell_type": "markdown",
      "metadata": {
        "id": "ezh8CDQ1WhoI"
      },
      "source": [
        "#### 2 layers implemenattion"
      ]
    },
    {
      "cell_type": "code",
      "execution_count": 90,
      "metadata": {
        "id": "veLQli_aVC6R"
      },
      "outputs": [],
      "source": [
        "# Define the ranges for each hyperparameter\n",
        "weight_decays = [0, 1e-4, 1e-2] \n",
        "learning_rates = [1e-5, 1e-2]\n",
        "dropout_rates = [0, 0.2, 0.4, 0.6]\n",
        "\n",
        "# Define the number of times to repeat for each set of hyperparameters\n",
        "num_repeats = 3\n",
        "\n",
        "# Initialize a dictionary to store the results\n",
        "results = {}\n",
        "\n",
        "# Loop over all possible combinations of hyperparameters\n",
        "for weight_decay in weight_decays:\n",
        "      for learning_rate in learning_rates:\n",
        "          for dropout_rate in dropout_rates:\n",
        "          \n",
        "            # Initialize the model and optimizer with the current hyperparameters\n",
        "            model = GCN(dropout = dropout_rate)\n",
        "            optimizer = torch.optim.Adam(model.parameters(), lr=learning_rate, weight_decay=weight_decay)\n",
        "\n",
        "            # Train the model and get the accuracy for each repeat\n",
        "            acc_list = []\n",
        "            for repeat in range(num_repeats):\n",
        "                model.train()\n",
        "                for epoch in range(200):\n",
        "                    optimizer.zero_grad()\n",
        "                    out = model(data)\n",
        "                    loss = crit(out[data.train_mask], data.y[data.train_mask].float())\n",
        "                    loss.backward()\n",
        "                    optimizer.step()\n",
        "\n",
        "                pred = model(data)\n",
        "                # setting a threshold of 0 for logits \n",
        "                threshold = torch.tensor(0.0, dtype=torch.float32)\n",
        "                pred_labels =  torch.where(pred > threshold, 1, torch.zeros_like(pred)) # dichotomizing into 1 and 0\n",
        "                correct = (pred_labels[data.val_mask] == data.y[data.val_mask]).sum()\n",
        "                acc = int(correct) / int(data.test_mask.sum())\n",
        "                acc_list.append(acc)\n",
        "                # print(f'Accuracy: {acc:.4f}')\n",
        "\n",
        "            # Calculate the mean and standard deviation of accuracy for the current hyperparameters\n",
        "            acc_mean = round(np.mean(acc_list),4)\n",
        "            acc_std = round(np.std(acc_list),4)\n",
        "            \n",
        "            # Store the results in the dictionary\n",
        "            results[(weight_decay,learning_rate, dropout_rate)] = (acc_mean, acc_std)\n"
      ]
    },
    {
      "cell_type": "code",
      "execution_count": 91,
      "metadata": {
        "id": "WkTAO_ZbVKf2",
        "colab": {
          "base_uri": "https://localhost:8080/"
        },
        "outputId": "07beb59b-3bde-49a0-ed47-34400cddad1c"
      },
      "outputs": [
        {
          "output_type": "execute_result",
          "data": {
            "text/plain": [
              "{(0, 1e-05, 0): (0.439, 0.0),\n",
              " (0, 1e-05, 0.2): (0.4715, 0.0115),\n",
              " (0, 1e-05, 0.4): (0.4932, 0.0383),\n",
              " (0, 1e-05, 0.6): (0.5447, 0.0176),\n",
              " (0, 0.01, 0): (0.5339, 0.0617),\n",
              " (0, 0.01, 0.2): (0.5041, 0.0654),\n",
              " (0, 0.01, 0.4): (0.5095, 0.0334),\n",
              " (0, 0.01, 0.6): (0.5285, 0.0674),\n",
              " (0.0001, 1e-05, 0): (0.4146, 0.0),\n",
              " (0.0001, 1e-05, 0.2): (0.5447, 0.0176),\n",
              " (0.0001, 1e-05, 0.4): (0.5203, 0.0404),\n",
              " (0.0001, 1e-05, 0.6): (0.6098, 0.0266),\n",
              " (0.0001, 0.01, 0): (0.439, 0.0066),\n",
              " (0.0001, 0.01, 0.2): (0.5637, 0.0203),\n",
              " (0.0001, 0.01, 0.4): (0.5881, 0.0167),\n",
              " (0.0001, 0.01, 0.6): (0.5691, 0.0239),\n",
              " (0.01, 1e-05, 0): (0.4309, 0.0),\n",
              " (0.01, 1e-05, 0.2): (0.4336, 0.0167),\n",
              " (0.01, 1e-05, 0.4): (0.5637, 0.0038),\n",
              " (0.01, 1e-05, 0.6): (0.5176, 0.0595),\n",
              " (0.01, 0.01, 0): (0.561, 0.0693),\n",
              " (0.01, 0.01, 0.2): (0.561, 0.0415),\n",
              " (0.01, 0.01, 0.4): (0.4634, 0.0176),\n",
              " (0.01, 0.01, 0.6): (0.5203, 0.023)}"
            ]
          },
          "metadata": {},
          "execution_count": 91
        }
      ],
      "source": [
        "results"
      ]
    },
    {
      "cell_type": "markdown",
      "metadata": {
        "id": "wRoGCVOdL6cP"
      },
      "source": [
        "#### One layer implementation "
      ]
    },
    {
      "cell_type": "code",
      "execution_count": 93,
      "metadata": {
        "id": "w5Vmq-wZMD-r"
      },
      "outputs": [],
      "source": [
        "class GCN_1(torch.nn.Module):\n",
        "    def __init__(self, dropout):\n",
        "        super().__init__()\n",
        "        self.conv1 = GCNConv(data.num_node_features, 1, dropout=dropout)\n",
        "        self.dropout = dropout  # this 1 layer, no dropout will be applied\n",
        "\n",
        "    def forward(self, data):\n",
        "        x, edge_index = data.x, data.edge_index\n",
        "        x = self.conv1(x, edge_index)\n",
        "\n",
        "        return x.squeeze()"
      ]
    },
    {
      "cell_type": "code",
      "execution_count": 94,
      "metadata": {
        "id": "7GDWPb3HL6cP"
      },
      "outputs": [],
      "source": [
        "# Define the ranges for each hyperparameter\n",
        "weight_decays = [0, 1e-4, 1e-2] \n",
        "learning_rates = [1e-5, 1e-2]\n",
        "dropout_rates = [0]\n",
        "\n",
        "# Define the number of times to repeat for each set of hyperparameters\n",
        "num_repeats = 3\n",
        "\n",
        "# Initialize a dictionary to store the results\n",
        "results_1L = {}\n",
        "\n",
        "# Loop over all possible combinations of hyperparameters\n",
        "for weight_decay in weight_decays:\n",
        "      for learning_rate in learning_rates:\n",
        "          for dropout_rate in dropout_rates:\n",
        "          \n",
        "            # Initialize the model and optimizer with the current hyperparameters\n",
        "            model = GCN_1(dropout = dropout_rate)\n",
        "            optimizer = torch.optim.Adam(model.parameters(), lr=learning_rate, weight_decay=weight_decay)\n",
        "\n",
        "            # Train the model and get the accuracy for each repeat\n",
        "            acc_list = []\n",
        "            for repeat in range(num_repeats):\n",
        "                model.train()\n",
        "                for epoch in range(200):\n",
        "                    optimizer.zero_grad()\n",
        "                    out = model(data)\n",
        "                    loss = crit(out[data.train_mask], data.y[data.train_mask].float())\n",
        "                    loss.backward()\n",
        "                    optimizer.step()\n",
        "\n",
        "                pred = model(data)\n",
        "                # setting a threshold of 0 for logits \n",
        "                threshold = torch.tensor(0.0, dtype=torch.float32)\n",
        "                pred_labels =  torch.where(pred > threshold, 1, torch.zeros_like(pred)) # dichotomizing into 1 and 0\n",
        "                correct = (pred_labels[data.val_mask] == data.y[data.val_mask]).sum()\n",
        "                acc = int(correct) / int(data.test_mask.sum())\n",
        "                acc_list.append(acc)\n",
        "                # print(f'Accuracy: {acc:.4f}')\n",
        "\n",
        "            # Calculate the mean and standard deviation of accuracy for the current hyperparameters\n",
        "            acc_mean = round(np.mean(acc_list),4)\n",
        "            acc_std = round(np.std(acc_list),4)\n",
        "            \n",
        "            # Store the results in the dictionary\n",
        "            results_1L[(weight_decay,learning_rate, dropout_rate)] = (acc_mean, acc_std)\n"
      ]
    },
    {
      "cell_type": "code",
      "execution_count": 95,
      "metadata": {
        "id": "89cEHQETNdEC",
        "colab": {
          "base_uri": "https://localhost:8080/"
        },
        "outputId": "edde030e-62ca-411e-f0aa-8dda1951c8fd"
      },
      "outputs": [
        {
          "output_type": "execute_result",
          "data": {
            "text/plain": [
              "{(0, 1e-05, 0): (0.439, 0.0),\n",
              " (0, 0.01, 0): (0.5718, 0.0038),\n",
              " (0.0001, 1e-05, 0): (0.561, 0.0),\n",
              " (0.0001, 0.01, 0): (0.542, 0.0755),\n",
              " (0.01, 1e-05, 0): (0.439, 0.0),\n",
              " (0.01, 0.01, 0): (0.5501, 0.0786)}"
            ]
          },
          "metadata": {},
          "execution_count": 95
        }
      ],
      "source": [
        "results_1L"
      ]
    },
    {
      "cell_type": "markdown",
      "metadata": {
        "id": "Vweg3OdxNdU2"
      },
      "source": [
        "#### Five layers implementation "
      ]
    },
    {
      "cell_type": "code",
      "execution_count": 98,
      "metadata": {
        "id": "0BXRm37TNdU3"
      },
      "outputs": [],
      "source": [
        "class GCN_5(torch.nn.Module):\n",
        "    def __init__(self, dropout = 0):\n",
        "        super().__init__()\n",
        "        self.conv1 = GCNConv(data.num_node_features, 16, dropout=dropout)\n",
        "        self.conv2 = GCNConv(16, 16, dropout=dropout)\n",
        "        self.conv3 = GCNConv(16, 16, dropout=dropout)\n",
        "        self.conv4 = GCNConv(16, 16, dropout=dropout)\n",
        "        self.conv5 = GCNConv(16, 1)\n",
        "        self.dropout = dropout\n",
        "\n",
        "    def forward(self, data):\n",
        "        x, edge_index = data.x, data.edge_index\n",
        "\n",
        "        x = self.conv1(x, edge_index)\n",
        "        x = F.relu(x)\n",
        "        x = F.dropout(x, training=self.training, p=self.dropout)\n",
        "        x = self.conv2(x, edge_index)\n",
        "        x = F.relu(x)\n",
        "        x = F.dropout(x, training=self.training, p=self.dropout)\n",
        "        x = self.conv3(x, edge_index)\n",
        "        x = F.relu(x)\n",
        "        x = F.dropout(x, training=self.training, p=self.dropout)\n",
        "        x = self.conv4(x, edge_index)\n",
        "        x = F.relu(x)\n",
        "        x = F.dropout(x, training=self.training, p=self.dropout)\n",
        "        x = self.conv5(x, edge_index)\n",
        "\n",
        "        return x.squeeze()"
      ]
    },
    {
      "cell_type": "code",
      "execution_count": 99,
      "metadata": {
        "id": "wh6SFl4oNdU3"
      },
      "outputs": [],
      "source": [
        "# Define the ranges for each hyperparameter\n",
        "weight_decays = [0, 1e-4, 1e-2] \n",
        "learning_rates = [1e-5, 1e-2]\n",
        "dropout_rates = [0, 0.2, 0.4, 0.6]\n",
        "\n",
        "# Define the number of times to repeat for each set of hyperparameters\n",
        "num_repeats = 3\n",
        "\n",
        "# Initialize a dictionary to store the results\n",
        "results_5L = {}\n",
        "\n",
        "# Loop over all possible combinations of hyperparameters\n",
        "for weight_decay in weight_decays:\n",
        "      for learning_rate in learning_rates:\n",
        "          for dropout_rate in dropout_rates:\n",
        "          \n",
        "            # Initialize the model and optimizer with the current hyperparameters\n",
        "            model = GCN_5(dropout = dropout_rate)\n",
        "            optimizer = torch.optim.Adam(model.parameters(), lr=learning_rate, weight_decay=weight_decay)\n",
        "\n",
        "            # Train the model and get the accuracy for each repeat\n",
        "            acc_list = []\n",
        "            for repeat in range(num_repeats):\n",
        "                model.train()\n",
        "                for epoch in range(200):\n",
        "                    optimizer.zero_grad()\n",
        "                    out = model(data)\n",
        "                    loss = crit(out[data.train_mask], data.y[data.train_mask].float())\n",
        "                    loss.backward()\n",
        "                    optimizer.step()\n",
        "\n",
        "                pred = model(data)\n",
        "                # setting a threshold of 0 for logits \n",
        "                threshold = torch.tensor(0.0, dtype=torch.float32)\n",
        "                pred_labels =  torch.where(pred > threshold, 1, torch.zeros_like(pred)) # dichotomizing into 1 and 0\n",
        "                correct = (pred_labels[data.val_mask] == data.y[data.val_mask]).sum()\n",
        "                acc = int(correct) / int(data.test_mask.sum())\n",
        "                acc_list.append(acc)\n",
        "                # print(f'Accuracy: {acc:.4f}')\n",
        "\n",
        "            # Calculate the mean and standard deviation of accuracy for the current hyperparameters\n",
        "            acc_mean = round(np.mean(acc_list),4)\n",
        "            acc_std = round(np.std(acc_list),4)\n",
        "            \n",
        "            # Store the results in the dictionary\n",
        "            results_5L[(weight_decay,learning_rate, dropout_rate)] = (acc_mean, acc_std)\n"
      ]
    },
    {
      "cell_type": "code",
      "execution_count": 100,
      "metadata": {
        "id": "khFQqGonScFh",
        "colab": {
          "base_uri": "https://localhost:8080/"
        },
        "outputId": "28bdbda7-6e2e-4993-d007-446f6d81df92"
      },
      "outputs": [
        {
          "output_type": "execute_result",
          "data": {
            "text/plain": [
              "{(0, 1e-05, 0): (0.439, 0.0),\n",
              " (0, 1e-05, 0.2): (0.4526, 0.0728),\n",
              " (0, 1e-05, 0.4): (0.4851, 0.048),\n",
              " (0, 1e-05, 0.6): (0.5366, 0.0479),\n",
              " (0, 0.01, 0): (0.5312, 0.0866),\n",
              " (0, 0.01, 0.2): (0.5447, 0.0239),\n",
              " (0, 0.01, 0.4): (0.5366, 0.0345),\n",
              " (0, 0.01, 0.6): (0.5447, 0.0115),\n",
              " (0.0001, 1e-05, 0): (0.5528, 0.0239),\n",
              " (0.0001, 1e-05, 0.2): (0.5583, 0.0038),\n",
              " (0.0001, 1e-05, 0.4): (0.4715, 0.0176),\n",
              " (0.0001, 1e-05, 0.6): (0.5203, 0.0465),\n",
              " (0.0001, 0.01, 0): (0.5908, 0.0503),\n",
              " (0.0001, 0.01, 0.2): (0.542, 0.0138),\n",
              " (0.0001, 0.01, 0.4): (0.5691, 0.0066),\n",
              " (0.0001, 0.01, 0.6): (0.561, 0.023),\n",
              " (0.01, 1e-05, 0): (0.5718, 0.0153),\n",
              " (0.01, 1e-05, 0.2): (0.5556, 0.0268),\n",
              " (0.01, 1e-05, 0.4): (0.4634, 0.0239),\n",
              " (0.01, 1e-05, 0.6): (0.5122, 0.037),\n",
              " (0.01, 0.01, 0): (0.6314, 0.0276),\n",
              " (0.01, 0.01, 0.2): (0.5528, 0.0304),\n",
              " (0.01, 0.01, 0.4): (0.5285, 0.0404),\n",
              " (0.01, 0.01, 0.6): (0.5501, 0.0192)}"
            ]
          },
          "metadata": {},
          "execution_count": 100
        }
      ],
      "source": [
        "results_5L"
      ]
    },
    {
      "cell_type": "markdown",
      "source": [
        "#### Adding all results to a table"
      ],
      "metadata": {
        "id": "4qOrBDW4t1je"
      }
    },
    {
      "cell_type": "code",
      "execution_count": 101,
      "metadata": {
        "id": "coibYYoOPw8r"
      },
      "outputs": [],
      "source": [
        "import pandas as pd\n",
        "combined_dict = {}\n",
        "combined_dict.update({1: results_1L})\n",
        "combined_dict.update({2: results})\n",
        "combined_dict.update({5: results_5L})\n",
        "\n",
        "# Convert the dictionary into a pandas DataFrame\n",
        "rows = []\n",
        "for dict_type, inner_dict in combined_dict.items():\n",
        "    for key, value in inner_dict.items():\n",
        "        rows.append((dict_type, key, value[0], value[1]))\n",
        "\n",
        "df = pd.DataFrame(rows, columns=['Layers', 'WD_LR_dropout', 'accuracy_mean', 'accuracy_std_dev'])"
      ]
    },
    {
      "cell_type": "code",
      "execution_count": 102,
      "metadata": {
        "id": "vhxf8vEaShn7",
        "colab": {
          "base_uri": "https://localhost:8080/",
          "height": 1000
        },
        "outputId": "642f7439-a50a-4f0d-87f5-3165e71c9f72"
      },
      "outputs": [
        {
          "output_type": "execute_result",
          "data": {
            "text/plain": [
              "    Layers         WD_LR_dropout  accuracy_mean  accuracy_std_dev\n",
              "50       5       (0.01, 0.01, 0)         0.6314            0.0276\n",
              "17       2  (0.0001, 1e-05, 0.6)         0.6098            0.0266\n",
              "42       5     (0.0001, 0.01, 0)         0.5908            0.0503\n",
              "20       2   (0.0001, 0.01, 0.4)         0.5881            0.0167\n",
              "46       5      (0.01, 1e-05, 0)         0.5718            0.0153\n",
              "1        1          (0, 0.01, 0)         0.5718            0.0038\n",
              "44       5   (0.0001, 0.01, 0.4)         0.5691            0.0066\n",
              "21       2   (0.0001, 0.01, 0.6)         0.5691            0.0239\n",
              "19       2   (0.0001, 0.01, 0.2)         0.5637            0.0203\n",
              "24       2    (0.01, 1e-05, 0.4)         0.5637            0.0038\n",
              "2        1    (0.0001, 1e-05, 0)         0.5610            0.0000\n",
              "45       5   (0.0001, 0.01, 0.6)         0.5610            0.0230\n",
              "26       2       (0.01, 0.01, 0)         0.5610            0.0693\n",
              "27       2     (0.01, 0.01, 0.2)         0.5610            0.0415\n",
              "39       5  (0.0001, 1e-05, 0.2)         0.5583            0.0038\n",
              "47       5    (0.01, 1e-05, 0.2)         0.5556            0.0268\n",
              "51       5     (0.01, 0.01, 0.2)         0.5528            0.0304\n",
              "38       5    (0.0001, 1e-05, 0)         0.5528            0.0239\n",
              "53       5     (0.01, 0.01, 0.6)         0.5501            0.0192\n",
              "5        1       (0.01, 0.01, 0)         0.5501            0.0786\n",
              "15       2  (0.0001, 1e-05, 0.2)         0.5447            0.0176\n",
              "9        2       (0, 1e-05, 0.6)         0.5447            0.0176\n",
              "37       5        (0, 0.01, 0.6)         0.5447            0.0115\n",
              "35       5        (0, 0.01, 0.2)         0.5447            0.0239\n",
              "43       5   (0.0001, 0.01, 0.2)         0.5420            0.0138\n",
              "3        1     (0.0001, 0.01, 0)         0.5420            0.0755\n",
              "36       5        (0, 0.01, 0.4)         0.5366            0.0345\n",
              "33       5       (0, 1e-05, 0.6)         0.5366            0.0479\n",
              "10       2          (0, 0.01, 0)         0.5339            0.0617\n",
              "34       5          (0, 0.01, 0)         0.5312            0.0866\n",
              "52       5     (0.01, 0.01, 0.4)         0.5285            0.0404\n",
              "13       2        (0, 0.01, 0.6)         0.5285            0.0674\n",
              "16       2  (0.0001, 1e-05, 0.4)         0.5203            0.0404\n",
              "29       2     (0.01, 0.01, 0.6)         0.5203            0.0230\n",
              "41       5  (0.0001, 1e-05, 0.6)         0.5203            0.0465\n",
              "25       2    (0.01, 1e-05, 0.6)         0.5176            0.0595\n",
              "49       5    (0.01, 1e-05, 0.6)         0.5122            0.0370\n",
              "12       2        (0, 0.01, 0.4)         0.5095            0.0334\n",
              "11       2        (0, 0.01, 0.2)         0.5041            0.0654\n",
              "8        2       (0, 1e-05, 0.4)         0.4932            0.0383\n",
              "32       5       (0, 1e-05, 0.4)         0.4851            0.0480\n",
              "7        2       (0, 1e-05, 0.2)         0.4715            0.0115\n",
              "40       5  (0.0001, 1e-05, 0.4)         0.4715            0.0176\n",
              "28       2     (0.01, 0.01, 0.4)         0.4634            0.0176\n",
              "48       5    (0.01, 1e-05, 0.4)         0.4634            0.0239\n",
              "31       5       (0, 1e-05, 0.2)         0.4526            0.0728\n",
              "4        1      (0.01, 1e-05, 0)         0.4390            0.0000\n",
              "18       2     (0.0001, 0.01, 0)         0.4390            0.0066\n",
              "6        2         (0, 1e-05, 0)         0.4390            0.0000\n",
              "30       5         (0, 1e-05, 0)         0.4390            0.0000\n",
              "0        1         (0, 1e-05, 0)         0.4390            0.0000\n",
              "23       2    (0.01, 1e-05, 0.2)         0.4336            0.0167\n",
              "22       2      (0.01, 1e-05, 0)         0.4309            0.0000\n",
              "14       2    (0.0001, 1e-05, 0)         0.4146            0.0000"
            ],
            "text/html": [
              "\n",
              "  <div id=\"df-308af4ab-cfc7-4725-8824-348a22075848\">\n",
              "    <div class=\"colab-df-container\">\n",
              "      <div>\n",
              "<style scoped>\n",
              "    .dataframe tbody tr th:only-of-type {\n",
              "        vertical-align: middle;\n",
              "    }\n",
              "\n",
              "    .dataframe tbody tr th {\n",
              "        vertical-align: top;\n",
              "    }\n",
              "\n",
              "    .dataframe thead th {\n",
              "        text-align: right;\n",
              "    }\n",
              "</style>\n",
              "<table border=\"1\" class=\"dataframe\">\n",
              "  <thead>\n",
              "    <tr style=\"text-align: right;\">\n",
              "      <th></th>\n",
              "      <th>Layers</th>\n",
              "      <th>WD_LR_dropout</th>\n",
              "      <th>accuracy_mean</th>\n",
              "      <th>accuracy_std_dev</th>\n",
              "    </tr>\n",
              "  </thead>\n",
              "  <tbody>\n",
              "    <tr>\n",
              "      <th>50</th>\n",
              "      <td>5</td>\n",
              "      <td>(0.01, 0.01, 0)</td>\n",
              "      <td>0.6314</td>\n",
              "      <td>0.0276</td>\n",
              "    </tr>\n",
              "    <tr>\n",
              "      <th>17</th>\n",
              "      <td>2</td>\n",
              "      <td>(0.0001, 1e-05, 0.6)</td>\n",
              "      <td>0.6098</td>\n",
              "      <td>0.0266</td>\n",
              "    </tr>\n",
              "    <tr>\n",
              "      <th>42</th>\n",
              "      <td>5</td>\n",
              "      <td>(0.0001, 0.01, 0)</td>\n",
              "      <td>0.5908</td>\n",
              "      <td>0.0503</td>\n",
              "    </tr>\n",
              "    <tr>\n",
              "      <th>20</th>\n",
              "      <td>2</td>\n",
              "      <td>(0.0001, 0.01, 0.4)</td>\n",
              "      <td>0.5881</td>\n",
              "      <td>0.0167</td>\n",
              "    </tr>\n",
              "    <tr>\n",
              "      <th>46</th>\n",
              "      <td>5</td>\n",
              "      <td>(0.01, 1e-05, 0)</td>\n",
              "      <td>0.5718</td>\n",
              "      <td>0.0153</td>\n",
              "    </tr>\n",
              "    <tr>\n",
              "      <th>1</th>\n",
              "      <td>1</td>\n",
              "      <td>(0, 0.01, 0)</td>\n",
              "      <td>0.5718</td>\n",
              "      <td>0.0038</td>\n",
              "    </tr>\n",
              "    <tr>\n",
              "      <th>44</th>\n",
              "      <td>5</td>\n",
              "      <td>(0.0001, 0.01, 0.4)</td>\n",
              "      <td>0.5691</td>\n",
              "      <td>0.0066</td>\n",
              "    </tr>\n",
              "    <tr>\n",
              "      <th>21</th>\n",
              "      <td>2</td>\n",
              "      <td>(0.0001, 0.01, 0.6)</td>\n",
              "      <td>0.5691</td>\n",
              "      <td>0.0239</td>\n",
              "    </tr>\n",
              "    <tr>\n",
              "      <th>19</th>\n",
              "      <td>2</td>\n",
              "      <td>(0.0001, 0.01, 0.2)</td>\n",
              "      <td>0.5637</td>\n",
              "      <td>0.0203</td>\n",
              "    </tr>\n",
              "    <tr>\n",
              "      <th>24</th>\n",
              "      <td>2</td>\n",
              "      <td>(0.01, 1e-05, 0.4)</td>\n",
              "      <td>0.5637</td>\n",
              "      <td>0.0038</td>\n",
              "    </tr>\n",
              "    <tr>\n",
              "      <th>2</th>\n",
              "      <td>1</td>\n",
              "      <td>(0.0001, 1e-05, 0)</td>\n",
              "      <td>0.5610</td>\n",
              "      <td>0.0000</td>\n",
              "    </tr>\n",
              "    <tr>\n",
              "      <th>45</th>\n",
              "      <td>5</td>\n",
              "      <td>(0.0001, 0.01, 0.6)</td>\n",
              "      <td>0.5610</td>\n",
              "      <td>0.0230</td>\n",
              "    </tr>\n",
              "    <tr>\n",
              "      <th>26</th>\n",
              "      <td>2</td>\n",
              "      <td>(0.01, 0.01, 0)</td>\n",
              "      <td>0.5610</td>\n",
              "      <td>0.0693</td>\n",
              "    </tr>\n",
              "    <tr>\n",
              "      <th>27</th>\n",
              "      <td>2</td>\n",
              "      <td>(0.01, 0.01, 0.2)</td>\n",
              "      <td>0.5610</td>\n",
              "      <td>0.0415</td>\n",
              "    </tr>\n",
              "    <tr>\n",
              "      <th>39</th>\n",
              "      <td>5</td>\n",
              "      <td>(0.0001, 1e-05, 0.2)</td>\n",
              "      <td>0.5583</td>\n",
              "      <td>0.0038</td>\n",
              "    </tr>\n",
              "    <tr>\n",
              "      <th>47</th>\n",
              "      <td>5</td>\n",
              "      <td>(0.01, 1e-05, 0.2)</td>\n",
              "      <td>0.5556</td>\n",
              "      <td>0.0268</td>\n",
              "    </tr>\n",
              "    <tr>\n",
              "      <th>51</th>\n",
              "      <td>5</td>\n",
              "      <td>(0.01, 0.01, 0.2)</td>\n",
              "      <td>0.5528</td>\n",
              "      <td>0.0304</td>\n",
              "    </tr>\n",
              "    <tr>\n",
              "      <th>38</th>\n",
              "      <td>5</td>\n",
              "      <td>(0.0001, 1e-05, 0)</td>\n",
              "      <td>0.5528</td>\n",
              "      <td>0.0239</td>\n",
              "    </tr>\n",
              "    <tr>\n",
              "      <th>53</th>\n",
              "      <td>5</td>\n",
              "      <td>(0.01, 0.01, 0.6)</td>\n",
              "      <td>0.5501</td>\n",
              "      <td>0.0192</td>\n",
              "    </tr>\n",
              "    <tr>\n",
              "      <th>5</th>\n",
              "      <td>1</td>\n",
              "      <td>(0.01, 0.01, 0)</td>\n",
              "      <td>0.5501</td>\n",
              "      <td>0.0786</td>\n",
              "    </tr>\n",
              "    <tr>\n",
              "      <th>15</th>\n",
              "      <td>2</td>\n",
              "      <td>(0.0001, 1e-05, 0.2)</td>\n",
              "      <td>0.5447</td>\n",
              "      <td>0.0176</td>\n",
              "    </tr>\n",
              "    <tr>\n",
              "      <th>9</th>\n",
              "      <td>2</td>\n",
              "      <td>(0, 1e-05, 0.6)</td>\n",
              "      <td>0.5447</td>\n",
              "      <td>0.0176</td>\n",
              "    </tr>\n",
              "    <tr>\n",
              "      <th>37</th>\n",
              "      <td>5</td>\n",
              "      <td>(0, 0.01, 0.6)</td>\n",
              "      <td>0.5447</td>\n",
              "      <td>0.0115</td>\n",
              "    </tr>\n",
              "    <tr>\n",
              "      <th>35</th>\n",
              "      <td>5</td>\n",
              "      <td>(0, 0.01, 0.2)</td>\n",
              "      <td>0.5447</td>\n",
              "      <td>0.0239</td>\n",
              "    </tr>\n",
              "    <tr>\n",
              "      <th>43</th>\n",
              "      <td>5</td>\n",
              "      <td>(0.0001, 0.01, 0.2)</td>\n",
              "      <td>0.5420</td>\n",
              "      <td>0.0138</td>\n",
              "    </tr>\n",
              "    <tr>\n",
              "      <th>3</th>\n",
              "      <td>1</td>\n",
              "      <td>(0.0001, 0.01, 0)</td>\n",
              "      <td>0.5420</td>\n",
              "      <td>0.0755</td>\n",
              "    </tr>\n",
              "    <tr>\n",
              "      <th>36</th>\n",
              "      <td>5</td>\n",
              "      <td>(0, 0.01, 0.4)</td>\n",
              "      <td>0.5366</td>\n",
              "      <td>0.0345</td>\n",
              "    </tr>\n",
              "    <tr>\n",
              "      <th>33</th>\n",
              "      <td>5</td>\n",
              "      <td>(0, 1e-05, 0.6)</td>\n",
              "      <td>0.5366</td>\n",
              "      <td>0.0479</td>\n",
              "    </tr>\n",
              "    <tr>\n",
              "      <th>10</th>\n",
              "      <td>2</td>\n",
              "      <td>(0, 0.01, 0)</td>\n",
              "      <td>0.5339</td>\n",
              "      <td>0.0617</td>\n",
              "    </tr>\n",
              "    <tr>\n",
              "      <th>34</th>\n",
              "      <td>5</td>\n",
              "      <td>(0, 0.01, 0)</td>\n",
              "      <td>0.5312</td>\n",
              "      <td>0.0866</td>\n",
              "    </tr>\n",
              "    <tr>\n",
              "      <th>52</th>\n",
              "      <td>5</td>\n",
              "      <td>(0.01, 0.01, 0.4)</td>\n",
              "      <td>0.5285</td>\n",
              "      <td>0.0404</td>\n",
              "    </tr>\n",
              "    <tr>\n",
              "      <th>13</th>\n",
              "      <td>2</td>\n",
              "      <td>(0, 0.01, 0.6)</td>\n",
              "      <td>0.5285</td>\n",
              "      <td>0.0674</td>\n",
              "    </tr>\n",
              "    <tr>\n",
              "      <th>16</th>\n",
              "      <td>2</td>\n",
              "      <td>(0.0001, 1e-05, 0.4)</td>\n",
              "      <td>0.5203</td>\n",
              "      <td>0.0404</td>\n",
              "    </tr>\n",
              "    <tr>\n",
              "      <th>29</th>\n",
              "      <td>2</td>\n",
              "      <td>(0.01, 0.01, 0.6)</td>\n",
              "      <td>0.5203</td>\n",
              "      <td>0.0230</td>\n",
              "    </tr>\n",
              "    <tr>\n",
              "      <th>41</th>\n",
              "      <td>5</td>\n",
              "      <td>(0.0001, 1e-05, 0.6)</td>\n",
              "      <td>0.5203</td>\n",
              "      <td>0.0465</td>\n",
              "    </tr>\n",
              "    <tr>\n",
              "      <th>25</th>\n",
              "      <td>2</td>\n",
              "      <td>(0.01, 1e-05, 0.6)</td>\n",
              "      <td>0.5176</td>\n",
              "      <td>0.0595</td>\n",
              "    </tr>\n",
              "    <tr>\n",
              "      <th>49</th>\n",
              "      <td>5</td>\n",
              "      <td>(0.01, 1e-05, 0.6)</td>\n",
              "      <td>0.5122</td>\n",
              "      <td>0.0370</td>\n",
              "    </tr>\n",
              "    <tr>\n",
              "      <th>12</th>\n",
              "      <td>2</td>\n",
              "      <td>(0, 0.01, 0.4)</td>\n",
              "      <td>0.5095</td>\n",
              "      <td>0.0334</td>\n",
              "    </tr>\n",
              "    <tr>\n",
              "      <th>11</th>\n",
              "      <td>2</td>\n",
              "      <td>(0, 0.01, 0.2)</td>\n",
              "      <td>0.5041</td>\n",
              "      <td>0.0654</td>\n",
              "    </tr>\n",
              "    <tr>\n",
              "      <th>8</th>\n",
              "      <td>2</td>\n",
              "      <td>(0, 1e-05, 0.4)</td>\n",
              "      <td>0.4932</td>\n",
              "      <td>0.0383</td>\n",
              "    </tr>\n",
              "    <tr>\n",
              "      <th>32</th>\n",
              "      <td>5</td>\n",
              "      <td>(0, 1e-05, 0.4)</td>\n",
              "      <td>0.4851</td>\n",
              "      <td>0.0480</td>\n",
              "    </tr>\n",
              "    <tr>\n",
              "      <th>7</th>\n",
              "      <td>2</td>\n",
              "      <td>(0, 1e-05, 0.2)</td>\n",
              "      <td>0.4715</td>\n",
              "      <td>0.0115</td>\n",
              "    </tr>\n",
              "    <tr>\n",
              "      <th>40</th>\n",
              "      <td>5</td>\n",
              "      <td>(0.0001, 1e-05, 0.4)</td>\n",
              "      <td>0.4715</td>\n",
              "      <td>0.0176</td>\n",
              "    </tr>\n",
              "    <tr>\n",
              "      <th>28</th>\n",
              "      <td>2</td>\n",
              "      <td>(0.01, 0.01, 0.4)</td>\n",
              "      <td>0.4634</td>\n",
              "      <td>0.0176</td>\n",
              "    </tr>\n",
              "    <tr>\n",
              "      <th>48</th>\n",
              "      <td>5</td>\n",
              "      <td>(0.01, 1e-05, 0.4)</td>\n",
              "      <td>0.4634</td>\n",
              "      <td>0.0239</td>\n",
              "    </tr>\n",
              "    <tr>\n",
              "      <th>31</th>\n",
              "      <td>5</td>\n",
              "      <td>(0, 1e-05, 0.2)</td>\n",
              "      <td>0.4526</td>\n",
              "      <td>0.0728</td>\n",
              "    </tr>\n",
              "    <tr>\n",
              "      <th>4</th>\n",
              "      <td>1</td>\n",
              "      <td>(0.01, 1e-05, 0)</td>\n",
              "      <td>0.4390</td>\n",
              "      <td>0.0000</td>\n",
              "    </tr>\n",
              "    <tr>\n",
              "      <th>18</th>\n",
              "      <td>2</td>\n",
              "      <td>(0.0001, 0.01, 0)</td>\n",
              "      <td>0.4390</td>\n",
              "      <td>0.0066</td>\n",
              "    </tr>\n",
              "    <tr>\n",
              "      <th>6</th>\n",
              "      <td>2</td>\n",
              "      <td>(0, 1e-05, 0)</td>\n",
              "      <td>0.4390</td>\n",
              "      <td>0.0000</td>\n",
              "    </tr>\n",
              "    <tr>\n",
              "      <th>30</th>\n",
              "      <td>5</td>\n",
              "      <td>(0, 1e-05, 0)</td>\n",
              "      <td>0.4390</td>\n",
              "      <td>0.0000</td>\n",
              "    </tr>\n",
              "    <tr>\n",
              "      <th>0</th>\n",
              "      <td>1</td>\n",
              "      <td>(0, 1e-05, 0)</td>\n",
              "      <td>0.4390</td>\n",
              "      <td>0.0000</td>\n",
              "    </tr>\n",
              "    <tr>\n",
              "      <th>23</th>\n",
              "      <td>2</td>\n",
              "      <td>(0.01, 1e-05, 0.2)</td>\n",
              "      <td>0.4336</td>\n",
              "      <td>0.0167</td>\n",
              "    </tr>\n",
              "    <tr>\n",
              "      <th>22</th>\n",
              "      <td>2</td>\n",
              "      <td>(0.01, 1e-05, 0)</td>\n",
              "      <td>0.4309</td>\n",
              "      <td>0.0000</td>\n",
              "    </tr>\n",
              "    <tr>\n",
              "      <th>14</th>\n",
              "      <td>2</td>\n",
              "      <td>(0.0001, 1e-05, 0)</td>\n",
              "      <td>0.4146</td>\n",
              "      <td>0.0000</td>\n",
              "    </tr>\n",
              "  </tbody>\n",
              "</table>\n",
              "</div>\n",
              "      <button class=\"colab-df-convert\" onclick=\"convertToInteractive('df-308af4ab-cfc7-4725-8824-348a22075848')\"\n",
              "              title=\"Convert this dataframe to an interactive table.\"\n",
              "              style=\"display:none;\">\n",
              "        \n",
              "  <svg xmlns=\"http://www.w3.org/2000/svg\" height=\"24px\"viewBox=\"0 0 24 24\"\n",
              "       width=\"24px\">\n",
              "    <path d=\"M0 0h24v24H0V0z\" fill=\"none\"/>\n",
              "    <path d=\"M18.56 5.44l.94 2.06.94-2.06 2.06-.94-2.06-.94-.94-2.06-.94 2.06-2.06.94zm-11 1L8.5 8.5l.94-2.06 2.06-.94-2.06-.94L8.5 2.5l-.94 2.06-2.06.94zm10 10l.94 2.06.94-2.06 2.06-.94-2.06-.94-.94-2.06-.94 2.06-2.06.94z\"/><path d=\"M17.41 7.96l-1.37-1.37c-.4-.4-.92-.59-1.43-.59-.52 0-1.04.2-1.43.59L10.3 9.45l-7.72 7.72c-.78.78-.78 2.05 0 2.83L4 21.41c.39.39.9.59 1.41.59.51 0 1.02-.2 1.41-.59l7.78-7.78 2.81-2.81c.8-.78.8-2.07 0-2.86zM5.41 20L4 18.59l7.72-7.72 1.47 1.35L5.41 20z\"/>\n",
              "  </svg>\n",
              "      </button>\n",
              "      \n",
              "  <style>\n",
              "    .colab-df-container {\n",
              "      display:flex;\n",
              "      flex-wrap:wrap;\n",
              "      gap: 12px;\n",
              "    }\n",
              "\n",
              "    .colab-df-convert {\n",
              "      background-color: #E8F0FE;\n",
              "      border: none;\n",
              "      border-radius: 50%;\n",
              "      cursor: pointer;\n",
              "      display: none;\n",
              "      fill: #1967D2;\n",
              "      height: 32px;\n",
              "      padding: 0 0 0 0;\n",
              "      width: 32px;\n",
              "    }\n",
              "\n",
              "    .colab-df-convert:hover {\n",
              "      background-color: #E2EBFA;\n",
              "      box-shadow: 0px 1px 2px rgba(60, 64, 67, 0.3), 0px 1px 3px 1px rgba(60, 64, 67, 0.15);\n",
              "      fill: #174EA6;\n",
              "    }\n",
              "\n",
              "    [theme=dark] .colab-df-convert {\n",
              "      background-color: #3B4455;\n",
              "      fill: #D2E3FC;\n",
              "    }\n",
              "\n",
              "    [theme=dark] .colab-df-convert:hover {\n",
              "      background-color: #434B5C;\n",
              "      box-shadow: 0px 1px 3px 1px rgba(0, 0, 0, 0.15);\n",
              "      filter: drop-shadow(0px 1px 2px rgba(0, 0, 0, 0.3));\n",
              "      fill: #FFFFFF;\n",
              "    }\n",
              "  </style>\n",
              "\n",
              "      <script>\n",
              "        const buttonEl =\n",
              "          document.querySelector('#df-308af4ab-cfc7-4725-8824-348a22075848 button.colab-df-convert');\n",
              "        buttonEl.style.display =\n",
              "          google.colab.kernel.accessAllowed ? 'block' : 'none';\n",
              "\n",
              "        async function convertToInteractive(key) {\n",
              "          const element = document.querySelector('#df-308af4ab-cfc7-4725-8824-348a22075848');\n",
              "          const dataTable =\n",
              "            await google.colab.kernel.invokeFunction('convertToInteractive',\n",
              "                                                     [key], {});\n",
              "          if (!dataTable) return;\n",
              "\n",
              "          const docLinkHtml = 'Like what you see? Visit the ' +\n",
              "            '<a target=\"_blank\" href=https://colab.research.google.com/notebooks/data_table.ipynb>data table notebook</a>'\n",
              "            + ' to learn more about interactive tables.';\n",
              "          element.innerHTML = '';\n",
              "          dataTable['output_type'] = 'display_data';\n",
              "          await google.colab.output.renderOutput(dataTable, element);\n",
              "          const docLink = document.createElement('div');\n",
              "          docLink.innerHTML = docLinkHtml;\n",
              "          element.appendChild(docLink);\n",
              "        }\n",
              "      </script>\n",
              "    </div>\n",
              "  </div>\n",
              "  "
            ]
          },
          "metadata": {},
          "execution_count": 102
        }
      ],
      "source": [
        "sorted_df = df.sort_values(by=['accuracy_mean'], ascending=False)\n",
        "sorted_df"
      ]
    },
    {
      "cell_type": "markdown",
      "source": [
        "Best performance is for 1 layer, a weight decay of 0.0001, a learning rate of 1e-05 and a dropout rate of 0.6. It is worth noting that results are highly unstable. I am using the seed to avoid this. However, still the sample size is small"
      ],
      "metadata": {
        "id": "9ItadyhTuL_9"
      }
    },
    {
      "cell_type": "markdown",
      "metadata": {
        "id": "IoY_ug__Tv4c"
      },
      "source": [
        "### Evaluate on the test data"
      ]
    },
    {
      "cell_type": "code",
      "execution_count": 104,
      "metadata": {
        "id": "dE_Y8Zx5TzX6"
      },
      "outputs": [],
      "source": [
        "# I will use the hyperparameters 0.01 and 0 weight decay and 2 layers and 0.2 dropout rate. Those hyperparameters were the best ones in a previous run. \n",
        "  \n",
        "\n",
        "model = GCN(dropout = 0.2)\n",
        "optimizer = torch.optim.Adam(model.parameters(), lr=0.01, weight_decay=0)\n",
        "\n",
        "model.train()\n",
        "loss_values = []\n",
        "for epoch in range(200):\n",
        "    optimizer.zero_grad()\n",
        "    out = model(data)\n",
        "    loss = crit(out[data.train_mask], data.y[data.train_mask].float())\n",
        "\n",
        "    loss_values.append(loss.item()) # to plot the training loss\n",
        "    loss.backward()\n",
        "    optimizer.step()\n"
      ]
    },
    {
      "cell_type": "code",
      "execution_count": 108,
      "metadata": {
        "id": "133CmQfpSNMA",
        "colab": {
          "base_uri": "https://localhost:8080/"
        },
        "outputId": "7be6bea0-2218-49bf-93e8-752df5c207e6"
      },
      "outputs": [
        {
          "output_type": "stream",
          "name": "stdout",
          "text": [
            "Accuracy: 0.5203\n"
          ]
        }
      ],
      "source": [
        "model.eval()\n",
        "with torch.no_grad():\n",
        "  pred = model(data)\n",
        "  # setting a threshold of 0 for logits \n",
        "  threshold = torch.tensor(0.0, dtype=torch.float32)\n",
        "  pred_labels =  torch.where(pred > threshold, 1, torch.zeros_like(pred)) # dichotomizing into 1 and 0\n",
        "  correct = (pred_labels[data.test_mask] == data.y[data.test_mask]).sum()\n",
        "  acc = int(correct) / int(data.test_mask.sum())\n",
        "  print(f'Accuracy: {acc:.4f}')\n"
      ]
    },
    {
      "cell_type": "markdown",
      "metadata": {
        "id": "P-x5PKXxQB80"
      },
      "source": [
        "It is worth noting that the sample size for the testing dataset is quite small. "
      ]
    },
    {
      "cell_type": "markdown",
      "metadata": {
        "id": "T1UjqQBMYiod"
      },
      "source": [
        "### Confusion matrix"
      ]
    },
    {
      "cell_type": "code",
      "execution_count": 109,
      "metadata": {
        "id": "kdXyLJXLXsPf"
      },
      "outputs": [],
      "source": [
        "from sklearn.metrics import confusion_matrix"
      ]
    },
    {
      "cell_type": "code",
      "execution_count": 111,
      "metadata": {
        "id": "0MCQoFGvXsn1"
      },
      "outputs": [],
      "source": [
        "cm = confusion_matrix(data.y[data.test_mask], pred_labels[data.test_mask])"
      ]
    },
    {
      "cell_type": "code",
      "execution_count": 112,
      "metadata": {
        "id": "i9IhsTwUYY21"
      },
      "outputs": [],
      "source": [
        "import seaborn as sns "
      ]
    },
    {
      "cell_type": "code",
      "execution_count": 113,
      "metadata": {
        "id": "YUI-A5GbYv4m"
      },
      "outputs": [],
      "source": [
        "from sklearn.metrics import confusion_matrix, ConfusionMatrixDisplay\n",
        "disp = ConfusionMatrixDisplay(confusion_matrix=cm)"
      ]
    },
    {
      "cell_type": "code",
      "execution_count": 114,
      "metadata": {
        "id": "UF48ER64Y72v",
        "colab": {
          "base_uri": "https://localhost:8080/",
          "height": 449
        },
        "outputId": "f0df3bc7-8cee-40ec-a9cd-23924943dcfb"
      },
      "outputs": [
        {
          "output_type": "display_data",
          "data": {
            "text/plain": [
              "<Figure size 640x480 with 2 Axes>"
            ],
            "image/png": "[encoded data removed]"
          },
          "metadata": {}
        }
      ],
      "source": [
        "disp.plot();"
      ]
    },
    {
      "cell_type": "markdown",
      "source": [
        "The major problem is in false positives. Very low precision"
      ],
      "metadata": {
        "id": "sLL3PuTyu1Ge"
      }
    },
    {
      "cell_type": "code",
      "execution_count": null,
      "metadata": {
        "id": "GfQUUa_CZ23h",
        "collapsed": true
      },
      "outputs": [],
      "source": [
        "# K = 2\n",
        "# class Net(torch.nn.Module):\n",
        "#     def __init__(self):\n",
        "#         super().__init__()\n",
        "#         self.conv1 = SGConv(data.num_features, data.num_classes, K=2,\n",
        "#                             cached=True)\n",
        "\n",
        "#     def forward(self):\n",
        "#         x, edge_index = data.x, data.edge_index\n",
        "#         x = self.conv1(x, edge_index)\n",
        "#         return x\n",
        "\n",
        "\n",
        "# device = torch.device('cuda' if torch.cuda.is_available() else 'cpu')\n",
        "# model, data = Net(), data\n",
        "# optimizer = torch.optim.Adam(model.parameters(), lr=0.2, weight_decay=0.005)\n",
        "\n",
        "\n",
        "# def train():\n",
        "#     model.train()\n",
        "#     optimizer.zero_grad()\n",
        "#     crit(model()[data.train_mask], data.y[data.train_mask]).backward()\n",
        "#     optimizer.step()\n",
        "\n",
        "\n",
        "# @torch.no_grad()\n",
        "# def test():\n",
        "#     model.eval()\n",
        "#     out, accs = model(), []\n",
        "#     for _, mask in data('train_mask', 'val_mask', 'test_mask'):\n",
        "#         pred = out[mask].argmax(1)\n",
        "#         acc = pred.eq(data.y[mask]).sum().item() / mask.sum().item()\n",
        "#         accs.append(acc)\n",
        "#     return accs\n",
        "\n",
        "\n",
        "# best_val_acc = test_acc = 0\n",
        "# for epoch in range(1, 101):\n",
        "#     train()\n",
        "#     train_acc, val_acc, tmp_test_acc = test()\n",
        "#     if val_acc > best_val_acc:\n",
        "#         best_val_acc = val_acc\n",
        "#         test_acc = tmp_test_acc\n",
        "#     print(f'Epoch: {epoch:03d}, Train: {train_acc:.4f}, '\n",
        "#           f'Val: {best_val_acc:.4f}, Test: {test_acc:.4f}')"
      ]
    },
    {
      "cell_type": "markdown",
      "metadata": {
        "id": "3w767Lt7aaV0"
      },
      "source": []
    },
    {
      "cell_type": "code",
      "execution_count": null,
      "metadata": {
        "id": "w8UF29KnaUkh",
        "collapsed": true
      },
      "outputs": [],
      "source": [
        "# K = 1\n",
        "# class Net(torch.nn.Module):\n",
        "#     def __init__(self):\n",
        "#         super().__init__()\n",
        "#         self.conv1 = SGConv(data.num_features, data.num_classes, K=1,\n",
        "#                             cached=True)\n",
        "\n",
        "#     def forward(self):\n",
        "#         x, edge_index = data.x, data.edge_index\n",
        "#         x = self.conv1(x, edge_index)\n",
        "#         return x\n",
        "\n",
        "\n",
        "# device = torch.device('cuda' if torch.cuda.is_available() else 'cpu')\n",
        "# model, data = Net(), data\n",
        "# optimizer = torch.optim.Adam(model.parameters(), lr=0.2, weight_decay=0.005)\n",
        "\n",
        "\n",
        "# def train():\n",
        "#     model.train()\n",
        "#     optimizer.zero_grad()\n",
        "#     crit(model()[data.train_mask], data.y[data.train_mask]).backward()\n",
        "#     optimizer.step()\n",
        "\n",
        "\n",
        "# @torch.no_grad()\n",
        "# def test():\n",
        "#     model.eval()\n",
        "#     out, accs = model(), []\n",
        "#     for _, mask in data('train_mask', 'val_mask', 'test_mask'):\n",
        "#         pred = out[mask].argmax(1)\n",
        "#         acc = pred.eq(data.y[mask]).sum().item() / mask.sum().item()\n",
        "#         accs.append(acc)\n",
        "#     return accs\n",
        "\n",
        "\n",
        "# best_val_acc = test_acc = 0\n",
        "# for epoch in range(1, 101):\n",
        "#     train()\n",
        "#     train_acc, val_acc, tmp_test_acc = test()\n",
        "#     if val_acc > best_val_acc:\n",
        "#         best_val_acc = val_acc\n",
        "#         test_acc = tmp_test_acc\n",
        "#     print(f'Epoch: {epoch:03d}, Train: {train_acc:.4f}, '\n",
        "#           f'Val: {best_val_acc:.4f}, Test: {test_acc:.4f}')"
      ]
    },
    {
      "cell_type": "markdown",
      "metadata": {
        "id": "a6axEjlca1yN"
      },
      "source": []
    },
    {
      "cell_type": "code",
      "execution_count": null,
      "metadata": {
        "id": "Q2naDNDOa1yO",
        "collapsed": true
      },
      "outputs": [],
      "source": [
        "# # *K* = 3\n",
        "# class Net(torch.nn.Module):\n",
        "#     def __init__(self):\n",
        "#         super().__init__()\n",
        "#         self.conv1 = SGConv(data.num_features, data.num_classes, K=3,\n",
        "#                             cached=True)\n",
        "\n",
        "#     def forward(self):\n",
        "#         x, edge_index = data.x, data.edge_index\n",
        "#         x = self.conv1(x, edge_index)\n",
        "#         return x\n",
        "\n",
        "\n",
        "# device = torch.device('cuda' if torch.cuda.is_available() else 'cpu')\n",
        "# model, data = Net(), data\n",
        "# optimizer = torch.optim.Adam(model.parameters(), lr=0.2, weight_decay=0.005)\n",
        "\n",
        "\n",
        "# def train():\n",
        "#     model.train()\n",
        "#     optimizer.zero_grad()\n",
        "#     crit(model()[data.train_mask], data.y[data.train_mask]).backward()\n",
        "#     optimizer.step()\n",
        "\n",
        "\n",
        "# @torch.no_grad()\n",
        "# def test():\n",
        "#     model.eval()\n",
        "#     out, accs = model(), []\n",
        "#     for _, mask in data('train_mask', 'val_mask', 'test_mask'):\n",
        "#         pred = out[mask].argmax(1)\n",
        "#         acc = pred.eq(data.y[mask]).sum().item() / mask.sum().item()\n",
        "#         accs.append(acc)\n",
        "#     return accs\n",
        "\n",
        "\n",
        "# best_val_acc = test_acc = 0\n",
        "# for epoch in range(1, 101):\n",
        "#     train()\n",
        "#     train_acc, val_acc, tmp_test_acc = test()\n",
        "#     if val_acc > best_val_acc:\n",
        "#         best_val_acc = val_acc\n",
        "#         test_acc = tmp_test_acc\n",
        "#     print(f'Epoch: {epoch:03d}, Train: {train_acc:.4f}, '\n",
        "#           f'Val: {best_val_acc:.4f}, Test: {test_acc:.4f}')"
      ]
    },
    {
      "cell_type": "code",
      "execution_count": null,
      "metadata": {
        "id": "si1ilaTsbTl2"
      },
      "outputs": [],
      "source": [
        "# data.edge_index\n",
        "# remove_percent = 0.25\n",
        "\n",
        "# e = data.edge_index\n",
        "# m = e.shape[1]\n",
        "# keep = random.sample(range(m),int(m*(1-remove_percent)))\n",
        "# e_reduced = e[:,keep]\n",
        "# e_reduced.shape\n",
        "# data.edge_index = e_reduced\n",
        "# data.edge_index.shape\n",
        "# model = GCN()\n",
        "# optimizer = torch.optim.Adam(model.parameters(), lr=1e-2, weight_decay=1e-4)\n",
        "\n",
        "# model.train()\n",
        "# loss_values = []\n",
        "# for epoch in range(200):\n",
        "#     optimizer.zero_grad()\n",
        "#     out = model(data)\n",
        "#     loss = crit(out[data.train_mask], data.y[data.train_mask])\n",
        "#     loss_values.append(loss.item())\n",
        "#     loss.backward()\n",
        "#     optimizer.step()\n",
        "# plt.plot(loss_values);\n",
        "# ## LOOP :) \n",
        "# remove_percent = [0, 0.05, 0.25, 0.5, 0.95]\n",
        "\n",
        "# for i in remove_percent: \n",
        "#   data = Data(x= x , edge_index=edge_source_dest, y=y, num_classes = 2)\n",
        "#   msk=masking(split=\"train_rest\", num_splits = 1, num_val = 0.2, num_test= 0.2)\n",
        "#   data=msk(data)\n",
        "\n",
        "#   e = data.edge_index\n",
        "#   m = e.shape[1]\n",
        "#   keep = random.sample(range(m),int(m*(1-i)))\n",
        "#   e_reduced = e[:,keep]\n",
        "#   print(e_reduced.shape[1])\n",
        "#   data.edge_index = e_reduced\n",
        "#   print(data.edge_index.shape[1])\n",
        "\n",
        "#   model = GCN()\n",
        "#   optimizer = torch.optim.Adam(model.parameters(), lr=1e-2, weight_decay=1e-4)\n",
        "\n",
        "#   model.train()\n",
        "#   loss_values = []\n",
        "#   for epoch in range(200):\n",
        "#       optimizer.zero_grad()\n",
        "#       out = model(data)\n",
        "#       loss = crit(out[data.train_mask], data.y[data.train_mask])\n",
        "#       loss_values.append(loss.item())\n",
        "#       loss.backward()\n",
        "#       optimizer.step()\n",
        "  \n",
        "#   model.eval()\n",
        "#   pred = model(data).argmax(dim=1)\n",
        "#   correct = (pred[data.val_mask] == data.y[data.val_mask]).sum()\n",
        "#   acc = int(correct) / int(data.val_mask.sum())\n",
        "#   # print(f'Accuracy: {acc:.4f}')\n",
        "\n",
        "#   plt.plot(loss_values, label= f'{i} -- Acc: {acc:.4f}' );\n",
        "\n",
        "\n",
        "# plt.legend(title='Remove Percentage');\n"
      ]
    },
    {
      "cell_type": "markdown",
      "source": [
        "## GAT"
      ],
      "metadata": {
        "id": "W_HsulHzwHvu"
      }
    },
    {
      "cell_type": "code",
      "execution_count": 116,
      "metadata": {
        "id": "_Zt7BBwQ-FTO",
        "colab": {
          "base_uri": "https://localhost:8080/"
        },
        "outputId": "eaf5bb1e-54c8-4410-bd3d-2e5c1e0fcefd"
      },
      "outputs": [
        {
          "output_type": "stream",
          "name": "stdout",
          "text": [
            "tensor(534.7745, grad_fn=<BinaryCrossEntropyWithLogitsBackward0>)\n",
            "tensor(15.3177, grad_fn=<BinaryCrossEntropyWithLogitsBackward0>)\n",
            "tensor(59.8428, grad_fn=<BinaryCrossEntropyWithLogitsBackward0>)\n",
            "tensor(50.0906, grad_fn=<BinaryCrossEntropyWithLogitsBackward0>)\n",
            "tensor(14.3590, grad_fn=<BinaryCrossEntropyWithLogitsBackward0>)\n"
          ]
        }
      ],
      "source": [
        "import torch\n",
        "import torch.nn.functional as F\n",
        "from torch_geometric.nn import GCNConv, GATConv\n",
        "\n",
        "class GAT(torch.nn.Module):\n",
        "    def __init__(self, dropout):\n",
        "        super(GAT, self).__init__()\n",
        "        self.hid = 8\n",
        "        self.in_head = 8\n",
        "        self.out_head = 1\n",
        "        self.dropout = dropout\n",
        "        \n",
        "        \n",
        "        self.conv1 = GATConv(data.num_features, self.hid, heads=self.in_head, dropout=dropout)\n",
        "        self.conv2 = GATConv(self.hid*self.in_head, 1, concat=False,\n",
        "                             heads=self.out_head)\n",
        "\n",
        "    def forward(self, data):\n",
        "        x, edge_index = data.x, data.edge_index\n",
        "                \n",
        "        x = self.conv1(x, edge_index)\n",
        "        x = F.elu(x)\n",
        "        x = F.dropout(x, p=self.dropout, training=self.training)\n",
        "        x = self.conv2(x, edge_index)\n",
        "        \n",
        "        return x.squeeze()\n",
        "    \n",
        "model = GAT(dropout = 0)\n",
        "\n",
        "optimizer = torch.optim.Adam(model.parameters(), lr=0.005, weight_decay=5e-4)\n",
        "\n",
        "model.train()\n",
        "loss_values = []\n",
        "for epoch in range(1000):\n",
        "    model.train()\n",
        "    optimizer.zero_grad()\n",
        "    out = model(data)\n",
        "    loss = crit(out[data.train_mask], data.y[data.train_mask].float())\n",
        "    loss_values.append(loss.item())\n",
        "\n",
        "    if epoch%200 == 0:\n",
        "        print(loss)\n",
        "    \n",
        "    loss.backward()\n",
        "    optimizer.step()"
      ]
    },
    {
      "cell_type": "code",
      "execution_count": 117,
      "metadata": {
        "id": "v8OqYfx6DVAA",
        "colab": {
          "base_uri": "https://localhost:8080/",
          "height": 452
        },
        "outputId": "fcf16b34-8ece-494f-e746-1c3d63d0dcd5"
      },
      "outputs": [
        {
          "output_type": "display_data",
          "data": {
            "text/plain": [
              "<Figure size 640x480 with 1 Axes>"
            ],
            "image/png": "[encoded data removed]"
          },
          "metadata": {}
        }
      ],
      "source": [
        "plt.plot(loss_values)\n",
        "plt.title('Train loss');"
      ]
    },
    {
      "cell_type": "code",
      "execution_count": 118,
      "metadata": {
        "id": "EyAt7rDY-FTP",
        "colab": {
          "base_uri": "https://localhost:8080/"
        },
        "outputId": "8f9e4b81-d653-457a-d035-235acd5a2df3"
      },
      "outputs": [
        {
          "output_type": "stream",
          "name": "stdout",
          "text": [
            "Accuracy: 0.4715\n"
          ]
        }
      ],
      "source": [
        "model.eval()\n",
        "pred = model(data)\n",
        "# setting a threshold of 0 for logits \n",
        "threshold = torch.tensor(0.0, dtype=torch.float32)\n",
        "pred_labels =  torch.where(pred > threshold, 1, torch.zeros_like(pred)) # dichotomizing into 1 and 0\n",
        "correct = (pred_labels[data.val_mask] == data.y[data.val_mask]).sum()\n",
        "acc = int(correct) / int(data.test_mask.sum())\n",
        "print(f'Accuracy: {acc:.4f}')"
      ]
    },
    {
      "cell_type": "markdown",
      "metadata": {
        "id": "shMpbxhmAF0D"
      },
      "source": [
        "Slightly worse than GCN. Let's retry the hyperparameter tuning\n"
      ]
    },
    {
      "cell_type": "markdown",
      "metadata": {
        "id": "BynpZwCZAklx"
      },
      "source": [
        "### Hyperparameter tuning  \n",
        "\n",
        "- Number of layers:  1, 2, and also 5\n",
        "- L2 regularization on the neural network weight matrices/parameters\n",
        "(i.e., weight decay parameter: 0, 1e-4, and 1e-2)\n",
        "- Learning rate given as input to torch.optim.Adam(): 1e-5 and 1e-2\n",
        "- Dropout (0, 0.2, 0.4, 0.6)\n",
        "\n",
        "I will calculate the mean and standard deviation of 3 runs "
      ]
    },
    {
      "cell_type": "code",
      "execution_count": 119,
      "metadata": {
        "id": "MqWg8uRDAklx"
      },
      "outputs": [],
      "source": [
        "# Define the ranges for each hyperparameter\n",
        "weight_decays = [0, 1e-4, 1e-2] \n",
        "learning_rates = [1e-5, 1e-2]\n",
        "dropout_rates = [0, 0.2, 0.4, 0.6]\n",
        "\n",
        "# Define the number of times to repeat for each set of hyperparameters\n",
        "num_repeats = 3\n",
        "\n",
        "# Initialize a dictionary to store the results\n",
        "results = {}\n",
        "\n",
        "# Loop over all possible combinations of hyperparameters\n",
        "for weight_decay in weight_decays:\n",
        "      for learning_rate in learning_rates:\n",
        "          for dropout_rate in dropout_rates:\n",
        "          \n",
        "            # Initialize the model and optimizer with the current hyperparameters\n",
        "            model = GAT(dropout = dropout_rate)\n",
        "            optimizer = torch.optim.Adam(model.parameters(), lr=learning_rate, weight_decay=weight_decay)\n",
        "\n",
        "            # Train the model and get the accuracy for each repeat\n",
        "            acc_list = []\n",
        "            for repeat in range(num_repeats):\n",
        "                model.train()\n",
        "                for epoch in range(200):\n",
        "                    optimizer.zero_grad()\n",
        "                    out = model(data)\n",
        "                    loss = crit(out[data.train_mask], data.y[data.train_mask].float())\n",
        "                    loss.backward()\n",
        "                    optimizer.step()\n",
        "\n",
        "                pred = model(data)\n",
        "                # setting a threshold of 0 for logits \n",
        "                threshold = torch.tensor(0.0, dtype=torch.float32)\n",
        "                pred_labels =  torch.where(pred > threshold, 1, torch.zeros_like(pred)) # dichotomizing into 1 and 0\n",
        "                correct = (pred_labels[data.val_mask] == data.y[data.val_mask]).sum()\n",
        "                acc = int(correct) / int(data.test_mask.sum())\n",
        "                acc_list.append(acc)\n",
        "                # print(f'Accuracy: {acc:.4f}')\n",
        "\n",
        "            # Calculate the mean and standard deviation of accuracy for the current hyperparameters\n",
        "            acc_mean = round(np.mean(acc_list),4)\n",
        "            acc_std = round(np.std(acc_list),4)\n",
        "            \n",
        "            # Store the results in the dictionary\n",
        "            results[(weight_decay,learning_rate, dropout_rate)] = (acc_mean, acc_std)\n"
      ]
    },
    {
      "cell_type": "code",
      "execution_count": 120,
      "metadata": {
        "id": "uzy0schfAkly",
        "colab": {
          "base_uri": "https://localhost:8080/"
        },
        "outputId": "2c4e8459-cdb0-4c2b-9383-9e6b9d12c2ab"
      },
      "outputs": [
        {
          "output_type": "execute_result",
          "data": {
            "text/plain": [
              "{(0, 1e-05, 0): (0.4309, 0.0),\n",
              " (0, 1e-05, 0.2): (0.4472, 0.023),\n",
              " (0, 1e-05, 0.4): (0.4661, 0.0406),\n",
              " (0, 1e-05, 0.6): (0.5285, 0.0304),\n",
              " (0, 0.01, 0): (0.5799, 0.0153),\n",
              " (0, 0.01, 0.2): (0.5393, 0.0769),\n",
              " (0, 0.01, 0.4): (0.5203, 0.0289),\n",
              " (0, 0.01, 0.6): (0.5285, 0.0465),\n",
              " (0.0001, 1e-05, 0): (0.6233, 0.0276),\n",
              " (0.0001, 1e-05, 0.2): (0.5447, 0.0115),\n",
              " (0.0001, 1e-05, 0.4): (0.4309, 0.023),\n",
              " (0.0001, 1e-05, 0.6): (0.4444, 0.0167),\n",
              " (0.0001, 0.01, 0): (0.5285, 0.0579),\n",
              " (0.0001, 0.01, 0.2): (0.5583, 0.0203),\n",
              " (0.0001, 0.01, 0.4): (0.5312, 0.0276),\n",
              " (0.0001, 0.01, 0.6): (0.5718, 0.0213),\n",
              " (0.01, 1e-05, 0): (0.5908, 0.0192),\n",
              " (0.01, 1e-05, 0.2): (0.5583, 0.0138),\n",
              " (0.01, 1e-05, 0.4): (0.5339, 0.0138),\n",
              " (0.01, 1e-05, 0.6): (0.5203, 0.0239),\n",
              " (0.01, 0.01, 0): (0.4824, 0.0881),\n",
              " (0.01, 0.01, 0.2): (0.5447, 0.0176),\n",
              " (0.01, 0.01, 0.4): (0.5718, 0.0268),\n",
              " (0.01, 0.01, 0.6): (0.542, 0.0299)}"
            ]
          },
          "metadata": {},
          "execution_count": 120
        }
      ],
      "source": [
        "results"
      ]
    },
    {
      "cell_type": "code",
      "execution_count": 121,
      "metadata": {
        "id": "gDVLVRwRAkl0",
        "colab": {
          "base_uri": "https://localhost:8080/",
          "height": 802
        },
        "outputId": "2131406d-ecd6-47df-c96d-9c539968bf58"
      },
      "outputs": [
        {
          "output_type": "execute_result",
          "data": {
            "text/plain": [
              "           WD_LR_dropout  accuracy_mean  accuracy_std_dev\n",
              "8     (0.0001, 1e-05, 0)         0.6233            0.0276\n",
              "16      (0.01, 1e-05, 0)         0.5908            0.0192\n",
              "4           (0, 0.01, 0)         0.5799            0.0153\n",
              "22     (0.01, 0.01, 0.4)         0.5718            0.0268\n",
              "15   (0.0001, 0.01, 0.6)         0.5718            0.0213\n",
              "13   (0.0001, 0.01, 0.2)         0.5583            0.0203\n",
              "17    (0.01, 1e-05, 0.2)         0.5583            0.0138\n",
              "21     (0.01, 0.01, 0.2)         0.5447            0.0176\n",
              "9   (0.0001, 1e-05, 0.2)         0.5447            0.0115\n",
              "23     (0.01, 0.01, 0.6)         0.5420            0.0299\n",
              "5         (0, 0.01, 0.2)         0.5393            0.0769\n",
              "18    (0.01, 1e-05, 0.4)         0.5339            0.0138\n",
              "14   (0.0001, 0.01, 0.4)         0.5312            0.0276\n",
              "12     (0.0001, 0.01, 0)         0.5285            0.0579\n",
              "7         (0, 0.01, 0.6)         0.5285            0.0465\n",
              "3        (0, 1e-05, 0.6)         0.5285            0.0304\n",
              "6         (0, 0.01, 0.4)         0.5203            0.0289\n",
              "19    (0.01, 1e-05, 0.6)         0.5203            0.0239\n",
              "20       (0.01, 0.01, 0)         0.4824            0.0881\n",
              "2        (0, 1e-05, 0.4)         0.4661            0.0406\n",
              "1        (0, 1e-05, 0.2)         0.4472            0.0230\n",
              "11  (0.0001, 1e-05, 0.6)         0.4444            0.0167\n",
              "10  (0.0001, 1e-05, 0.4)         0.4309            0.0230\n",
              "0          (0, 1e-05, 0)         0.4309            0.0000"
            ],
            "text/html": [
              "\n",
              "  <div id=\"df-34071429-195a-4333-9b4e-3b30a616378f\">\n",
              "    <div class=\"colab-df-container\">\n",
              "      <div>\n",
              "<style scoped>\n",
              "    .dataframe tbody tr th:only-of-type {\n",
              "        vertical-align: middle;\n",
              "    }\n",
              "\n",
              "    .dataframe tbody tr th {\n",
              "        vertical-align: top;\n",
              "    }\n",
              "\n",
              "    .dataframe thead th {\n",
              "        text-align: right;\n",
              "    }\n",
              "</style>\n",
              "<table border=\"1\" class=\"dataframe\">\n",
              "  <thead>\n",
              "    <tr style=\"text-align: right;\">\n",
              "      <th></th>\n",
              "      <th>WD_LR_dropout</th>\n",
              "      <th>accuracy_mean</th>\n",
              "      <th>accuracy_std_dev</th>\n",
              "    </tr>\n",
              "  </thead>\n",
              "  <tbody>\n",
              "    <tr>\n",
              "      <th>8</th>\n",
              "      <td>(0.0001, 1e-05, 0)</td>\n",
              "      <td>0.6233</td>\n",
              "      <td>0.0276</td>\n",
              "    </tr>\n",
              "    <tr>\n",
              "      <th>16</th>\n",
              "      <td>(0.01, 1e-05, 0)</td>\n",
              "      <td>0.5908</td>\n",
              "      <td>0.0192</td>\n",
              "    </tr>\n",
              "    <tr>\n",
              "      <th>4</th>\n",
              "      <td>(0, 0.01, 0)</td>\n",
              "      <td>0.5799</td>\n",
              "      <td>0.0153</td>\n",
              "    </tr>\n",
              "    <tr>\n",
              "      <th>22</th>\n",
              "      <td>(0.01, 0.01, 0.4)</td>\n",
              "      <td>0.5718</td>\n",
              "      <td>0.0268</td>\n",
              "    </tr>\n",
              "    <tr>\n",
              "      <th>15</th>\n",
              "      <td>(0.0001, 0.01, 0.6)</td>\n",
              "      <td>0.5718</td>\n",
              "      <td>0.0213</td>\n",
              "    </tr>\n",
              "    <tr>\n",
              "      <th>13</th>\n",
              "      <td>(0.0001, 0.01, 0.2)</td>\n",
              "      <td>0.5583</td>\n",
              "      <td>0.0203</td>\n",
              "    </tr>\n",
              "    <tr>\n",
              "      <th>17</th>\n",
              "      <td>(0.01, 1e-05, 0.2)</td>\n",
              "      <td>0.5583</td>\n",
              "      <td>0.0138</td>\n",
              "    </tr>\n",
              "    <tr>\n",
              "      <th>21</th>\n",
              "      <td>(0.01, 0.01, 0.2)</td>\n",
              "      <td>0.5447</td>\n",
              "      <td>0.0176</td>\n",
              "    </tr>\n",
              "    <tr>\n",
              "      <th>9</th>\n",
              "      <td>(0.0001, 1e-05, 0.2)</td>\n",
              "      <td>0.5447</td>\n",
              "      <td>0.0115</td>\n",
              "    </tr>\n",
              "    <tr>\n",
              "      <th>23</th>\n",
              "      <td>(0.01, 0.01, 0.6)</td>\n",
              "      <td>0.5420</td>\n",
              "      <td>0.0299</td>\n",
              "    </tr>\n",
              "    <tr>\n",
              "      <th>5</th>\n",
              "      <td>(0, 0.01, 0.2)</td>\n",
              "      <td>0.5393</td>\n",
              "      <td>0.0769</td>\n",
              "    </tr>\n",
              "    <tr>\n",
              "      <th>18</th>\n",
              "      <td>(0.01, 1e-05, 0.4)</td>\n",
              "      <td>0.5339</td>\n",
              "      <td>0.0138</td>\n",
              "    </tr>\n",
              "    <tr>\n",
              "      <th>14</th>\n",
              "      <td>(0.0001, 0.01, 0.4)</td>\n",
              "      <td>0.5312</td>\n",
              "      <td>0.0276</td>\n",
              "    </tr>\n",
              "    <tr>\n",
              "      <th>12</th>\n",
              "      <td>(0.0001, 0.01, 0)</td>\n",
              "      <td>0.5285</td>\n",
              "      <td>0.0579</td>\n",
              "    </tr>\n",
              "    <tr>\n",
              "      <th>7</th>\n",
              "      <td>(0, 0.01, 0.6)</td>\n",
              "      <td>0.5285</td>\n",
              "      <td>0.0465</td>\n",
              "    </tr>\n",
              "    <tr>\n",
              "      <th>3</th>\n",
              "      <td>(0, 1e-05, 0.6)</td>\n",
              "      <td>0.5285</td>\n",
              "      <td>0.0304</td>\n",
              "    </tr>\n",
              "    <tr>\n",
              "      <th>6</th>\n",
              "      <td>(0, 0.01, 0.4)</td>\n",
              "      <td>0.5203</td>\n",
              "      <td>0.0289</td>\n",
              "    </tr>\n",
              "    <tr>\n",
              "      <th>19</th>\n",
              "      <td>(0.01, 1e-05, 0.6)</td>\n",
              "      <td>0.5203</td>\n",
              "      <td>0.0239</td>\n",
              "    </tr>\n",
              "    <tr>\n",
              "      <th>20</th>\n",
              "      <td>(0.01, 0.01, 0)</td>\n",
              "      <td>0.4824</td>\n",
              "      <td>0.0881</td>\n",
              "    </tr>\n",
              "    <tr>\n",
              "      <th>2</th>\n",
              "      <td>(0, 1e-05, 0.4)</td>\n",
              "      <td>0.4661</td>\n",
              "      <td>0.0406</td>\n",
              "    </tr>\n",
              "    <tr>\n",
              "      <th>1</th>\n",
              "      <td>(0, 1e-05, 0.2)</td>\n",
              "      <td>0.4472</td>\n",
              "      <td>0.0230</td>\n",
              "    </tr>\n",
              "    <tr>\n",
              "      <th>11</th>\n",
              "      <td>(0.0001, 1e-05, 0.6)</td>\n",
              "      <td>0.4444</td>\n",
              "      <td>0.0167</td>\n",
              "    </tr>\n",
              "    <tr>\n",
              "      <th>10</th>\n",
              "      <td>(0.0001, 1e-05, 0.4)</td>\n",
              "      <td>0.4309</td>\n",
              "      <td>0.0230</td>\n",
              "    </tr>\n",
              "    <tr>\n",
              "      <th>0</th>\n",
              "      <td>(0, 1e-05, 0)</td>\n",
              "      <td>0.4309</td>\n",
              "      <td>0.0000</td>\n",
              "    </tr>\n",
              "  </tbody>\n",
              "</table>\n",
              "</div>\n",
              "      <button class=\"colab-df-convert\" onclick=\"convertToInteractive('df-34071429-195a-4333-9b4e-3b30a616378f')\"\n",
              "              title=\"Convert this dataframe to an interactive table.\"\n",
              "              style=\"display:none;\">\n",
              "        \n",
              "  <svg xmlns=\"http://www.w3.org/2000/svg\" height=\"24px\"viewBox=\"0 0 24 24\"\n",
              "       width=\"24px\">\n",
              "    <path d=\"M0 0h24v24H0V0z\" fill=\"none\"/>\n",
              "    <path d=\"M18.56 5.44l.94 2.06.94-2.06 2.06-.94-2.06-.94-.94-2.06-.94 2.06-2.06.94zm-11 1L8.5 8.5l.94-2.06 2.06-.94-2.06-.94L8.5 2.5l-.94 2.06-2.06.94zm10 10l.94 2.06.94-2.06 2.06-.94-2.06-.94-.94-2.06-.94 2.06-2.06.94z\"/><path d=\"M17.41 7.96l-1.37-1.37c-.4-.4-.92-.59-1.43-.59-.52 0-1.04.2-1.43.59L10.3 9.45l-7.72 7.72c-.78.78-.78 2.05 0 2.83L4 21.41c.39.39.9.59 1.41.59.51 0 1.02-.2 1.41-.59l7.78-7.78 2.81-2.81c.8-.78.8-2.07 0-2.86zM5.41 20L4 18.59l7.72-7.72 1.47 1.35L5.41 20z\"/>\n",
              "  </svg>\n",
              "      </button>\n",
              "      \n",
              "  <style>\n",
              "    .colab-df-container {\n",
              "      display:flex;\n",
              "      flex-wrap:wrap;\n",
              "      gap: 12px;\n",
              "    }\n",
              "\n",
              "    .colab-df-convert {\n",
              "      background-color: #E8F0FE;\n",
              "      border: none;\n",
              "      border-radius: 50%;\n",
              "      cursor: pointer;\n",
              "      display: none;\n",
              "      fill: #1967D2;\n",
              "      height: 32px;\n",
              "      padding: 0 0 0 0;\n",
              "      width: 32px;\n",
              "    }\n",
              "\n",
              "    .colab-df-convert:hover {\n",
              "      background-color: #E2EBFA;\n",
              "      box-shadow: 0px 1px 2px rgba(60, 64, 67, 0.3), 0px 1px 3px 1px rgba(60, 64, 67, 0.15);\n",
              "      fill: #174EA6;\n",
              "    }\n",
              "\n",
              "    [theme=dark] .colab-df-convert {\n",
              "      background-color: #3B4455;\n",
              "      fill: #D2E3FC;\n",
              "    }\n",
              "\n",
              "    [theme=dark] .colab-df-convert:hover {\n",
              "      background-color: #434B5C;\n",
              "      box-shadow: 0px 1px 3px 1px rgba(0, 0, 0, 0.15);\n",
              "      filter: drop-shadow(0px 1px 2px rgba(0, 0, 0, 0.3));\n",
              "      fill: #FFFFFF;\n",
              "    }\n",
              "  </style>\n",
              "\n",
              "      <script>\n",
              "        const buttonEl =\n",
              "          document.querySelector('#df-34071429-195a-4333-9b4e-3b30a616378f button.colab-df-convert');\n",
              "        buttonEl.style.display =\n",
              "          google.colab.kernel.accessAllowed ? 'block' : 'none';\n",
              "\n",
              "        async function convertToInteractive(key) {\n",
              "          const element = document.querySelector('#df-34071429-195a-4333-9b4e-3b30a616378f');\n",
              "          const dataTable =\n",
              "            await google.colab.kernel.invokeFunction('convertToInteractive',\n",
              "                                                     [key], {});\n",
              "          if (!dataTable) return;\n",
              "\n",
              "          const docLinkHtml = 'Like what you see? Visit the ' +\n",
              "            '<a target=\"_blank\" href=https://colab.research.google.com/notebooks/data_table.ipynb>data table notebook</a>'\n",
              "            + ' to learn more about interactive tables.';\n",
              "          element.innerHTML = '';\n",
              "          dataTable['output_type'] = 'display_data';\n",
              "          await google.colab.output.renderOutput(dataTable, element);\n",
              "          const docLink = document.createElement('div');\n",
              "          docLink.innerHTML = docLinkHtml;\n",
              "          element.appendChild(docLink);\n",
              "        }\n",
              "      </script>\n",
              "    </div>\n",
              "  </div>\n",
              "  "
            ]
          },
          "metadata": {},
          "execution_count": 121
        }
      ],
      "source": [
        "df = pd.DataFrame.from_dict(results, orient='index')\n",
        "\n",
        "df.reset_index(inplace = True)\n",
        "\n",
        "df.columns = ['WD_LR_dropout', 'accuracy_mean', 'accuracy_std_dev']\n",
        "df.sort_values(\"accuracy_mean\", ascending = False)"
      ]
    },
    {
      "cell_type": "markdown",
      "source": [
        "Similar performance to GCN. The best hyperparameters are 0.0001 weight decay, 1e-05 learning rate , and a dropout rate of 0"
      ],
      "metadata": {
        "id": "qmz4uoh6wSFm"
      }
    },
    {
      "cell_type": "markdown",
      "source": [
        "## Conclusion\n",
        "\n",
        "> More sampele size is needed to enhance model performance and increase results stability. \n",
        "\n",
        "> GCN slightly outperforms GAT \n",
        "\n",
        "> More features are needed to better classify the nodes. Reddit is not offering a lot of features to be used. In addition, restricting our graphs to a single type of nodes (users) led to missing of multiple features. In a feature analysis, a heterogonous graph with users and posts/messages as nodes is possible. "
      ],
      "metadata": {
        "id": "WeLgg_SSwgQK"
      }
    },
    {
      "cell_type": "markdown",
      "source": [
        "## References\n",
        "\n",
        "Hands-on Graph Neural Networks for Social Network Using PyTorch | by Awadelrahman M. A. Ahmed | Medium\n",
        "https://awadrahman.medium.com/hands-on-graph-neural-networks-for-social-network-using-pytorch-30231c130b38\n",
        "\n",
        "Graph Neural Networks - YouTube\n",
        "https://www.youtube.com/playlist?list=PLV8yxwGOxvvoNkzPfCx2i8an--Tkt7O8Z\n",
        "\n",
        "Fake News Detection using Graphs with Pytorch Geometric - YouTube\n",
        "https://www.youtube.com/watch?v=QAIVFr24FrA&list=PLV8yxwGOxvvoNkzPfCx2i8an--Tkt7O8Z&index=22\n",
        "\n",
        "fake_news_detection.ipynb - Colaboratory\n",
        "https://colab.research.google.com/drive/1ZVZdehPPod6o4sF64QZa8I3NoSOH8MmC?usp=sharing\n",
        "\n",
        "\n",
        "Node Classification on Knowledge Graphs using PyTorch Geometric - YouTube\n",
        "https://www.youtube.com/watch?v=ex2qllcVneY\n",
        "\n",
        "knowledge_graphs_GNN.ipynb - Colaboratory\n",
        "https://colab.research.google.com/drive/1LJir3T6M6Omc2Vn2GV2cDW_GV2YfI53_?usp=sharing#scrollTo=T8oB-KlJSaat\n",
        "\n",
        "Tutorial Graph Neural Networks on Social Networks | Kaggle\n",
        "https://www.kaggle.com/code/mahmoudhamza/tutorial-graph-neural-networks-on-social-networks/edit\n",
        "\n",
        "Hands-on Graph Neural Networks with PyTorch & PyTorch Geometric | by Kung-Hsiang, Huang (Steeve) | Towards Data Science\n",
        "https://towardsdatascience.com/hands-on-graph-neural-networks-with-pytorch-pytorch-geometric-359487e221a8"
      ],
      "metadata": {
        "id": "wffaFocjc7g0"
      }
    },
    {
      "cell_type": "code",
      "source": [],
      "metadata": {
        "id": "u9RhcKhA18IX"
      },
      "execution_count": null,
      "outputs": []
    }
  ],
  "metadata": {
    "accelerator": "TPU",
    "colab": {
      "toc_visible": true,
      "provenance": []
    },
    "gpuClass": "standard",
    "kernelspec": {
      "display_name": "Python 3",
      "name": "python3"
    },
    "language_info": {
      "name": "python"
    }
  },
  "nbformat": 4,
  "nbformat_minor": 0
}