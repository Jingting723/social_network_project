{
  "nbformat": 4,
  "nbformat_minor": 0,
  "metadata": {
    "colab": {
      "provenance": []
    },
    "kernelspec": {
      "name": "python3",
      "display_name": "Python 3"
    },
    "language_info": {
      "name": "python"
    },
    "accelerator": "GPU",
    "gpuClass": "standard"
  },
  "cells": [
    {
      "cell_type": "markdown",
      "source": [
        "# References to check \n",
        "\n",
        "> Hands-on Graph Neural Networks for Social Network Using PyTorch | by Awadelrahman M. A. Ahmed | Medium\n",
        "https://awadrahman.medium.com/hands-on-graph-neural-networks-for-social-network-using-pytorch-30231c130b38\n",
        "\n",
        "social_network_project/GCN_node_classification.ipynb at main · Jingting723/social_network_project · GitHub\n",
        "https://github.com/Jingting723/social_network_project/blob/main/GCN_node_classification.ipynb\n",
        "\n",
        "\n",
        "(3) Graph Neural Networks - YouTube\n",
        "https://www.youtube.com/playlist?list=PLV8yxwGOxvvoNkzPfCx2i8an--Tkt7O8Z\n",
        "\n",
        "(3) Fake News Detection using Graphs with Pytorch Geometric - YouTube\n",
        "https://www.youtube.com/watch?v=QAIVFr24FrA&list=PLV8yxwGOxvvoNkzPfCx2i8an--Tkt7O8Z&index=22\n",
        "\n",
        "fake_news_detection.ipynb - Colaboratory\n",
        "https://colab.research.google.com/drive/1ZVZdehPPod6o4sF64QZa8I3NoSOH8MmC?usp=sharing\n",
        "\n",
        "\n",
        "(3) Node Classification on Knowledge Graphs using PyTorch Geometric - YouTube\n",
        "https://www.youtube.com/watch?v=ex2qllcVneY\n",
        "\n",
        "knowledge_graphs_GNN.ipynb - Colaboratory\n",
        "https://colab.research.google.com/drive/1LJir3T6M6Omc2Vn2GV2cDW_GV2YfI53_?usp=sharing#scrollTo=T8oB-KlJSaat\n",
        "\n",
        "Tutorial Graph Neural Networks on Social Networks | Kaggle\n",
        "https://www.kaggle.com/code/mahmoudhamza/tutorial-graph-neural-networks-on-social-networks/edit"
      ],
      "metadata": {
        "id": "Lix0OlIQl8FA"
      }
    },
    {
      "cell_type": "code",
      "execution_count": null,
      "metadata": {
        "colab": {
          "base_uri": "https://localhost:8080/"
        },
        "id": "RYhP-xWlUh04",
        "outputId": "1f2f03c1-277f-487b-e659-9ea25bc5276d"
      },
      "outputs": [
        {
          "output_type": "stream",
          "name": "stdout",
          "text": [
            "Looking in indexes: https://pypi.org/simple, https://us-python.pkg.dev/colab-wheels/public/simple/\n",
            "Collecting torch-geometric\n",
            "  Downloading torch_geometric-2.3.0.tar.gz (616 kB)\n",
            "\u001b[2K     \u001b[90m━━━━━━━━━━━━━━━━━━━━━━━━━━━━━━━━━━━━━━\u001b[0m \u001b[32m616.2/616.2 kB\u001b[0m \u001b[31m12.2 MB/s\u001b[0m eta \u001b[36m0:00:00\u001b[0m\n",
            "\u001b[?25h  Installing build dependencies ... \u001b[?25l\u001b[?25hdone\n",
            "  Getting requirements to build wheel ... \u001b[?25l\u001b[?25hdone\n",
            "  Preparing metadata (pyproject.toml) ... \u001b[?25l\u001b[?25hdone\n",
            "Requirement already satisfied: numpy in /usr/local/lib/python3.9/dist-packages (from torch-geometric) (1.22.4)\n",
            "Requirement already satisfied: requests in /usr/local/lib/python3.9/dist-packages (from torch-geometric) (2.27.1)\n",
            "Requirement already satisfied: jinja2 in /usr/local/lib/python3.9/dist-packages (from torch-geometric) (3.1.2)\n",
            "Requirement already satisfied: scikit-learn in /usr/local/lib/python3.9/dist-packages (from torch-geometric) (1.2.2)\n",
            "Requirement already satisfied: scipy in /usr/local/lib/python3.9/dist-packages (from torch-geometric) (1.10.1)\n",
            "Requirement already satisfied: psutil>=5.8.0 in /usr/local/lib/python3.9/dist-packages (from torch-geometric) (5.9.5)\n",
            "Requirement already satisfied: pyparsing in /usr/local/lib/python3.9/dist-packages (from torch-geometric) (3.0.9)\n",
            "Requirement already satisfied: tqdm in /usr/local/lib/python3.9/dist-packages (from torch-geometric) (4.65.0)\n",
            "Requirement already satisfied: MarkupSafe>=2.0 in /usr/local/lib/python3.9/dist-packages (from jinja2->torch-geometric) (2.1.2)\n",
            "Requirement already satisfied: urllib3<1.27,>=1.21.1 in /usr/local/lib/python3.9/dist-packages (from requests->torch-geometric) (1.26.15)\n",
            "Requirement already satisfied: idna<4,>=2.5 in /usr/local/lib/python3.9/dist-packages (from requests->torch-geometric) (3.4)\n",
            "Requirement already satisfied: charset-normalizer~=2.0.0 in /usr/local/lib/python3.9/dist-packages (from requests->torch-geometric) (2.0.12)\n",
            "Requirement already satisfied: certifi>=2017.4.17 in /usr/local/lib/python3.9/dist-packages (from requests->torch-geometric) (2022.12.7)\n",
            "Requirement already satisfied: threadpoolctl>=2.0.0 in /usr/local/lib/python3.9/dist-packages (from scikit-learn->torch-geometric) (3.1.0)\n",
            "Requirement already satisfied: joblib>=1.1.1 in /usr/local/lib/python3.9/dist-packages (from scikit-learn->torch-geometric) (1.2.0)\n",
            "Building wheels for collected packages: torch-geometric\n",
            "  Building wheel for torch-geometric (pyproject.toml) ... \u001b[?25l\u001b[?25hdone\n",
            "  Created wheel for torch-geometric: filename=torch_geometric-2.3.0-py3-none-any.whl size=909897 sha256=4e29b30e037f551e3e2bee51ae8405be81c9511e7be02dc9efcf09f04eb728a4\n",
            "  Stored in directory: /root/.cache/pip/wheels/cd/7d/6b/17150450b80b4a3656a84330e22709ccd8dc0f8f4773ba4133\n",
            "Successfully built torch-geometric\n",
            "Installing collected packages: torch-geometric\n",
            "Successfully installed torch-geometric-2.3.0\n"
          ]
        }
      ],
      "source": [
        "pip install torch-geometric"
      ]
    },
    {
      "cell_type": "code",
      "source": [
        "import pandas as pd \n",
        "import numpy as np\n",
        "import collections\n",
        "\n",
        "import matplotlib\n",
        "import matplotlib.pyplot as plt\n",
        "\n",
        "import torch\n",
        "import torch.nn as nn\n",
        "import torch.nn.functional as F\n",
        "\n",
        "from torch_geometric.data import Data\n",
        "from torch_geometric.utils.convert import to_networkx\n",
        "from torch_geometric.nn import GCNConv, SGConv\n",
        "\n",
        "import networkx as nx"
      ],
      "metadata": {
        "id": "jbQ_nBN8ViJR"
      },
      "execution_count": null,
      "outputs": []
    },
    {
      "cell_type": "code",
      "source": [
        "from google.colab import drive\n",
        "drive.mount('/content/drive')\n",
        "\n",
        "import os\n",
        "os.chdir('/content/drive/My Drive/vanderbilt/social/project')"
      ],
      "metadata": {
        "colab": {
          "base_uri": "https://localhost:8080/"
        },
        "id": "JQ5w1hCvVlwh",
        "outputId": "fa88cc07-c6f1-485a-cc06-3b52bfc59506"
      },
      "execution_count": null,
      "outputs": [
        {
          "output_type": "stream",
          "name": "stdout",
          "text": [
            "Mounted at /content/drive\n"
          ]
        }
      ]
    },
    {
      "cell_type": "code",
      "source": [
        "users = pd.read_csv(\"users.csv\", header= None)\n",
        "edges = pd.read_csv(\"edges.csv\", header = None)\n",
        "df = pd.read_csv(\"df.csv\", index_col = 0)"
      ],
      "metadata": {
        "id": "Bvg_r5joWYhf"
      },
      "execution_count": null,
      "outputs": []
    },
    {
      "cell_type": "code",
      "source": [
        "users = users.reset_index()"
      ],
      "metadata": {
        "id": "w1fZRHU7J6MY"
      },
      "execution_count": null,
      "outputs": []
    },
    {
      "cell_type": "code",
      "source": [
        "users.columns = [\"userid\", 'username']"
      ],
      "metadata": {
        "id": "fAUw_3G3KQoE"
      },
      "execution_count": null,
      "outputs": []
    },
    {
      "cell_type": "code",
      "source": [
        "users"
      ],
      "metadata": {
        "colab": {
          "base_uri": "https://localhost:8080/",
          "height": 423
        },
        "id": "xs-B7-HES-2G",
        "outputId": "dae5a45f-697d-40cb-81d4-8522e37ef774"
      },
      "execution_count": null,
      "outputs": [
        {
          "output_type": "execute_result",
          "data": {
            "text/plain": [
              "     userid              username\n",
              "0         0          that_90s_guy\n",
              "1         1         AutoModerator\n",
              "2         2     scumbagdetector15\n",
              "3         3                 csch2\n",
              "4         4    PlayerofVideoGames\n",
              "..      ...                   ...\n",
              "608     608  Lanky_Information825\n",
              "609     609            xebeka6808\n",
              "610     610            HumanJenoM\n",
              "611     611             mvandemar\n",
              "612     612           flossraptor\n",
              "\n",
              "[613 rows x 2 columns]"
            ],
            "text/html": [
              "\n",
              "  <div id=\"df-c69f2093-82d6-4f8d-9193-ce80bfccb0b4\">\n",
              "    <div class=\"colab-df-container\">\n",
              "      <div>\n",
              "<style scoped>\n",
              "    .dataframe tbody tr th:only-of-type {\n",
              "        vertical-align: middle;\n",
              "    }\n",
              "\n",
              "    .dataframe tbody tr th {\n",
              "        vertical-align: top;\n",
              "    }\n",
              "\n",
              "    .dataframe thead th {\n",
              "        text-align: right;\n",
              "    }\n",
              "</style>\n",
              "<table border=\"1\" class=\"dataframe\">\n",
              "  <thead>\n",
              "    <tr style=\"text-align: right;\">\n",
              "      <th></th>\n",
              "      <th>userid</th>\n",
              "      <th>username</th>\n",
              "    </tr>\n",
              "  </thead>\n",
              "  <tbody>\n",
              "    <tr>\n",
              "      <th>0</th>\n",
              "      <td>0</td>\n",
              "      <td>that_90s_guy</td>\n",
              "    </tr>\n",
              "    <tr>\n",
              "      <th>1</th>\n",
              "      <td>1</td>\n",
              "      <td>AutoModerator</td>\n",
              "    </tr>\n",
              "    <tr>\n",
              "      <th>2</th>\n",
              "      <td>2</td>\n",
              "      <td>scumbagdetector15</td>\n",
              "    </tr>\n",
              "    <tr>\n",
              "      <th>3</th>\n",
              "      <td>3</td>\n",
              "      <td>csch2</td>\n",
              "    </tr>\n",
              "    <tr>\n",
              "      <th>4</th>\n",
              "      <td>4</td>\n",
              "      <td>PlayerofVideoGames</td>\n",
              "    </tr>\n",
              "    <tr>\n",
              "      <th>...</th>\n",
              "      <td>...</td>\n",
              "      <td>...</td>\n",
              "    </tr>\n",
              "    <tr>\n",
              "      <th>608</th>\n",
              "      <td>608</td>\n",
              "      <td>Lanky_Information825</td>\n",
              "    </tr>\n",
              "    <tr>\n",
              "      <th>609</th>\n",
              "      <td>609</td>\n",
              "      <td>xebeka6808</td>\n",
              "    </tr>\n",
              "    <tr>\n",
              "      <th>610</th>\n",
              "      <td>610</td>\n",
              "      <td>HumanJenoM</td>\n",
              "    </tr>\n",
              "    <tr>\n",
              "      <th>611</th>\n",
              "      <td>611</td>\n",
              "      <td>mvandemar</td>\n",
              "    </tr>\n",
              "    <tr>\n",
              "      <th>612</th>\n",
              "      <td>612</td>\n",
              "      <td>flossraptor</td>\n",
              "    </tr>\n",
              "  </tbody>\n",
              "</table>\n",
              "<p>613 rows × 2 columns</p>\n",
              "</div>\n",
              "      <button class=\"colab-df-convert\" onclick=\"convertToInteractive('df-c69f2093-82d6-4f8d-9193-ce80bfccb0b4')\"\n",
              "              title=\"Convert this dataframe to an interactive table.\"\n",
              "              style=\"display:none;\">\n",
              "        \n",
              "  <svg xmlns=\"http://www.w3.org/2000/svg\" height=\"24px\"viewBox=\"0 0 24 24\"\n",
              "       width=\"24px\">\n",
              "    <path d=\"M0 0h24v24H0V0z\" fill=\"none\"/>\n",
              "    <path d=\"M18.56 5.44l.94 2.06.94-2.06 2.06-.94-2.06-.94-.94-2.06-.94 2.06-2.06.94zm-11 1L8.5 8.5l.94-2.06 2.06-.94-2.06-.94L8.5 2.5l-.94 2.06-2.06.94zm10 10l.94 2.06.94-2.06 2.06-.94-2.06-.94-.94-2.06-.94 2.06-2.06.94z\"/><path d=\"M17.41 7.96l-1.37-1.37c-.4-.4-.92-.59-1.43-.59-.52 0-1.04.2-1.43.59L10.3 9.45l-7.72 7.72c-.78.78-.78 2.05 0 2.83L4 21.41c.39.39.9.59 1.41.59.51 0 1.02-.2 1.41-.59l7.78-7.78 2.81-2.81c.8-.78.8-2.07 0-2.86zM5.41 20L4 18.59l7.72-7.72 1.47 1.35L5.41 20z\"/>\n",
              "  </svg>\n",
              "      </button>\n",
              "      \n",
              "  <style>\n",
              "    .colab-df-container {\n",
              "      display:flex;\n",
              "      flex-wrap:wrap;\n",
              "      gap: 12px;\n",
              "    }\n",
              "\n",
              "    .colab-df-convert {\n",
              "      background-color: #E8F0FE;\n",
              "      border: none;\n",
              "      border-radius: 50%;\n",
              "      cursor: pointer;\n",
              "      display: none;\n",
              "      fill: #1967D2;\n",
              "      height: 32px;\n",
              "      padding: 0 0 0 0;\n",
              "      width: 32px;\n",
              "    }\n",
              "\n",
              "    .colab-df-convert:hover {\n",
              "      background-color: #E2EBFA;\n",
              "      box-shadow: 0px 1px 2px rgba(60, 64, 67, 0.3), 0px 1px 3px 1px rgba(60, 64, 67, 0.15);\n",
              "      fill: #174EA6;\n",
              "    }\n",
              "\n",
              "    [theme=dark] .colab-df-convert {\n",
              "      background-color: #3B4455;\n",
              "      fill: #D2E3FC;\n",
              "    }\n",
              "\n",
              "    [theme=dark] .colab-df-convert:hover {\n",
              "      background-color: #434B5C;\n",
              "      box-shadow: 0px 1px 3px 1px rgba(0, 0, 0, 0.15);\n",
              "      filter: drop-shadow(0px 1px 2px rgba(0, 0, 0, 0.3));\n",
              "      fill: #FFFFFF;\n",
              "    }\n",
              "  </style>\n",
              "\n",
              "      <script>\n",
              "        const buttonEl =\n",
              "          document.querySelector('#df-c69f2093-82d6-4f8d-9193-ce80bfccb0b4 button.colab-df-convert');\n",
              "        buttonEl.style.display =\n",
              "          google.colab.kernel.accessAllowed ? 'block' : 'none';\n",
              "\n",
              "        async function convertToInteractive(key) {\n",
              "          const element = document.querySelector('#df-c69f2093-82d6-4f8d-9193-ce80bfccb0b4');\n",
              "          const dataTable =\n",
              "            await google.colab.kernel.invokeFunction('convertToInteractive',\n",
              "                                                     [key], {});\n",
              "          if (!dataTable) return;\n",
              "\n",
              "          const docLinkHtml = 'Like what you see? Visit the ' +\n",
              "            '<a target=\"_blank\" href=https://colab.research.google.com/notebooks/data_table.ipynb>data table notebook</a>'\n",
              "            + ' to learn more about interactive tables.';\n",
              "          element.innerHTML = '';\n",
              "          dataTable['output_type'] = 'display_data';\n",
              "          await google.colab.output.renderOutput(dataTable, element);\n",
              "          const docLink = document.createElement('div');\n",
              "          docLink.innerHTML = docLinkHtml;\n",
              "          element.appendChild(docLink);\n",
              "        }\n",
              "      </script>\n",
              "    </div>\n",
              "  </div>\n",
              "  "
            ]
          },
          "metadata": {},
          "execution_count": 7
        }
      ]
    },
    {
      "cell_type": "code",
      "source": [
        "df"
      ],
      "metadata": {
        "colab": {
          "base_uri": "https://localhost:8080/",
          "height": 423
        },
        "id": "zXokE98A_R2k",
        "outputId": "4ed3f425-4672-4757-e2dd-bf750c5501f4"
      },
      "execution_count": null,
      "outputs": [
        {
          "output_type": "execute_result",
          "data": {
            "text/plain": [
              "                      comment_karma  link_karma  avg_upvotes\n",
              "that_90s_guy                31343.0     20684.0  1503.390000\n",
              "AutoModerator                1000.0      1000.0     1.004695\n",
              "scumbagdetector15           18369.0         1.0   170.600000\n",
              "csch2                        1981.0      2622.0   136.000000\n",
              "PlayerofVideoGames          18476.0       473.0    57.000000\n",
              "...                             ...         ...          ...\n",
              "Lanky_Information825          326.0         3.0     5.000000\n",
              "xebeka6808                   4631.0       765.0     5.000000\n",
              "HumanJenoM                   8117.0       505.0     3.000000\n",
              "mvandemar                    4467.0      2391.0     2.000000\n",
              "flossraptor                 11986.0      1899.0     1.000000\n",
              "\n",
              "[613 rows x 3 columns]"
            ],
            "text/html": [
              "\n",
              "  <div id=\"df-33602b71-1a49-478a-be20-a1b34dc39025\">\n",
              "    <div class=\"colab-df-container\">\n",
              "      <div>\n",
              "<style scoped>\n",
              "    .dataframe tbody tr th:only-of-type {\n",
              "        vertical-align: middle;\n",
              "    }\n",
              "\n",
              "    .dataframe tbody tr th {\n",
              "        vertical-align: top;\n",
              "    }\n",
              "\n",
              "    .dataframe thead th {\n",
              "        text-align: right;\n",
              "    }\n",
              "</style>\n",
              "<table border=\"1\" class=\"dataframe\">\n",
              "  <thead>\n",
              "    <tr style=\"text-align: right;\">\n",
              "      <th></th>\n",
              "      <th>comment_karma</th>\n",
              "      <th>link_karma</th>\n",
              "      <th>avg_upvotes</th>\n",
              "    </tr>\n",
              "  </thead>\n",
              "  <tbody>\n",
              "    <tr>\n",
              "      <th>that_90s_guy</th>\n",
              "      <td>31343.0</td>\n",
              "      <td>20684.0</td>\n",
              "      <td>1503.390000</td>\n",
              "    </tr>\n",
              "    <tr>\n",
              "      <th>AutoModerator</th>\n",
              "      <td>1000.0</td>\n",
              "      <td>1000.0</td>\n",
              "      <td>1.004695</td>\n",
              "    </tr>\n",
              "    <tr>\n",
              "      <th>scumbagdetector15</th>\n",
              "      <td>18369.0</td>\n",
              "      <td>1.0</td>\n",
              "      <td>170.600000</td>\n",
              "    </tr>\n",
              "    <tr>\n",
              "      <th>csch2</th>\n",
              "      <td>1981.0</td>\n",
              "      <td>2622.0</td>\n",
              "      <td>136.000000</td>\n",
              "    </tr>\n",
              "    <tr>\n",
              "      <th>PlayerofVideoGames</th>\n",
              "      <td>18476.0</td>\n",
              "      <td>473.0</td>\n",
              "      <td>57.000000</td>\n",
              "    </tr>\n",
              "    <tr>\n",
              "      <th>...</th>\n",
              "      <td>...</td>\n",
              "      <td>...</td>\n",
              "      <td>...</td>\n",
              "    </tr>\n",
              "    <tr>\n",
              "      <th>Lanky_Information825</th>\n",
              "      <td>326.0</td>\n",
              "      <td>3.0</td>\n",
              "      <td>5.000000</td>\n",
              "    </tr>\n",
              "    <tr>\n",
              "      <th>xebeka6808</th>\n",
              "      <td>4631.0</td>\n",
              "      <td>765.0</td>\n",
              "      <td>5.000000</td>\n",
              "    </tr>\n",
              "    <tr>\n",
              "      <th>HumanJenoM</th>\n",
              "      <td>8117.0</td>\n",
              "      <td>505.0</td>\n",
              "      <td>3.000000</td>\n",
              "    </tr>\n",
              "    <tr>\n",
              "      <th>mvandemar</th>\n",
              "      <td>4467.0</td>\n",
              "      <td>2391.0</td>\n",
              "      <td>2.000000</td>\n",
              "    </tr>\n",
              "    <tr>\n",
              "      <th>flossraptor</th>\n",
              "      <td>11986.0</td>\n",
              "      <td>1899.0</td>\n",
              "      <td>1.000000</td>\n",
              "    </tr>\n",
              "  </tbody>\n",
              "</table>\n",
              "<p>613 rows × 3 columns</p>\n",
              "</div>\n",
              "      <button class=\"colab-df-convert\" onclick=\"convertToInteractive('df-33602b71-1a49-478a-be20-a1b34dc39025')\"\n",
              "              title=\"Convert this dataframe to an interactive table.\"\n",
              "              style=\"display:none;\">\n",
              "        \n",
              "  <svg xmlns=\"http://www.w3.org/2000/svg\" height=\"24px\"viewBox=\"0 0 24 24\"\n",
              "       width=\"24px\">\n",
              "    <path d=\"M0 0h24v24H0V0z\" fill=\"none\"/>\n",
              "    <path d=\"M18.56 5.44l.94 2.06.94-2.06 2.06-.94-2.06-.94-.94-2.06-.94 2.06-2.06.94zm-11 1L8.5 8.5l.94-2.06 2.06-.94-2.06-.94L8.5 2.5l-.94 2.06-2.06.94zm10 10l.94 2.06.94-2.06 2.06-.94-2.06-.94-.94-2.06-.94 2.06-2.06.94z\"/><path d=\"M17.41 7.96l-1.37-1.37c-.4-.4-.92-.59-1.43-.59-.52 0-1.04.2-1.43.59L10.3 9.45l-7.72 7.72c-.78.78-.78 2.05 0 2.83L4 21.41c.39.39.9.59 1.41.59.51 0 1.02-.2 1.41-.59l7.78-7.78 2.81-2.81c.8-.78.8-2.07 0-2.86zM5.41 20L4 18.59l7.72-7.72 1.47 1.35L5.41 20z\"/>\n",
              "  </svg>\n",
              "      </button>\n",
              "      \n",
              "  <style>\n",
              "    .colab-df-container {\n",
              "      display:flex;\n",
              "      flex-wrap:wrap;\n",
              "      gap: 12px;\n",
              "    }\n",
              "\n",
              "    .colab-df-convert {\n",
              "      background-color: #E8F0FE;\n",
              "      border: none;\n",
              "      border-radius: 50%;\n",
              "      cursor: pointer;\n",
              "      display: none;\n",
              "      fill: #1967D2;\n",
              "      height: 32px;\n",
              "      padding: 0 0 0 0;\n",
              "      width: 32px;\n",
              "    }\n",
              "\n",
              "    .colab-df-convert:hover {\n",
              "      background-color: #E2EBFA;\n",
              "      box-shadow: 0px 1px 2px rgba(60, 64, 67, 0.3), 0px 1px 3px 1px rgba(60, 64, 67, 0.15);\n",
              "      fill: #174EA6;\n",
              "    }\n",
              "\n",
              "    [theme=dark] .colab-df-convert {\n",
              "      background-color: #3B4455;\n",
              "      fill: #D2E3FC;\n",
              "    }\n",
              "\n",
              "    [theme=dark] .colab-df-convert:hover {\n",
              "      background-color: #434B5C;\n",
              "      box-shadow: 0px 1px 3px 1px rgba(0, 0, 0, 0.15);\n",
              "      filter: drop-shadow(0px 1px 2px rgba(0, 0, 0, 0.3));\n",
              "      fill: #FFFFFF;\n",
              "    }\n",
              "  </style>\n",
              "\n",
              "      <script>\n",
              "        const buttonEl =\n",
              "          document.querySelector('#df-33602b71-1a49-478a-be20-a1b34dc39025 button.colab-df-convert');\n",
              "        buttonEl.style.display =\n",
              "          google.colab.kernel.accessAllowed ? 'block' : 'none';\n",
              "\n",
              "        async function convertToInteractive(key) {\n",
              "          const element = document.querySelector('#df-33602b71-1a49-478a-be20-a1b34dc39025');\n",
              "          const dataTable =\n",
              "            await google.colab.kernel.invokeFunction('convertToInteractive',\n",
              "                                                     [key], {});\n",
              "          if (!dataTable) return;\n",
              "\n",
              "          const docLinkHtml = 'Like what you see? Visit the ' +\n",
              "            '<a target=\"_blank\" href=https://colab.research.google.com/notebooks/data_table.ipynb>data table notebook</a>'\n",
              "            + ' to learn more about interactive tables.';\n",
              "          element.innerHTML = '';\n",
              "          dataTable['output_type'] = 'display_data';\n",
              "          await google.colab.output.renderOutput(dataTable, element);\n",
              "          const docLink = document.createElement('div');\n",
              "          docLink.innerHTML = docLinkHtml;\n",
              "          element.appendChild(docLink);\n",
              "        }\n",
              "      </script>\n",
              "    </div>\n",
              "  </div>\n",
              "  "
            ]
          },
          "metadata": {},
          "execution_count": 8
        }
      ]
    },
    {
      "cell_type": "code",
      "source": [
        "# users['random_feat'] = np.random.choice(2, size = users.shape[0])"
      ],
      "metadata": {
        "id": "Bj_OCKjz1vrv"
      },
      "execution_count": null,
      "outputs": []
    },
    {
      "cell_type": "code",
      "source": [
        "node_features = df[[\"comment_karma\", \"link_karma\"]]\n",
        "num_classes = 2"
      ],
      "metadata": {
        "id": "E2osbsAd15eU"
      },
      "execution_count": null,
      "outputs": []
    },
    {
      "cell_type": "code",
      "source": [
        "node_features"
      ],
      "metadata": {
        "colab": {
          "base_uri": "https://localhost:8080/",
          "height": 423
        },
        "id": "tVsLBxNq2ctP",
        "outputId": "e9062888-a753-40bf-da20-89c717bab619"
      },
      "execution_count": null,
      "outputs": [
        {
          "output_type": "execute_result",
          "data": {
            "text/plain": [
              "                      comment_karma  link_karma\n",
              "that_90s_guy                31343.0     20684.0\n",
              "AutoModerator                1000.0      1000.0\n",
              "scumbagdetector15           18369.0         1.0\n",
              "csch2                        1981.0      2622.0\n",
              "PlayerofVideoGames          18476.0       473.0\n",
              "...                             ...         ...\n",
              "Lanky_Information825          326.0         3.0\n",
              "xebeka6808                   4631.0       765.0\n",
              "HumanJenoM                   8117.0       505.0\n",
              "mvandemar                    4467.0      2391.0\n",
              "flossraptor                 11986.0      1899.0\n",
              "\n",
              "[613 rows x 2 columns]"
            ],
            "text/html": [
              "\n",
              "  <div id=\"df-c9990f86-7160-4e65-91fb-cd4f20a60bae\">\n",
              "    <div class=\"colab-df-container\">\n",
              "      <div>\n",
              "<style scoped>\n",
              "    .dataframe tbody tr th:only-of-type {\n",
              "        vertical-align: middle;\n",
              "    }\n",
              "\n",
              "    .dataframe tbody tr th {\n",
              "        vertical-align: top;\n",
              "    }\n",
              "\n",
              "    .dataframe thead th {\n",
              "        text-align: right;\n",
              "    }\n",
              "</style>\n",
              "<table border=\"1\" class=\"dataframe\">\n",
              "  <thead>\n",
              "    <tr style=\"text-align: right;\">\n",
              "      <th></th>\n",
              "      <th>comment_karma</th>\n",
              "      <th>link_karma</th>\n",
              "    </tr>\n",
              "  </thead>\n",
              "  <tbody>\n",
              "    <tr>\n",
              "      <th>that_90s_guy</th>\n",
              "      <td>31343.0</td>\n",
              "      <td>20684.0</td>\n",
              "    </tr>\n",
              "    <tr>\n",
              "      <th>AutoModerator</th>\n",
              "      <td>1000.0</td>\n",
              "      <td>1000.0</td>\n",
              "    </tr>\n",
              "    <tr>\n",
              "      <th>scumbagdetector15</th>\n",
              "      <td>18369.0</td>\n",
              "      <td>1.0</td>\n",
              "    </tr>\n",
              "    <tr>\n",
              "      <th>csch2</th>\n",
              "      <td>1981.0</td>\n",
              "      <td>2622.0</td>\n",
              "    </tr>\n",
              "    <tr>\n",
              "      <th>PlayerofVideoGames</th>\n",
              "      <td>18476.0</td>\n",
              "      <td>473.0</td>\n",
              "    </tr>\n",
              "    <tr>\n",
              "      <th>...</th>\n",
              "      <td>...</td>\n",
              "      <td>...</td>\n",
              "    </tr>\n",
              "    <tr>\n",
              "      <th>Lanky_Information825</th>\n",
              "      <td>326.0</td>\n",
              "      <td>3.0</td>\n",
              "    </tr>\n",
              "    <tr>\n",
              "      <th>xebeka6808</th>\n",
              "      <td>4631.0</td>\n",
              "      <td>765.0</td>\n",
              "    </tr>\n",
              "    <tr>\n",
              "      <th>HumanJenoM</th>\n",
              "      <td>8117.0</td>\n",
              "      <td>505.0</td>\n",
              "    </tr>\n",
              "    <tr>\n",
              "      <th>mvandemar</th>\n",
              "      <td>4467.0</td>\n",
              "      <td>2391.0</td>\n",
              "    </tr>\n",
              "    <tr>\n",
              "      <th>flossraptor</th>\n",
              "      <td>11986.0</td>\n",
              "      <td>1899.0</td>\n",
              "    </tr>\n",
              "  </tbody>\n",
              "</table>\n",
              "<p>613 rows × 2 columns</p>\n",
              "</div>\n",
              "      <button class=\"colab-df-convert\" onclick=\"convertToInteractive('df-c9990f86-7160-4e65-91fb-cd4f20a60bae')\"\n",
              "              title=\"Convert this dataframe to an interactive table.\"\n",
              "              style=\"display:none;\">\n",
              "        \n",
              "  <svg xmlns=\"http://www.w3.org/2000/svg\" height=\"24px\"viewBox=\"0 0 24 24\"\n",
              "       width=\"24px\">\n",
              "    <path d=\"M0 0h24v24H0V0z\" fill=\"none\"/>\n",
              "    <path d=\"M18.56 5.44l.94 2.06.94-2.06 2.06-.94-2.06-.94-.94-2.06-.94 2.06-2.06.94zm-11 1L8.5 8.5l.94-2.06 2.06-.94-2.06-.94L8.5 2.5l-.94 2.06-2.06.94zm10 10l.94 2.06.94-2.06 2.06-.94-2.06-.94-.94-2.06-.94 2.06-2.06.94z\"/><path d=\"M17.41 7.96l-1.37-1.37c-.4-.4-.92-.59-1.43-.59-.52 0-1.04.2-1.43.59L10.3 9.45l-7.72 7.72c-.78.78-.78 2.05 0 2.83L4 21.41c.39.39.9.59 1.41.59.51 0 1.02-.2 1.41-.59l7.78-7.78 2.81-2.81c.8-.78.8-2.07 0-2.86zM5.41 20L4 18.59l7.72-7.72 1.47 1.35L5.41 20z\"/>\n",
              "  </svg>\n",
              "      </button>\n",
              "      \n",
              "  <style>\n",
              "    .colab-df-container {\n",
              "      display:flex;\n",
              "      flex-wrap:wrap;\n",
              "      gap: 12px;\n",
              "    }\n",
              "\n",
              "    .colab-df-convert {\n",
              "      background-color: #E8F0FE;\n",
              "      border: none;\n",
              "      border-radius: 50%;\n",
              "      cursor: pointer;\n",
              "      display: none;\n",
              "      fill: #1967D2;\n",
              "      height: 32px;\n",
              "      padding: 0 0 0 0;\n",
              "      width: 32px;\n",
              "    }\n",
              "\n",
              "    .colab-df-convert:hover {\n",
              "      background-color: #E2EBFA;\n",
              "      box-shadow: 0px 1px 2px rgba(60, 64, 67, 0.3), 0px 1px 3px 1px rgba(60, 64, 67, 0.15);\n",
              "      fill: #174EA6;\n",
              "    }\n",
              "\n",
              "    [theme=dark] .colab-df-convert {\n",
              "      background-color: #3B4455;\n",
              "      fill: #D2E3FC;\n",
              "    }\n",
              "\n",
              "    [theme=dark] .colab-df-convert:hover {\n",
              "      background-color: #434B5C;\n",
              "      box-shadow: 0px 1px 3px 1px rgba(0, 0, 0, 0.15);\n",
              "      filter: drop-shadow(0px 1px 2px rgba(0, 0, 0, 0.3));\n",
              "      fill: #FFFFFF;\n",
              "    }\n",
              "  </style>\n",
              "\n",
              "      <script>\n",
              "        const buttonEl =\n",
              "          document.querySelector('#df-c9990f86-7160-4e65-91fb-cd4f20a60bae button.colab-df-convert');\n",
              "        buttonEl.style.display =\n",
              "          google.colab.kernel.accessAllowed ? 'block' : 'none';\n",
              "\n",
              "        async function convertToInteractive(key) {\n",
              "          const element = document.querySelector('#df-c9990f86-7160-4e65-91fb-cd4f20a60bae');\n",
              "          const dataTable =\n",
              "            await google.colab.kernel.invokeFunction('convertToInteractive',\n",
              "                                                     [key], {});\n",
              "          if (!dataTable) return;\n",
              "\n",
              "          const docLinkHtml = 'Like what you see? Visit the ' +\n",
              "            '<a target=\"_blank\" href=https://colab.research.google.com/notebooks/data_table.ipynb>data table notebook</a>'\n",
              "            + ' to learn more about interactive tables.';\n",
              "          element.innerHTML = '';\n",
              "          dataTable['output_type'] = 'display_data';\n",
              "          await google.colab.output.renderOutput(dataTable, element);\n",
              "          const docLink = document.createElement('div');\n",
              "          docLink.innerHTML = docLinkHtml;\n",
              "          element.appendChild(docLink);\n",
              "        }\n",
              "      </script>\n",
              "    </div>\n",
              "  </div>\n",
              "  "
            ]
          },
          "metadata": {},
          "execution_count": 11
        }
      ]
    },
    {
      "cell_type": "code",
      "source": [
        "# Convert to numpy\n",
        "x = torch.tensor(node_features.values)\n",
        "x.shape # [num_nodes x num_features]"
      ],
      "metadata": {
        "colab": {
          "base_uri": "https://localhost:8080/"
        },
        "id": "ggt7sB-Z1HPq",
        "outputId": "ae8b5656-7075-47d3-b944-6605cc34a8a0"
      },
      "execution_count": null,
      "outputs": [
        {
          "output_type": "execute_result",
          "data": {
            "text/plain": [
              "torch.Size([613, 2])"
            ]
          },
          "metadata": {},
          "execution_count": 12
        }
      ]
    },
    {
      "cell_type": "code",
      "source": [
        "df"
      ],
      "metadata": {
        "colab": {
          "base_uri": "https://localhost:8080/",
          "height": 423
        },
        "id": "7Hvy05XYQ6wv",
        "outputId": "98770bee-9d10-45dd-b407-677ed74a2574"
      },
      "execution_count": null,
      "outputs": [
        {
          "output_type": "execute_result",
          "data": {
            "text/plain": [
              "                      comment_karma  link_karma  avg_upvotes\n",
              "that_90s_guy                31343.0     20684.0  1503.390000\n",
              "AutoModerator                1000.0      1000.0     1.004695\n",
              "scumbagdetector15           18369.0         1.0   170.600000\n",
              "csch2                        1981.0      2622.0   136.000000\n",
              "PlayerofVideoGames          18476.0       473.0    57.000000\n",
              "...                             ...         ...          ...\n",
              "Lanky_Information825          326.0         3.0     5.000000\n",
              "xebeka6808                   4631.0       765.0     5.000000\n",
              "HumanJenoM                   8117.0       505.0     3.000000\n",
              "mvandemar                    4467.0      2391.0     2.000000\n",
              "flossraptor                 11986.0      1899.0     1.000000\n",
              "\n",
              "[613 rows x 3 columns]"
            ],
            "text/html": [
              "\n",
              "  <div id=\"df-79df237c-9cb7-45f2-a648-40db420d2400\">\n",
              "    <div class=\"colab-df-container\">\n",
              "      <div>\n",
              "<style scoped>\n",
              "    .dataframe tbody tr th:only-of-type {\n",
              "        vertical-align: middle;\n",
              "    }\n",
              "\n",
              "    .dataframe tbody tr th {\n",
              "        vertical-align: top;\n",
              "    }\n",
              "\n",
              "    .dataframe thead th {\n",
              "        text-align: right;\n",
              "    }\n",
              "</style>\n",
              "<table border=\"1\" class=\"dataframe\">\n",
              "  <thead>\n",
              "    <tr style=\"text-align: right;\">\n",
              "      <th></th>\n",
              "      <th>comment_karma</th>\n",
              "      <th>link_karma</th>\n",
              "      <th>avg_upvotes</th>\n",
              "    </tr>\n",
              "  </thead>\n",
              "  <tbody>\n",
              "    <tr>\n",
              "      <th>that_90s_guy</th>\n",
              "      <td>31343.0</td>\n",
              "      <td>20684.0</td>\n",
              "      <td>1503.390000</td>\n",
              "    </tr>\n",
              "    <tr>\n",
              "      <th>AutoModerator</th>\n",
              "      <td>1000.0</td>\n",
              "      <td>1000.0</td>\n",
              "      <td>1.004695</td>\n",
              "    </tr>\n",
              "    <tr>\n",
              "      <th>scumbagdetector15</th>\n",
              "      <td>18369.0</td>\n",
              "      <td>1.0</td>\n",
              "      <td>170.600000</td>\n",
              "    </tr>\n",
              "    <tr>\n",
              "      <th>csch2</th>\n",
              "      <td>1981.0</td>\n",
              "      <td>2622.0</td>\n",
              "      <td>136.000000</td>\n",
              "    </tr>\n",
              "    <tr>\n",
              "      <th>PlayerofVideoGames</th>\n",
              "      <td>18476.0</td>\n",
              "      <td>473.0</td>\n",
              "      <td>57.000000</td>\n",
              "    </tr>\n",
              "    <tr>\n",
              "      <th>...</th>\n",
              "      <td>...</td>\n",
              "      <td>...</td>\n",
              "      <td>...</td>\n",
              "    </tr>\n",
              "    <tr>\n",
              "      <th>Lanky_Information825</th>\n",
              "      <td>326.0</td>\n",
              "      <td>3.0</td>\n",
              "      <td>5.000000</td>\n",
              "    </tr>\n",
              "    <tr>\n",
              "      <th>xebeka6808</th>\n",
              "      <td>4631.0</td>\n",
              "      <td>765.0</td>\n",
              "      <td>5.000000</td>\n",
              "    </tr>\n",
              "    <tr>\n",
              "      <th>HumanJenoM</th>\n",
              "      <td>8117.0</td>\n",
              "      <td>505.0</td>\n",
              "      <td>3.000000</td>\n",
              "    </tr>\n",
              "    <tr>\n",
              "      <th>mvandemar</th>\n",
              "      <td>4467.0</td>\n",
              "      <td>2391.0</td>\n",
              "      <td>2.000000</td>\n",
              "    </tr>\n",
              "    <tr>\n",
              "      <th>flossraptor</th>\n",
              "      <td>11986.0</td>\n",
              "      <td>1899.0</td>\n",
              "      <td>1.000000</td>\n",
              "    </tr>\n",
              "  </tbody>\n",
              "</table>\n",
              "<p>613 rows × 3 columns</p>\n",
              "</div>\n",
              "      <button class=\"colab-df-convert\" onclick=\"convertToInteractive('df-79df237c-9cb7-45f2-a648-40db420d2400')\"\n",
              "              title=\"Convert this dataframe to an interactive table.\"\n",
              "              style=\"display:none;\">\n",
              "        \n",
              "  <svg xmlns=\"http://www.w3.org/2000/svg\" height=\"24px\"viewBox=\"0 0 24 24\"\n",
              "       width=\"24px\">\n",
              "    <path d=\"M0 0h24v24H0V0z\" fill=\"none\"/>\n",
              "    <path d=\"M18.56 5.44l.94 2.06.94-2.06 2.06-.94-2.06-.94-.94-2.06-.94 2.06-2.06.94zm-11 1L8.5 8.5l.94-2.06 2.06-.94-2.06-.94L8.5 2.5l-.94 2.06-2.06.94zm10 10l.94 2.06.94-2.06 2.06-.94-2.06-.94-.94-2.06-.94 2.06-2.06.94z\"/><path d=\"M17.41 7.96l-1.37-1.37c-.4-.4-.92-.59-1.43-.59-.52 0-1.04.2-1.43.59L10.3 9.45l-7.72 7.72c-.78.78-.78 2.05 0 2.83L4 21.41c.39.39.9.59 1.41.59.51 0 1.02-.2 1.41-.59l7.78-7.78 2.81-2.81c.8-.78.8-2.07 0-2.86zM5.41 20L4 18.59l7.72-7.72 1.47 1.35L5.41 20z\"/>\n",
              "  </svg>\n",
              "      </button>\n",
              "      \n",
              "  <style>\n",
              "    .colab-df-container {\n",
              "      display:flex;\n",
              "      flex-wrap:wrap;\n",
              "      gap: 12px;\n",
              "    }\n",
              "\n",
              "    .colab-df-convert {\n",
              "      background-color: #E8F0FE;\n",
              "      border: none;\n",
              "      border-radius: 50%;\n",
              "      cursor: pointer;\n",
              "      display: none;\n",
              "      fill: #1967D2;\n",
              "      height: 32px;\n",
              "      padding: 0 0 0 0;\n",
              "      width: 32px;\n",
              "    }\n",
              "\n",
              "    .colab-df-convert:hover {\n",
              "      background-color: #E2EBFA;\n",
              "      box-shadow: 0px 1px 2px rgba(60, 64, 67, 0.3), 0px 1px 3px 1px rgba(60, 64, 67, 0.15);\n",
              "      fill: #174EA6;\n",
              "    }\n",
              "\n",
              "    [theme=dark] .colab-df-convert {\n",
              "      background-color: #3B4455;\n",
              "      fill: #D2E3FC;\n",
              "    }\n",
              "\n",
              "    [theme=dark] .colab-df-convert:hover {\n",
              "      background-color: #434B5C;\n",
              "      box-shadow: 0px 1px 3px 1px rgba(0, 0, 0, 0.15);\n",
              "      filter: drop-shadow(0px 1px 2px rgba(0, 0, 0, 0.3));\n",
              "      fill: #FFFFFF;\n",
              "    }\n",
              "  </style>\n",
              "\n",
              "      <script>\n",
              "        const buttonEl =\n",
              "          document.querySelector('#df-79df237c-9cb7-45f2-a648-40db420d2400 button.colab-df-convert');\n",
              "        buttonEl.style.display =\n",
              "          google.colab.kernel.accessAllowed ? 'block' : 'none';\n",
              "\n",
              "        async function convertToInteractive(key) {\n",
              "          const element = document.querySelector('#df-79df237c-9cb7-45f2-a648-40db420d2400');\n",
              "          const dataTable =\n",
              "            await google.colab.kernel.invokeFunction('convertToInteractive',\n",
              "                                                     [key], {});\n",
              "          if (!dataTable) return;\n",
              "\n",
              "          const docLinkHtml = 'Like what you see? Visit the ' +\n",
              "            '<a target=\"_blank\" href=https://colab.research.google.com/notebooks/data_table.ipynb>data table notebook</a>'\n",
              "            + ' to learn more about interactive tables.';\n",
              "          element.innerHTML = '';\n",
              "          dataTable['output_type'] = 'display_data';\n",
              "          await google.colab.output.renderOutput(dataTable, element);\n",
              "          const docLink = document.createElement('div');\n",
              "          docLink.innerHTML = docLinkHtml;\n",
              "          element.appendChild(docLink);\n",
              "        }\n",
              "      </script>\n",
              "    </div>\n",
              "  </div>\n",
              "  "
            ]
          },
          "metadata": {},
          "execution_count": 47
        }
      ]
    },
    {
      "cell_type": "code",
      "source": [
        "# users['labels'] = np.random.choice(2, size = users.shape[0])"
      ],
      "metadata": {
        "id": "YEr2mGAc20Rf"
      },
      "execution_count": null,
      "outputs": []
    },
    {
      "cell_type": "code",
      "source": [
        "median_upvotes = np.median(df.avg_upvotes)"
      ],
      "metadata": {
        "id": "3Ud1aopvAhO9"
      },
      "execution_count": null,
      "outputs": []
    },
    {
      "cell_type": "code",
      "source": [
        "median_upvotes"
      ],
      "metadata": {
        "colab": {
          "base_uri": "https://localhost:8080/"
        },
        "id": "oxYjv-LgRlcJ",
        "outputId": "39270df3-bc77-4dc4-e20d-66ba7f170022"
      },
      "execution_count": null,
      "outputs": [
        {
          "output_type": "execute_result",
          "data": {
            "text/plain": [
              "3.0"
            ]
          },
          "metadata": {},
          "execution_count": 49
        }
      ]
    },
    {
      "cell_type": "code",
      "source": [
        "# import seaborn as sns \n",
        "# sns.histplot(df.avg_upvotes);"
      ],
      "metadata": {
        "colab": {
          "base_uri": "https://localhost:8080/",
          "height": 449
        },
        "id": "41gd6V3pAIo9",
        "outputId": "873370c6-3ebf-4c0c-be9b-d850a42dbc8b"
      },
      "execution_count": null,
      "outputs": [
        {
          "output_type": "display_data",
          "data": {
            "text/plain": [
              "<Figure size 640x480 with 1 Axes>"
            ],
            "image/png": "[encoded data removed]"
          },
          "metadata": {}
        }
      ]
    },
    {
      "cell_type": "code",
      "source": [
        "labels = [1 if upvotes >= median_upvotes else 0 for upvotes in df['avg_upvotes']]"
      ],
      "metadata": {
        "id": "v5-PaRw2BKw7"
      },
      "execution_count": null,
      "outputs": []
    },
    {
      "cell_type": "code",
      "source": [
        "collections.Counter(labels)"
      ],
      "metadata": {
        "colab": {
          "base_uri": "https://localhost:8080/"
        },
        "id": "T58Eg8KzBToF",
        "outputId": "6ca43344-2488-4fa5-e7f9-41209b109e64"
      },
      "execution_count": null,
      "outputs": [
        {
          "output_type": "execute_result",
          "data": {
            "text/plain": [
              "Counter({1: 334, 0: 279})"
            ]
          },
          "metadata": {},
          "execution_count": 17
        }
      ]
    },
    {
      "cell_type": "code",
      "source": [
        "y = torch.tensor(labels, dtype=torch.long)\n",
        "y.shape"
      ],
      "metadata": {
        "colab": {
          "base_uri": "https://localhost:8080/"
        },
        "id": "TLqnXip-3Q4j",
        "outputId": "e14bc4fe-6d5f-4fcd-bf39-1b954baf61f4"
      },
      "execution_count": null,
      "outputs": [
        {
          "output_type": "execute_result",
          "data": {
            "text/plain": [
              "torch.Size([613])"
            ]
          },
          "metadata": {},
          "execution_count": 18
        }
      ]
    },
    {
      "cell_type": "code",
      "source": [
        "edges[['source', 'dest']] = edges[0].str.split(\"###\", expand = True)"
      ],
      "metadata": {
        "id": "MStSmErV3-5F"
      },
      "execution_count": null,
      "outputs": []
    },
    {
      "cell_type": "code",
      "source": [
        "edges"
      ],
      "metadata": {
        "colab": {
          "base_uri": "https://localhost:8080/",
          "height": 423
        },
        "id": "sooufPMBCdVi",
        "outputId": "a2c998f3-bf66-497f-df0b-0a4177ff7107"
      },
      "execution_count": null,
      "outputs": [
        {
          "output_type": "execute_result",
          "data": {
            "text/plain": [
              "                                              0               source  \\\n",
              "0                  AutoModerator###that_90s_guy        AutoModerator   \n",
              "1              scumbagdetector15###that_90s_guy    scumbagdetector15   \n",
              "2                     csch2###scumbagdetector15                csch2   \n",
              "3                     scumbagdetector15###csch2    scumbagdetector15   \n",
              "4        PlayerofVideoGames###scumbagdetector15   PlayerofVideoGames   \n",
              "...                                         ...                  ...   \n",
              "1669          flossraptor###Alternative_Ad_9702          flossraptor   \n",
              "1670             Timofey_###Alternative_Ad_9702             Timofey_   \n",
              "1671  Alternative_Ad_9702###Alternative_Ad_9702  Alternative_Ad_9702   \n",
              "1672           xebeka6808###Alternative_Ad_9702           xebeka6808   \n",
              "1673           xebeka6808###Alternative_Ad_9702           xebeka6808   \n",
              "\n",
              "                     dest  \n",
              "0            that_90s_guy  \n",
              "1            that_90s_guy  \n",
              "2       scumbagdetector15  \n",
              "3                   csch2  \n",
              "4       scumbagdetector15  \n",
              "...                   ...  \n",
              "1669  Alternative_Ad_9702  \n",
              "1670  Alternative_Ad_9702  \n",
              "1671  Alternative_Ad_9702  \n",
              "1672  Alternative_Ad_9702  \n",
              "1673  Alternative_Ad_9702  \n",
              "\n",
              "[1674 rows x 3 columns]"
            ],
            "text/html": [
              "\n",
              "  <div id=\"df-10dbe8d9-d5d0-462e-9985-32eb56cf2210\">\n",
              "    <div class=\"colab-df-container\">\n",
              "      <div>\n",
              "<style scoped>\n",
              "    .dataframe tbody tr th:only-of-type {\n",
              "        vertical-align: middle;\n",
              "    }\n",
              "\n",
              "    .dataframe tbody tr th {\n",
              "        vertical-align: top;\n",
              "    }\n",
              "\n",
              "    .dataframe thead th {\n",
              "        text-align: right;\n",
              "    }\n",
              "</style>\n",
              "<table border=\"1\" class=\"dataframe\">\n",
              "  <thead>\n",
              "    <tr style=\"text-align: right;\">\n",
              "      <th></th>\n",
              "      <th>0</th>\n",
              "      <th>source</th>\n",
              "      <th>dest</th>\n",
              "    </tr>\n",
              "  </thead>\n",
              "  <tbody>\n",
              "    <tr>\n",
              "      <th>0</th>\n",
              "      <td>AutoModerator###that_90s_guy</td>\n",
              "      <td>AutoModerator</td>\n",
              "      <td>that_90s_guy</td>\n",
              "    </tr>\n",
              "    <tr>\n",
              "      <th>1</th>\n",
              "      <td>scumbagdetector15###that_90s_guy</td>\n",
              "      <td>scumbagdetector15</td>\n",
              "      <td>that_90s_guy</td>\n",
              "    </tr>\n",
              "    <tr>\n",
              "      <th>2</th>\n",
              "      <td>csch2###scumbagdetector15</td>\n",
              "      <td>csch2</td>\n",
              "      <td>scumbagdetector15</td>\n",
              "    </tr>\n",
              "    <tr>\n",
              "      <th>3</th>\n",
              "      <td>scumbagdetector15###csch2</td>\n",
              "      <td>scumbagdetector15</td>\n",
              "      <td>csch2</td>\n",
              "    </tr>\n",
              "    <tr>\n",
              "      <th>4</th>\n",
              "      <td>PlayerofVideoGames###scumbagdetector15</td>\n",
              "      <td>PlayerofVideoGames</td>\n",
              "      <td>scumbagdetector15</td>\n",
              "    </tr>\n",
              "    <tr>\n",
              "      <th>...</th>\n",
              "      <td>...</td>\n",
              "      <td>...</td>\n",
              "      <td>...</td>\n",
              "    </tr>\n",
              "    <tr>\n",
              "      <th>1669</th>\n",
              "      <td>flossraptor###Alternative_Ad_9702</td>\n",
              "      <td>flossraptor</td>\n",
              "      <td>Alternative_Ad_9702</td>\n",
              "    </tr>\n",
              "    <tr>\n",
              "      <th>1670</th>\n",
              "      <td>Timofey_###Alternative_Ad_9702</td>\n",
              "      <td>Timofey_</td>\n",
              "      <td>Alternative_Ad_9702</td>\n",
              "    </tr>\n",
              "    <tr>\n",
              "      <th>1671</th>\n",
              "      <td>Alternative_Ad_9702###Alternative_Ad_9702</td>\n",
              "      <td>Alternative_Ad_9702</td>\n",
              "      <td>Alternative_Ad_9702</td>\n",
              "    </tr>\n",
              "    <tr>\n",
              "      <th>1672</th>\n",
              "      <td>xebeka6808###Alternative_Ad_9702</td>\n",
              "      <td>xebeka6808</td>\n",
              "      <td>Alternative_Ad_9702</td>\n",
              "    </tr>\n",
              "    <tr>\n",
              "      <th>1673</th>\n",
              "      <td>xebeka6808###Alternative_Ad_9702</td>\n",
              "      <td>xebeka6808</td>\n",
              "      <td>Alternative_Ad_9702</td>\n",
              "    </tr>\n",
              "  </tbody>\n",
              "</table>\n",
              "<p>1674 rows × 3 columns</p>\n",
              "</div>\n",
              "      <button class=\"colab-df-convert\" onclick=\"convertToInteractive('df-10dbe8d9-d5d0-462e-9985-32eb56cf2210')\"\n",
              "              title=\"Convert this dataframe to an interactive table.\"\n",
              "              style=\"display:none;\">\n",
              "        \n",
              "  <svg xmlns=\"http://www.w3.org/2000/svg\" height=\"24px\"viewBox=\"0 0 24 24\"\n",
              "       width=\"24px\">\n",
              "    <path d=\"M0 0h24v24H0V0z\" fill=\"none\"/>\n",
              "    <path d=\"M18.56 5.44l.94 2.06.94-2.06 2.06-.94-2.06-.94-.94-2.06-.94 2.06-2.06.94zm-11 1L8.5 8.5l.94-2.06 2.06-.94-2.06-.94L8.5 2.5l-.94 2.06-2.06.94zm10 10l.94 2.06.94-2.06 2.06-.94-2.06-.94-.94-2.06-.94 2.06-2.06.94z\"/><path d=\"M17.41 7.96l-1.37-1.37c-.4-.4-.92-.59-1.43-.59-.52 0-1.04.2-1.43.59L10.3 9.45l-7.72 7.72c-.78.78-.78 2.05 0 2.83L4 21.41c.39.39.9.59 1.41.59.51 0 1.02-.2 1.41-.59l7.78-7.78 2.81-2.81c.8-.78.8-2.07 0-2.86zM5.41 20L4 18.59l7.72-7.72 1.47 1.35L5.41 20z\"/>\n",
              "  </svg>\n",
              "      </button>\n",
              "      \n",
              "  <style>\n",
              "    .colab-df-container {\n",
              "      display:flex;\n",
              "      flex-wrap:wrap;\n",
              "      gap: 12px;\n",
              "    }\n",
              "\n",
              "    .colab-df-convert {\n",
              "      background-color: #E8F0FE;\n",
              "      border: none;\n",
              "      border-radius: 50%;\n",
              "      cursor: pointer;\n",
              "      display: none;\n",
              "      fill: #1967D2;\n",
              "      height: 32px;\n",
              "      padding: 0 0 0 0;\n",
              "      width: 32px;\n",
              "    }\n",
              "\n",
              "    .colab-df-convert:hover {\n",
              "      background-color: #E2EBFA;\n",
              "      box-shadow: 0px 1px 2px rgba(60, 64, 67, 0.3), 0px 1px 3px 1px rgba(60, 64, 67, 0.15);\n",
              "      fill: #174EA6;\n",
              "    }\n",
              "\n",
              "    [theme=dark] .colab-df-convert {\n",
              "      background-color: #3B4455;\n",
              "      fill: #D2E3FC;\n",
              "    }\n",
              "\n",
              "    [theme=dark] .colab-df-convert:hover {\n",
              "      background-color: #434B5C;\n",
              "      box-shadow: 0px 1px 3px 1px rgba(0, 0, 0, 0.15);\n",
              "      filter: drop-shadow(0px 1px 2px rgba(0, 0, 0, 0.3));\n",
              "      fill: #FFFFFF;\n",
              "    }\n",
              "  </style>\n",
              "\n",
              "      <script>\n",
              "        const buttonEl =\n",
              "          document.querySelector('#df-10dbe8d9-d5d0-462e-9985-32eb56cf2210 button.colab-df-convert');\n",
              "        buttonEl.style.display =\n",
              "          google.colab.kernel.accessAllowed ? 'block' : 'none';\n",
              "\n",
              "        async function convertToInteractive(key) {\n",
              "          const element = document.querySelector('#df-10dbe8d9-d5d0-462e-9985-32eb56cf2210');\n",
              "          const dataTable =\n",
              "            await google.colab.kernel.invokeFunction('convertToInteractive',\n",
              "                                                     [key], {});\n",
              "          if (!dataTable) return;\n",
              "\n",
              "          const docLinkHtml = 'Like what you see? Visit the ' +\n",
              "            '<a target=\"_blank\" href=https://colab.research.google.com/notebooks/data_table.ipynb>data table notebook</a>'\n",
              "            + ' to learn more about interactive tables.';\n",
              "          element.innerHTML = '';\n",
              "          dataTable['output_type'] = 'display_data';\n",
              "          await google.colab.output.renderOutput(dataTable, element);\n",
              "          const docLink = document.createElement('div');\n",
              "          docLink.innerHTML = docLinkHtml;\n",
              "          element.appendChild(docLink);\n",
              "        }\n",
              "      </script>\n",
              "    </div>\n",
              "  </div>\n",
              "  "
            ]
          },
          "metadata": {},
          "execution_count": 20
        }
      ]
    },
    {
      "cell_type": "code",
      "source": [
        "edges = edges[['source', 'dest']]"
      ],
      "metadata": {
        "id": "bUlatPzDBTJl"
      },
      "execution_count": null,
      "outputs": []
    },
    {
      "cell_type": "code",
      "source": [
        "edges['source']"
      ],
      "metadata": {
        "colab": {
          "base_uri": "https://localhost:8080/"
        },
        "id": "IXiyyeOaILcL",
        "outputId": "16c5e245-b168-4913-82b4-db1bfb45c226"
      },
      "execution_count": null,
      "outputs": [
        {
          "output_type": "execute_result",
          "data": {
            "text/plain": [
              "0             AutoModerator\n",
              "1         scumbagdetector15\n",
              "2                     csch2\n",
              "3         scumbagdetector15\n",
              "4        PlayerofVideoGames\n",
              "               ...         \n",
              "1669            flossraptor\n",
              "1670               Timofey_\n",
              "1671    Alternative_Ad_9702\n",
              "1672             xebeka6808\n",
              "1673             xebeka6808\n",
              "Name: source, Length: 1674, dtype: object"
            ]
          },
          "metadata": {},
          "execution_count": 22
        }
      ]
    },
    {
      "cell_type": "code",
      "source": [
        "# Perform merge to obtain the edges from users and movies:\n",
        "edges_source_id = pd.merge(edges['source'], users,\n",
        "                            left_on='source', right_on='username', how='left')"
      ],
      "metadata": {
        "id": "cNWzQogFJNl9"
      },
      "execution_count": null,
      "outputs": []
    },
    {
      "cell_type": "code",
      "source": [
        "users"
      ],
      "metadata": {
        "colab": {
          "base_uri": "https://localhost:8080/",
          "height": 423
        },
        "id": "OM5yA3ZJDB3H",
        "outputId": "336362d6-b245-4c4f-fbd6-5779c7b31086"
      },
      "execution_count": null,
      "outputs": [
        {
          "output_type": "execute_result",
          "data": {
            "text/plain": [
              "     userid              username\n",
              "0         0          that_90s_guy\n",
              "1         1         AutoModerator\n",
              "2         2     scumbagdetector15\n",
              "3         3                 csch2\n",
              "4         4    PlayerofVideoGames\n",
              "..      ...                   ...\n",
              "608     608  Lanky_Information825\n",
              "609     609            xebeka6808\n",
              "610     610            HumanJenoM\n",
              "611     611             mvandemar\n",
              "612     612           flossraptor\n",
              "\n",
              "[613 rows x 2 columns]"
            ],
            "text/html": [
              "\n",
              "  <div id=\"df-5a34e5ea-0a94-4c10-89d6-dd923effe13a\">\n",
              "    <div class=\"colab-df-container\">\n",
              "      <div>\n",
              "<style scoped>\n",
              "    .dataframe tbody tr th:only-of-type {\n",
              "        vertical-align: middle;\n",
              "    }\n",
              "\n",
              "    .dataframe tbody tr th {\n",
              "        vertical-align: top;\n",
              "    }\n",
              "\n",
              "    .dataframe thead th {\n",
              "        text-align: right;\n",
              "    }\n",
              "</style>\n",
              "<table border=\"1\" class=\"dataframe\">\n",
              "  <thead>\n",
              "    <tr style=\"text-align: right;\">\n",
              "      <th></th>\n",
              "      <th>userid</th>\n",
              "      <th>username</th>\n",
              "    </tr>\n",
              "  </thead>\n",
              "  <tbody>\n",
              "    <tr>\n",
              "      <th>0</th>\n",
              "      <td>0</td>\n",
              "      <td>that_90s_guy</td>\n",
              "    </tr>\n",
              "    <tr>\n",
              "      <th>1</th>\n",
              "      <td>1</td>\n",
              "      <td>AutoModerator</td>\n",
              "    </tr>\n",
              "    <tr>\n",
              "      <th>2</th>\n",
              "      <td>2</td>\n",
              "      <td>scumbagdetector15</td>\n",
              "    </tr>\n",
              "    <tr>\n",
              "      <th>3</th>\n",
              "      <td>3</td>\n",
              "      <td>csch2</td>\n",
              "    </tr>\n",
              "    <tr>\n",
              "      <th>4</th>\n",
              "      <td>4</td>\n",
              "      <td>PlayerofVideoGames</td>\n",
              "    </tr>\n",
              "    <tr>\n",
              "      <th>...</th>\n",
              "      <td>...</td>\n",
              "      <td>...</td>\n",
              "    </tr>\n",
              "    <tr>\n",
              "      <th>608</th>\n",
              "      <td>608</td>\n",
              "      <td>Lanky_Information825</td>\n",
              "    </tr>\n",
              "    <tr>\n",
              "      <th>609</th>\n",
              "      <td>609</td>\n",
              "      <td>xebeka6808</td>\n",
              "    </tr>\n",
              "    <tr>\n",
              "      <th>610</th>\n",
              "      <td>610</td>\n",
              "      <td>HumanJenoM</td>\n",
              "    </tr>\n",
              "    <tr>\n",
              "      <th>611</th>\n",
              "      <td>611</td>\n",
              "      <td>mvandemar</td>\n",
              "    </tr>\n",
              "    <tr>\n",
              "      <th>612</th>\n",
              "      <td>612</td>\n",
              "      <td>flossraptor</td>\n",
              "    </tr>\n",
              "  </tbody>\n",
              "</table>\n",
              "<p>613 rows × 2 columns</p>\n",
              "</div>\n",
              "      <button class=\"colab-df-convert\" onclick=\"convertToInteractive('df-5a34e5ea-0a94-4c10-89d6-dd923effe13a')\"\n",
              "              title=\"Convert this dataframe to an interactive table.\"\n",
              "              style=\"display:none;\">\n",
              "        \n",
              "  <svg xmlns=\"http://www.w3.org/2000/svg\" height=\"24px\"viewBox=\"0 0 24 24\"\n",
              "       width=\"24px\">\n",
              "    <path d=\"M0 0h24v24H0V0z\" fill=\"none\"/>\n",
              "    <path d=\"M18.56 5.44l.94 2.06.94-2.06 2.06-.94-2.06-.94-.94-2.06-.94 2.06-2.06.94zm-11 1L8.5 8.5l.94-2.06 2.06-.94-2.06-.94L8.5 2.5l-.94 2.06-2.06.94zm10 10l.94 2.06.94-2.06 2.06-.94-2.06-.94-.94-2.06-.94 2.06-2.06.94z\"/><path d=\"M17.41 7.96l-1.37-1.37c-.4-.4-.92-.59-1.43-.59-.52 0-1.04.2-1.43.59L10.3 9.45l-7.72 7.72c-.78.78-.78 2.05 0 2.83L4 21.41c.39.39.9.59 1.41.59.51 0 1.02-.2 1.41-.59l7.78-7.78 2.81-2.81c.8-.78.8-2.07 0-2.86zM5.41 20L4 18.59l7.72-7.72 1.47 1.35L5.41 20z\"/>\n",
              "  </svg>\n",
              "      </button>\n",
              "      \n",
              "  <style>\n",
              "    .colab-df-container {\n",
              "      display:flex;\n",
              "      flex-wrap:wrap;\n",
              "      gap: 12px;\n",
              "    }\n",
              "\n",
              "    .colab-df-convert {\n",
              "      background-color: #E8F0FE;\n",
              "      border: none;\n",
              "      border-radius: 50%;\n",
              "      cursor: pointer;\n",
              "      display: none;\n",
              "      fill: #1967D2;\n",
              "      height: 32px;\n",
              "      padding: 0 0 0 0;\n",
              "      width: 32px;\n",
              "    }\n",
              "\n",
              "    .colab-df-convert:hover {\n",
              "      background-color: #E2EBFA;\n",
              "      box-shadow: 0px 1px 2px rgba(60, 64, 67, 0.3), 0px 1px 3px 1px rgba(60, 64, 67, 0.15);\n",
              "      fill: #174EA6;\n",
              "    }\n",
              "\n",
              "    [theme=dark] .colab-df-convert {\n",
              "      background-color: #3B4455;\n",
              "      fill: #D2E3FC;\n",
              "    }\n",
              "\n",
              "    [theme=dark] .colab-df-convert:hover {\n",
              "      background-color: #434B5C;\n",
              "      box-shadow: 0px 1px 3px 1px rgba(0, 0, 0, 0.15);\n",
              "      filter: drop-shadow(0px 1px 2px rgba(0, 0, 0, 0.3));\n",
              "      fill: #FFFFFF;\n",
              "    }\n",
              "  </style>\n",
              "\n",
              "      <script>\n",
              "        const buttonEl =\n",
              "          document.querySelector('#df-5a34e5ea-0a94-4c10-89d6-dd923effe13a button.colab-df-convert');\n",
              "        buttonEl.style.display =\n",
              "          google.colab.kernel.accessAllowed ? 'block' : 'none';\n",
              "\n",
              "        async function convertToInteractive(key) {\n",
              "          const element = document.querySelector('#df-5a34e5ea-0a94-4c10-89d6-dd923effe13a');\n",
              "          const dataTable =\n",
              "            await google.colab.kernel.invokeFunction('convertToInteractive',\n",
              "                                                     [key], {});\n",
              "          if (!dataTable) return;\n",
              "\n",
              "          const docLinkHtml = 'Like what you see? Visit the ' +\n",
              "            '<a target=\"_blank\" href=https://colab.research.google.com/notebooks/data_table.ipynb>data table notebook</a>'\n",
              "            + ' to learn more about interactive tables.';\n",
              "          element.innerHTML = '';\n",
              "          dataTable['output_type'] = 'display_data';\n",
              "          await google.colab.output.renderOutput(dataTable, element);\n",
              "          const docLink = document.createElement('div');\n",
              "          docLink.innerHTML = docLinkHtml;\n",
              "          element.appendChild(docLink);\n",
              "        }\n",
              "      </script>\n",
              "    </div>\n",
              "  </div>\n",
              "  "
            ]
          },
          "metadata": {},
          "execution_count": 24
        }
      ]
    },
    {
      "cell_type": "code",
      "source": [
        "edges_source_id = torch.from_numpy(edges_source_id['userid'].values)"
      ],
      "metadata": {
        "id": "8-e3FHCPVdSH"
      },
      "execution_count": null,
      "outputs": []
    },
    {
      "cell_type": "code",
      "source": [
        "edges_source_id"
      ],
      "metadata": {
        "colab": {
          "base_uri": "https://localhost:8080/"
        },
        "id": "MbxLNpmYC8K8",
        "outputId": "93c8ae1d-df69-4c01-9f4f-6e6cb1473d31"
      },
      "execution_count": null,
      "outputs": [
        {
          "output_type": "execute_result",
          "data": {
            "text/plain": [
              "tensor([  1,   2,   3,  ..., 606, 609, 609])"
            ]
          },
          "metadata": {},
          "execution_count": 26
        }
      ]
    },
    {
      "cell_type": "code",
      "source": [
        "edges_dest_id = pd.merge(edges['dest'], users,\n",
        "                            left_on='dest', right_on='username', how='left')\n",
        "edges_dest_id = torch.from_numpy(edges_dest_id['userid'].values)\n"
      ],
      "metadata": {
        "id": "EbTUuIEPVeUr"
      },
      "execution_count": null,
      "outputs": []
    },
    {
      "cell_type": "code",
      "source": [
        "edges_dest_id"
      ],
      "metadata": {
        "colab": {
          "base_uri": "https://localhost:8080/"
        },
        "id": "bSRoUt4xWclB",
        "outputId": "f84ced1c-f1fb-408b-fed4-04e4e161fef9"
      },
      "execution_count": null,
      "outputs": [
        {
          "output_type": "execute_result",
          "data": {
            "text/plain": [
              "tensor([  0,   0,   2,  ..., 606, 606, 606])"
            ]
          },
          "metadata": {},
          "execution_count": 28
        }
      ]
    },
    {
      "cell_type": "code",
      "source": [
        "# # With this, we are ready to construct our `edge_index` in COO format\n",
        "# # following PyG semantics:\n",
        "edge_source_dest = torch.stack([edges_source_id, edges_dest_id], dim=0)\n",
        "# assert edge_index_user_to_movie.size() == (2, 100836)\n"
      ],
      "metadata": {
        "id": "57RT0-YfV4kh"
      },
      "execution_count": null,
      "outputs": []
    },
    {
      "cell_type": "code",
      "source": [
        "x = torch.tensor(x.float())\n",
        "y = torch.tensor(y).ravel()"
      ],
      "metadata": {
        "colab": {
          "base_uri": "https://localhost:8080/"
        },
        "id": "vt_Tp_Ybnv9S",
        "outputId": "5254b207-60be-471f-beb3-e4bee3b5fd62"
      },
      "execution_count": null,
      "outputs": [
        {
          "output_type": "stream",
          "name": "stderr",
          "text": [
            "<ipython-input-30-4bfdc6061317>:1: UserWarning: To copy construct from a tensor, it is recommended to use sourceTensor.clone().detach() or sourceTensor.clone().detach().requires_grad_(True), rather than torch.tensor(sourceTensor).\n",
            "  x = torch.tensor(x.float())\n",
            "<ipython-input-30-4bfdc6061317>:2: UserWarning: To copy construct from a tensor, it is recommended to use sourceTensor.clone().detach() or sourceTensor.clone().detach().requires_grad_(True), rather than torch.tensor(sourceTensor).\n",
            "  y = torch.tensor(y).ravel()\n"
          ]
        }
      ]
    },
    {
      "cell_type": "code",
      "source": [
        "y.shape"
      ],
      "metadata": {
        "colab": {
          "base_uri": "https://localhost:8080/"
        },
        "id": "_c4VebSyoyKG",
        "outputId": "99106b5d-5166-4f80-df07-4257ce271c8e"
      },
      "execution_count": null,
      "outputs": [
        {
          "output_type": "execute_result",
          "data": {
            "text/plain": [
              "torch.Size([613])"
            ]
          },
          "metadata": {},
          "execution_count": 31
        }
      ]
    },
    {
      "cell_type": "code",
      "source": [
        "data = Data(x= x , edge_index=edge_source_dest, y=y, num_classes = 2)"
      ],
      "metadata": {
        "id": "cy8nRz5EV3_0"
      },
      "execution_count": null,
      "outputs": []
    },
    {
      "cell_type": "code",
      "source": [
        "data"
      ],
      "metadata": {
        "id": "G_bDi9BiVpuJ",
        "colab": {
          "base_uri": "https://localhost:8080/"
        },
        "outputId": "60788716-e3a4-4469-bf14-b7db6bf43a7e"
      },
      "execution_count": null,
      "outputs": [
        {
          "output_type": "execute_result",
          "data": {
            "text/plain": [
              "Data(x=[613, 2], edge_index=[2, 1674], y=[613], num_classes=2)"
            ]
          },
          "metadata": {},
          "execution_count": 67
        }
      ]
    },
    {
      "cell_type": "code",
      "source": [
        "from torch_geometric.transforms import RandomNodeSplit as masking"
      ],
      "metadata": {
        "id": "Fx77wQwRhGs-"
      },
      "execution_count": null,
      "outputs": []
    },
    {
      "cell_type": "markdown",
      "source": [
        "Probably this is not the best way to split. Probably splitting using random links would be better"
      ],
      "metadata": {
        "id": "PPmfZul6iIMk"
      }
    },
    {
      "cell_type": "code",
      "source": [
        "msk=masking(split=\"train_rest\", num_splits = 1, num_val = 0.2, num_test= 0.2)\n",
        "data=msk(data)\n",
        "print(data)\n",
        "print()\n",
        "print(\"training samples\",torch.sum(data.train_mask).item())\n",
        "print(\"validation samples\",torch.sum(data.val_mask ).item())\n",
        "print(\"test samples\",torch.sum(data.test_mask ).item())\n",
        "\n",
        "# Hands-on Graph Neural Networks for Social Network Using PyTorch | by Awadelrahman M. A. Ahmed | Medium\n",
        "# https://awadrahman.medium.com/hands-on-graph-neural-networks-for-social-network-using-pytorch-30231c130b38\n"
      ],
      "metadata": {
        "colab": {
          "base_uri": "https://localhost:8080/"
        },
        "id": "0E-qaJalhiIT",
        "outputId": "988df88a-4c64-44dc-fd14-1001b06682f6"
      },
      "execution_count": null,
      "outputs": [
        {
          "output_type": "stream",
          "name": "stdout",
          "text": [
            "Data(x=[613, 2], edge_index=[2, 1674], y=[613], num_classes=2, train_mask=[613], val_mask=[613], test_mask=[613])\n",
            "\n",
            "training samples 367\n",
            "validation samples 123\n",
            "test samples 123\n"
          ]
        }
      ]
    },
    {
      "cell_type": "code",
      "source": [
        "num_of_feat=data.num_node_features"
      ],
      "metadata": {
        "id": "sQzgr1N_ipib"
      },
      "execution_count": null,
      "outputs": []
    },
    {
      "cell_type": "code",
      "source": [
        "num_of_feat"
      ],
      "metadata": {
        "colab": {
          "base_uri": "https://localhost:8080/"
        },
        "id": "eOP0CD-eirdH",
        "outputId": "75baa84a-0603-408c-bcb9-73f3b06a1b1e"
      },
      "execution_count": null,
      "outputs": [
        {
          "output_type": "execute_result",
          "data": {
            "text/plain": [
              "2"
            ]
          },
          "metadata": {},
          "execution_count": 71
        }
      ]
    },
    {
      "cell_type": "markdown",
      "source": [
        "## Node classification"
      ],
      "metadata": {
        "id": "-VS2igSRuw5q"
      }
    },
    {
      "cell_type": "code",
      "source": [
        "class SocialGNN(torch.nn.Module):\n",
        "    def __init__(self,num_of_feat,f):\n",
        "        super(SocialGNN, self).__init__()\n",
        "        self.conv1 = GCNConv(num_of_feat, f)\n",
        "        self.conv2 = GCNConv(f, 2)\n",
        "    def forward(self, data):\n",
        "        x = data.x.float()\n",
        "        edge_index =  data.edge_index\n",
        "        x = self.conv1(x=x, edge_index=edge_index)\n",
        "        x = F.relu(x)\n",
        "        x = self.conv2(x, edge_index)\n",
        "        return x"
      ],
      "metadata": {
        "id": "LFr6tw9UicjF"
      },
      "execution_count": null,
      "outputs": []
    },
    {
      "cell_type": "code",
      "source": [
        "def masked_loss(predictions,labels,mask):\n",
        "    mask=mask.float()\n",
        "    mask=mask/torch.mean(mask)\n",
        "    loss=criterion(predictions,labels)\n",
        "    loss=loss*mask\n",
        "    loss=torch.mean(loss)\n",
        "    return (loss)    \n",
        "def masked_accuracy(predictions,labels,mask):\n",
        "    mask=mask.float()\n",
        "    mask/=torch.mean(mask)\n",
        "    accuracy=(torch.argmax(predictions,axis=1)==labels).long()\n",
        "    accuracy=mask*accuracy\n",
        "    accuracy=torch.mean(accuracy)\n",
        "    return (accuracy)"
      ],
      "metadata": {
        "id": "7_s20ARylGSk"
      },
      "execution_count": null,
      "outputs": []
    },
    {
      "cell_type": "code",
      "source": [
        "def train_social(net,data,epochs=10,lr=0.01):\n",
        "    optimizer = torch.optim.Adam(net.parameters(), lr=lr) # 00001\n",
        "    best_accuracy=0.0\n",
        "    train_losses=[]\n",
        "    train_accuracies=[]\n",
        "    val_losses=[]\n",
        "    val_accuracies=[]\n",
        "    test_losses=[]\n",
        "    test_accuracies=[]\n",
        "    for ep in range(epochs+1):\n",
        "        # print(ep)\n",
        "        optimizer.zero_grad()\n",
        "        out=net(data)\n",
        "        loss=masked_loss(predictions=out,\n",
        "                         labels=data.y,\n",
        "                         mask=data.train_mask)\n",
        "        loss.backward()\n",
        "        optimizer.step()\n",
        "        train_losses+=[loss.detach().numpy()]\n",
        "        train_accuracy=masked_accuracy(predictions=out,\n",
        "                                       labels=data.y, \n",
        "                                       mask=data.train_mask)\n",
        "        train_accuracies+=[train_accuracy]\n",
        "        val_loss=masked_loss(predictions=out,\n",
        "                             labels=data.y, \n",
        "                             mask=data.val_mask)\n",
        "        # print(loss, val_loss)\n",
        "        val_losses+=[val_loss.detach().numpy()]\n",
        "        # print(val_losses)\n",
        "        val_accuracy=masked_accuracy(predictions=out,\n",
        "                                     labels=data.y, \n",
        "                                     mask=data.val_mask)\n",
        "        val_accuracies+=[val_accuracy]\n",
        "        # test_accuracy=masked_accuracy(predictions=out,\n",
        "        #                               labels=data.y, \n",
        "        #                               mask=data.test_mask)\n",
        "        # test_accuracies+=[test_accuracy]\n",
        "        if np.round(val_accuracy,4)> np.round(best_accuracy ,4):\n",
        "            # print(\"Epoch {}/{}, Train_Loss: {:.4f}, Train_Accuracy: {:.4f}, Val_Accuracy: {:.4f}, Test_Accuracy: {:.4f}\"\n",
        "            #           .format(ep+1,epochs, loss.item(), train_accuracy, val_accuracy,  test_accuracy))\n",
        "            \n",
        "            print(\"Epoch {}/{}, Train_Loss: {:.4f}, Train_Accuracy: {:.4f}, Val_Accuracy: {:.4f}\"\n",
        "            .format(ep+1,epochs, loss.item(), train_accuracy, val_accuracy))\n",
        "\n",
        "            best_accuracy=val_accuracy\n",
        "    plt.plot(val_losses)\n",
        "    # plt.plot(train_losses)  \n",
        "    # plt.plot(test_losses)  \n",
        "    plt.show()\n",
        "    # plt.plot(train_accuracies) \n",
        "    plt.plot(val_accuracies)\n",
        "    # plt.plot(test_accuracies) \n",
        "    plt.show()"
      ],
      "metadata": {
        "id": "IAETFupilG8D"
      },
      "execution_count": null,
      "outputs": []
    },
    {
      "cell_type": "code",
      "source": [
        "net=SocialGNN(num_of_feat=num_of_feat,f=16)\n",
        "criterion=nn.CrossEntropyLoss()\n",
        "train_social(net,data,epochs=50,lr=0.1)"
      ],
      "metadata": {
        "colab": {
          "base_uri": "https://localhost:8080/",
          "height": 930
        },
        "id": "eiR_iopvlHN9",
        "outputId": "72aea870-b651-4d22-b823-9c8ecc983202"
      },
      "execution_count": null,
      "outputs": [
        {
          "output_type": "stream",
          "name": "stdout",
          "text": [
            "Epoch 1/50, Train_Loss: 9128.8789, Train_Accuracy: 0.4360, Val_Accuracy: 0.3984\n",
            "Epoch 2/50, Train_Loss: 1674.0852, Train_Accuracy: 0.5395, Val_Accuracy: 0.5772\n",
            "Epoch 4/50, Train_Loss: 1163.4524, Train_Accuracy: 0.5668, Val_Accuracy: 0.6179\n",
            "Epoch 16/50, Train_Loss: 245.8028, Train_Accuracy: 0.6049, Val_Accuracy: 0.6423\n",
            "Epoch 20/50, Train_Loss: 5.2570, Train_Accuracy: 0.5559, Val_Accuracy: 0.6504\n"
          ]
        },
        {
          "output_type": "display_data",
          "data": {
            "text/plain": [
              "<Figure size 640x480 with 1 Axes>"
            ],
            "image/png": "[encoded data removed]"
          },
          "metadata": {}
        },
        {
          "output_type": "display_data",
          "data": {
            "text/plain": [
              "<Figure size 640x480 with 1 Axes>"
            ],
            "image/png": "[encoded data removed]"
          },
          "metadata": {}
        }
      ]
    },
    {
      "cell_type": "code",
      "source": [
        "# from torch_geometric.utils import train_test_split_edges\n",
        "\n",
        "# # Split the data into training, validation, and testing sets\n",
        "# train_data, val_data, test_data = train_test_split_edges(data, val_ratio=0.05, test_ratio=0.1)\n"
      ],
      "metadata": {
        "collapsed": true,
        "id": "tC6bqPGYYXQ1"
      },
      "execution_count": null,
      "outputs": []
    },
    {
      "cell_type": "markdown",
      "source": [
        "## My implementation"
      ],
      "metadata": {
        "id": "K1ZhHIE6uHBa"
      }
    },
    {
      "cell_type": "code",
      "source": [
        "import torch\n",
        "import torch.nn.functional as F\n",
        "from torch_geometric.nn import GCNConv\n",
        "\n",
        "class GCN(torch.nn.Module):\n",
        "    def __init__(self):\n",
        "        super().__init__()\n",
        "        self.conv1 = GCNConv(data.num_node_features, 16)\n",
        "        self.conv2 = GCNConv(16, 2)\n",
        "\n",
        "    def forward(self, data):\n",
        "        x, edge_index = data.x, data.edge_index\n",
        "\n",
        "        x = self.conv1(x, edge_index)\n",
        "        x = F.relu(x)\n",
        "        x = F.dropout(x, training=self.training)\n",
        "        x = self.conv2(x, edge_index)\n",
        "\n",
        "        return F.log_softmax(x, dim=1)"
      ],
      "metadata": {
        "id": "ufiheV_d9sVE"
      },
      "execution_count": null,
      "outputs": []
    },
    {
      "cell_type": "code",
      "source": [
        "model = GCN()#\n",
        "optimizer = torch.optim.Adam(model.parameters(), lr=1e-2, weight_decay=1e-4)\n",
        "\n",
        "model.train()\n",
        "loss_values = []\n",
        "for epoch in range(200):\n",
        "    optimizer.zero_grad()\n",
        "    out = model(data)\n",
        "    loss = F.nll_loss(out[data.train_mask], data.y[data.train_mask])\n",
        "    loss_values.append(loss.item())\n",
        "    loss.backward()\n",
        "    optimizer.step()"
      ],
      "metadata": {
        "id": "ncY2hYxM99x2"
      },
      "execution_count": null,
      "outputs": []
    },
    {
      "cell_type": "code",
      "source": [
        "plt.plot(loss_values);"
      ],
      "metadata": {
        "colab": {
          "base_uri": "https://localhost:8080/",
          "height": 430
        },
        "id": "XPVRe9FsTOPh",
        "outputId": "9b8adf28-1c34-4d9e-ce7a-c6ad5369ffb2"
      },
      "execution_count": null,
      "outputs": [
        {
          "output_type": "display_data",
          "data": {
            "text/plain": [
              "<Figure size 640x480 with 1 Axes>"
            ],
            "image/png": "[encoded data removed]"
          },
          "metadata": {}
        }
      ]
    },
    {
      "cell_type": "code",
      "source": [
        "model.eval()\n",
        "pred = model(data).argmax(dim=1)\n",
        "correct = (pred[data.val_mask] == data.y[data.val_mask]).sum()\n",
        "acc = int(correct) / int(data.test_mask.sum())\n",
        "print(f'Accuracy: {acc:.4f}')"
      ],
      "metadata": {
        "colab": {
          "base_uri": "https://localhost:8080/"
        },
        "id": "33zdXIop-Tmt",
        "outputId": "b4219bed-55c6-4e81-e7e1-7594b6c6749a"
      },
      "execution_count": null,
      "outputs": [
        {
          "output_type": "stream",
          "name": "stdout",
          "text": [
            "Accuracy: 0.6585\n"
          ]
        }
      ]
    },
    {
      "cell_type": "markdown",
      "source": [
        "## Hyperparameter tuning  \n",
        "\n",
        "- Number of layers:  1, 2, and also 5\n",
        "- L2 regularization on the neural network weight matrices/parameters\n",
        "(i.e., weight decay parameter: 0, 1e-4, and 1e-2)\n",
        "- Learning rate given as input to torch.optim.Adam(): 1e-5 and 1e-2\n",
        "\n",
        "I will calculate the mean and standard deviation of 3 runs "
      ],
      "metadata": {
        "id": "yWQBqGVL_Q6i"
      }
    },
    {
      "cell_type": "markdown",
      "source": [
        "### 2 layers implemenattion"
      ],
      "metadata": {
        "id": "ezh8CDQ1WhoI"
      }
    },
    {
      "cell_type": "code",
      "source": [
        "# Define the ranges for each hyperparameter\n",
        "weight_decays = [0, 1e-4, 1e-2] \n",
        "learning_rates = [1e-5, 1e-2]\n",
        "\n",
        "# Define the number of times to repeat for each set of hyperparameters\n",
        "num_repeats = 3\n",
        "\n",
        "# Initialize a dictionary to store the results\n",
        "results = {}\n",
        "\n",
        "# Loop over all possible combinations of hyperparameters\n",
        "for weight_decay in weight_decays:\n",
        "      for learning_rate in learning_rates:\n",
        "          \n",
        "          # Initialize the model and optimizer with the current hyperparameters\n",
        "          model = GCN()\n",
        "          optimizer = torch.optim.Adam(model.parameters(), lr=learning_rate, weight_decay=weight_decay)\n",
        "\n",
        "          # Train the model and get the accuracy for each repeat\n",
        "          acc_list = []\n",
        "          for repeat in range(num_repeats):\n",
        "              model.train()\n",
        "              for epoch in range(200):\n",
        "                  optimizer.zero_grad()\n",
        "                  out = model(data)\n",
        "                  loss = F.nll_loss(out[data.train_mask], data.y[data.train_mask])\n",
        "                  loss.backward()\n",
        "                  optimizer.step()\n",
        "\n",
        "              model.eval()\n",
        "              pred = model(data).argmax(dim=1)\n",
        "              correct = (pred[data.val_mask] == data.y[data.val_mask]).sum()\n",
        "              acc = int(correct) / int(data.val_mask.sum())\n",
        "              acc_list.append(acc)\n",
        "\n",
        "          # Calculate the mean and standard deviation of accuracy for the current hyperparameters\n",
        "          acc_mean = round(np.mean(acc_list),4)\n",
        "          acc_std = round(np.std(acc_list),4)\n",
        "          \n",
        "          # Store the results in the dictionary\n",
        "          results[(weight_decay,learning_rate)] = (acc_mean, acc_std)\n"
      ],
      "metadata": {
        "id": "veLQli_aVC6R"
      },
      "execution_count": null,
      "outputs": []
    },
    {
      "cell_type": "code",
      "source": [
        "results"
      ],
      "metadata": {
        "colab": {
          "base_uri": "https://localhost:8080/"
        },
        "id": "WkTAO_ZbVKf2",
        "outputId": "a2a0971b-7720-44f8-8724-4e11a62bec9a"
      },
      "execution_count": null,
      "outputs": [
        {
          "output_type": "execute_result",
          "data": {
            "text/plain": [
              "{(0, 1e-05): (0.5718, 0.0038),\n",
              " (0, 0.01): (0.6558, 0.0213),\n",
              " (0.0001, 1e-05): (0.5772, 0.0),\n",
              " (0.0001, 0.01): (0.6206, 0.0213),\n",
              " (0.01, 1e-05): (0.4228, 0.0),\n",
              " (0.01, 0.01): (0.6341, 0.0289)}"
            ]
          },
          "metadata": {},
          "execution_count": 53
        }
      ]
    },
    {
      "cell_type": "markdown",
      "source": [
        "## One layer implementation "
      ],
      "metadata": {
        "id": "wRoGCVOdL6cP"
      }
    },
    {
      "cell_type": "code",
      "source": [
        "class GCN_1(torch.nn.Module):\n",
        "    def __init__(self):\n",
        "        super().__init__()\n",
        "        self.conv1 = GCNConv(data.num_node_features, data.num_classes)\n",
        "\n",
        "    def forward(self, data):\n",
        "        x, edge_index = data.x, data.edge_index\n",
        "\n",
        "        x = self.conv1(x, edge_index)\n",
        "        # x = F.relu(x)\n",
        "        # x = F.dropout(x, training=self.training)\n",
        "        # x = self.conv2(x, edge_index)\n",
        "\n",
        "        return F.log_softmax(x, dim=1)"
      ],
      "metadata": {
        "id": "w5Vmq-wZMD-r"
      },
      "execution_count": null,
      "outputs": []
    },
    {
      "cell_type": "code",
      "source": [
        "# Initialize a dictionary to store the results\n",
        "results_1L = {}\n",
        "\n",
        "# Loop over all possible combinations of hyperparameters\n",
        "for weight_decay in weight_decays:\n",
        "      for learning_rate in learning_rates:\n",
        "          \n",
        "          # Initialize the model and optimizer with the current hyperparameters\n",
        "          model = GCN_1()\n",
        "          optimizer = torch.optim.Adam(model.parameters(), lr=learning_rate, weight_decay=weight_decay)\n",
        "\n",
        "          # Train the model and get the accuracy for each repeat\n",
        "          acc_list = []\n",
        "          for repeat in range(num_repeats):\n",
        "              model.train()\n",
        "              for epoch in range(200):\n",
        "                  optimizer.zero_grad()\n",
        "                  out = model(data)\n",
        "                  loss = F.nll_loss(out[data.train_mask], data.y[data.train_mask])\n",
        "                  loss.backward()\n",
        "                  optimizer.step()\n",
        "\n",
        "              model.eval()\n",
        "              pred = model(data).argmax(dim=1)\n",
        "              correct = (pred[data.val_mask] == data.y[data.val_mask]).sum()\n",
        "              acc = int(correct) / int(data.val_mask.sum())\n",
        "              acc_list.append(acc)\n",
        "\n",
        "          # Calculate the mean and standard deviation of accuracy for the current hyperparameters\n",
        "          acc_mean = round(np.mean(acc_list),4)\n",
        "          acc_std = round(np.std(acc_list),4)\n",
        "          \n",
        "          # Store the results in the dictionary\n",
        "          results_1L[(weight_decay,learning_rate)] = (acc_mean, acc_std)\n"
      ],
      "metadata": {
        "id": "7GDWPb3HL6cP"
      },
      "execution_count": null,
      "outputs": []
    },
    {
      "cell_type": "code",
      "source": [
        "results_1L"
      ],
      "metadata": {
        "colab": {
          "base_uri": "https://localhost:8080/"
        },
        "id": "89cEHQETNdEC",
        "outputId": "9be021ac-26a8-4baf-9a73-c8d6b9ff492f"
      },
      "execution_count": null,
      "outputs": [
        {
          "output_type": "execute_result",
          "data": {
            "text/plain": [
              "{(0, 1e-05): (0.3984, 0.0),\n",
              " (0, 0.01): (0.4959, 0.0898),\n",
              " (0.0001, 1e-05): (0.4228, 0.0),\n",
              " (0.0001, 0.01): (0.6233, 0.0077),\n",
              " (0.01, 1e-05): (0.4011, 0.0038),\n",
              " (0.01, 0.01): (0.561, 0.0415)}"
            ]
          },
          "metadata": {},
          "execution_count": 74
        }
      ]
    },
    {
      "cell_type": "markdown",
      "source": [
        "## Five layers implementation "
      ],
      "metadata": {
        "id": "Vweg3OdxNdU2"
      }
    },
    {
      "cell_type": "code",
      "source": [
        "class GCN_5(torch.nn.Module):\n",
        "    def __init__(self):\n",
        "        super().__init__()\n",
        "        self.conv1 = GCNConv(data.num_node_features, 320)\n",
        "        self.conv2 = GCNConv(320, 240)\n",
        "        self.conv3 = GCNConv(240, 120)\n",
        "        self.conv4 = GCNConv(120, 16)\n",
        "        self.conv5 = GCNConv(16, data.num_classes)\n",
        "        \n",
        "\n",
        "    def forward(self, data):\n",
        "        x, edge_index = data.x, data.edge_index\n",
        "\n",
        "        x = self.conv1(x, edge_index)\n",
        "        x = F.relu(x)\n",
        "        x = F.dropout(x, training=self.training)\n",
        "        x = self.conv2(x, edge_index)\n",
        "        x = F.relu(x)\n",
        "        x = F.dropout(x, training=self.training)\n",
        "        x = self.conv3(x, edge_index)\n",
        "        x = F.relu(x)\n",
        "        x = F.dropout(x, training=self.training)\n",
        "        x = self.conv4(x, edge_index)\n",
        "        x = F.relu(x)\n",
        "        x = F.dropout(x, training=self.training)\n",
        "        x = self.conv5(x, edge_index)\n",
        "\n",
        "\n",
        "        return F.log_softmax(x, dim=1)"
      ],
      "metadata": {
        "id": "0BXRm37TNdU3"
      },
      "execution_count": null,
      "outputs": []
    },
    {
      "cell_type": "code",
      "source": [
        "# Initialize a dictionary to store the results\n",
        "results_5L = {}\n",
        "\n",
        "# Loop over all possible combinations of hyperparameters\n",
        "for weight_decay in weight_decays:\n",
        "      for learning_rate in learning_rates:\n",
        "          \n",
        "          # Initialize the model and optimizer with the current hyperparameters\n",
        "          model = GCN_5()\n",
        "          optimizer = torch.optim.Adam(model.parameters(), lr=learning_rate, weight_decay=weight_decay)\n",
        "\n",
        "          # Train the model and get the accuracy for each repeat\n",
        "          acc_list = []\n",
        "          for repeat in range(num_repeats):\n",
        "              model.train()\n",
        "              for epoch in range(200):\n",
        "                  optimizer.zero_grad()\n",
        "                  out = model(data)\n",
        "                  loss = F.nll_loss(out[data.train_mask], data.y[data.train_mask])\n",
        "                  loss.backward()\n",
        "                  optimizer.step()\n",
        "\n",
        "              model.eval()\n",
        "              pred = model(data).argmax(dim=1)\n",
        "              correct = (pred[data.val_mask] == data.y[data.val_mask]).sum()\n",
        "              acc = int(correct) / int(data.val_mask.sum())\n",
        "              acc_list.append(acc)\n",
        "\n",
        "          # Calculate the mean and standard deviation of accuracy for the current hyperparameters\n",
        "          acc_mean = np.mean(acc_list)\n",
        "          acc_std = np.std(acc_list)\n",
        "          \n",
        "          # Store the results in the dictionary\n",
        "          results_5L[(weight_decay,learning_rate)] = (acc_mean, acc_std)\n"
      ],
      "metadata": {
        "id": "wh6SFl4oNdU3"
      },
      "execution_count": null,
      "outputs": []
    },
    {
      "cell_type": "code",
      "source": [
        "results_5L"
      ],
      "metadata": {
        "colab": {
          "base_uri": "https://localhost:8080/"
        },
        "id": "khFQqGonScFh",
        "outputId": "979f0f0f-adbf-419a-e62d-6aff27c967aa"
      },
      "execution_count": null,
      "outputs": [
        {
          "output_type": "execute_result",
          "data": {
            "text/plain": [
              "{(0, 1e-05): (0.5311653116531165, 0.013818481066647102),\n",
              " (0, 0.01): (0.5365853658536586, 0.0),\n",
              " (0.0001, 1e-05): (0.5663956639566395, 0.03137083171487864),\n",
              " (0.0001, 0.01): (0.5365853658536586, 0.0),\n",
              " (0.01, 1e-05): (0.4878048780487805, 0.034493013716416956),\n",
              " (0.01, 0.01): (0.5365853658536586, 0.0)}"
            ]
          },
          "metadata": {},
          "execution_count": 77
        }
      ]
    },
    {
      "cell_type": "code",
      "source": [
        "import pandas as pd\n",
        "combined_dict = {}\n",
        "combined_dict.update({1: results_1L})\n",
        "combined_dict.update({2: results})\n",
        "combined_dict.update({5: results_5L})\n",
        "\n",
        "# Convert the dictionary into a pandas DataFrame\n",
        "rows = []\n",
        "for dict_type, inner_dict in combined_dict.items():\n",
        "    for key, value in inner_dict.items():\n",
        "        rows.append((dict_type, key, value[0], value[1]))\n",
        "\n",
        "df = pd.DataFrame(rows, columns=['Layers', 'WD_LR', 'accuracy_mean', 'accuracy_std_dev'])"
      ],
      "metadata": {
        "id": "coibYYoOPw8r"
      },
      "execution_count": null,
      "outputs": []
    },
    {
      "cell_type": "code",
      "source": [
        "df"
      ],
      "metadata": {
        "colab": {
          "base_uri": "https://localhost:8080/",
          "height": 613
        },
        "id": "vhxf8vEaShn7",
        "outputId": "dcb80a20-b1c4-49e1-d0cd-05d24535f91b"
      },
      "execution_count": null,
      "outputs": [
        {
          "output_type": "execute_result",
          "data": {
            "text/plain": [
              "    Layers            WD_LR  accuracy_mean  accuracy_std_dev\n",
              "0        1       (0, 1e-05)       0.398400          0.000000\n",
              "1        1        (0, 0.01)       0.495900          0.089800\n",
              "2        1  (0.0001, 1e-05)       0.422800          0.000000\n",
              "3        1   (0.0001, 0.01)       0.623300          0.007700\n",
              "4        1    (0.01, 1e-05)       0.401100          0.003800\n",
              "5        1     (0.01, 0.01)       0.561000          0.041500\n",
              "6        2       (0, 1e-05)       0.571800          0.003800\n",
              "7        2        (0, 0.01)       0.655800          0.021300\n",
              "8        2  (0.0001, 1e-05)       0.577200          0.000000\n",
              "9        2   (0.0001, 0.01)       0.620600          0.021300\n",
              "10       2    (0.01, 1e-05)       0.422800          0.000000\n",
              "11       2     (0.01, 0.01)       0.634100          0.028900\n",
              "12       5       (0, 1e-05)       0.531165          0.013818\n",
              "13       5        (0, 0.01)       0.536585          0.000000\n",
              "14       5  (0.0001, 1e-05)       0.566396          0.031371\n",
              "15       5   (0.0001, 0.01)       0.536585          0.000000\n",
              "16       5    (0.01, 1e-05)       0.487805          0.034493\n",
              "17       5     (0.01, 0.01)       0.536585          0.000000"
            ],
            "text/html": [
              "\n",
              "  <div id=\"df-c57e4327-99e7-41c0-963c-5e3ab0d15c84\">\n",
              "    <div class=\"colab-df-container\">\n",
              "      <div>\n",
              "<style scoped>\n",
              "    .dataframe tbody tr th:only-of-type {\n",
              "        vertical-align: middle;\n",
              "    }\n",
              "\n",
              "    .dataframe tbody tr th {\n",
              "        vertical-align: top;\n",
              "    }\n",
              "\n",
              "    .dataframe thead th {\n",
              "        text-align: right;\n",
              "    }\n",
              "</style>\n",
              "<table border=\"1\" class=\"dataframe\">\n",
              "  <thead>\n",
              "    <tr style=\"text-align: right;\">\n",
              "      <th></th>\n",
              "      <th>Layers</th>\n",
              "      <th>WD_LR</th>\n",
              "      <th>accuracy_mean</th>\n",
              "      <th>accuracy_std_dev</th>\n",
              "    </tr>\n",
              "  </thead>\n",
              "  <tbody>\n",
              "    <tr>\n",
              "      <th>0</th>\n",
              "      <td>1</td>\n",
              "      <td>(0, 1e-05)</td>\n",
              "      <td>0.398400</td>\n",
              "      <td>0.000000</td>\n",
              "    </tr>\n",
              "    <tr>\n",
              "      <th>1</th>\n",
              "      <td>1</td>\n",
              "      <td>(0, 0.01)</td>\n",
              "      <td>0.495900</td>\n",
              "      <td>0.089800</td>\n",
              "    </tr>\n",
              "    <tr>\n",
              "      <th>2</th>\n",
              "      <td>1</td>\n",
              "      <td>(0.0001, 1e-05)</td>\n",
              "      <td>0.422800</td>\n",
              "      <td>0.000000</td>\n",
              "    </tr>\n",
              "    <tr>\n",
              "      <th>3</th>\n",
              "      <td>1</td>\n",
              "      <td>(0.0001, 0.01)</td>\n",
              "      <td>0.623300</td>\n",
              "      <td>0.007700</td>\n",
              "    </tr>\n",
              "    <tr>\n",
              "      <th>4</th>\n",
              "      <td>1</td>\n",
              "      <td>(0.01, 1e-05)</td>\n",
              "      <td>0.401100</td>\n",
              "      <td>0.003800</td>\n",
              "    </tr>\n",
              "    <tr>\n",
              "      <th>5</th>\n",
              "      <td>1</td>\n",
              "      <td>(0.01, 0.01)</td>\n",
              "      <td>0.561000</td>\n",
              "      <td>0.041500</td>\n",
              "    </tr>\n",
              "    <tr>\n",
              "      <th>6</th>\n",
              "      <td>2</td>\n",
              "      <td>(0, 1e-05)</td>\n",
              "      <td>0.571800</td>\n",
              "      <td>0.003800</td>\n",
              "    </tr>\n",
              "    <tr>\n",
              "      <th>7</th>\n",
              "      <td>2</td>\n",
              "      <td>(0, 0.01)</td>\n",
              "      <td>0.655800</td>\n",
              "      <td>0.021300</td>\n",
              "    </tr>\n",
              "    <tr>\n",
              "      <th>8</th>\n",
              "      <td>2</td>\n",
              "      <td>(0.0001, 1e-05)</td>\n",
              "      <td>0.577200</td>\n",
              "      <td>0.000000</td>\n",
              "    </tr>\n",
              "    <tr>\n",
              "      <th>9</th>\n",
              "      <td>2</td>\n",
              "      <td>(0.0001, 0.01)</td>\n",
              "      <td>0.620600</td>\n",
              "      <td>0.021300</td>\n",
              "    </tr>\n",
              "    <tr>\n",
              "      <th>10</th>\n",
              "      <td>2</td>\n",
              "      <td>(0.01, 1e-05)</td>\n",
              "      <td>0.422800</td>\n",
              "      <td>0.000000</td>\n",
              "    </tr>\n",
              "    <tr>\n",
              "      <th>11</th>\n",
              "      <td>2</td>\n",
              "      <td>(0.01, 0.01)</td>\n",
              "      <td>0.634100</td>\n",
              "      <td>0.028900</td>\n",
              "    </tr>\n",
              "    <tr>\n",
              "      <th>12</th>\n",
              "      <td>5</td>\n",
              "      <td>(0, 1e-05)</td>\n",
              "      <td>0.531165</td>\n",
              "      <td>0.013818</td>\n",
              "    </tr>\n",
              "    <tr>\n",
              "      <th>13</th>\n",
              "      <td>5</td>\n",
              "      <td>(0, 0.01)</td>\n",
              "      <td>0.536585</td>\n",
              "      <td>0.000000</td>\n",
              "    </tr>\n",
              "    <tr>\n",
              "      <th>14</th>\n",
              "      <td>5</td>\n",
              "      <td>(0.0001, 1e-05)</td>\n",
              "      <td>0.566396</td>\n",
              "      <td>0.031371</td>\n",
              "    </tr>\n",
              "    <tr>\n",
              "      <th>15</th>\n",
              "      <td>5</td>\n",
              "      <td>(0.0001, 0.01)</td>\n",
              "      <td>0.536585</td>\n",
              "      <td>0.000000</td>\n",
              "    </tr>\n",
              "    <tr>\n",
              "      <th>16</th>\n",
              "      <td>5</td>\n",
              "      <td>(0.01, 1e-05)</td>\n",
              "      <td>0.487805</td>\n",
              "      <td>0.034493</td>\n",
              "    </tr>\n",
              "    <tr>\n",
              "      <th>17</th>\n",
              "      <td>5</td>\n",
              "      <td>(0.01, 0.01)</td>\n",
              "      <td>0.536585</td>\n",
              "      <td>0.000000</td>\n",
              "    </tr>\n",
              "  </tbody>\n",
              "</table>\n",
              "</div>\n",
              "      <button class=\"colab-df-convert\" onclick=\"convertToInteractive('df-c57e4327-99e7-41c0-963c-5e3ab0d15c84')\"\n",
              "              title=\"Convert this dataframe to an interactive table.\"\n",
              "              style=\"display:none;\">\n",
              "        \n",
              "  <svg xmlns=\"http://www.w3.org/2000/svg\" height=\"24px\"viewBox=\"0 0 24 24\"\n",
              "       width=\"24px\">\n",
              "    <path d=\"M0 0h24v24H0V0z\" fill=\"none\"/>\n",
              "    <path d=\"M18.56 5.44l.94 2.06.94-2.06 2.06-.94-2.06-.94-.94-2.06-.94 2.06-2.06.94zm-11 1L8.5 8.5l.94-2.06 2.06-.94-2.06-.94L8.5 2.5l-.94 2.06-2.06.94zm10 10l.94 2.06.94-2.06 2.06-.94-2.06-.94-.94-2.06-.94 2.06-2.06.94z\"/><path d=\"M17.41 7.96l-1.37-1.37c-.4-.4-.92-.59-1.43-.59-.52 0-1.04.2-1.43.59L10.3 9.45l-7.72 7.72c-.78.78-.78 2.05 0 2.83L4 21.41c.39.39.9.59 1.41.59.51 0 1.02-.2 1.41-.59l7.78-7.78 2.81-2.81c.8-.78.8-2.07 0-2.86zM5.41 20L4 18.59l7.72-7.72 1.47 1.35L5.41 20z\"/>\n",
              "  </svg>\n",
              "      </button>\n",
              "      \n",
              "  <style>\n",
              "    .colab-df-container {\n",
              "      display:flex;\n",
              "      flex-wrap:wrap;\n",
              "      gap: 12px;\n",
              "    }\n",
              "\n",
              "    .colab-df-convert {\n",
              "      background-color: #E8F0FE;\n",
              "      border: none;\n",
              "      border-radius: 50%;\n",
              "      cursor: pointer;\n",
              "      display: none;\n",
              "      fill: #1967D2;\n",
              "      height: 32px;\n",
              "      padding: 0 0 0 0;\n",
              "      width: 32px;\n",
              "    }\n",
              "\n",
              "    .colab-df-convert:hover {\n",
              "      background-color: #E2EBFA;\n",
              "      box-shadow: 0px 1px 2px rgba(60, 64, 67, 0.3), 0px 1px 3px 1px rgba(60, 64, 67, 0.15);\n",
              "      fill: #174EA6;\n",
              "    }\n",
              "\n",
              "    [theme=dark] .colab-df-convert {\n",
              "      background-color: #3B4455;\n",
              "      fill: #D2E3FC;\n",
              "    }\n",
              "\n",
              "    [theme=dark] .colab-df-convert:hover {\n",
              "      background-color: #434B5C;\n",
              "      box-shadow: 0px 1px 3px 1px rgba(0, 0, 0, 0.15);\n",
              "      filter: drop-shadow(0px 1px 2px rgba(0, 0, 0, 0.3));\n",
              "      fill: #FFFFFF;\n",
              "    }\n",
              "  </style>\n",
              "\n",
              "      <script>\n",
              "        const buttonEl =\n",
              "          document.querySelector('#df-c57e4327-99e7-41c0-963c-5e3ab0d15c84 button.colab-df-convert');\n",
              "        buttonEl.style.display =\n",
              "          google.colab.kernel.accessAllowed ? 'block' : 'none';\n",
              "\n",
              "        async function convertToInteractive(key) {\n",
              "          const element = document.querySelector('#df-c57e4327-99e7-41c0-963c-5e3ab0d15c84');\n",
              "          const dataTable =\n",
              "            await google.colab.kernel.invokeFunction('convertToInteractive',\n",
              "                                                     [key], {});\n",
              "          if (!dataTable) return;\n",
              "\n",
              "          const docLinkHtml = 'Like what you see? Visit the ' +\n",
              "            '<a target=\"_blank\" href=https://colab.research.google.com/notebooks/data_table.ipynb>data table notebook</a>'\n",
              "            + ' to learn more about interactive tables.';\n",
              "          element.innerHTML = '';\n",
              "          dataTable['output_type'] = 'display_data';\n",
              "          await google.colab.output.renderOutput(dataTable, element);\n",
              "          const docLink = document.createElement('div');\n",
              "          docLink.innerHTML = docLinkHtml;\n",
              "          element.appendChild(docLink);\n",
              "        }\n",
              "      </script>\n",
              "    </div>\n",
              "  </div>\n",
              "  "
            ]
          },
          "metadata": {},
          "execution_count": 79
        }
      ]
    },
    {
      "cell_type": "code",
      "source": [
        "sorted_df = df.sort_values(by=['accuracy_mean'], ascending=False)\n",
        "sorted_df"
      ],
      "metadata": {
        "colab": {
          "base_uri": "https://localhost:8080/",
          "height": 613
        },
        "id": "8qU0BWToSw98",
        "outputId": "e77af547-9dae-46c8-cade-59b4c145ba77"
      },
      "execution_count": null,
      "outputs": [
        {
          "output_type": "execute_result",
          "data": {
            "text/plain": [
              "    Layers            WD_LR  accuracy_mean  accuracy_std_dev\n",
              "7        2        (0, 0.01)       0.655800          0.021300\n",
              "11       2     (0.01, 0.01)       0.634100          0.028900\n",
              "3        1   (0.0001, 0.01)       0.623300          0.007700\n",
              "9        2   (0.0001, 0.01)       0.620600          0.021300\n",
              "8        2  (0.0001, 1e-05)       0.577200          0.000000\n",
              "6        2       (0, 1e-05)       0.571800          0.003800\n",
              "14       5  (0.0001, 1e-05)       0.566396          0.031371\n",
              "5        1     (0.01, 0.01)       0.561000          0.041500\n",
              "15       5   (0.0001, 0.01)       0.536585          0.000000\n",
              "13       5        (0, 0.01)       0.536585          0.000000\n",
              "17       5     (0.01, 0.01)       0.536585          0.000000\n",
              "12       5       (0, 1e-05)       0.531165          0.013818\n",
              "1        1        (0, 0.01)       0.495900          0.089800\n",
              "16       5    (0.01, 1e-05)       0.487805          0.034493\n",
              "10       2    (0.01, 1e-05)       0.422800          0.000000\n",
              "2        1  (0.0001, 1e-05)       0.422800          0.000000\n",
              "4        1    (0.01, 1e-05)       0.401100          0.003800\n",
              "0        1       (0, 1e-05)       0.398400          0.000000"
            ],
            "text/html": [
              "\n",
              "  <div id=\"df-74470f39-6de5-4d09-8432-2426b68592b5\">\n",
              "    <div class=\"colab-df-container\">\n",
              "      <div>\n",
              "<style scoped>\n",
              "    .dataframe tbody tr th:only-of-type {\n",
              "        vertical-align: middle;\n",
              "    }\n",
              "\n",
              "    .dataframe tbody tr th {\n",
              "        vertical-align: top;\n",
              "    }\n",
              "\n",
              "    .dataframe thead th {\n",
              "        text-align: right;\n",
              "    }\n",
              "</style>\n",
              "<table border=\"1\" class=\"dataframe\">\n",
              "  <thead>\n",
              "    <tr style=\"text-align: right;\">\n",
              "      <th></th>\n",
              "      <th>Layers</th>\n",
              "      <th>WD_LR</th>\n",
              "      <th>accuracy_mean</th>\n",
              "      <th>accuracy_std_dev</th>\n",
              "    </tr>\n",
              "  </thead>\n",
              "  <tbody>\n",
              "    <tr>\n",
              "      <th>7</th>\n",
              "      <td>2</td>\n",
              "      <td>(0, 0.01)</td>\n",
              "      <td>0.655800</td>\n",
              "      <td>0.021300</td>\n",
              "    </tr>\n",
              "    <tr>\n",
              "      <th>11</th>\n",
              "      <td>2</td>\n",
              "      <td>(0.01, 0.01)</td>\n",
              "      <td>0.634100</td>\n",
              "      <td>0.028900</td>\n",
              "    </tr>\n",
              "    <tr>\n",
              "      <th>3</th>\n",
              "      <td>1</td>\n",
              "      <td>(0.0001, 0.01)</td>\n",
              "      <td>0.623300</td>\n",
              "      <td>0.007700</td>\n",
              "    </tr>\n",
              "    <tr>\n",
              "      <th>9</th>\n",
              "      <td>2</td>\n",
              "      <td>(0.0001, 0.01)</td>\n",
              "      <td>0.620600</td>\n",
              "      <td>0.021300</td>\n",
              "    </tr>\n",
              "    <tr>\n",
              "      <th>8</th>\n",
              "      <td>2</td>\n",
              "      <td>(0.0001, 1e-05)</td>\n",
              "      <td>0.577200</td>\n",
              "      <td>0.000000</td>\n",
              "    </tr>\n",
              "    <tr>\n",
              "      <th>6</th>\n",
              "      <td>2</td>\n",
              "      <td>(0, 1e-05)</td>\n",
              "      <td>0.571800</td>\n",
              "      <td>0.003800</td>\n",
              "    </tr>\n",
              "    <tr>\n",
              "      <th>14</th>\n",
              "      <td>5</td>\n",
              "      <td>(0.0001, 1e-05)</td>\n",
              "      <td>0.566396</td>\n",
              "      <td>0.031371</td>\n",
              "    </tr>\n",
              "    <tr>\n",
              "      <th>5</th>\n",
              "      <td>1</td>\n",
              "      <td>(0.01, 0.01)</td>\n",
              "      <td>0.561000</td>\n",
              "      <td>0.041500</td>\n",
              "    </tr>\n",
              "    <tr>\n",
              "      <th>15</th>\n",
              "      <td>5</td>\n",
              "      <td>(0.0001, 0.01)</td>\n",
              "      <td>0.536585</td>\n",
              "      <td>0.000000</td>\n",
              "    </tr>\n",
              "    <tr>\n",
              "      <th>13</th>\n",
              "      <td>5</td>\n",
              "      <td>(0, 0.01)</td>\n",
              "      <td>0.536585</td>\n",
              "      <td>0.000000</td>\n",
              "    </tr>\n",
              "    <tr>\n",
              "      <th>17</th>\n",
              "      <td>5</td>\n",
              "      <td>(0.01, 0.01)</td>\n",
              "      <td>0.536585</td>\n",
              "      <td>0.000000</td>\n",
              "    </tr>\n",
              "    <tr>\n",
              "      <th>12</th>\n",
              "      <td>5</td>\n",
              "      <td>(0, 1e-05)</td>\n",
              "      <td>0.531165</td>\n",
              "      <td>0.013818</td>\n",
              "    </tr>\n",
              "    <tr>\n",
              "      <th>1</th>\n",
              "      <td>1</td>\n",
              "      <td>(0, 0.01)</td>\n",
              "      <td>0.495900</td>\n",
              "      <td>0.089800</td>\n",
              "    </tr>\n",
              "    <tr>\n",
              "      <th>16</th>\n",
              "      <td>5</td>\n",
              "      <td>(0.01, 1e-05)</td>\n",
              "      <td>0.487805</td>\n",
              "      <td>0.034493</td>\n",
              "    </tr>\n",
              "    <tr>\n",
              "      <th>10</th>\n",
              "      <td>2</td>\n",
              "      <td>(0.01, 1e-05)</td>\n",
              "      <td>0.422800</td>\n",
              "      <td>0.000000</td>\n",
              "    </tr>\n",
              "    <tr>\n",
              "      <th>2</th>\n",
              "      <td>1</td>\n",
              "      <td>(0.0001, 1e-05)</td>\n",
              "      <td>0.422800</td>\n",
              "      <td>0.000000</td>\n",
              "    </tr>\n",
              "    <tr>\n",
              "      <th>4</th>\n",
              "      <td>1</td>\n",
              "      <td>(0.01, 1e-05)</td>\n",
              "      <td>0.401100</td>\n",
              "      <td>0.003800</td>\n",
              "    </tr>\n",
              "    <tr>\n",
              "      <th>0</th>\n",
              "      <td>1</td>\n",
              "      <td>(0, 1e-05)</td>\n",
              "      <td>0.398400</td>\n",
              "      <td>0.000000</td>\n",
              "    </tr>\n",
              "  </tbody>\n",
              "</table>\n",
              "</div>\n",
              "      <button class=\"colab-df-convert\" onclick=\"convertToInteractive('df-74470f39-6de5-4d09-8432-2426b68592b5')\"\n",
              "              title=\"Convert this dataframe to an interactive table.\"\n",
              "              style=\"display:none;\">\n",
              "        \n",
              "  <svg xmlns=\"http://www.w3.org/2000/svg\" height=\"24px\"viewBox=\"0 0 24 24\"\n",
              "       width=\"24px\">\n",
              "    <path d=\"M0 0h24v24H0V0z\" fill=\"none\"/>\n",
              "    <path d=\"M18.56 5.44l.94 2.06.94-2.06 2.06-.94-2.06-.94-.94-2.06-.94 2.06-2.06.94zm-11 1L8.5 8.5l.94-2.06 2.06-.94-2.06-.94L8.5 2.5l-.94 2.06-2.06.94zm10 10l.94 2.06.94-2.06 2.06-.94-2.06-.94-.94-2.06-.94 2.06-2.06.94z\"/><path d=\"M17.41 7.96l-1.37-1.37c-.4-.4-.92-.59-1.43-.59-.52 0-1.04.2-1.43.59L10.3 9.45l-7.72 7.72c-.78.78-.78 2.05 0 2.83L4 21.41c.39.39.9.59 1.41.59.51 0 1.02-.2 1.41-.59l7.78-7.78 2.81-2.81c.8-.78.8-2.07 0-2.86zM5.41 20L4 18.59l7.72-7.72 1.47 1.35L5.41 20z\"/>\n",
              "  </svg>\n",
              "      </button>\n",
              "      \n",
              "  <style>\n",
              "    .colab-df-container {\n",
              "      display:flex;\n",
              "      flex-wrap:wrap;\n",
              "      gap: 12px;\n",
              "    }\n",
              "\n",
              "    .colab-df-convert {\n",
              "      background-color: #E8F0FE;\n",
              "      border: none;\n",
              "      border-radius: 50%;\n",
              "      cursor: pointer;\n",
              "      display: none;\n",
              "      fill: #1967D2;\n",
              "      height: 32px;\n",
              "      padding: 0 0 0 0;\n",
              "      width: 32px;\n",
              "    }\n",
              "\n",
              "    .colab-df-convert:hover {\n",
              "      background-color: #E2EBFA;\n",
              "      box-shadow: 0px 1px 2px rgba(60, 64, 67, 0.3), 0px 1px 3px 1px rgba(60, 64, 67, 0.15);\n",
              "      fill: #174EA6;\n",
              "    }\n",
              "\n",
              "    [theme=dark] .colab-df-convert {\n",
              "      background-color: #3B4455;\n",
              "      fill: #D2E3FC;\n",
              "    }\n",
              "\n",
              "    [theme=dark] .colab-df-convert:hover {\n",
              "      background-color: #434B5C;\n",
              "      box-shadow: 0px 1px 3px 1px rgba(0, 0, 0, 0.15);\n",
              "      filter: drop-shadow(0px 1px 2px rgba(0, 0, 0, 0.3));\n",
              "      fill: #FFFFFF;\n",
              "    }\n",
              "  </style>\n",
              "\n",
              "      <script>\n",
              "        const buttonEl =\n",
              "          document.querySelector('#df-74470f39-6de5-4d09-8432-2426b68592b5 button.colab-df-convert');\n",
              "        buttonEl.style.display =\n",
              "          google.colab.kernel.accessAllowed ? 'block' : 'none';\n",
              "\n",
              "        async function convertToInteractive(key) {\n",
              "          const element = document.querySelector('#df-74470f39-6de5-4d09-8432-2426b68592b5');\n",
              "          const dataTable =\n",
              "            await google.colab.kernel.invokeFunction('convertToInteractive',\n",
              "                                                     [key], {});\n",
              "          if (!dataTable) return;\n",
              "\n",
              "          const docLinkHtml = 'Like what you see? Visit the ' +\n",
              "            '<a target=\"_blank\" href=https://colab.research.google.com/notebooks/data_table.ipynb>data table notebook</a>'\n",
              "            + ' to learn more about interactive tables.';\n",
              "          element.innerHTML = '';\n",
              "          dataTable['output_type'] = 'display_data';\n",
              "          await google.colab.output.renderOutput(dataTable, element);\n",
              "          const docLink = document.createElement('div');\n",
              "          docLink.innerHTML = docLinkHtml;\n",
              "          element.appendChild(docLink);\n",
              "        }\n",
              "      </script>\n",
              "    </div>\n",
              "  </div>\n",
              "  "
            ]
          },
          "metadata": {},
          "execution_count": 80
        }
      ]
    },
    {
      "cell_type": "markdown",
      "source": [
        "## Evaluate on the test data"
      ],
      "metadata": {
        "id": "IoY_ug__Tv4c"
      }
    },
    {
      "cell_type": "code",
      "source": [
        "# based on the sorted df, best hyperparameters are 0.01 and 0 and 2 layers \n",
        "\n",
        "model = GCN()\n",
        "optimizer = torch.optim.Adam(model.parameters(), lr=0.01, weight_decay=0)\n",
        "\n",
        "model.train()\n",
        "loss_values = []\n",
        "for epoch in range(200):\n",
        "    optimizer.zero_grad()\n",
        "    out = model(data)\n",
        "    loss = F.nll_loss(out[data.train_mask], data.y[data.train_mask])\n",
        "    loss_values.append(loss.item())\n",
        "    loss.backward()\n",
        "    optimizer.step()"
      ],
      "metadata": {
        "id": "dE_Y8Zx5TzX6"
      },
      "execution_count": null,
      "outputs": []
    },
    {
      "cell_type": "code",
      "source": [
        "model.eval()\n",
        "pred = model(data).argmax(dim=1)\n",
        "correct = (pred[data.test_mask] == data.y[data.test_mask]).sum()\n",
        "acc = int(correct) / int(data.test_mask.sum())\n",
        "print(f'Accuracy: {acc:.4f}')"
      ],
      "metadata": {
        "colab": {
          "base_uri": "https://localhost:8080/"
        },
        "outputId": "6719eb99-e95b-4a46-c289-5b1d8816771b",
        "id": "133CmQfpSNMA"
      },
      "execution_count": null,
      "outputs": [
        {
          "output_type": "stream",
          "name": "stdout",
          "text": [
            "Accuracy: 0.6098\n"
          ]
        }
      ]
    },
    {
      "cell_type": "markdown",
      "source": [
        "## Confusion matrix"
      ],
      "metadata": {
        "id": "T1UjqQBMYiod"
      }
    },
    {
      "cell_type": "code",
      "source": [
        "from sklearn.metrics import confusion_matrix"
      ],
      "metadata": {
        "id": "kdXyLJXLXsPf"
      },
      "execution_count": null,
      "outputs": []
    },
    {
      "cell_type": "code",
      "source": [
        "cm = confusion_matrix(data.y[data.test_mask], pred[data.test_mask])"
      ],
      "metadata": {
        "id": "0MCQoFGvXsn1"
      },
      "execution_count": null,
      "outputs": []
    },
    {
      "cell_type": "code",
      "source": [
        "import seaborn as sns "
      ],
      "metadata": {
        "id": "i9IhsTwUYY21"
      },
      "execution_count": null,
      "outputs": []
    },
    {
      "cell_type": "code",
      "source": [
        "from sklearn.metrics import confusion_matrix, ConfusionMatrixDisplay\n",
        "disp = ConfusionMatrixDisplay(confusion_matrix=cm)"
      ],
      "metadata": {
        "id": "YUI-A5GbYv4m"
      },
      "execution_count": null,
      "outputs": []
    },
    {
      "cell_type": "code",
      "source": [
        "disp.plot();"
      ],
      "metadata": {
        "colab": {
          "base_uri": "https://localhost:8080/",
          "height": 449
        },
        "id": "UF48ER64Y72v",
        "outputId": "6f48bfd3-3beb-4042-de43-6a020c13a483"
      },
      "execution_count": null,
      "outputs": [
        {
          "output_type": "display_data",
          "data": {
            "text/plain": [
              "<Figure size 640x480 with 2 Axes>"
            ],
            "image/png": "[encoded data removed]"
          },
          "metadata": {}
        }
      ]
    },
    {
      "cell_type": "markdown",
      "source": [
        "7. [25 points] Simplified Graph Convolution\n",
        "Another simplified “graph neural network” is the Simplified Graph Convolution (SGC)\n",
        "model. Actually, SGC removes the nonlinearities of the neural network model and\n",
        "shows how we can then collapse the multiple linear layers to just one. https://\n",
        "github.com/pyg-team/pytorch_geometric/blob/master/examples/sgc.py Then create another version of the example code that utilizes the SGConv instead of GCNConv\n",
        "in the network model class. Obtain the results for this method after having varied\n",
        "the value of “K” with 1, 2, and 3. Specifically, in the example code on line 18 it has:\n",
        "self.conv1 = SGConv(data.num features, data.num classes, K=2, cached=True)\n",
        "This is where you can vary the value of “K” as discussed in the lecture"
      ],
      "metadata": {
        "id": "NfMSbwatYamg"
      }
    },
    {
      "cell_type": "markdown",
      "source": [
        "K = 2"
      ],
      "metadata": {
        "id": "aSr_EazcaTGT"
      }
    },
    {
      "cell_type": "code",
      "source": [
        "class Net(torch.nn.Module):\n",
        "    def __init__(self):\n",
        "        super().__init__()\n",
        "        self.conv1 = SGConv(data.num_features, data.num_classes, K=2,\n",
        "                            cached=True)\n",
        "\n",
        "    def forward(self):\n",
        "        x, edge_index = data.x, data.edge_index\n",
        "        x = self.conv1(x, edge_index)\n",
        "        return F.log_softmax(x, dim=1)\n",
        "\n",
        "\n",
        "device = torch.device('cuda' if torch.cuda.is_available() else 'cpu')\n",
        "model, data = Net(), data\n",
        "optimizer = torch.optim.Adam(model.parameters(), lr=0.2, weight_decay=0.005)\n",
        "\n",
        "\n",
        "def train():\n",
        "    model.train()\n",
        "    optimizer.zero_grad()\n",
        "    F.nll_loss(model()[data.train_mask], data.y[data.train_mask]).backward()\n",
        "    optimizer.step()\n",
        "\n",
        "\n",
        "@torch.no_grad()\n",
        "def test():\n",
        "    model.eval()\n",
        "    out, accs = model(), []\n",
        "    for _, mask in data('train_mask', 'val_mask', 'test_mask'):\n",
        "        pred = out[mask].argmax(1)\n",
        "        acc = pred.eq(data.y[mask]).sum().item() / mask.sum().item()\n",
        "        accs.append(acc)\n",
        "    return accs\n",
        "\n",
        "\n",
        "best_val_acc = test_acc = 0\n",
        "for epoch in range(1, 101):\n",
        "    train()\n",
        "    train_acc, val_acc, tmp_test_acc = test()\n",
        "    if val_acc > best_val_acc:\n",
        "        best_val_acc = val_acc\n",
        "        test_acc = tmp_test_acc\n",
        "    print(f'Epoch: {epoch:03d}, Train: {train_acc:.4f}, '\n",
        "          f'Val: {best_val_acc:.4f}, Test: {test_acc:.4f}')"
      ],
      "metadata": {
        "colab": {
          "base_uri": "https://localhost:8080/"
        },
        "id": "GfQUUa_CZ23h",
        "outputId": "0784bbe8-e20d-4b1f-f6da-e35133cbe73f"
      },
      "execution_count": null,
      "outputs": [
        {
          "output_type": "stream",
          "name": "stdout",
          "text": [
            "Epoch: 001, Train: 0.5531, Val: 0.5447, Test: 0.6098\n",
            "Epoch: 002, Train: 0.6049, Val: 0.6423, Test: 0.6260\n",
            "Epoch: 003, Train: 0.4687, Val: 0.6423, Test: 0.6260\n",
            "Epoch: 004, Train: 0.4687, Val: 0.6423, Test: 0.6260\n",
            "Epoch: 005, Train: 0.4687, Val: 0.6423, Test: 0.6260\n",
            "Epoch: 006, Train: 0.6049, Val: 0.6423, Test: 0.6260\n",
            "Epoch: 007, Train: 0.5940, Val: 0.6423, Test: 0.6260\n",
            "Epoch: 008, Train: 0.5640, Val: 0.6423, Test: 0.6260\n",
            "Epoch: 009, Train: 0.5640, Val: 0.6423, Test: 0.6260\n",
            "Epoch: 010, Train: 0.5640, Val: 0.6423, Test: 0.6260\n",
            "Epoch: 011, Train: 0.5640, Val: 0.6423, Test: 0.6260\n",
            "Epoch: 012, Train: 0.5613, Val: 0.6423, Test: 0.6260\n",
            "Epoch: 013, Train: 0.5586, Val: 0.6423, Test: 0.6260\n",
            "Epoch: 014, Train: 0.5886, Val: 0.6423, Test: 0.6260\n",
            "Epoch: 015, Train: 0.4687, Val: 0.6423, Test: 0.6260\n",
            "Epoch: 016, Train: 0.4687, Val: 0.6423, Test: 0.6260\n",
            "Epoch: 017, Train: 0.4932, Val: 0.6423, Test: 0.6260\n",
            "Epoch: 018, Train: 0.5613, Val: 0.6423, Test: 0.6260\n",
            "Epoch: 019, Train: 0.5368, Val: 0.6423, Test: 0.6260\n",
            "Epoch: 020, Train: 0.5368, Val: 0.6423, Test: 0.6260\n",
            "Epoch: 021, Train: 0.5531, Val: 0.6423, Test: 0.6260\n",
            "Epoch: 022, Train: 0.5613, Val: 0.6423, Test: 0.6260\n",
            "Epoch: 023, Train: 0.5858, Val: 0.6423, Test: 0.6260\n",
            "Epoch: 024, Train: 0.4687, Val: 0.6423, Test: 0.6260\n",
            "Epoch: 025, Train: 0.5041, Val: 0.6423, Test: 0.6260\n",
            "Epoch: 026, Train: 0.5967, Val: 0.6585, Test: 0.6179\n",
            "Epoch: 027, Train: 0.5640, Val: 0.6585, Test: 0.6179\n",
            "Epoch: 028, Train: 0.5640, Val: 0.6585, Test: 0.6179\n",
            "Epoch: 029, Train: 0.5586, Val: 0.6585, Test: 0.6179\n",
            "Epoch: 030, Train: 0.5640, Val: 0.6585, Test: 0.6179\n",
            "Epoch: 031, Train: 0.6022, Val: 0.6585, Test: 0.6179\n",
            "Epoch: 032, Train: 0.4687, Val: 0.6585, Test: 0.6179\n",
            "Epoch: 033, Train: 0.4687, Val: 0.6585, Test: 0.6179\n",
            "Epoch: 034, Train: 0.5286, Val: 0.6585, Test: 0.6179\n",
            "Epoch: 035, Train: 0.5368, Val: 0.6585, Test: 0.6179\n",
            "Epoch: 036, Train: 0.5613, Val: 0.6585, Test: 0.6179\n",
            "Epoch: 037, Train: 0.4687, Val: 0.6585, Test: 0.6179\n",
            "Epoch: 038, Train: 0.5995, Val: 0.6585, Test: 0.6179\n",
            "Epoch: 039, Train: 0.5967, Val: 0.6585, Test: 0.6179\n",
            "Epoch: 040, Train: 0.5886, Val: 0.6585, Test: 0.6179\n",
            "Epoch: 041, Train: 0.5940, Val: 0.6585, Test: 0.6179\n",
            "Epoch: 042, Train: 0.4578, Val: 0.6585, Test: 0.6179\n",
            "Epoch: 043, Train: 0.5313, Val: 0.6585, Test: 0.6179\n",
            "Epoch: 044, Train: 0.4687, Val: 0.6585, Test: 0.6179\n",
            "Epoch: 045, Train: 0.4687, Val: 0.6585, Test: 0.6179\n",
            "Epoch: 046, Train: 0.5940, Val: 0.6585, Test: 0.6179\n",
            "Epoch: 047, Train: 0.5531, Val: 0.6585, Test: 0.6179\n",
            "Epoch: 048, Train: 0.5640, Val: 0.6585, Test: 0.6179\n",
            "Epoch: 049, Train: 0.5995, Val: 0.6585, Test: 0.6179\n",
            "Epoch: 050, Train: 0.5995, Val: 0.6585, Test: 0.6179\n",
            "Epoch: 051, Train: 0.4687, Val: 0.6585, Test: 0.6179\n",
            "Epoch: 052, Train: 0.5368, Val: 0.6585, Test: 0.6179\n",
            "Epoch: 053, Train: 0.5368, Val: 0.6585, Test: 0.6179\n",
            "Epoch: 054, Train: 0.5450, Val: 0.6585, Test: 0.6179\n",
            "Epoch: 055, Train: 0.4687, Val: 0.6585, Test: 0.6179\n",
            "Epoch: 056, Train: 0.4659, Val: 0.6585, Test: 0.6179\n",
            "Epoch: 057, Train: 0.5886, Val: 0.6585, Test: 0.6179\n",
            "Epoch: 058, Train: 0.5640, Val: 0.6585, Test: 0.6179\n",
            "Epoch: 059, Train: 0.5668, Val: 0.6585, Test: 0.6179\n",
            "Epoch: 060, Train: 0.5640, Val: 0.6585, Test: 0.6179\n",
            "Epoch: 061, Train: 0.5613, Val: 0.6585, Test: 0.6179\n",
            "Epoch: 062, Train: 0.5804, Val: 0.6585, Test: 0.6179\n",
            "Epoch: 063, Train: 0.4687, Val: 0.6585, Test: 0.6179\n",
            "Epoch: 064, Train: 0.4687, Val: 0.6585, Test: 0.6179\n",
            "Epoch: 065, Train: 0.5341, Val: 0.6585, Test: 0.6179\n",
            "Epoch: 066, Train: 0.5368, Val: 0.6585, Test: 0.6179\n",
            "Epoch: 067, Train: 0.5559, Val: 0.6585, Test: 0.6179\n",
            "Epoch: 068, Train: 0.6049, Val: 0.6585, Test: 0.6179\n",
            "Epoch: 069, Train: 0.4687, Val: 0.6585, Test: 0.6179\n",
            "Epoch: 070, Train: 0.4659, Val: 0.6585, Test: 0.6179\n",
            "Epoch: 071, Train: 0.5967, Val: 0.6585, Test: 0.6179\n",
            "Epoch: 072, Train: 0.5586, Val: 0.6585, Test: 0.6179\n",
            "Epoch: 073, Train: 0.5613, Val: 0.6585, Test: 0.6179\n",
            "Epoch: 074, Train: 0.5640, Val: 0.6585, Test: 0.6179\n",
            "Epoch: 075, Train: 0.5504, Val: 0.6585, Test: 0.6179\n",
            "Epoch: 076, Train: 0.5886, Val: 0.6585, Test: 0.6179\n",
            "Epoch: 077, Train: 0.4687, Val: 0.6585, Test: 0.6179\n",
            "Epoch: 078, Train: 0.4687, Val: 0.6585, Test: 0.6179\n",
            "Epoch: 079, Train: 0.5422, Val: 0.6585, Test: 0.6179\n",
            "Epoch: 080, Train: 0.5395, Val: 0.6585, Test: 0.6179\n",
            "Epoch: 081, Train: 0.5368, Val: 0.6585, Test: 0.6179\n",
            "Epoch: 082, Train: 0.5831, Val: 0.6585, Test: 0.6179\n",
            "Epoch: 083, Train: 0.4687, Val: 0.6585, Test: 0.6179\n",
            "Epoch: 084, Train: 0.4687, Val: 0.6585, Test: 0.6179\n",
            "Epoch: 085, Train: 0.5586, Val: 0.6585, Test: 0.6179\n",
            "Epoch: 086, Train: 0.5613, Val: 0.6585, Test: 0.6179\n",
            "Epoch: 087, Train: 0.5531, Val: 0.6585, Test: 0.6179\n",
            "Epoch: 088, Train: 0.5559, Val: 0.6585, Test: 0.6179\n",
            "Epoch: 089, Train: 0.5940, Val: 0.6585, Test: 0.6179\n",
            "Epoch: 090, Train: 0.5668, Val: 0.6585, Test: 0.6179\n",
            "Epoch: 091, Train: 0.4687, Val: 0.6585, Test: 0.6179\n",
            "Epoch: 092, Train: 0.6076, Val: 0.6585, Test: 0.6179\n",
            "Epoch: 093, Train: 0.5422, Val: 0.6585, Test: 0.6179\n",
            "Epoch: 094, Train: 0.5313, Val: 0.6585, Test: 0.6179\n",
            "Epoch: 095, Train: 0.4687, Val: 0.6585, Test: 0.6179\n",
            "Epoch: 096, Train: 0.5967, Val: 0.6585, Test: 0.6179\n",
            "Epoch: 097, Train: 0.5586, Val: 0.6585, Test: 0.6179\n",
            "Epoch: 098, Train: 0.4687, Val: 0.6585, Test: 0.6179\n",
            "Epoch: 099, Train: 0.5341, Val: 0.6585, Test: 0.6179\n",
            "Epoch: 100, Train: 0.5504, Val: 0.6585, Test: 0.6179\n"
          ]
        }
      ]
    },
    {
      "cell_type": "markdown",
      "source": [
        "K = 1"
      ],
      "metadata": {
        "id": "3w767Lt7aaV0"
      }
    },
    {
      "cell_type": "code",
      "source": [
        "class Net(torch.nn.Module):\n",
        "    def __init__(self):\n",
        "        super().__init__()\n",
        "        self.conv1 = SGConv(data.num_features, data.num_classes, K=1,\n",
        "                            cached=True)\n",
        "\n",
        "    def forward(self):\n",
        "        x, edge_index = data.x, data.edge_index\n",
        "        x = self.conv1(x, edge_index)\n",
        "        return F.log_softmax(x, dim=1)\n",
        "\n",
        "\n",
        "device = torch.device('cuda' if torch.cuda.is_available() else 'cpu')\n",
        "model, data = Net(), data\n",
        "optimizer = torch.optim.Adam(model.parameters(), lr=0.2, weight_decay=0.005)\n",
        "\n",
        "\n",
        "def train():\n",
        "    model.train()\n",
        "    optimizer.zero_grad()\n",
        "    F.nll_loss(model()[data.train_mask], data.y[data.train_mask]).backward()\n",
        "    optimizer.step()\n",
        "\n",
        "\n",
        "@torch.no_grad()\n",
        "def test():\n",
        "    model.eval()\n",
        "    out, accs = model(), []\n",
        "    for _, mask in data('train_mask', 'val_mask', 'test_mask'):\n",
        "        pred = out[mask].argmax(1)\n",
        "        acc = pred.eq(data.y[mask]).sum().item() / mask.sum().item()\n",
        "        accs.append(acc)\n",
        "    return accs\n",
        "\n",
        "\n",
        "best_val_acc = test_acc = 0\n",
        "for epoch in range(1, 101):\n",
        "    train()\n",
        "    train_acc, val_acc, tmp_test_acc = test()\n",
        "    if val_acc > best_val_acc:\n",
        "        best_val_acc = val_acc\n",
        "        test_acc = tmp_test_acc\n",
        "    print(f'Epoch: {epoch:03d}, Train: {train_acc:.4f}, '\n",
        "          f'Val: {best_val_acc:.4f}, Test: {test_acc:.4f}')"
      ],
      "metadata": {
        "colab": {
          "base_uri": "https://localhost:8080/"
        },
        "id": "w8UF29KnaUkh",
        "outputId": "4fe9c20c-bc79-4e4e-98d3-f16b1ec7e10a"
      },
      "execution_count": null,
      "outputs": [
        {
          "output_type": "stream",
          "name": "stdout",
          "text": [
            "Epoch: 001, Train: 0.4605, Val: 0.4553, Test: 0.4065\n",
            "Epoch: 002, Train: 0.4605, Val: 0.4634, Test: 0.4146\n",
            "Epoch: 003, Train: 0.4196, Val: 0.4634, Test: 0.4146\n",
            "Epoch: 004, Train: 0.5313, Val: 0.5366, Test: 0.5935\n",
            "Epoch: 005, Train: 0.5313, Val: 0.5366, Test: 0.5935\n",
            "Epoch: 006, Train: 0.5313, Val: 0.5366, Test: 0.5935\n",
            "Epoch: 007, Train: 0.5395, Val: 0.5447, Test: 0.6016\n",
            "Epoch: 008, Train: 0.5531, Val: 0.5528, Test: 0.6098\n",
            "Epoch: 009, Train: 0.6158, Val: 0.6179, Test: 0.6098\n",
            "Epoch: 010, Train: 0.6158, Val: 0.6341, Test: 0.6423\n",
            "Epoch: 011, Train: 0.5995, Val: 0.6341, Test: 0.6423\n",
            "Epoch: 012, Train: 0.5913, Val: 0.6341, Test: 0.6423\n",
            "Epoch: 013, Train: 0.5368, Val: 0.6341, Test: 0.6423\n",
            "Epoch: 014, Train: 0.5204, Val: 0.6341, Test: 0.6423\n",
            "Epoch: 015, Train: 0.5504, Val: 0.6341, Test: 0.6423\n",
            "Epoch: 016, Train: 0.5831, Val: 0.6341, Test: 0.6423\n",
            "Epoch: 017, Train: 0.6076, Val: 0.6341, Test: 0.6423\n",
            "Epoch: 018, Train: 0.6022, Val: 0.6341, Test: 0.6423\n",
            "Epoch: 019, Train: 0.6267, Val: 0.6423, Test: 0.6098\n",
            "Epoch: 020, Train: 0.6185, Val: 0.6423, Test: 0.6098\n",
            "Epoch: 021, Train: 0.6213, Val: 0.6423, Test: 0.6098\n",
            "Epoch: 022, Train: 0.6158, Val: 0.6423, Test: 0.6098\n",
            "Epoch: 023, Train: 0.6185, Val: 0.6423, Test: 0.6098\n",
            "Epoch: 024, Train: 0.6158, Val: 0.6423, Test: 0.6098\n",
            "Epoch: 025, Train: 0.6213, Val: 0.6423, Test: 0.6098\n",
            "Epoch: 026, Train: 0.5967, Val: 0.6423, Test: 0.6098\n",
            "Epoch: 027, Train: 0.4605, Val: 0.6423, Test: 0.6098\n",
            "Epoch: 028, Train: 0.3951, Val: 0.6423, Test: 0.6098\n",
            "Epoch: 029, Train: 0.5313, Val: 0.6423, Test: 0.6098\n",
            "Epoch: 030, Train: 0.5313, Val: 0.6423, Test: 0.6098\n",
            "Epoch: 031, Train: 0.3896, Val: 0.6423, Test: 0.6098\n",
            "Epoch: 032, Train: 0.4605, Val: 0.6423, Test: 0.6098\n",
            "Epoch: 033, Train: 0.6267, Val: 0.6423, Test: 0.6098\n",
            "Epoch: 034, Train: 0.6267, Val: 0.6423, Test: 0.6098\n",
            "Epoch: 035, Train: 0.6076, Val: 0.6423, Test: 0.6098\n",
            "Epoch: 036, Train: 0.6213, Val: 0.6423, Test: 0.6098\n",
            "Epoch: 037, Train: 0.6049, Val: 0.6423, Test: 0.6098\n",
            "Epoch: 038, Train: 0.5014, Val: 0.6423, Test: 0.6098\n",
            "Epoch: 039, Train: 0.6076, Val: 0.6423, Test: 0.6098\n",
            "Epoch: 040, Train: 0.6158, Val: 0.6423, Test: 0.6098\n",
            "Epoch: 041, Train: 0.5422, Val: 0.6423, Test: 0.6098\n",
            "Epoch: 042, Train: 0.4687, Val: 0.6423, Test: 0.6098\n",
            "Epoch: 043, Train: 0.3951, Val: 0.6423, Test: 0.6098\n",
            "Epoch: 044, Train: 0.5422, Val: 0.6423, Test: 0.6098\n",
            "Epoch: 045, Train: 0.5913, Val: 0.6423, Test: 0.6098\n",
            "Epoch: 046, Train: 0.6267, Val: 0.6423, Test: 0.6098\n",
            "Epoch: 047, Train: 0.5858, Val: 0.6423, Test: 0.6098\n",
            "Epoch: 048, Train: 0.5450, Val: 0.6423, Test: 0.6098\n",
            "Epoch: 049, Train: 0.5804, Val: 0.6423, Test: 0.6098\n",
            "Epoch: 050, Train: 0.6158, Val: 0.6423, Test: 0.6098\n",
            "Epoch: 051, Train: 0.6185, Val: 0.6423, Test: 0.6098\n",
            "Epoch: 052, Train: 0.6158, Val: 0.6423, Test: 0.6098\n",
            "Epoch: 053, Train: 0.5368, Val: 0.6423, Test: 0.6098\n",
            "Epoch: 054, Train: 0.4687, Val: 0.6423, Test: 0.6098\n",
            "Epoch: 055, Train: 0.4632, Val: 0.6423, Test: 0.6098\n",
            "Epoch: 056, Train: 0.5286, Val: 0.6423, Test: 0.6098\n",
            "Epoch: 057, Train: 0.5368, Val: 0.6423, Test: 0.6098\n",
            "Epoch: 058, Train: 0.4687, Val: 0.6423, Test: 0.6098\n",
            "Epoch: 059, Train: 0.6049, Val: 0.6423, Test: 0.6098\n",
            "Epoch: 060, Train: 0.6240, Val: 0.6423, Test: 0.6098\n",
            "Epoch: 061, Train: 0.6240, Val: 0.6423, Test: 0.6098\n",
            "Epoch: 062, Train: 0.5967, Val: 0.6423, Test: 0.6098\n",
            "Epoch: 063, Train: 0.5804, Val: 0.6423, Test: 0.6098\n",
            "Epoch: 064, Train: 0.5668, Val: 0.6423, Test: 0.6098\n",
            "Epoch: 065, Train: 0.6158, Val: 0.6423, Test: 0.6098\n",
            "Epoch: 066, Train: 0.5341, Val: 0.6423, Test: 0.6098\n",
            "Epoch: 067, Train: 0.4523, Val: 0.6423, Test: 0.6098\n",
            "Epoch: 068, Train: 0.3978, Val: 0.6423, Test: 0.6098\n",
            "Epoch: 069, Train: 0.5422, Val: 0.6423, Test: 0.6098\n",
            "Epoch: 070, Train: 0.6158, Val: 0.6423, Test: 0.6098\n",
            "Epoch: 071, Train: 0.6267, Val: 0.6423, Test: 0.6098\n",
            "Epoch: 072, Train: 0.5995, Val: 0.6423, Test: 0.6098\n",
            "Epoch: 073, Train: 0.5286, Val: 0.6423, Test: 0.6098\n",
            "Epoch: 074, Train: 0.5640, Val: 0.6423, Test: 0.6098\n",
            "Epoch: 075, Train: 0.6076, Val: 0.6423, Test: 0.6098\n",
            "Epoch: 076, Train: 0.6076, Val: 0.6423, Test: 0.6098\n",
            "Epoch: 077, Train: 0.5640, Val: 0.6423, Test: 0.6098\n",
            "Epoch: 078, Train: 0.6158, Val: 0.6423, Test: 0.6098\n",
            "Epoch: 079, Train: 0.4632, Val: 0.6423, Test: 0.6098\n",
            "Epoch: 080, Train: 0.3842, Val: 0.6423, Test: 0.6098\n",
            "Epoch: 081, Train: 0.5286, Val: 0.6423, Test: 0.6098\n",
            "Epoch: 082, Train: 0.5586, Val: 0.6423, Test: 0.6098\n",
            "Epoch: 083, Train: 0.4687, Val: 0.6423, Test: 0.6098\n",
            "Epoch: 084, Train: 0.5967, Val: 0.6423, Test: 0.6098\n",
            "Epoch: 085, Train: 0.6240, Val: 0.6423, Test: 0.6098\n",
            "Epoch: 086, Train: 0.6185, Val: 0.6423, Test: 0.6098\n",
            "Epoch: 087, Train: 0.6158, Val: 0.6423, Test: 0.6098\n",
            "Epoch: 088, Train: 0.6185, Val: 0.6423, Test: 0.6098\n",
            "Epoch: 089, Train: 0.5777, Val: 0.6423, Test: 0.6098\n",
            "Epoch: 090, Train: 0.4687, Val: 0.6423, Test: 0.6098\n",
            "Epoch: 091, Train: 0.5368, Val: 0.6423, Test: 0.6098\n",
            "Epoch: 092, Train: 0.5368, Val: 0.6423, Test: 0.6098\n",
            "Epoch: 093, Train: 0.4687, Val: 0.6423, Test: 0.6098\n",
            "Epoch: 094, Train: 0.6076, Val: 0.6423, Test: 0.6098\n",
            "Epoch: 095, Train: 0.6131, Val: 0.6423, Test: 0.6098\n",
            "Epoch: 096, Train: 0.6022, Val: 0.6423, Test: 0.6098\n",
            "Epoch: 097, Train: 0.4687, Val: 0.6423, Test: 0.6098\n",
            "Epoch: 098, Train: 0.5368, Val: 0.6423, Test: 0.6098\n",
            "Epoch: 099, Train: 0.5368, Val: 0.6423, Test: 0.6098\n",
            "Epoch: 100, Train: 0.4687, Val: 0.6423, Test: 0.6098\n"
          ]
        }
      ]
    },
    {
      "cell_type": "code",
      "source": [],
      "metadata": {
        "id": "R4O4vLUGaotc"
      },
      "execution_count": null,
      "outputs": []
    },
    {
      "cell_type": "markdown",
      "source": [
        "K = 3"
      ],
      "metadata": {
        "id": "a6axEjlca1yN"
      }
    },
    {
      "cell_type": "code",
      "source": [
        "class Net(torch.nn.Module):\n",
        "    def __init__(self):\n",
        "        super().__init__()\n",
        "        self.conv1 = SGConv(data.num_features, data.num_classes, K=3,\n",
        "                            cached=True)\n",
        "\n",
        "    def forward(self):\n",
        "        x, edge_index = data.x, data.edge_index\n",
        "        x = self.conv1(x, edge_index)\n",
        "        return F.log_softmax(x, dim=1)\n",
        "\n",
        "\n",
        "device = torch.device('cuda' if torch.cuda.is_available() else 'cpu')\n",
        "model, data = Net(), data\n",
        "optimizer = torch.optim.Adam(model.parameters(), lr=0.2, weight_decay=0.005)\n",
        "\n",
        "\n",
        "def train():\n",
        "    model.train()\n",
        "    optimizer.zero_grad()\n",
        "    F.nll_loss(model()[data.train_mask], data.y[data.train_mask]).backward()\n",
        "    optimizer.step()\n",
        "\n",
        "\n",
        "@torch.no_grad()\n",
        "def test():\n",
        "    model.eval()\n",
        "    out, accs = model(), []\n",
        "    for _, mask in data('train_mask', 'val_mask', 'test_mask'):\n",
        "        pred = out[mask].argmax(1)\n",
        "        acc = pred.eq(data.y[mask]).sum().item() / mask.sum().item()\n",
        "        accs.append(acc)\n",
        "    return accs\n",
        "\n",
        "\n",
        "best_val_acc = test_acc = 0\n",
        "for epoch in range(1, 101):\n",
        "    train()\n",
        "    train_acc, val_acc, tmp_test_acc = test()\n",
        "    if val_acc > best_val_acc:\n",
        "        best_val_acc = val_acc\n",
        "        test_acc = tmp_test_acc\n",
        "    print(f'Epoch: {epoch:03d}, Train: {train_acc:.4f}, '\n",
        "          f'Val: {best_val_acc:.4f}, Test: {test_acc:.4f}')"
      ],
      "metadata": {
        "colab": {
          "base_uri": "https://localhost:8080/"
        },
        "outputId": "aaafcafc-cc32-47dc-ce4f-fcb3cf87b036",
        "id": "Q2naDNDOa1yO"
      },
      "execution_count": null,
      "outputs": [
        {
          "output_type": "stream",
          "name": "stdout",
          "text": [
            "Epoch: 001, Train: 0.5395, Val: 0.5366, Test: 0.5854\n",
            "Epoch: 002, Train: 0.5395, Val: 0.5610, Test: 0.6179\n",
            "Epoch: 003, Train: 0.4687, Val: 0.5610, Test: 0.6179\n",
            "Epoch: 004, Train: 0.4687, Val: 0.5610, Test: 0.6179\n",
            "Epoch: 005, Train: 0.4687, Val: 0.5610, Test: 0.6179\n",
            "Epoch: 006, Train: 0.5368, Val: 0.5610, Test: 0.6179\n",
            "Epoch: 007, Train: 0.5559, Val: 0.5610, Test: 0.6179\n",
            "Epoch: 008, Train: 0.5559, Val: 0.5610, Test: 0.6179\n",
            "Epoch: 009, Train: 0.5586, Val: 0.5610, Test: 0.6179\n",
            "Epoch: 010, Train: 0.5559, Val: 0.5610, Test: 0.6179\n",
            "Epoch: 011, Train: 0.5559, Val: 0.5610, Test: 0.6179\n",
            "Epoch: 012, Train: 0.5531, Val: 0.5610, Test: 0.6179\n",
            "Epoch: 013, Train: 0.5313, Val: 0.5610, Test: 0.6179\n",
            "Epoch: 014, Train: 0.5886, Val: 0.6341, Test: 0.5447\n",
            "Epoch: 015, Train: 0.4687, Val: 0.6341, Test: 0.5447\n",
            "Epoch: 016, Train: 0.4687, Val: 0.6341, Test: 0.5447\n",
            "Epoch: 017, Train: 0.5804, Val: 0.6341, Test: 0.5447\n",
            "Epoch: 018, Train: 0.5395, Val: 0.6341, Test: 0.5447\n",
            "Epoch: 019, Train: 0.5559, Val: 0.6341, Test: 0.5447\n",
            "Epoch: 020, Train: 0.5531, Val: 0.6341, Test: 0.5447\n",
            "Epoch: 021, Train: 0.5422, Val: 0.6341, Test: 0.5447\n",
            "Epoch: 022, Train: 0.5531, Val: 0.6341, Test: 0.5447\n",
            "Epoch: 023, Train: 0.4687, Val: 0.6341, Test: 0.5447\n",
            "Epoch: 024, Train: 0.4687, Val: 0.6341, Test: 0.5447\n",
            "Epoch: 025, Train: 0.5422, Val: 0.6341, Test: 0.5447\n",
            "Epoch: 026, Train: 0.5450, Val: 0.6341, Test: 0.5447\n",
            "Epoch: 027, Train: 0.5422, Val: 0.6341, Test: 0.5447\n",
            "Epoch: 028, Train: 0.5531, Val: 0.6341, Test: 0.5447\n",
            "Epoch: 029, Train: 0.5531, Val: 0.6341, Test: 0.5447\n",
            "Epoch: 030, Train: 0.5967, Val: 0.6423, Test: 0.5854\n",
            "Epoch: 031, Train: 0.4687, Val: 0.6423, Test: 0.5854\n",
            "Epoch: 032, Train: 0.5586, Val: 0.6423, Test: 0.5854\n",
            "Epoch: 033, Train: 0.5259, Val: 0.6423, Test: 0.5854\n",
            "Epoch: 034, Train: 0.5559, Val: 0.6423, Test: 0.5854\n",
            "Epoch: 035, Train: 0.5450, Val: 0.6423, Test: 0.5854\n",
            "Epoch: 036, Train: 0.5422, Val: 0.6423, Test: 0.5854\n",
            "Epoch: 037, Train: 0.4687, Val: 0.6423, Test: 0.5854\n",
            "Epoch: 038, Train: 0.4687, Val: 0.6423, Test: 0.5854\n",
            "Epoch: 039, Train: 0.5232, Val: 0.6423, Test: 0.5854\n",
            "Epoch: 040, Train: 0.5368, Val: 0.6423, Test: 0.5854\n",
            "Epoch: 041, Train: 0.5341, Val: 0.6423, Test: 0.5854\n",
            "Epoch: 042, Train: 0.5559, Val: 0.6423, Test: 0.5854\n",
            "Epoch: 043, Train: 0.4687, Val: 0.6423, Test: 0.5854\n",
            "Epoch: 044, Train: 0.5749, Val: 0.6423, Test: 0.5854\n",
            "Epoch: 045, Train: 0.5450, Val: 0.6423, Test: 0.5854\n",
            "Epoch: 046, Train: 0.5531, Val: 0.6423, Test: 0.5854\n",
            "Epoch: 047, Train: 0.5477, Val: 0.6423, Test: 0.5854\n",
            "Epoch: 048, Train: 0.5204, Val: 0.6423, Test: 0.5854\n",
            "Epoch: 049, Train: 0.4687, Val: 0.6423, Test: 0.5854\n",
            "Epoch: 050, Train: 0.4687, Val: 0.6423, Test: 0.5854\n",
            "Epoch: 051, Train: 0.5232, Val: 0.6423, Test: 0.5854\n",
            "Epoch: 052, Train: 0.5286, Val: 0.6423, Test: 0.5854\n",
            "Epoch: 053, Train: 0.5450, Val: 0.6423, Test: 0.5854\n",
            "Epoch: 054, Train: 0.4850, Val: 0.6423, Test: 0.5854\n",
            "Epoch: 055, Train: 0.5858, Val: 0.6423, Test: 0.5854\n",
            "Epoch: 056, Train: 0.5749, Val: 0.6423, Test: 0.5854\n",
            "Epoch: 057, Train: 0.5313, Val: 0.6423, Test: 0.5854\n",
            "Epoch: 058, Train: 0.5313, Val: 0.6423, Test: 0.5854\n",
            "Epoch: 059, Train: 0.5913, Val: 0.6423, Test: 0.5854\n",
            "Epoch: 060, Train: 0.4687, Val: 0.6423, Test: 0.5854\n",
            "Epoch: 061, Train: 0.5204, Val: 0.6423, Test: 0.5854\n",
            "Epoch: 062, Train: 0.3842, Val: 0.6423, Test: 0.5854\n",
            "Epoch: 063, Train: 0.5341, Val: 0.6423, Test: 0.5854\n",
            "Epoch: 064, Train: 0.5831, Val: 0.6423, Test: 0.5854\n",
            "Epoch: 065, Train: 0.5777, Val: 0.6423, Test: 0.5854\n",
            "Epoch: 066, Train: 0.6049, Val: 0.6423, Test: 0.5854\n",
            "Epoch: 067, Train: 0.5940, Val: 0.6423, Test: 0.5854\n",
            "Epoch: 068, Train: 0.6104, Val: 0.6585, Test: 0.5691\n",
            "Epoch: 069, Train: 0.4687, Val: 0.6585, Test: 0.5691\n",
            "Epoch: 070, Train: 0.5313, Val: 0.6585, Test: 0.5691\n",
            "Epoch: 071, Train: 0.5286, Val: 0.6585, Test: 0.5691\n",
            "Epoch: 072, Train: 0.4905, Val: 0.6585, Test: 0.5691\n",
            "Epoch: 073, Train: 0.6049, Val: 0.6585, Test: 0.5691\n",
            "Epoch: 074, Train: 0.6158, Val: 0.6585, Test: 0.5691\n",
            "Epoch: 075, Train: 0.4687, Val: 0.6585, Test: 0.5691\n",
            "Epoch: 076, Train: 0.5259, Val: 0.6585, Test: 0.5691\n",
            "Epoch: 077, Train: 0.5286, Val: 0.6585, Test: 0.5691\n",
            "Epoch: 078, Train: 0.5286, Val: 0.6585, Test: 0.5691\n",
            "Epoch: 079, Train: 0.4687, Val: 0.6585, Test: 0.5691\n",
            "Epoch: 080, Train: 0.4687, Val: 0.6585, Test: 0.5691\n",
            "Epoch: 081, Train: 0.5450, Val: 0.6585, Test: 0.5691\n",
            "Epoch: 082, Train: 0.5450, Val: 0.6585, Test: 0.5691\n",
            "Epoch: 083, Train: 0.5531, Val: 0.6585, Test: 0.5691\n",
            "Epoch: 084, Train: 0.5477, Val: 0.6585, Test: 0.5691\n",
            "Epoch: 085, Train: 0.5286, Val: 0.6585, Test: 0.5691\n",
            "Epoch: 086, Train: 0.4687, Val: 0.6585, Test: 0.5691\n",
            "Epoch: 087, Train: 0.4687, Val: 0.6585, Test: 0.5691\n",
            "Epoch: 088, Train: 0.5477, Val: 0.6585, Test: 0.5691\n",
            "Epoch: 089, Train: 0.5477, Val: 0.6585, Test: 0.5691\n",
            "Epoch: 090, Train: 0.5531, Val: 0.6585, Test: 0.5691\n",
            "Epoch: 091, Train: 0.5477, Val: 0.6585, Test: 0.5691\n",
            "Epoch: 092, Train: 0.4823, Val: 0.6585, Test: 0.5691\n",
            "Epoch: 093, Train: 0.5014, Val: 0.6585, Test: 0.5691\n",
            "Epoch: 094, Train: 0.5395, Val: 0.6585, Test: 0.5691\n",
            "Epoch: 095, Train: 0.5422, Val: 0.6585, Test: 0.5691\n",
            "Epoch: 096, Train: 0.5450, Val: 0.6585, Test: 0.5691\n",
            "Epoch: 097, Train: 0.6131, Val: 0.6585, Test: 0.5691\n",
            "Epoch: 098, Train: 0.4687, Val: 0.6585, Test: 0.5691\n",
            "Epoch: 099, Train: 0.4687, Val: 0.6585, Test: 0.5691\n",
            "Epoch: 100, Train: 0.5286, Val: 0.6585, Test: 0.5691\n"
          ]
        }
      ]
    },
    {
      "cell_type": "markdown",
      "source": [
        "8. [25 points] Induced sparsity on the graph\n",
        "Investigate the format of ”data.edge index” which holds the edge information. Run\n",
        "the same as part 4 above, but this time we will remove some edges randomly from the\n",
        "graph and also print the final validation accuracy in addition to plotting the training\n",
        "loss. You can modify this edge list variable to remove a random 5%, 25%, 50%, and\n",
        "95% percentage of the links in the graph. Please note that “dropout adj” in PyG is not\n",
        "what we’re looking for here, as this randomly drops edges throughout training similar\n",
        "to how traditional dropout works. Instead, we are looking to completely remove them\n",
        "from the edge list prior to training to simulate the result of going from full graph,\n",
        "to nearly no connections left between the nodes (i.e., approaching a fully connected\n",
        "neural network instead of GNN). "
      ],
      "metadata": {
        "id": "p_dmBWOaa32D"
      }
    },
    {
      "cell_type": "code",
      "source": [
        "data.edge_index"
      ],
      "metadata": {
        "colab": {
          "base_uri": "https://localhost:8080/"
        },
        "id": "si1ilaTsbTl2",
        "outputId": "0df1bcf1-1296-4288-b4d4-fb0355e4370e"
      },
      "execution_count": null,
      "outputs": [
        {
          "output_type": "execute_result",
          "data": {
            "text/plain": [
              "tensor([[  1,   2,   3,  ..., 606, 609, 609],\n",
              "        [  0,   0,   2,  ..., 606, 606, 606]])"
            ]
          },
          "metadata": {},
          "execution_count": 93
        }
      ]
    },
    {
      "cell_type": "code",
      "source": [
        "import random\n",
        "remove_percent = 0.25\n",
        "\n",
        "e = data.edge_index\n",
        "m = e.shape[1]\n",
        "keep = random.sample(range(m),int(m*(1-remove_percent)))\n",
        "e_reduced = e[:,keep]\n",
        "e_reduced.shape"
      ],
      "metadata": {
        "colab": {
          "base_uri": "https://localhost:8080/"
        },
        "id": "0CuyD-JgcW2p",
        "outputId": "1c56e139-dc8a-4c03-d0ad-0458c1ab08df"
      },
      "execution_count": null,
      "outputs": [
        {
          "output_type": "execute_result",
          "data": {
            "text/plain": [
              "torch.Size([2, 1255])"
            ]
          },
          "metadata": {},
          "execution_count": 94
        }
      ]
    },
    {
      "cell_type": "code",
      "source": [
        "data.edge_index = e_reduced\n",
        "data.edge_index.shape"
      ],
      "metadata": {
        "colab": {
          "base_uri": "https://localhost:8080/"
        },
        "id": "lr1jL6xDd7rH",
        "outputId": "5b652239-fb60-410f-8b48-06cde702d7e8"
      },
      "execution_count": null,
      "outputs": [
        {
          "output_type": "execute_result",
          "data": {
            "text/plain": [
              "torch.Size([2, 1255])"
            ]
          },
          "metadata": {},
          "execution_count": 95
        }
      ]
    },
    {
      "cell_type": "code",
      "source": [
        "model = GCN()\n",
        "optimizer = torch.optim.Adam(model.parameters(), lr=1e-2, weight_decay=1e-4)\n",
        "\n",
        "model.train()\n",
        "loss_values = []\n",
        "for epoch in range(200):\n",
        "    optimizer.zero_grad()\n",
        "    out = model(data)\n",
        "    loss = F.nll_loss(out[data.train_mask], data.y[data.train_mask])\n",
        "    loss_values.append(loss.item())\n",
        "    loss.backward()\n",
        "    optimizer.step()"
      ],
      "metadata": {
        "id": "QT3_qlYrdVf4"
      },
      "execution_count": null,
      "outputs": []
    },
    {
      "cell_type": "code",
      "source": [
        "plt.plot(loss_values);"
      ],
      "metadata": {
        "colab": {
          "base_uri": "https://localhost:8080/",
          "height": 430
        },
        "outputId": "4ec01fb8-70d3-4c73-e8aa-8800a56a8c75",
        "id": "Ybs4Sw5wdVf6"
      },
      "execution_count": null,
      "outputs": [
        {
          "output_type": "display_data",
          "data": {
            "text/plain": [
              "<Figure size 640x480 with 1 Axes>"
            ],
            "image/png": "[encoded data removed]"
          },
          "metadata": {}
        }
      ]
    },
    {
      "cell_type": "markdown",
      "source": [
        "## LOOP :) "
      ],
      "metadata": {
        "id": "xd67xiYceTQA"
      }
    },
    {
      "cell_type": "code",
      "source": [
        "remove_percent = [0, 0.05, 0.25, 0.5, 0.95]\n",
        "\n",
        "for i in remove_percent: \n",
        "  data = Data(x= x , edge_index=edge_source_dest, y=y, num_classes = 2)\n",
        "  msk=masking(split=\"train_rest\", num_splits = 1, num_val = 0.2, num_test= 0.2)\n",
        "  data=msk(data)\n",
        "\n",
        "  e = data.edge_index\n",
        "  m = e.shape[1]\n",
        "  keep = random.sample(range(m),int(m*(1-i)))\n",
        "  e_reduced = e[:,keep]\n",
        "  print(e_reduced.shape[1])\n",
        "  data.edge_index = e_reduced\n",
        "  print(data.edge_index.shape[1])\n",
        "\n",
        "  model = GCN()\n",
        "  optimizer = torch.optim.Adam(model.parameters(), lr=1e-2, weight_decay=1e-4)\n",
        "\n",
        "  model.train()\n",
        "  loss_values = []\n",
        "  for epoch in range(200):\n",
        "      optimizer.zero_grad()\n",
        "      out = model(data)\n",
        "      loss = F.nll_loss(out[data.train_mask], data.y[data.train_mask])\n",
        "      loss_values.append(loss.item())\n",
        "      loss.backward()\n",
        "      optimizer.step()\n",
        "  \n",
        "  model.eval()\n",
        "  pred = model(data).argmax(dim=1)\n",
        "  correct = (pred[data.val_mask] == data.y[data.val_mask]).sum()\n",
        "  acc = int(correct) / int(data.val_mask.sum())\n",
        "  # print(f'Accuracy: {acc:.4f}')\n",
        "\n",
        "  plt.plot(loss_values, label= f'{i} -- Acc: {acc:.4f}' );\n",
        "\n",
        "\n",
        "plt.legend(title='Remove Percentage');"
      ],
      "metadata": {
        "colab": {
          "base_uri": "https://localhost:8080/",
          "height": 604
        },
        "outputId": "475ed81b-6593-496b-a93d-1ea19cd165be",
        "id": "98pSgILdejHF"
      },
      "execution_count": null,
      "outputs": [
        {
          "output_type": "stream",
          "name": "stdout",
          "text": [
            "1674\n",
            "1674\n",
            "1590\n",
            "1590\n",
            "1255\n",
            "1255\n",
            "837\n",
            "837\n",
            "83\n",
            "83\n"
          ]
        },
        {
          "output_type": "display_data",
          "data": {
            "text/plain": [
              "<Figure size 640x480 with 1 Axes>"
            ],
            "image/png": "[encoded data removed]"
          },
          "metadata": {}
        }
      ]
    },
    {
      "cell_type": "code",
      "source": [],
      "metadata": {
        "id": "Jg0TU-IzZ_cw"
      },
      "execution_count": null,
      "outputs": []
    }
  ]
}