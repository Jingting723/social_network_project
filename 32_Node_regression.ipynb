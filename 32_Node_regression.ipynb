{
  "nbformat": 4,
  "nbformat_minor": 0,
  "metadata": {
    "colab": {
      "provenance": []
    },
    "kernelspec": {
      "name": "python3",
      "display_name": "Python 3"
    },
    "language_info": {
      "name": "python"
    },
    "accelerator": "TPU",
    "gpuClass": "standard"
  },
  "cells": [
    {
      "cell_type": "markdown",
      "source": [
        "# Aim \n",
        "> Here we are replicating our progress in the notebook 31-Node classification. Instead of dichotomizing upvotes, we are using it as a continuous variable and we are solving a regression task"
      ],
      "metadata": {
        "id": "ATxdjgVEx5ZW"
      }
    },
    {
      "cell_type": "code",
      "execution_count": 1,
      "metadata": {
        "colab": {
          "base_uri": "https://localhost:8080/"
        },
        "id": "RYhP-xWlUh04",
        "outputId": "bb043905-f9f9-4d88-a42c-932d67b05605"
      },
      "outputs": [
        {
          "output_type": "stream",
          "name": "stdout",
          "text": [
            "Looking in indexes: https://pypi.org/simple, https://us-python.pkg.dev/colab-wheels/public/simple/\n",
            "Collecting torch-geometric\n",
            "  Downloading torch_geometric-2.3.1.tar.gz (661 kB)\n",
            "\u001b[2K     \u001b[90m━━━━━━━━━━━━━━━━━━━━━━━━━━━━━━━━━━━━━━━\u001b[0m \u001b[32m661.6/661.6 kB\u001b[0m \u001b[31m5.0 MB/s\u001b[0m eta \u001b[36m0:00:00\u001b[0m\n",
            "\u001b[?25h  Installing build dependencies ... \u001b[?25l\u001b[?25hdone\n",
            "  Getting requirements to build wheel ... \u001b[?25l\u001b[?25hdone\n",
            "  Preparing metadata (pyproject.toml) ... \u001b[?25l\u001b[?25hdone\n",
            "Requirement already satisfied: numpy in /usr/local/lib/python3.10/dist-packages (from torch-geometric) (1.24.3)\n",
            "Requirement already satisfied: scikit-learn in /usr/local/lib/python3.10/dist-packages (from torch-geometric) (1.2.2)\n",
            "Requirement already satisfied: requests in /usr/local/lib/python3.10/dist-packages (from torch-geometric) (2.27.1)\n",
            "Requirement already satisfied: psutil>=5.8.0 in /usr/local/lib/python3.10/dist-packages (from torch-geometric) (5.9.5)\n",
            "Requirement already satisfied: tqdm in /usr/local/lib/python3.10/dist-packages (from torch-geometric) (4.65.0)\n",
            "Requirement already satisfied: pyparsing in /usr/local/lib/python3.10/dist-packages (from torch-geometric) (3.0.9)\n",
            "Requirement already satisfied: jinja2 in /usr/local/lib/python3.10/dist-packages (from torch-geometric) (3.1.2)\n",
            "Requirement already satisfied: scipy in /usr/local/lib/python3.10/dist-packages (from torch-geometric) (1.10.1)\n",
            "Requirement already satisfied: MarkupSafe>=2.0 in /usr/local/lib/python3.10/dist-packages (from jinja2->torch-geometric) (2.1.2)\n",
            "Requirement already satisfied: urllib3<1.27,>=1.21.1 in /usr/local/lib/python3.10/dist-packages (from requests->torch-geometric) (1.26.15)\n",
            "Requirement already satisfied: charset-normalizer~=2.0.0 in /usr/local/lib/python3.10/dist-packages (from requests->torch-geometric) (2.0.12)\n",
            "Requirement already satisfied: idna<4,>=2.5 in /usr/local/lib/python3.10/dist-packages (from requests->torch-geometric) (3.4)\n",
            "Requirement already satisfied: certifi>=2017.4.17 in /usr/local/lib/python3.10/dist-packages (from requests->torch-geometric) (2022.12.7)\n",
            "Requirement already satisfied: joblib>=1.1.1 in /usr/local/lib/python3.10/dist-packages (from scikit-learn->torch-geometric) (1.2.0)\n",
            "Requirement already satisfied: threadpoolctl>=2.0.0 in /usr/local/lib/python3.10/dist-packages (from scikit-learn->torch-geometric) (3.1.0)\n",
            "Building wheels for collected packages: torch-geometric\n",
            "  Building wheel for torch-geometric (pyproject.toml) ... \u001b[?25l\u001b[?25hdone\n",
            "  Created wheel for torch-geometric: filename=torch_geometric-2.3.1-py3-none-any.whl size=910476 sha256=acdf7640d6f21927e3017cd28f2e2a04c24757219825c4bd463fcc33607542a7\n",
            "  Stored in directory: /root/.cache/pip/wheels/ac/dc/30/e2874821ff308ee67dcd7a66dbde912411e19e35a1addda028\n",
            "Successfully built torch-geometric\n",
            "Installing collected packages: torch-geometric\n",
            "Successfully installed torch-geometric-2.3.1\n"
          ]
        }
      ],
      "source": [
        "pip install torch-geometric"
      ]
    },
    {
      "cell_type": "markdown",
      "source": [
        "## Importing libraries"
      ],
      "metadata": {
        "id": "zWMOOnEMz984"
      }
    },
    {
      "cell_type": "code",
      "source": [
        "import pandas as pd \n",
        "import numpy as np\n",
        "import collections\n",
        "\n",
        "import matplotlib\n",
        "import matplotlib.pyplot as plt\n",
        "\n",
        "import torch\n",
        "import torch.nn as nn\n",
        "import torch.nn.functional as F\n",
        "\n",
        "from torch_geometric.data import Data\n",
        "from torch_geometric.utils.convert import to_networkx\n",
        "from torch_geometric.nn import GCNConv, SGConv\n",
        "\n",
        "import networkx as nx"
      ],
      "metadata": {
        "id": "jbQ_nBN8ViJR"
      },
      "execution_count": 2,
      "outputs": []
    },
    {
      "cell_type": "code",
      "source": [
        "from google.colab import drive\n",
        "drive.mount('/content/drive')\n",
        "\n",
        "import os\n",
        "os.chdir('/content/drive/My Drive/vanderbilt/social/project')"
      ],
      "metadata": {
        "colab": {
          "base_uri": "https://localhost:8080/"
        },
        "id": "JQ5w1hCvVlwh",
        "outputId": "fb3dd0d9-49db-4242-f396-d7183772ca74"
      },
      "execution_count": 3,
      "outputs": [
        {
          "output_type": "stream",
          "name": "stdout",
          "text": [
            "Mounted at /content/drive\n"
          ]
        }
      ]
    },
    {
      "cell_type": "markdown",
      "source": [
        "## Data munging"
      ],
      "metadata": {
        "id": "pR_yD8B_0Ao-"
      }
    },
    {
      "cell_type": "code",
      "source": [
        "users = pd.read_csv(\"users.csv\", header= None)\n",
        "edges = pd.read_csv(\"edges.csv\", header = None)\n",
        "df = pd.read_csv(\"df.csv\", index_col = 0)"
      ],
      "metadata": {
        "id": "Bvg_r5joWYhf"
      },
      "execution_count": 4,
      "outputs": []
    },
    {
      "cell_type": "code",
      "source": [
        "users = users.reset_index()"
      ],
      "metadata": {
        "id": "w1fZRHU7J6MY"
      },
      "execution_count": 5,
      "outputs": []
    },
    {
      "cell_type": "code",
      "source": [
        "users.columns = [\"userid\", 'username']"
      ],
      "metadata": {
        "id": "fAUw_3G3KQoE"
      },
      "execution_count": 6,
      "outputs": []
    },
    {
      "cell_type": "code",
      "source": [
        "users"
      ],
      "metadata": {
        "colab": {
          "base_uri": "https://localhost:8080/",
          "height": 423
        },
        "id": "xs-B7-HES-2G",
        "outputId": "439f76f1-7301-40fb-a43b-61a798767144"
      },
      "execution_count": 7,
      "outputs": [
        {
          "output_type": "execute_result",
          "data": {
            "text/plain": [
              "     userid              username\n",
              "0         0          that_90s_guy\n",
              "1         1         AutoModerator\n",
              "2         2     scumbagdetector15\n",
              "3         3                 csch2\n",
              "4         4    PlayerofVideoGames\n",
              "..      ...                   ...\n",
              "608     608  Lanky_Information825\n",
              "609     609            xebeka6808\n",
              "610     610            HumanJenoM\n",
              "611     611             mvandemar\n",
              "612     612           flossraptor\n",
              "\n",
              "[613 rows x 2 columns]"
            ],
            "text/html": [
              "\n",
              "  <div id=\"df-975aa52f-6604-4e87-b746-bb75dfa35f74\">\n",
              "    <div class=\"colab-df-container\">\n",
              "      <div>\n",
              "<style scoped>\n",
              "    .dataframe tbody tr th:only-of-type {\n",
              "        vertical-align: middle;\n",
              "    }\n",
              "\n",
              "    .dataframe tbody tr th {\n",
              "        vertical-align: top;\n",
              "    }\n",
              "\n",
              "    .dataframe thead th {\n",
              "        text-align: right;\n",
              "    }\n",
              "</style>\n",
              "<table border=\"1\" class=\"dataframe\">\n",
              "  <thead>\n",
              "    <tr style=\"text-align: right;\">\n",
              "      <th></th>\n",
              "      <th>userid</th>\n",
              "      <th>username</th>\n",
              "    </tr>\n",
              "  </thead>\n",
              "  <tbody>\n",
              "    <tr>\n",
              "      <th>0</th>\n",
              "      <td>0</td>\n",
              "      <td>that_90s_guy</td>\n",
              "    </tr>\n",
              "    <tr>\n",
              "      <th>1</th>\n",
              "      <td>1</td>\n",
              "      <td>AutoModerator</td>\n",
              "    </tr>\n",
              "    <tr>\n",
              "      <th>2</th>\n",
              "      <td>2</td>\n",
              "      <td>scumbagdetector15</td>\n",
              "    </tr>\n",
              "    <tr>\n",
              "      <th>3</th>\n",
              "      <td>3</td>\n",
              "      <td>csch2</td>\n",
              "    </tr>\n",
              "    <tr>\n",
              "      <th>4</th>\n",
              "      <td>4</td>\n",
              "      <td>PlayerofVideoGames</td>\n",
              "    </tr>\n",
              "    <tr>\n",
              "      <th>...</th>\n",
              "      <td>...</td>\n",
              "      <td>...</td>\n",
              "    </tr>\n",
              "    <tr>\n",
              "      <th>608</th>\n",
              "      <td>608</td>\n",
              "      <td>Lanky_Information825</td>\n",
              "    </tr>\n",
              "    <tr>\n",
              "      <th>609</th>\n",
              "      <td>609</td>\n",
              "      <td>xebeka6808</td>\n",
              "    </tr>\n",
              "    <tr>\n",
              "      <th>610</th>\n",
              "      <td>610</td>\n",
              "      <td>HumanJenoM</td>\n",
              "    </tr>\n",
              "    <tr>\n",
              "      <th>611</th>\n",
              "      <td>611</td>\n",
              "      <td>mvandemar</td>\n",
              "    </tr>\n",
              "    <tr>\n",
              "      <th>612</th>\n",
              "      <td>612</td>\n",
              "      <td>flossraptor</td>\n",
              "    </tr>\n",
              "  </tbody>\n",
              "</table>\n",
              "<p>613 rows × 2 columns</p>\n",
              "</div>\n",
              "      <button class=\"colab-df-convert\" onclick=\"convertToInteractive('df-975aa52f-6604-4e87-b746-bb75dfa35f74')\"\n",
              "              title=\"Convert this dataframe to an interactive table.\"\n",
              "              style=\"display:none;\">\n",
              "        \n",
              "  <svg xmlns=\"http://www.w3.org/2000/svg\" height=\"24px\"viewBox=\"0 0 24 24\"\n",
              "       width=\"24px\">\n",
              "    <path d=\"M0 0h24v24H0V0z\" fill=\"none\"/>\n",
              "    <path d=\"M18.56 5.44l.94 2.06.94-2.06 2.06-.94-2.06-.94-.94-2.06-.94 2.06-2.06.94zm-11 1L8.5 8.5l.94-2.06 2.06-.94-2.06-.94L8.5 2.5l-.94 2.06-2.06.94zm10 10l.94 2.06.94-2.06 2.06-.94-2.06-.94-.94-2.06-.94 2.06-2.06.94z\"/><path d=\"M17.41 7.96l-1.37-1.37c-.4-.4-.92-.59-1.43-.59-.52 0-1.04.2-1.43.59L10.3 9.45l-7.72 7.72c-.78.78-.78 2.05 0 2.83L4 21.41c.39.39.9.59 1.41.59.51 0 1.02-.2 1.41-.59l7.78-7.78 2.81-2.81c.8-.78.8-2.07 0-2.86zM5.41 20L4 18.59l7.72-7.72 1.47 1.35L5.41 20z\"/>\n",
              "  </svg>\n",
              "      </button>\n",
              "      \n",
              "  <style>\n",
              "    .colab-df-container {\n",
              "      display:flex;\n",
              "      flex-wrap:wrap;\n",
              "      gap: 12px;\n",
              "    }\n",
              "\n",
              "    .colab-df-convert {\n",
              "      background-color: #E8F0FE;\n",
              "      border: none;\n",
              "      border-radius: 50%;\n",
              "      cursor: pointer;\n",
              "      display: none;\n",
              "      fill: #1967D2;\n",
              "      height: 32px;\n",
              "      padding: 0 0 0 0;\n",
              "      width: 32px;\n",
              "    }\n",
              "\n",
              "    .colab-df-convert:hover {\n",
              "      background-color: #E2EBFA;\n",
              "      box-shadow: 0px 1px 2px rgba(60, 64, 67, 0.3), 0px 1px 3px 1px rgba(60, 64, 67, 0.15);\n",
              "      fill: #174EA6;\n",
              "    }\n",
              "\n",
              "    [theme=dark] .colab-df-convert {\n",
              "      background-color: #3B4455;\n",
              "      fill: #D2E3FC;\n",
              "    }\n",
              "\n",
              "    [theme=dark] .colab-df-convert:hover {\n",
              "      background-color: #434B5C;\n",
              "      box-shadow: 0px 1px 3px 1px rgba(0, 0, 0, 0.15);\n",
              "      filter: drop-shadow(0px 1px 2px rgba(0, 0, 0, 0.3));\n",
              "      fill: #FFFFFF;\n",
              "    }\n",
              "  </style>\n",
              "\n",
              "      <script>\n",
              "        const buttonEl =\n",
              "          document.querySelector('#df-975aa52f-6604-4e87-b746-bb75dfa35f74 button.colab-df-convert');\n",
              "        buttonEl.style.display =\n",
              "          google.colab.kernel.accessAllowed ? 'block' : 'none';\n",
              "\n",
              "        async function convertToInteractive(key) {\n",
              "          const element = document.querySelector('#df-975aa52f-6604-4e87-b746-bb75dfa35f74');\n",
              "          const dataTable =\n",
              "            await google.colab.kernel.invokeFunction('convertToInteractive',\n",
              "                                                     [key], {});\n",
              "          if (!dataTable) return;\n",
              "\n",
              "          const docLinkHtml = 'Like what you see? Visit the ' +\n",
              "            '<a target=\"_blank\" href=https://colab.research.google.com/notebooks/data_table.ipynb>data table notebook</a>'\n",
              "            + ' to learn more about interactive tables.';\n",
              "          element.innerHTML = '';\n",
              "          dataTable['output_type'] = 'display_data';\n",
              "          await google.colab.output.renderOutput(dataTable, element);\n",
              "          const docLink = document.createElement('div');\n",
              "          docLink.innerHTML = docLinkHtml;\n",
              "          element.appendChild(docLink);\n",
              "        }\n",
              "      </script>\n",
              "    </div>\n",
              "  </div>\n",
              "  "
            ]
          },
          "metadata": {},
          "execution_count": 7
        }
      ]
    },
    {
      "cell_type": "code",
      "source": [
        "df"
      ],
      "metadata": {
        "colab": {
          "base_uri": "https://localhost:8080/",
          "height": 423
        },
        "id": "zXokE98A_R2k",
        "outputId": "8ab77a47-7b81-49a7-85a6-16036a0e6b9b"
      },
      "execution_count": 8,
      "outputs": [
        {
          "output_type": "execute_result",
          "data": {
            "text/plain": [
              "                      comment_karma  link_karma  avg_upvotes\n",
              "that_90s_guy                31343.0     20684.0  1503.390000\n",
              "AutoModerator                1000.0      1000.0     1.004695\n",
              "scumbagdetector15           18369.0         1.0   170.600000\n",
              "csch2                        1981.0      2622.0   136.000000\n",
              "PlayerofVideoGames          18476.0       473.0    57.000000\n",
              "...                             ...         ...          ...\n",
              "Lanky_Information825          326.0         3.0     5.000000\n",
              "xebeka6808                   4631.0       765.0     5.000000\n",
              "HumanJenoM                   8117.0       505.0     3.000000\n",
              "mvandemar                    4467.0      2391.0     2.000000\n",
              "flossraptor                 11986.0      1899.0     1.000000\n",
              "\n",
              "[613 rows x 3 columns]"
            ],
            "text/html": [
              "\n",
              "  <div id=\"df-e09c83d4-a8df-4e69-bce5-b23849f36891\">\n",
              "    <div class=\"colab-df-container\">\n",
              "      <div>\n",
              "<style scoped>\n",
              "    .dataframe tbody tr th:only-of-type {\n",
              "        vertical-align: middle;\n",
              "    }\n",
              "\n",
              "    .dataframe tbody tr th {\n",
              "        vertical-align: top;\n",
              "    }\n",
              "\n",
              "    .dataframe thead th {\n",
              "        text-align: right;\n",
              "    }\n",
              "</style>\n",
              "<table border=\"1\" class=\"dataframe\">\n",
              "  <thead>\n",
              "    <tr style=\"text-align: right;\">\n",
              "      <th></th>\n",
              "      <th>comment_karma</th>\n",
              "      <th>link_karma</th>\n",
              "      <th>avg_upvotes</th>\n",
              "    </tr>\n",
              "  </thead>\n",
              "  <tbody>\n",
              "    <tr>\n",
              "      <th>that_90s_guy</th>\n",
              "      <td>31343.0</td>\n",
              "      <td>20684.0</td>\n",
              "      <td>1503.390000</td>\n",
              "    </tr>\n",
              "    <tr>\n",
              "      <th>AutoModerator</th>\n",
              "      <td>1000.0</td>\n",
              "      <td>1000.0</td>\n",
              "      <td>1.004695</td>\n",
              "    </tr>\n",
              "    <tr>\n",
              "      <th>scumbagdetector15</th>\n",
              "      <td>18369.0</td>\n",
              "      <td>1.0</td>\n",
              "      <td>170.600000</td>\n",
              "    </tr>\n",
              "    <tr>\n",
              "      <th>csch2</th>\n",
              "      <td>1981.0</td>\n",
              "      <td>2622.0</td>\n",
              "      <td>136.000000</td>\n",
              "    </tr>\n",
              "    <tr>\n",
              "      <th>PlayerofVideoGames</th>\n",
              "      <td>18476.0</td>\n",
              "      <td>473.0</td>\n",
              "      <td>57.000000</td>\n",
              "    </tr>\n",
              "    <tr>\n",
              "      <th>...</th>\n",
              "      <td>...</td>\n",
              "      <td>...</td>\n",
              "      <td>...</td>\n",
              "    </tr>\n",
              "    <tr>\n",
              "      <th>Lanky_Information825</th>\n",
              "      <td>326.0</td>\n",
              "      <td>3.0</td>\n",
              "      <td>5.000000</td>\n",
              "    </tr>\n",
              "    <tr>\n",
              "      <th>xebeka6808</th>\n",
              "      <td>4631.0</td>\n",
              "      <td>765.0</td>\n",
              "      <td>5.000000</td>\n",
              "    </tr>\n",
              "    <tr>\n",
              "      <th>HumanJenoM</th>\n",
              "      <td>8117.0</td>\n",
              "      <td>505.0</td>\n",
              "      <td>3.000000</td>\n",
              "    </tr>\n",
              "    <tr>\n",
              "      <th>mvandemar</th>\n",
              "      <td>4467.0</td>\n",
              "      <td>2391.0</td>\n",
              "      <td>2.000000</td>\n",
              "    </tr>\n",
              "    <tr>\n",
              "      <th>flossraptor</th>\n",
              "      <td>11986.0</td>\n",
              "      <td>1899.0</td>\n",
              "      <td>1.000000</td>\n",
              "    </tr>\n",
              "  </tbody>\n",
              "</table>\n",
              "<p>613 rows × 3 columns</p>\n",
              "</div>\n",
              "      <button class=\"colab-df-convert\" onclick=\"convertToInteractive('df-e09c83d4-a8df-4e69-bce5-b23849f36891')\"\n",
              "              title=\"Convert this dataframe to an interactive table.\"\n",
              "              style=\"display:none;\">\n",
              "        \n",
              "  <svg xmlns=\"http://www.w3.org/2000/svg\" height=\"24px\"viewBox=\"0 0 24 24\"\n",
              "       width=\"24px\">\n",
              "    <path d=\"M0 0h24v24H0V0z\" fill=\"none\"/>\n",
              "    <path d=\"M18.56 5.44l.94 2.06.94-2.06 2.06-.94-2.06-.94-.94-2.06-.94 2.06-2.06.94zm-11 1L8.5 8.5l.94-2.06 2.06-.94-2.06-.94L8.5 2.5l-.94 2.06-2.06.94zm10 10l.94 2.06.94-2.06 2.06-.94-2.06-.94-.94-2.06-.94 2.06-2.06.94z\"/><path d=\"M17.41 7.96l-1.37-1.37c-.4-.4-.92-.59-1.43-.59-.52 0-1.04.2-1.43.59L10.3 9.45l-7.72 7.72c-.78.78-.78 2.05 0 2.83L4 21.41c.39.39.9.59 1.41.59.51 0 1.02-.2 1.41-.59l7.78-7.78 2.81-2.81c.8-.78.8-2.07 0-2.86zM5.41 20L4 18.59l7.72-7.72 1.47 1.35L5.41 20z\"/>\n",
              "  </svg>\n",
              "      </button>\n",
              "      \n",
              "  <style>\n",
              "    .colab-df-container {\n",
              "      display:flex;\n",
              "      flex-wrap:wrap;\n",
              "      gap: 12px;\n",
              "    }\n",
              "\n",
              "    .colab-df-convert {\n",
              "      background-color: #E8F0FE;\n",
              "      border: none;\n",
              "      border-radius: 50%;\n",
              "      cursor: pointer;\n",
              "      display: none;\n",
              "      fill: #1967D2;\n",
              "      height: 32px;\n",
              "      padding: 0 0 0 0;\n",
              "      width: 32px;\n",
              "    }\n",
              "\n",
              "    .colab-df-convert:hover {\n",
              "      background-color: #E2EBFA;\n",
              "      box-shadow: 0px 1px 2px rgba(60, 64, 67, 0.3), 0px 1px 3px 1px rgba(60, 64, 67, 0.15);\n",
              "      fill: #174EA6;\n",
              "    }\n",
              "\n",
              "    [theme=dark] .colab-df-convert {\n",
              "      background-color: #3B4455;\n",
              "      fill: #D2E3FC;\n",
              "    }\n",
              "\n",
              "    [theme=dark] .colab-df-convert:hover {\n",
              "      background-color: #434B5C;\n",
              "      box-shadow: 0px 1px 3px 1px rgba(0, 0, 0, 0.15);\n",
              "      filter: drop-shadow(0px 1px 2px rgba(0, 0, 0, 0.3));\n",
              "      fill: #FFFFFF;\n",
              "    }\n",
              "  </style>\n",
              "\n",
              "      <script>\n",
              "        const buttonEl =\n",
              "          document.querySelector('#df-e09c83d4-a8df-4e69-bce5-b23849f36891 button.colab-df-convert');\n",
              "        buttonEl.style.display =\n",
              "          google.colab.kernel.accessAllowed ? 'block' : 'none';\n",
              "\n",
              "        async function convertToInteractive(key) {\n",
              "          const element = document.querySelector('#df-e09c83d4-a8df-4e69-bce5-b23849f36891');\n",
              "          const dataTable =\n",
              "            await google.colab.kernel.invokeFunction('convertToInteractive',\n",
              "                                                     [key], {});\n",
              "          if (!dataTable) return;\n",
              "\n",
              "          const docLinkHtml = 'Like what you see? Visit the ' +\n",
              "            '<a target=\"_blank\" href=https://colab.research.google.com/notebooks/data_table.ipynb>data table notebook</a>'\n",
              "            + ' to learn more about interactive tables.';\n",
              "          element.innerHTML = '';\n",
              "          dataTable['output_type'] = 'display_data';\n",
              "          await google.colab.output.renderOutput(dataTable, element);\n",
              "          const docLink = document.createElement('div');\n",
              "          docLink.innerHTML = docLinkHtml;\n",
              "          element.appendChild(docLink);\n",
              "        }\n",
              "      </script>\n",
              "    </div>\n",
              "  </div>\n",
              "  "
            ]
          },
          "metadata": {},
          "execution_count": 8
        }
      ]
    },
    {
      "cell_type": "code",
      "source": [
        "node_features = df[[\"comment_karma\", \"link_karma\"]]\n",
        "num_classes = 1"
      ],
      "metadata": {
        "id": "E2osbsAd15eU"
      },
      "execution_count": 9,
      "outputs": []
    },
    {
      "cell_type": "code",
      "source": [
        "node_features"
      ],
      "metadata": {
        "colab": {
          "base_uri": "https://localhost:8080/",
          "height": 423
        },
        "id": "tVsLBxNq2ctP",
        "outputId": "f8c29636-7649-4eda-a715-beb21bdba7e0"
      },
      "execution_count": 10,
      "outputs": [
        {
          "output_type": "execute_result",
          "data": {
            "text/plain": [
              "                      comment_karma  link_karma\n",
              "that_90s_guy                31343.0     20684.0\n",
              "AutoModerator                1000.0      1000.0\n",
              "scumbagdetector15           18369.0         1.0\n",
              "csch2                        1981.0      2622.0\n",
              "PlayerofVideoGames          18476.0       473.0\n",
              "...                             ...         ...\n",
              "Lanky_Information825          326.0         3.0\n",
              "xebeka6808                   4631.0       765.0\n",
              "HumanJenoM                   8117.0       505.0\n",
              "mvandemar                    4467.0      2391.0\n",
              "flossraptor                 11986.0      1899.0\n",
              "\n",
              "[613 rows x 2 columns]"
            ],
            "text/html": [
              "\n",
              "  <div id=\"df-b7333051-14ea-4d7a-aaf1-d63ff611e10f\">\n",
              "    <div class=\"colab-df-container\">\n",
              "      <div>\n",
              "<style scoped>\n",
              "    .dataframe tbody tr th:only-of-type {\n",
              "        vertical-align: middle;\n",
              "    }\n",
              "\n",
              "    .dataframe tbody tr th {\n",
              "        vertical-align: top;\n",
              "    }\n",
              "\n",
              "    .dataframe thead th {\n",
              "        text-align: right;\n",
              "    }\n",
              "</style>\n",
              "<table border=\"1\" class=\"dataframe\">\n",
              "  <thead>\n",
              "    <tr style=\"text-align: right;\">\n",
              "      <th></th>\n",
              "      <th>comment_karma</th>\n",
              "      <th>link_karma</th>\n",
              "    </tr>\n",
              "  </thead>\n",
              "  <tbody>\n",
              "    <tr>\n",
              "      <th>that_90s_guy</th>\n",
              "      <td>31343.0</td>\n",
              "      <td>20684.0</td>\n",
              "    </tr>\n",
              "    <tr>\n",
              "      <th>AutoModerator</th>\n",
              "      <td>1000.0</td>\n",
              "      <td>1000.0</td>\n",
              "    </tr>\n",
              "    <tr>\n",
              "      <th>scumbagdetector15</th>\n",
              "      <td>18369.0</td>\n",
              "      <td>1.0</td>\n",
              "    </tr>\n",
              "    <tr>\n",
              "      <th>csch2</th>\n",
              "      <td>1981.0</td>\n",
              "      <td>2622.0</td>\n",
              "    </tr>\n",
              "    <tr>\n",
              "      <th>PlayerofVideoGames</th>\n",
              "      <td>18476.0</td>\n",
              "      <td>473.0</td>\n",
              "    </tr>\n",
              "    <tr>\n",
              "      <th>...</th>\n",
              "      <td>...</td>\n",
              "      <td>...</td>\n",
              "    </tr>\n",
              "    <tr>\n",
              "      <th>Lanky_Information825</th>\n",
              "      <td>326.0</td>\n",
              "      <td>3.0</td>\n",
              "    </tr>\n",
              "    <tr>\n",
              "      <th>xebeka6808</th>\n",
              "      <td>4631.0</td>\n",
              "      <td>765.0</td>\n",
              "    </tr>\n",
              "    <tr>\n",
              "      <th>HumanJenoM</th>\n",
              "      <td>8117.0</td>\n",
              "      <td>505.0</td>\n",
              "    </tr>\n",
              "    <tr>\n",
              "      <th>mvandemar</th>\n",
              "      <td>4467.0</td>\n",
              "      <td>2391.0</td>\n",
              "    </tr>\n",
              "    <tr>\n",
              "      <th>flossraptor</th>\n",
              "      <td>11986.0</td>\n",
              "      <td>1899.0</td>\n",
              "    </tr>\n",
              "  </tbody>\n",
              "</table>\n",
              "<p>613 rows × 2 columns</p>\n",
              "</div>\n",
              "      <button class=\"colab-df-convert\" onclick=\"convertToInteractive('df-b7333051-14ea-4d7a-aaf1-d63ff611e10f')\"\n",
              "              title=\"Convert this dataframe to an interactive table.\"\n",
              "              style=\"display:none;\">\n",
              "        \n",
              "  <svg xmlns=\"http://www.w3.org/2000/svg\" height=\"24px\"viewBox=\"0 0 24 24\"\n",
              "       width=\"24px\">\n",
              "    <path d=\"M0 0h24v24H0V0z\" fill=\"none\"/>\n",
              "    <path d=\"M18.56 5.44l.94 2.06.94-2.06 2.06-.94-2.06-.94-.94-2.06-.94 2.06-2.06.94zm-11 1L8.5 8.5l.94-2.06 2.06-.94-2.06-.94L8.5 2.5l-.94 2.06-2.06.94zm10 10l.94 2.06.94-2.06 2.06-.94-2.06-.94-.94-2.06-.94 2.06-2.06.94z\"/><path d=\"M17.41 7.96l-1.37-1.37c-.4-.4-.92-.59-1.43-.59-.52 0-1.04.2-1.43.59L10.3 9.45l-7.72 7.72c-.78.78-.78 2.05 0 2.83L4 21.41c.39.39.9.59 1.41.59.51 0 1.02-.2 1.41-.59l7.78-7.78 2.81-2.81c.8-.78.8-2.07 0-2.86zM5.41 20L4 18.59l7.72-7.72 1.47 1.35L5.41 20z\"/>\n",
              "  </svg>\n",
              "      </button>\n",
              "      \n",
              "  <style>\n",
              "    .colab-df-container {\n",
              "      display:flex;\n",
              "      flex-wrap:wrap;\n",
              "      gap: 12px;\n",
              "    }\n",
              "\n",
              "    .colab-df-convert {\n",
              "      background-color: #E8F0FE;\n",
              "      border: none;\n",
              "      border-radius: 50%;\n",
              "      cursor: pointer;\n",
              "      display: none;\n",
              "      fill: #1967D2;\n",
              "      height: 32px;\n",
              "      padding: 0 0 0 0;\n",
              "      width: 32px;\n",
              "    }\n",
              "\n",
              "    .colab-df-convert:hover {\n",
              "      background-color: #E2EBFA;\n",
              "      box-shadow: 0px 1px 2px rgba(60, 64, 67, 0.3), 0px 1px 3px 1px rgba(60, 64, 67, 0.15);\n",
              "      fill: #174EA6;\n",
              "    }\n",
              "\n",
              "    [theme=dark] .colab-df-convert {\n",
              "      background-color: #3B4455;\n",
              "      fill: #D2E3FC;\n",
              "    }\n",
              "\n",
              "    [theme=dark] .colab-df-convert:hover {\n",
              "      background-color: #434B5C;\n",
              "      box-shadow: 0px 1px 3px 1px rgba(0, 0, 0, 0.15);\n",
              "      filter: drop-shadow(0px 1px 2px rgba(0, 0, 0, 0.3));\n",
              "      fill: #FFFFFF;\n",
              "    }\n",
              "  </style>\n",
              "\n",
              "      <script>\n",
              "        const buttonEl =\n",
              "          document.querySelector('#df-b7333051-14ea-4d7a-aaf1-d63ff611e10f button.colab-df-convert');\n",
              "        buttonEl.style.display =\n",
              "          google.colab.kernel.accessAllowed ? 'block' : 'none';\n",
              "\n",
              "        async function convertToInteractive(key) {\n",
              "          const element = document.querySelector('#df-b7333051-14ea-4d7a-aaf1-d63ff611e10f');\n",
              "          const dataTable =\n",
              "            await google.colab.kernel.invokeFunction('convertToInteractive',\n",
              "                                                     [key], {});\n",
              "          if (!dataTable) return;\n",
              "\n",
              "          const docLinkHtml = 'Like what you see? Visit the ' +\n",
              "            '<a target=\"_blank\" href=https://colab.research.google.com/notebooks/data_table.ipynb>data table notebook</a>'\n",
              "            + ' to learn more about interactive tables.';\n",
              "          element.innerHTML = '';\n",
              "          dataTable['output_type'] = 'display_data';\n",
              "          await google.colab.output.renderOutput(dataTable, element);\n",
              "          const docLink = document.createElement('div');\n",
              "          docLink.innerHTML = docLinkHtml;\n",
              "          element.appendChild(docLink);\n",
              "        }\n",
              "      </script>\n",
              "    </div>\n",
              "  </div>\n",
              "  "
            ]
          },
          "metadata": {},
          "execution_count": 10
        }
      ]
    },
    {
      "cell_type": "code",
      "source": [
        "# Convert to numpy\n",
        "x = torch.tensor(node_features.values)\n",
        "x.shape # [num_nodes x num_features]"
      ],
      "metadata": {
        "colab": {
          "base_uri": "https://localhost:8080/"
        },
        "id": "ggt7sB-Z1HPq",
        "outputId": "a051b082-889a-4b42-d5e3-27d2b7603432"
      },
      "execution_count": 11,
      "outputs": [
        {
          "output_type": "execute_result",
          "data": {
            "text/plain": [
              "torch.Size([613, 2])"
            ]
          },
          "metadata": {},
          "execution_count": 11
        }
      ]
    },
    {
      "cell_type": "code",
      "source": [
        "df"
      ],
      "metadata": {
        "colab": {
          "base_uri": "https://localhost:8080/",
          "height": 423
        },
        "id": "7Hvy05XYQ6wv",
        "outputId": "07a44ae4-fc8f-4a83-f508-e4ea257c453b"
      },
      "execution_count": 12,
      "outputs": [
        {
          "output_type": "execute_result",
          "data": {
            "text/plain": [
              "                      comment_karma  link_karma  avg_upvotes\n",
              "that_90s_guy                31343.0     20684.0  1503.390000\n",
              "AutoModerator                1000.0      1000.0     1.004695\n",
              "scumbagdetector15           18369.0         1.0   170.600000\n",
              "csch2                        1981.0      2622.0   136.000000\n",
              "PlayerofVideoGames          18476.0       473.0    57.000000\n",
              "...                             ...         ...          ...\n",
              "Lanky_Information825          326.0         3.0     5.000000\n",
              "xebeka6808                   4631.0       765.0     5.000000\n",
              "HumanJenoM                   8117.0       505.0     3.000000\n",
              "mvandemar                    4467.0      2391.0     2.000000\n",
              "flossraptor                 11986.0      1899.0     1.000000\n",
              "\n",
              "[613 rows x 3 columns]"
            ],
            "text/html": [
              "\n",
              "  <div id=\"df-1d429320-5dff-455f-946f-428072576c9f\">\n",
              "    <div class=\"colab-df-container\">\n",
              "      <div>\n",
              "<style scoped>\n",
              "    .dataframe tbody tr th:only-of-type {\n",
              "        vertical-align: middle;\n",
              "    }\n",
              "\n",
              "    .dataframe tbody tr th {\n",
              "        vertical-align: top;\n",
              "    }\n",
              "\n",
              "    .dataframe thead th {\n",
              "        text-align: right;\n",
              "    }\n",
              "</style>\n",
              "<table border=\"1\" class=\"dataframe\">\n",
              "  <thead>\n",
              "    <tr style=\"text-align: right;\">\n",
              "      <th></th>\n",
              "      <th>comment_karma</th>\n",
              "      <th>link_karma</th>\n",
              "      <th>avg_upvotes</th>\n",
              "    </tr>\n",
              "  </thead>\n",
              "  <tbody>\n",
              "    <tr>\n",
              "      <th>that_90s_guy</th>\n",
              "      <td>31343.0</td>\n",
              "      <td>20684.0</td>\n",
              "      <td>1503.390000</td>\n",
              "    </tr>\n",
              "    <tr>\n",
              "      <th>AutoModerator</th>\n",
              "      <td>1000.0</td>\n",
              "      <td>1000.0</td>\n",
              "      <td>1.004695</td>\n",
              "    </tr>\n",
              "    <tr>\n",
              "      <th>scumbagdetector15</th>\n",
              "      <td>18369.0</td>\n",
              "      <td>1.0</td>\n",
              "      <td>170.600000</td>\n",
              "    </tr>\n",
              "    <tr>\n",
              "      <th>csch2</th>\n",
              "      <td>1981.0</td>\n",
              "      <td>2622.0</td>\n",
              "      <td>136.000000</td>\n",
              "    </tr>\n",
              "    <tr>\n",
              "      <th>PlayerofVideoGames</th>\n",
              "      <td>18476.0</td>\n",
              "      <td>473.0</td>\n",
              "      <td>57.000000</td>\n",
              "    </tr>\n",
              "    <tr>\n",
              "      <th>...</th>\n",
              "      <td>...</td>\n",
              "      <td>...</td>\n",
              "      <td>...</td>\n",
              "    </tr>\n",
              "    <tr>\n",
              "      <th>Lanky_Information825</th>\n",
              "      <td>326.0</td>\n",
              "      <td>3.0</td>\n",
              "      <td>5.000000</td>\n",
              "    </tr>\n",
              "    <tr>\n",
              "      <th>xebeka6808</th>\n",
              "      <td>4631.0</td>\n",
              "      <td>765.0</td>\n",
              "      <td>5.000000</td>\n",
              "    </tr>\n",
              "    <tr>\n",
              "      <th>HumanJenoM</th>\n",
              "      <td>8117.0</td>\n",
              "      <td>505.0</td>\n",
              "      <td>3.000000</td>\n",
              "    </tr>\n",
              "    <tr>\n",
              "      <th>mvandemar</th>\n",
              "      <td>4467.0</td>\n",
              "      <td>2391.0</td>\n",
              "      <td>2.000000</td>\n",
              "    </tr>\n",
              "    <tr>\n",
              "      <th>flossraptor</th>\n",
              "      <td>11986.0</td>\n",
              "      <td>1899.0</td>\n",
              "      <td>1.000000</td>\n",
              "    </tr>\n",
              "  </tbody>\n",
              "</table>\n",
              "<p>613 rows × 3 columns</p>\n",
              "</div>\n",
              "      <button class=\"colab-df-convert\" onclick=\"convertToInteractive('df-1d429320-5dff-455f-946f-428072576c9f')\"\n",
              "              title=\"Convert this dataframe to an interactive table.\"\n",
              "              style=\"display:none;\">\n",
              "        \n",
              "  <svg xmlns=\"http://www.w3.org/2000/svg\" height=\"24px\"viewBox=\"0 0 24 24\"\n",
              "       width=\"24px\">\n",
              "    <path d=\"M0 0h24v24H0V0z\" fill=\"none\"/>\n",
              "    <path d=\"M18.56 5.44l.94 2.06.94-2.06 2.06-.94-2.06-.94-.94-2.06-.94 2.06-2.06.94zm-11 1L8.5 8.5l.94-2.06 2.06-.94-2.06-.94L8.5 2.5l-.94 2.06-2.06.94zm10 10l.94 2.06.94-2.06 2.06-.94-2.06-.94-.94-2.06-.94 2.06-2.06.94z\"/><path d=\"M17.41 7.96l-1.37-1.37c-.4-.4-.92-.59-1.43-.59-.52 0-1.04.2-1.43.59L10.3 9.45l-7.72 7.72c-.78.78-.78 2.05 0 2.83L4 21.41c.39.39.9.59 1.41.59.51 0 1.02-.2 1.41-.59l7.78-7.78 2.81-2.81c.8-.78.8-2.07 0-2.86zM5.41 20L4 18.59l7.72-7.72 1.47 1.35L5.41 20z\"/>\n",
              "  </svg>\n",
              "      </button>\n",
              "      \n",
              "  <style>\n",
              "    .colab-df-container {\n",
              "      display:flex;\n",
              "      flex-wrap:wrap;\n",
              "      gap: 12px;\n",
              "    }\n",
              "\n",
              "    .colab-df-convert {\n",
              "      background-color: #E8F0FE;\n",
              "      border: none;\n",
              "      border-radius: 50%;\n",
              "      cursor: pointer;\n",
              "      display: none;\n",
              "      fill: #1967D2;\n",
              "      height: 32px;\n",
              "      padding: 0 0 0 0;\n",
              "      width: 32px;\n",
              "    }\n",
              "\n",
              "    .colab-df-convert:hover {\n",
              "      background-color: #E2EBFA;\n",
              "      box-shadow: 0px 1px 2px rgba(60, 64, 67, 0.3), 0px 1px 3px 1px rgba(60, 64, 67, 0.15);\n",
              "      fill: #174EA6;\n",
              "    }\n",
              "\n",
              "    [theme=dark] .colab-df-convert {\n",
              "      background-color: #3B4455;\n",
              "      fill: #D2E3FC;\n",
              "    }\n",
              "\n",
              "    [theme=dark] .colab-df-convert:hover {\n",
              "      background-color: #434B5C;\n",
              "      box-shadow: 0px 1px 3px 1px rgba(0, 0, 0, 0.15);\n",
              "      filter: drop-shadow(0px 1px 2px rgba(0, 0, 0, 0.3));\n",
              "      fill: #FFFFFF;\n",
              "    }\n",
              "  </style>\n",
              "\n",
              "      <script>\n",
              "        const buttonEl =\n",
              "          document.querySelector('#df-1d429320-5dff-455f-946f-428072576c9f button.colab-df-convert');\n",
              "        buttonEl.style.display =\n",
              "          google.colab.kernel.accessAllowed ? 'block' : 'none';\n",
              "\n",
              "        async function convertToInteractive(key) {\n",
              "          const element = document.querySelector('#df-1d429320-5dff-455f-946f-428072576c9f');\n",
              "          const dataTable =\n",
              "            await google.colab.kernel.invokeFunction('convertToInteractive',\n",
              "                                                     [key], {});\n",
              "          if (!dataTable) return;\n",
              "\n",
              "          const docLinkHtml = 'Like what you see? Visit the ' +\n",
              "            '<a target=\"_blank\" href=https://colab.research.google.com/notebooks/data_table.ipynb>data table notebook</a>'\n",
              "            + ' to learn more about interactive tables.';\n",
              "          element.innerHTML = '';\n",
              "          dataTable['output_type'] = 'display_data';\n",
              "          await google.colab.output.renderOutput(dataTable, element);\n",
              "          const docLink = document.createElement('div');\n",
              "          docLink.innerHTML = docLinkHtml;\n",
              "          element.appendChild(docLink);\n",
              "        }\n",
              "      </script>\n",
              "    </div>\n",
              "  </div>\n",
              "  "
            ]
          },
          "metadata": {},
          "execution_count": 12
        }
      ]
    },
    {
      "cell_type": "code",
      "source": [
        "y = torch.tensor(df.avg_upvotes, dtype=torch.float)\n",
        "y.shape"
      ],
      "metadata": {
        "colab": {
          "base_uri": "https://localhost:8080/"
        },
        "id": "TLqnXip-3Q4j",
        "outputId": "f8fd7014-b95c-4f70-dfab-ee04dc83948f"
      },
      "execution_count": 13,
      "outputs": [
        {
          "output_type": "execute_result",
          "data": {
            "text/plain": [
              "torch.Size([613])"
            ]
          },
          "metadata": {},
          "execution_count": 13
        }
      ]
    },
    {
      "cell_type": "code",
      "source": [
        "edges[['source', 'dest']] = edges[0].str.split(\"###\", expand = True)"
      ],
      "metadata": {
        "id": "MStSmErV3-5F"
      },
      "execution_count": 14,
      "outputs": []
    },
    {
      "cell_type": "code",
      "source": [
        "edges"
      ],
      "metadata": {
        "colab": {
          "base_uri": "https://localhost:8080/",
          "height": 423
        },
        "id": "sooufPMBCdVi",
        "outputId": "49c17493-3639-4751-d1cf-4f63552e65e1"
      },
      "execution_count": 15,
      "outputs": [
        {
          "output_type": "execute_result",
          "data": {
            "text/plain": [
              "                                              0               source  \\\n",
              "0                  AutoModerator###that_90s_guy        AutoModerator   \n",
              "1              scumbagdetector15###that_90s_guy    scumbagdetector15   \n",
              "2                     csch2###scumbagdetector15                csch2   \n",
              "3                     scumbagdetector15###csch2    scumbagdetector15   \n",
              "4        PlayerofVideoGames###scumbagdetector15   PlayerofVideoGames   \n",
              "...                                         ...                  ...   \n",
              "1669          flossraptor###Alternative_Ad_9702          flossraptor   \n",
              "1670             Timofey_###Alternative_Ad_9702             Timofey_   \n",
              "1671  Alternative_Ad_9702###Alternative_Ad_9702  Alternative_Ad_9702   \n",
              "1672           xebeka6808###Alternative_Ad_9702           xebeka6808   \n",
              "1673           xebeka6808###Alternative_Ad_9702           xebeka6808   \n",
              "\n",
              "                     dest  \n",
              "0            that_90s_guy  \n",
              "1            that_90s_guy  \n",
              "2       scumbagdetector15  \n",
              "3                   csch2  \n",
              "4       scumbagdetector15  \n",
              "...                   ...  \n",
              "1669  Alternative_Ad_9702  \n",
              "1670  Alternative_Ad_9702  \n",
              "1671  Alternative_Ad_9702  \n",
              "1672  Alternative_Ad_9702  \n",
              "1673  Alternative_Ad_9702  \n",
              "\n",
              "[1674 rows x 3 columns]"
            ],
            "text/html": [
              "\n",
              "  <div id=\"df-37ef8af3-45f5-4541-bd7d-33b94f72b09e\">\n",
              "    <div class=\"colab-df-container\">\n",
              "      <div>\n",
              "<style scoped>\n",
              "    .dataframe tbody tr th:only-of-type {\n",
              "        vertical-align: middle;\n",
              "    }\n",
              "\n",
              "    .dataframe tbody tr th {\n",
              "        vertical-align: top;\n",
              "    }\n",
              "\n",
              "    .dataframe thead th {\n",
              "        text-align: right;\n",
              "    }\n",
              "</style>\n",
              "<table border=\"1\" class=\"dataframe\">\n",
              "  <thead>\n",
              "    <tr style=\"text-align: right;\">\n",
              "      <th></th>\n",
              "      <th>0</th>\n",
              "      <th>source</th>\n",
              "      <th>dest</th>\n",
              "    </tr>\n",
              "  </thead>\n",
              "  <tbody>\n",
              "    <tr>\n",
              "      <th>0</th>\n",
              "      <td>AutoModerator###that_90s_guy</td>\n",
              "      <td>AutoModerator</td>\n",
              "      <td>that_90s_guy</td>\n",
              "    </tr>\n",
              "    <tr>\n",
              "      <th>1</th>\n",
              "      <td>scumbagdetector15###that_90s_guy</td>\n",
              "      <td>scumbagdetector15</td>\n",
              "      <td>that_90s_guy</td>\n",
              "    </tr>\n",
              "    <tr>\n",
              "      <th>2</th>\n",
              "      <td>csch2###scumbagdetector15</td>\n",
              "      <td>csch2</td>\n",
              "      <td>scumbagdetector15</td>\n",
              "    </tr>\n",
              "    <tr>\n",
              "      <th>3</th>\n",
              "      <td>scumbagdetector15###csch2</td>\n",
              "      <td>scumbagdetector15</td>\n",
              "      <td>csch2</td>\n",
              "    </tr>\n",
              "    <tr>\n",
              "      <th>4</th>\n",
              "      <td>PlayerofVideoGames###scumbagdetector15</td>\n",
              "      <td>PlayerofVideoGames</td>\n",
              "      <td>scumbagdetector15</td>\n",
              "    </tr>\n",
              "    <tr>\n",
              "      <th>...</th>\n",
              "      <td>...</td>\n",
              "      <td>...</td>\n",
              "      <td>...</td>\n",
              "    </tr>\n",
              "    <tr>\n",
              "      <th>1669</th>\n",
              "      <td>flossraptor###Alternative_Ad_9702</td>\n",
              "      <td>flossraptor</td>\n",
              "      <td>Alternative_Ad_9702</td>\n",
              "    </tr>\n",
              "    <tr>\n",
              "      <th>1670</th>\n",
              "      <td>Timofey_###Alternative_Ad_9702</td>\n",
              "      <td>Timofey_</td>\n",
              "      <td>Alternative_Ad_9702</td>\n",
              "    </tr>\n",
              "    <tr>\n",
              "      <th>1671</th>\n",
              "      <td>Alternative_Ad_9702###Alternative_Ad_9702</td>\n",
              "      <td>Alternative_Ad_9702</td>\n",
              "      <td>Alternative_Ad_9702</td>\n",
              "    </tr>\n",
              "    <tr>\n",
              "      <th>1672</th>\n",
              "      <td>xebeka6808###Alternative_Ad_9702</td>\n",
              "      <td>xebeka6808</td>\n",
              "      <td>Alternative_Ad_9702</td>\n",
              "    </tr>\n",
              "    <tr>\n",
              "      <th>1673</th>\n",
              "      <td>xebeka6808###Alternative_Ad_9702</td>\n",
              "      <td>xebeka6808</td>\n",
              "      <td>Alternative_Ad_9702</td>\n",
              "    </tr>\n",
              "  </tbody>\n",
              "</table>\n",
              "<p>1674 rows × 3 columns</p>\n",
              "</div>\n",
              "      <button class=\"colab-df-convert\" onclick=\"convertToInteractive('df-37ef8af3-45f5-4541-bd7d-33b94f72b09e')\"\n",
              "              title=\"Convert this dataframe to an interactive table.\"\n",
              "              style=\"display:none;\">\n",
              "        \n",
              "  <svg xmlns=\"http://www.w3.org/2000/svg\" height=\"24px\"viewBox=\"0 0 24 24\"\n",
              "       width=\"24px\">\n",
              "    <path d=\"M0 0h24v24H0V0z\" fill=\"none\"/>\n",
              "    <path d=\"M18.56 5.44l.94 2.06.94-2.06 2.06-.94-2.06-.94-.94-2.06-.94 2.06-2.06.94zm-11 1L8.5 8.5l.94-2.06 2.06-.94-2.06-.94L8.5 2.5l-.94 2.06-2.06.94zm10 10l.94 2.06.94-2.06 2.06-.94-2.06-.94-.94-2.06-.94 2.06-2.06.94z\"/><path d=\"M17.41 7.96l-1.37-1.37c-.4-.4-.92-.59-1.43-.59-.52 0-1.04.2-1.43.59L10.3 9.45l-7.72 7.72c-.78.78-.78 2.05 0 2.83L4 21.41c.39.39.9.59 1.41.59.51 0 1.02-.2 1.41-.59l7.78-7.78 2.81-2.81c.8-.78.8-2.07 0-2.86zM5.41 20L4 18.59l7.72-7.72 1.47 1.35L5.41 20z\"/>\n",
              "  </svg>\n",
              "      </button>\n",
              "      \n",
              "  <style>\n",
              "    .colab-df-container {\n",
              "      display:flex;\n",
              "      flex-wrap:wrap;\n",
              "      gap: 12px;\n",
              "    }\n",
              "\n",
              "    .colab-df-convert {\n",
              "      background-color: #E8F0FE;\n",
              "      border: none;\n",
              "      border-radius: 50%;\n",
              "      cursor: pointer;\n",
              "      display: none;\n",
              "      fill: #1967D2;\n",
              "      height: 32px;\n",
              "      padding: 0 0 0 0;\n",
              "      width: 32px;\n",
              "    }\n",
              "\n",
              "    .colab-df-convert:hover {\n",
              "      background-color: #E2EBFA;\n",
              "      box-shadow: 0px 1px 2px rgba(60, 64, 67, 0.3), 0px 1px 3px 1px rgba(60, 64, 67, 0.15);\n",
              "      fill: #174EA6;\n",
              "    }\n",
              "\n",
              "    [theme=dark] .colab-df-convert {\n",
              "      background-color: #3B4455;\n",
              "      fill: #D2E3FC;\n",
              "    }\n",
              "\n",
              "    [theme=dark] .colab-df-convert:hover {\n",
              "      background-color: #434B5C;\n",
              "      box-shadow: 0px 1px 3px 1px rgba(0, 0, 0, 0.15);\n",
              "      filter: drop-shadow(0px 1px 2px rgba(0, 0, 0, 0.3));\n",
              "      fill: #FFFFFF;\n",
              "    }\n",
              "  </style>\n",
              "\n",
              "      <script>\n",
              "        const buttonEl =\n",
              "          document.querySelector('#df-37ef8af3-45f5-4541-bd7d-33b94f72b09e button.colab-df-convert');\n",
              "        buttonEl.style.display =\n",
              "          google.colab.kernel.accessAllowed ? 'block' : 'none';\n",
              "\n",
              "        async function convertToInteractive(key) {\n",
              "          const element = document.querySelector('#df-37ef8af3-45f5-4541-bd7d-33b94f72b09e');\n",
              "          const dataTable =\n",
              "            await google.colab.kernel.invokeFunction('convertToInteractive',\n",
              "                                                     [key], {});\n",
              "          if (!dataTable) return;\n",
              "\n",
              "          const docLinkHtml = 'Like what you see? Visit the ' +\n",
              "            '<a target=\"_blank\" href=https://colab.research.google.com/notebooks/data_table.ipynb>data table notebook</a>'\n",
              "            + ' to learn more about interactive tables.';\n",
              "          element.innerHTML = '';\n",
              "          dataTable['output_type'] = 'display_data';\n",
              "          await google.colab.output.renderOutput(dataTable, element);\n",
              "          const docLink = document.createElement('div');\n",
              "          docLink.innerHTML = docLinkHtml;\n",
              "          element.appendChild(docLink);\n",
              "        }\n",
              "      </script>\n",
              "    </div>\n",
              "  </div>\n",
              "  "
            ]
          },
          "metadata": {},
          "execution_count": 15
        }
      ]
    },
    {
      "cell_type": "code",
      "source": [
        "edges = edges[['source', 'dest']]"
      ],
      "metadata": {
        "id": "bUlatPzDBTJl"
      },
      "execution_count": 16,
      "outputs": []
    },
    {
      "cell_type": "code",
      "source": [
        "edges['source']"
      ],
      "metadata": {
        "colab": {
          "base_uri": "https://localhost:8080/"
        },
        "id": "IXiyyeOaILcL",
        "outputId": "eb815923-cadc-4ddb-c474-ec1fbc7dba48"
      },
      "execution_count": 17,
      "outputs": [
        {
          "output_type": "execute_result",
          "data": {
            "text/plain": [
              "0             AutoModerator\n",
              "1         scumbagdetector15\n",
              "2                     csch2\n",
              "3         scumbagdetector15\n",
              "4        PlayerofVideoGames\n",
              "               ...         \n",
              "1669            flossraptor\n",
              "1670               Timofey_\n",
              "1671    Alternative_Ad_9702\n",
              "1672             xebeka6808\n",
              "1673             xebeka6808\n",
              "Name: source, Length: 1674, dtype: object"
            ]
          },
          "metadata": {},
          "execution_count": 17
        }
      ]
    },
    {
      "cell_type": "code",
      "source": [
        "# Perform merge to obtain the edges from users and movies:\n",
        "edges_source_id = pd.merge(edges['source'], users,\n",
        "                            left_on='source', right_on='username', how='left')"
      ],
      "metadata": {
        "id": "cNWzQogFJNl9"
      },
      "execution_count": 18,
      "outputs": []
    },
    {
      "cell_type": "code",
      "source": [
        "users"
      ],
      "metadata": {
        "colab": {
          "base_uri": "https://localhost:8080/",
          "height": 423
        },
        "id": "OM5yA3ZJDB3H",
        "outputId": "fbb59b8c-6f70-47aa-cc6e-25556d12e160"
      },
      "execution_count": 19,
      "outputs": [
        {
          "output_type": "execute_result",
          "data": {
            "text/plain": [
              "     userid              username\n",
              "0         0          that_90s_guy\n",
              "1         1         AutoModerator\n",
              "2         2     scumbagdetector15\n",
              "3         3                 csch2\n",
              "4         4    PlayerofVideoGames\n",
              "..      ...                   ...\n",
              "608     608  Lanky_Information825\n",
              "609     609            xebeka6808\n",
              "610     610            HumanJenoM\n",
              "611     611             mvandemar\n",
              "612     612           flossraptor\n",
              "\n",
              "[613 rows x 2 columns]"
            ],
            "text/html": [
              "\n",
              "  <div id=\"df-6e673caa-35af-443a-ac79-54a54cd6a72f\">\n",
              "    <div class=\"colab-df-container\">\n",
              "      <div>\n",
              "<style scoped>\n",
              "    .dataframe tbody tr th:only-of-type {\n",
              "        vertical-align: middle;\n",
              "    }\n",
              "\n",
              "    .dataframe tbody tr th {\n",
              "        vertical-align: top;\n",
              "    }\n",
              "\n",
              "    .dataframe thead th {\n",
              "        text-align: right;\n",
              "    }\n",
              "</style>\n",
              "<table border=\"1\" class=\"dataframe\">\n",
              "  <thead>\n",
              "    <tr style=\"text-align: right;\">\n",
              "      <th></th>\n",
              "      <th>userid</th>\n",
              "      <th>username</th>\n",
              "    </tr>\n",
              "  </thead>\n",
              "  <tbody>\n",
              "    <tr>\n",
              "      <th>0</th>\n",
              "      <td>0</td>\n",
              "      <td>that_90s_guy</td>\n",
              "    </tr>\n",
              "    <tr>\n",
              "      <th>1</th>\n",
              "      <td>1</td>\n",
              "      <td>AutoModerator</td>\n",
              "    </tr>\n",
              "    <tr>\n",
              "      <th>2</th>\n",
              "      <td>2</td>\n",
              "      <td>scumbagdetector15</td>\n",
              "    </tr>\n",
              "    <tr>\n",
              "      <th>3</th>\n",
              "      <td>3</td>\n",
              "      <td>csch2</td>\n",
              "    </tr>\n",
              "    <tr>\n",
              "      <th>4</th>\n",
              "      <td>4</td>\n",
              "      <td>PlayerofVideoGames</td>\n",
              "    </tr>\n",
              "    <tr>\n",
              "      <th>...</th>\n",
              "      <td>...</td>\n",
              "      <td>...</td>\n",
              "    </tr>\n",
              "    <tr>\n",
              "      <th>608</th>\n",
              "      <td>608</td>\n",
              "      <td>Lanky_Information825</td>\n",
              "    </tr>\n",
              "    <tr>\n",
              "      <th>609</th>\n",
              "      <td>609</td>\n",
              "      <td>xebeka6808</td>\n",
              "    </tr>\n",
              "    <tr>\n",
              "      <th>610</th>\n",
              "      <td>610</td>\n",
              "      <td>HumanJenoM</td>\n",
              "    </tr>\n",
              "    <tr>\n",
              "      <th>611</th>\n",
              "      <td>611</td>\n",
              "      <td>mvandemar</td>\n",
              "    </tr>\n",
              "    <tr>\n",
              "      <th>612</th>\n",
              "      <td>612</td>\n",
              "      <td>flossraptor</td>\n",
              "    </tr>\n",
              "  </tbody>\n",
              "</table>\n",
              "<p>613 rows × 2 columns</p>\n",
              "</div>\n",
              "      <button class=\"colab-df-convert\" onclick=\"convertToInteractive('df-6e673caa-35af-443a-ac79-54a54cd6a72f')\"\n",
              "              title=\"Convert this dataframe to an interactive table.\"\n",
              "              style=\"display:none;\">\n",
              "        \n",
              "  <svg xmlns=\"http://www.w3.org/2000/svg\" height=\"24px\"viewBox=\"0 0 24 24\"\n",
              "       width=\"24px\">\n",
              "    <path d=\"M0 0h24v24H0V0z\" fill=\"none\"/>\n",
              "    <path d=\"M18.56 5.44l.94 2.06.94-2.06 2.06-.94-2.06-.94-.94-2.06-.94 2.06-2.06.94zm-11 1L8.5 8.5l.94-2.06 2.06-.94-2.06-.94L8.5 2.5l-.94 2.06-2.06.94zm10 10l.94 2.06.94-2.06 2.06-.94-2.06-.94-.94-2.06-.94 2.06-2.06.94z\"/><path d=\"M17.41 7.96l-1.37-1.37c-.4-.4-.92-.59-1.43-.59-.52 0-1.04.2-1.43.59L10.3 9.45l-7.72 7.72c-.78.78-.78 2.05 0 2.83L4 21.41c.39.39.9.59 1.41.59.51 0 1.02-.2 1.41-.59l7.78-7.78 2.81-2.81c.8-.78.8-2.07 0-2.86zM5.41 20L4 18.59l7.72-7.72 1.47 1.35L5.41 20z\"/>\n",
              "  </svg>\n",
              "      </button>\n",
              "      \n",
              "  <style>\n",
              "    .colab-df-container {\n",
              "      display:flex;\n",
              "      flex-wrap:wrap;\n",
              "      gap: 12px;\n",
              "    }\n",
              "\n",
              "    .colab-df-convert {\n",
              "      background-color: #E8F0FE;\n",
              "      border: none;\n",
              "      border-radius: 50%;\n",
              "      cursor: pointer;\n",
              "      display: none;\n",
              "      fill: #1967D2;\n",
              "      height: 32px;\n",
              "      padding: 0 0 0 0;\n",
              "      width: 32px;\n",
              "    }\n",
              "\n",
              "    .colab-df-convert:hover {\n",
              "      background-color: #E2EBFA;\n",
              "      box-shadow: 0px 1px 2px rgba(60, 64, 67, 0.3), 0px 1px 3px 1px rgba(60, 64, 67, 0.15);\n",
              "      fill: #174EA6;\n",
              "    }\n",
              "\n",
              "    [theme=dark] .colab-df-convert {\n",
              "      background-color: #3B4455;\n",
              "      fill: #D2E3FC;\n",
              "    }\n",
              "\n",
              "    [theme=dark] .colab-df-convert:hover {\n",
              "      background-color: #434B5C;\n",
              "      box-shadow: 0px 1px 3px 1px rgba(0, 0, 0, 0.15);\n",
              "      filter: drop-shadow(0px 1px 2px rgba(0, 0, 0, 0.3));\n",
              "      fill: #FFFFFF;\n",
              "    }\n",
              "  </style>\n",
              "\n",
              "      <script>\n",
              "        const buttonEl =\n",
              "          document.querySelector('#df-6e673caa-35af-443a-ac79-54a54cd6a72f button.colab-df-convert');\n",
              "        buttonEl.style.display =\n",
              "          google.colab.kernel.accessAllowed ? 'block' : 'none';\n",
              "\n",
              "        async function convertToInteractive(key) {\n",
              "          const element = document.querySelector('#df-6e673caa-35af-443a-ac79-54a54cd6a72f');\n",
              "          const dataTable =\n",
              "            await google.colab.kernel.invokeFunction('convertToInteractive',\n",
              "                                                     [key], {});\n",
              "          if (!dataTable) return;\n",
              "\n",
              "          const docLinkHtml = 'Like what you see? Visit the ' +\n",
              "            '<a target=\"_blank\" href=https://colab.research.google.com/notebooks/data_table.ipynb>data table notebook</a>'\n",
              "            + ' to learn more about interactive tables.';\n",
              "          element.innerHTML = '';\n",
              "          dataTable['output_type'] = 'display_data';\n",
              "          await google.colab.output.renderOutput(dataTable, element);\n",
              "          const docLink = document.createElement('div');\n",
              "          docLink.innerHTML = docLinkHtml;\n",
              "          element.appendChild(docLink);\n",
              "        }\n",
              "      </script>\n",
              "    </div>\n",
              "  </div>\n",
              "  "
            ]
          },
          "metadata": {},
          "execution_count": 19
        }
      ]
    },
    {
      "cell_type": "code",
      "source": [
        "edges_source_id = torch.from_numpy(edges_source_id['userid'].values)"
      ],
      "metadata": {
        "id": "8-e3FHCPVdSH"
      },
      "execution_count": 20,
      "outputs": []
    },
    {
      "cell_type": "code",
      "source": [
        "edges_source_id"
      ],
      "metadata": {
        "colab": {
          "base_uri": "https://localhost:8080/"
        },
        "id": "MbxLNpmYC8K8",
        "outputId": "e76332ab-4d13-4ba8-c572-5bdd9b6d5d4c"
      },
      "execution_count": 21,
      "outputs": [
        {
          "output_type": "execute_result",
          "data": {
            "text/plain": [
              "tensor([  1,   2,   3,  ..., 606, 609, 609])"
            ]
          },
          "metadata": {},
          "execution_count": 21
        }
      ]
    },
    {
      "cell_type": "code",
      "source": [
        "edges_dest_id = pd.merge(edges['dest'], users,\n",
        "                            left_on='dest', right_on='username', how='left')\n",
        "edges_dest_id = torch.from_numpy(edges_dest_id['userid'].values)\n"
      ],
      "metadata": {
        "id": "EbTUuIEPVeUr"
      },
      "execution_count": 22,
      "outputs": []
    },
    {
      "cell_type": "code",
      "source": [
        "edges_dest_id"
      ],
      "metadata": {
        "colab": {
          "base_uri": "https://localhost:8080/"
        },
        "id": "bSRoUt4xWclB",
        "outputId": "8946fded-fd9e-4924-8276-ea52c90a83d0"
      },
      "execution_count": 23,
      "outputs": [
        {
          "output_type": "execute_result",
          "data": {
            "text/plain": [
              "tensor([  0,   0,   2,  ..., 606, 606, 606])"
            ]
          },
          "metadata": {},
          "execution_count": 23
        }
      ]
    },
    {
      "cell_type": "code",
      "source": [
        "# # With this, we are ready to construct our `edge_index` in COO format\n",
        "# # following PyG semantics:\n",
        "edge_source_dest = torch.stack([edges_source_id, edges_dest_id], dim=0)\n"
      ],
      "metadata": {
        "id": "57RT0-YfV4kh"
      },
      "execution_count": 24,
      "outputs": []
    },
    {
      "cell_type": "code",
      "source": [
        "x = torch.tensor(x.float())\n",
        "y = torch.tensor(y).ravel()"
      ],
      "metadata": {
        "colab": {
          "base_uri": "https://localhost:8080/"
        },
        "id": "vt_Tp_Ybnv9S",
        "outputId": "cefebf00-7423-4682-e6cf-79fe0b79c0c1"
      },
      "execution_count": 25,
      "outputs": [
        {
          "output_type": "stream",
          "name": "stderr",
          "text": [
            "<ipython-input-25-4bfdc6061317>:1: UserWarning: To copy construct from a tensor, it is recommended to use sourceTensor.clone().detach() or sourceTensor.clone().detach().requires_grad_(True), rather than torch.tensor(sourceTensor).\n",
            "  x = torch.tensor(x.float())\n",
            "<ipython-input-25-4bfdc6061317>:2: UserWarning: To copy construct from a tensor, it is recommended to use sourceTensor.clone().detach() or sourceTensor.clone().detach().requires_grad_(True), rather than torch.tensor(sourceTensor).\n",
            "  y = torch.tensor(y).ravel()\n"
          ]
        }
      ]
    },
    {
      "cell_type": "code",
      "source": [
        "y.shape"
      ],
      "metadata": {
        "colab": {
          "base_uri": "https://localhost:8080/"
        },
        "id": "_c4VebSyoyKG",
        "outputId": "ad40c822-909b-490e-9573-e4e79c219cef"
      },
      "execution_count": 26,
      "outputs": [
        {
          "output_type": "execute_result",
          "data": {
            "text/plain": [
              "torch.Size([613])"
            ]
          },
          "metadata": {},
          "execution_count": 26
        }
      ]
    },
    {
      "cell_type": "markdown",
      "source": [
        "## Graph creation"
      ],
      "metadata": {
        "id": "U_5lv9E30T7u"
      }
    },
    {
      "cell_type": "code",
      "source": [
        "data = Data(x= x , edge_index=edge_source_dest, y=y, num_classes = num_classes)"
      ],
      "metadata": {
        "id": "cy8nRz5EV3_0"
      },
      "execution_count": 27,
      "outputs": []
    },
    {
      "cell_type": "code",
      "source": [
        "data"
      ],
      "metadata": {
        "id": "G_bDi9BiVpuJ",
        "colab": {
          "base_uri": "https://localhost:8080/"
        },
        "outputId": "ff465f92-a227-4ee5-84e8-9ded501eba96"
      },
      "execution_count": 28,
      "outputs": [
        {
          "output_type": "execute_result",
          "data": {
            "text/plain": [
              "Data(x=[613, 2], edge_index=[2, 1674], y=[613], num_classes=1)"
            ]
          },
          "metadata": {},
          "execution_count": 28
        }
      ]
    },
    {
      "cell_type": "code",
      "source": [
        "from torch_geometric.transforms import RandomNodeSplit as masking"
      ],
      "metadata": {
        "id": "Fx77wQwRhGs-"
      },
      "execution_count": 29,
      "outputs": []
    },
    {
      "cell_type": "markdown",
      "source": [
        "Probably this is not the best way to split. Probably splitting using random links would be better"
      ],
      "metadata": {
        "id": "PPmfZul6iIMk"
      }
    },
    {
      "cell_type": "code",
      "source": [
        "msk=masking(split=\"train_rest\", num_splits = 1, num_val = 0.2, num_test= 0.2)\n",
        "data=msk(data)\n",
        "print(data)\n",
        "print()\n",
        "print(\"training samples\",torch.sum(data.train_mask).item())\n",
        "print(\"validation samples\",torch.sum(data.val_mask ).item())\n",
        "print(\"test samples\",torch.sum(data.test_mask ).item())\n",
        "\n",
        "# Hands-on Graph Neural Networks for Social Network Using PyTorch | by Awadelrahman M. A. Ahmed | Medium\n",
        "# https://awadrahman.medium.com/hands-on-graph-neural-networks-for-social-network-using-pytorch-30231c130b38\n"
      ],
      "metadata": {
        "colab": {
          "base_uri": "https://localhost:8080/"
        },
        "id": "0E-qaJalhiIT",
        "outputId": "a575baf0-063d-4a63-f25f-05745a91b2bc"
      },
      "execution_count": 30,
      "outputs": [
        {
          "output_type": "stream",
          "name": "stdout",
          "text": [
            "Data(x=[613, 2], edge_index=[2, 1674], y=[613], num_classes=1, train_mask=[613], val_mask=[613], test_mask=[613])\n",
            "\n",
            "training samples 367\n",
            "validation samples 123\n",
            "test samples 123\n"
          ]
        }
      ]
    },
    {
      "cell_type": "code",
      "source": [
        "num_of_feat=data.num_node_features"
      ],
      "metadata": {
        "id": "sQzgr1N_ipib"
      },
      "execution_count": 31,
      "outputs": []
    },
    {
      "cell_type": "code",
      "source": [
        "num_of_feat"
      ],
      "metadata": {
        "colab": {
          "base_uri": "https://localhost:8080/"
        },
        "id": "eOP0CD-eirdH",
        "outputId": "69083ecd-bcf7-4688-9ca8-0511af4f4104"
      },
      "execution_count": 32,
      "outputs": [
        {
          "output_type": "execute_result",
          "data": {
            "text/plain": [
              "2"
            ]
          },
          "metadata": {},
          "execution_count": 32
        }
      ]
    },
    {
      "cell_type": "markdown",
      "source": [
        "## setting seeds"
      ],
      "metadata": {
        "id": "rd1MfTJ2Zr4v"
      }
    },
    {
      "cell_type": "code",
      "source": [
        "import random\n",
        "\n",
        "import numpy as np\n",
        "from torch_geometric.seed import seed_everything\n",
        "seed_everything(4)"
      ],
      "metadata": {
        "id": "Wb3UqIBEZwKW"
      },
      "execution_count": 33,
      "outputs": []
    },
    {
      "cell_type": "markdown",
      "source": [
        "## GCN regression"
      ],
      "metadata": {
        "id": "rVBVm6GLU2xB"
      }
    },
    {
      "cell_type": "code",
      "source": [
        "import torch\n",
        "import torch.nn.functional as F\n",
        "from torch_geometric.nn import GCNConv\n",
        "\n",
        "class GCN(torch.nn.Module):\n",
        "    def __init__(self, dropout):\n",
        "        super().__init__()\n",
        "        self.conv1 = GCNConv(data.num_node_features, 16, dropout=dropout)\n",
        "        self.conv2 = GCNConv(16, data.num_classes)\n",
        "        self.dropout = dropout\n",
        "\n",
        "    def forward(self, data):\n",
        "        x, edge_index = data.x, data.edge_index\n",
        "\n",
        "        x = self.conv1(x, edge_index)\n",
        "        x = F.relu(x)\n",
        "        x = F.dropout(x, training=self.training, p=self.dropout)\n",
        "        x = self.conv2(x, edge_index)\n",
        "\n",
        "        return x"
      ],
      "metadata": {
        "id": "XBEHzb28U4lC"
      },
      "execution_count": 34,
      "outputs": []
    },
    {
      "cell_type": "code",
      "source": [
        "model = GCN(dropout = 0.2)#\n",
        "optimizer = torch.optim.Adam(model.parameters(), lr=1e-2, weight_decay=0.001)\n",
        "criterion = torch.nn.MSELoss()\n",
        "\n",
        "model.train()\n",
        "loss_values = []\n",
        "for epoch in range(200):\n",
        "    optimizer.zero_grad()\n",
        "    out = model(data)\n",
        "    loss = criterion(out[data.train_mask], data.y[data.train_mask])\n",
        "\n",
        "    loss_values.append(loss.item())\n",
        "    loss.backward()\n",
        "    optimizer.step()"
      ],
      "metadata": {
        "id": "v5d1YiUVVwRJ",
        "colab": {
          "base_uri": "https://localhost:8080/"
        },
        "outputId": "88c2225b-a3a6-46e8-f69b-e93eb94721bd"
      },
      "execution_count": 35,
      "outputs": [
        {
          "output_type": "stream",
          "name": "stderr",
          "text": [
            "/usr/local/lib/python3.10/dist-packages/torch/nn/modules/loss.py:536: UserWarning: Using a target size (torch.Size([367])) that is different to the input size (torch.Size([367, 1])). This will likely lead to incorrect results due to broadcasting. Please ensure they have the same size.\n",
            "  return F.mse_loss(input, target, reduction=self.reduction)\n"
          ]
        }
      ]
    },
    {
      "cell_type": "code",
      "source": [
        "plt.plot(loss_values);"
      ],
      "metadata": {
        "colab": {
          "base_uri": "https://localhost:8080/",
          "height": 445
        },
        "id": "ULWbwoaORfiN",
        "outputId": "6a30cb43-d84b-41d3-82ea-b171802e06c9"
      },
      "execution_count": 36,
      "outputs": [
        {
          "output_type": "display_data",
          "data": {
            "text/plain": [
              "<Figure size 640x480 with 1 Axes>"
            ],
            "image/png": "[encoded data removed]"
          },
          "metadata": {}
        }
      ]
    },
    {
      "cell_type": "code",
      "source": [
        "# Evaluate model on valid set\n",
        "model.eval()\n",
        "with torch.no_grad():\n",
        "  out = model(data)\n",
        "  mse_loss = criterion(out[data.val_mask].squeeze(), data.y[data.val_mask].squeeze())\n",
        "  print(f'Val set MSE: {mse_loss.item():.4f}')\n",
        "  print(f'val RMSE: {mse_loss.sqrt():.4f}')\n"
      ],
      "metadata": {
        "colab": {
          "base_uri": "https://localhost:8080/"
        },
        "id": "1FqXRbaLXJym",
        "outputId": "bc189e09-0999-441b-b10f-e3611377c210"
      },
      "execution_count": 37,
      "outputs": [
        {
          "output_type": "stream",
          "name": "stdout",
          "text": [
            "Val set MSE: 3484584.5000\n",
            "val RMSE: 1866.7042\n"
          ]
        }
      ]
    },
    {
      "cell_type": "markdown",
      "metadata": {
        "id": "yWQBqGVL_Q6i"
      },
      "source": [
        "### Hyperparameter tuning  \n",
        "\n",
        "- Number of layers:  1, 2, and also 5\n",
        "- L2 regularization on the neural network weight matrices/parameters\n",
        "(i.e., weight decay parameter: 0, 1e-4, and 1e-2)\n",
        "- Learning rate given as input to torch.optim.Adam(): 1e-5 and 1e-2\n",
        "\n",
        "I will calculate the mean and standard deviation of 3 runs "
      ]
    },
    {
      "cell_type": "markdown",
      "metadata": {
        "id": "ezh8CDQ1WhoI"
      },
      "source": [
        "#### 2 layers implemenattion"
      ]
    },
    {
      "cell_type": "code",
      "execution_count": 38,
      "metadata": {
        "id": "veLQli_aVC6R"
      },
      "outputs": [],
      "source": [
        "# Define the ranges for each hyperparameter\n",
        "weight_decays = [0, 1e-4, 1e-2] \n",
        "learning_rates = [1e-5, 1e-2]\n",
        "dropout_rates = [0, 0.2, 0.4, 0.6]\n",
        "\n",
        "# Define the number of times to repeat for each set of hyperparameters\n",
        "num_repeats = 3\n",
        "\n",
        "# Initialize a dictionary to store the results\n",
        "results = {}\n",
        "\n",
        "# Loop over all possible combinations of hyperparameters\n",
        "for weight_decay in weight_decays:\n",
        "      for learning_rate in learning_rates:\n",
        "          for dropout_rate in dropout_rates:\n",
        "          \n",
        "            # Initialize the model and optimizer with the current hyperparameters\n",
        "            model = GCN(dropout = dropout_rate)\n",
        "            optimizer = torch.optim.Adam(model.parameters(), lr=learning_rate, weight_decay=weight_decay)\n",
        "\n",
        "            # Train the model and get the RMSE for each repeat\n",
        "            rmse_list = []\n",
        "            for repeat in range(num_repeats):\n",
        "                model.train()\n",
        "                for epoch in range(200):\n",
        "                    optimizer.zero_grad()\n",
        "                    out = model(data)\n",
        "                    loss = criterion(out[data.train_mask], data.y[data.train_mask])\n",
        "                    loss.backward()\n",
        "                    optimizer.step()\n",
        "                with torch.no_grad():\n",
        "                  model.eval()\n",
        "                  rmse_loss = criterion(out[data.val_mask].squeeze(), data.y[data.val_mask].squeeze()).sqrt()\n",
        "                  rmse_list.append(rmse_loss)\n",
        "\n",
        "            # Calculate the mean and standard deviation of accuracy for the current hyperparameters\n",
        "            rmse_mean = round(np.mean(rmse_list),4)\n",
        "            rmse_std = round(np.std(rmse_list),4)\n",
        "            \n",
        "            # Store the results in the dictionary\n",
        "            results[(weight_decay,learning_rate, dropout_rate)] = (rmse_mean, rmse_std)\n"
      ]
    },
    {
      "cell_type": "code",
      "execution_count": 39,
      "metadata": {
        "colab": {
          "base_uri": "https://localhost:8080/"
        },
        "id": "WkTAO_ZbVKf2",
        "outputId": "0aa7fa1b-62d3-4226-bc38-b17ade3c3c7d"
      },
      "outputs": [
        {
          "output_type": "execute_result",
          "data": {
            "text/plain": [
              "{(0, 1e-05, 0): (11650.515, 601.2841),\n",
              " (0, 1e-05, 0.2): (20162.17, 5809.823),\n",
              " (0, 1e-05, 0.4): (18560.436, 2113.7913),\n",
              " (0, 1e-05, 0.6): (26347.463, 7655.7734),\n",
              " (0, 0.01, 0): (882.9565, 11.8175),\n",
              " (0, 0.01, 0.2): (1148.3605, 318.698),\n",
              " (0, 0.01, 0.4): (916.9659, 54.6309),\n",
              " (0, 0.01, 0.6): (1925.027, 1059.5215),\n",
              " (0.0001, 1e-05, 0): (9823.976, 681.1061),\n",
              " (0.0001, 1e-05, 0.2): (30224.623, 3833.534),\n",
              " (0.0001, 1e-05, 0.4): (12915.86, 3795.743),\n",
              " (0.0001, 1e-05, 0.6): (30653.588, 13373.654),\n",
              " (0.0001, 0.01, 0): (955.1972, 103.0938),\n",
              " (0.0001, 0.01, 0.2): (906.0556, 57.0247),\n",
              " (0.0001, 0.01, 0.4): (2704.9812, 1492.7216),\n",
              " (0.0001, 0.01, 0.6): (2781.088, 2186.8464),\n",
              " (0.01, 1e-05, 0): (36730.09, 525.6285),\n",
              " (0.01, 1e-05, 0.2): (8654.401, 3243.6235),\n",
              " (0.01, 1e-05, 0.4): (23473.455, 691.0958),\n",
              " (0.01, 1e-05, 0.6): (47910.348, 14464.592),\n",
              " (0.01, 0.01, 0): (844.2192, 11.4919),\n",
              " (0.01, 0.01, 0.2): (950.9655, 95.1252),\n",
              " (0.01, 0.01, 0.4): (1392.8174, 349.7928),\n",
              " (0.01, 0.01, 0.6): (1083.4581, 238.7296)}"
            ]
          },
          "metadata": {},
          "execution_count": 39
        }
      ],
      "source": [
        "results"
      ]
    },
    {
      "cell_type": "markdown",
      "metadata": {
        "id": "wRoGCVOdL6cP"
      },
      "source": [
        "#### One layer implementation "
      ]
    },
    {
      "cell_type": "code",
      "execution_count": 40,
      "metadata": {
        "id": "w5Vmq-wZMD-r"
      },
      "outputs": [],
      "source": [
        "class GCN_1(torch.nn.Module):\n",
        "    def __init__(self, dropout = 0):\n",
        "        super().__init__()\n",
        "        self.conv1 = GCNConv(data.num_node_features, data.num_classes)\n",
        "        self.dropout = dropout\n",
        "\n",
        "    def forward(self, data):\n",
        "        x, edge_index = data.x, data.edge_index\n",
        "\n",
        "        x = self.conv1(x, edge_index)\n",
        "        # x = F.relu(x)\n",
        "        #x = F.dropout(x, training=self.training, p=self.dropout)\n",
        "        # x = self.conv2(x, edge_index)\n",
        "\n",
        "        return x"
      ]
    },
    {
      "cell_type": "code",
      "execution_count": 41,
      "metadata": {
        "id": "7GDWPb3HL6cP"
      },
      "outputs": [],
      "source": [
        "# Define the ranges for each hyperparameter\n",
        "weight_decays = [0, 1e-4, 1e-2] \n",
        "learning_rates = [1e-5, 1e-2]\n",
        "dropout_rates = [0, 0.2, 0.4, 0.6]\n",
        "\n",
        "# Define the number of times to repeat for each set of hyperparameters\n",
        "num_repeats = 3\n",
        "\n",
        "# Initialize a dictionary to store the results\n",
        "results_1L = {}\n",
        "\n",
        "# Loop over all possible combinations of hyperparameters\n",
        "for weight_decay in weight_decays:\n",
        "      for learning_rate in learning_rates:\n",
        "          for dropout_rate in dropout_rates:\n",
        "          \n",
        "            # Initialize the model and optimizer with the current hyperparameters\n",
        "            model = GCN_1(dropout = dropout_rate)\n",
        "            optimizer = torch.optim.Adam(model.parameters(), lr=learning_rate, weight_decay=weight_decay)\n",
        "\n",
        "            # Train the model and get the RMSE for each repeat\n",
        "            rmse_list = []\n",
        "            for repeat in range(num_repeats):\n",
        "                model.train()\n",
        "                for epoch in range(200):\n",
        "                    optimizer.zero_grad()\n",
        "                    out = model(data)\n",
        "                    loss = criterion(out[data.train_mask], data.y[data.train_mask])\n",
        "                    loss.backward()\n",
        "                    optimizer.step()\n",
        "                with torch.no_grad():\n",
        "                  model.eval()\n",
        "                  rmse_loss = criterion(out[data.val_mask].squeeze(), data.y[data.val_mask].squeeze()).sqrt()\n",
        "                  rmse_list.append(rmse_loss)\n",
        "\n",
        "            # Calculate the mean and standard deviation of accuracy for the current hyperparameters\n",
        "            rmse_mean = round(np.mean(rmse_list),4)\n",
        "            rmse_std = round(np.std(rmse_list),4)\n",
        "            \n",
        "            # Store the results in the dictionary\n",
        "            results_1L[(weight_decay,learning_rate, dropout_rate)] = (rmse_mean, rmse_std)\n"
      ]
    },
    {
      "cell_type": "code",
      "execution_count": 42,
      "metadata": {
        "colab": {
          "base_uri": "https://localhost:8080/"
        },
        "id": "89cEHQETNdEC",
        "outputId": "16cc401d-de9b-49cc-a78d-370778f4b8ed"
      },
      "outputs": [
        {
          "output_type": "execute_result",
          "data": {
            "text/plain": [
              "{(0, 1e-05, 0): (94490.15, 157.9985),\n",
              " (0, 1e-05, 0.2): (66503.57, 73.9321),\n",
              " (0, 1e-05, 0.4): (51944.363, 148.9086),\n",
              " (0, 1e-05, 0.6): (67766.85, 159.0733),\n",
              " (0, 0.01, 0): (6546.144, 4846.365),\n",
              " (0, 0.01, 0.2): (845.0322, 7.4106),\n",
              " (0, 0.01, 0.4): (850.5784, 0.6398),\n",
              " (0, 0.01, 0.6): (3270.1357, 2653.068),\n",
              " (0.0001, 1e-05, 0): (109131.63, 159.7686),\n",
              " (0.0001, 1e-05, 0.2): (64431.902, 127.0641),\n",
              " (0.0001, 1e-05, 0.4): (101163.76, 159.4752),\n",
              " (0.0001, 1e-05, 0.6): (78593.87, 42.3687),\n",
              " (0.0001, 0.01, 0): (4196.2876, 4600.9517),\n",
              " (0.0001, 0.01, 0.2): (851.3967, 1.8272),\n",
              " (0.0001, 0.01, 0.4): (850.0828, 0.0361),\n",
              " (0.0001, 0.01, 0.6): (1715.5316, 1223.5195),\n",
              " (0.01, 1e-05, 0): (106510.12, 159.185),\n",
              " (0.01, 1e-05, 0.2): (51282.355, 99.2809),\n",
              " (0.01, 1e-05, 0.4): (56857.37, 82.1779),\n",
              " (0.01, 1e-05, 0.6): (56259.848, 108.0136),\n",
              " (0.01, 0.01, 0): (4371.0454, 4435.8413),\n",
              " (0.01, 0.01, 0.2): (1344.2264, 696.1675),\n",
              " (0.01, 0.01, 0.4): (850.2004, 0.1216),\n",
              " (0.01, 0.01, 0.6): (9235.666, 7416.242)}"
            ]
          },
          "metadata": {},
          "execution_count": 42
        }
      ],
      "source": [
        "results_1L"
      ]
    },
    {
      "cell_type": "markdown",
      "metadata": {
        "id": "Vweg3OdxNdU2"
      },
      "source": [
        "#### Five layers implementation "
      ]
    },
    {
      "cell_type": "code",
      "execution_count": 43,
      "metadata": {
        "id": "0BXRm37TNdU3"
      },
      "outputs": [],
      "source": [
        "class GCN_5(torch.nn.Module):\n",
        "    def __init__(self, dropout = 0):\n",
        "        super().__init__()\n",
        "        self.conv1 = GCNConv(data.num_node_features, 16, dropout=dropout)\n",
        "        self.conv2 = GCNConv(16, 16, dropout=dropout)\n",
        "        self.conv3 = GCNConv(16, 16, dropout=dropout)\n",
        "        self.conv4 = GCNConv(16, 16, dropout=dropout)\n",
        "        self.conv5 = GCNConv(16, data.num_classes)\n",
        "        self.dropout = dropout\n",
        "\n",
        "    def forward(self, data):\n",
        "        x, edge_index = data.x, data.edge_index\n",
        "\n",
        "        x = self.conv1(x, edge_index)\n",
        "        x = F.relu(x)\n",
        "        x = F.dropout(x, training=self.training, p=self.dropout)\n",
        "        x = self.conv2(x, edge_index)\n",
        "        x = F.relu(x)\n",
        "        x = F.dropout(x, training=self.training, p=self.dropout)\n",
        "        x = self.conv3(x, edge_index)\n",
        "        x = F.relu(x)\n",
        "        x = F.dropout(x, training=self.training, p=self.dropout)\n",
        "        x = self.conv4(x, edge_index)\n",
        "        x = F.relu(x)\n",
        "        x = F.dropout(x, training=self.training, p=self.dropout)\n",
        "        x = self.conv5(x, edge_index)\n",
        "\n",
        "\n",
        "        return x"
      ]
    },
    {
      "cell_type": "code",
      "execution_count": 44,
      "metadata": {
        "id": "wh6SFl4oNdU3"
      },
      "outputs": [],
      "source": [
        "# Define the ranges for each hyperparameter\n",
        "weight_decays = [0, 1e-4, 1e-2] \n",
        "learning_rates = [1e-5, 1e-2]\n",
        "dropout_rates = [0, 0.2, 0.4, 0.6]\n",
        "\n",
        "# Define the number of times to repeat for each set of hyperparameters\n",
        "num_repeats = 3\n",
        "\n",
        "# Initialize a dictionary to store the results\n",
        "results_5L = {}\n",
        "\n",
        "# Loop over all possible combinations of hyperparameters\n",
        "for weight_decay in weight_decays:\n",
        "      for learning_rate in learning_rates:\n",
        "          for dropout_rate in dropout_rates:\n",
        "          \n",
        "            # Initialize the model and optimizer with the current hyperparameters\n",
        "            model = GCN_5(dropout = dropout_rate)\n",
        "            optimizer = torch.optim.Adam(model.parameters(), lr=learning_rate, weight_decay=weight_decay)\n",
        "\n",
        "            # Train the model and get the RMSE for each repeat\n",
        "            rmse_list = []\n",
        "            for repeat in range(num_repeats):\n",
        "                model.train()\n",
        "                for epoch in range(200):\n",
        "                    optimizer.zero_grad()\n",
        "                    out = model(data)\n",
        "                    loss = criterion(out[data.train_mask], data.y[data.train_mask])\n",
        "                    loss.backward()\n",
        "                    optimizer.step()\n",
        "                with torch.no_grad():\n",
        "                  model.eval()\n",
        "                  rmse_loss = criterion(out[data.val_mask].squeeze(), data.y[data.val_mask].squeeze()).sqrt()\n",
        "                  rmse_list.append(rmse_loss)\n",
        "\n",
        "            # Calculate the mean and standard deviation of accuracy for the current hyperparameters\n",
        "            rmse_mean = round(np.mean(rmse_list),4)\n",
        "            rmse_std = round(np.std(rmse_list),4)\n",
        "            \n",
        "            # Store the results in the dictionary\n",
        "            results_5L[(weight_decay,learning_rate, dropout_rate)] = (rmse_mean, rmse_std)\n"
      ]
    },
    {
      "cell_type": "code",
      "execution_count": 45,
      "metadata": {
        "colab": {
          "base_uri": "https://localhost:8080/"
        },
        "id": "khFQqGonScFh",
        "outputId": "90ff125e-da4d-4bd3-c495-ae7d7ac0da66"
      },
      "outputs": [
        {
          "output_type": "execute_result",
          "data": {
            "text/plain": [
              "{(0, 1e-05, 0): (17275.105, 1271.1829),\n",
              " (0, 1e-05, 0.2): (9890.324, 5175.987),\n",
              " (0, 1e-05, 0.4): (25177.375, 4752.408),\n",
              " (0, 1e-05, 0.6): (39382.27, 17838.385),\n",
              " (0, 0.01, 0): (886.5779, 55.7159),\n",
              " (0, 0.01, 0.2): (881.4771, 25.7995),\n",
              " (0, 0.01, 0.4): (895.1348, 56.0937),\n",
              " (0, 0.01, 0.6): (1123.4532, 357.8025),\n",
              " (0.0001, 1e-05, 0): (2182.8018, 575.4663),\n",
              " (0.0001, 1e-05, 0.2): (23514.352, 2354.3564),\n",
              " (0.0001, 1e-05, 0.4): (31160.906, 7188.9497),\n",
              " (0.0001, 1e-05, 0.6): (104951.44, 65356.59),\n",
              " (0.0001, 0.01, 0): (864.7407, 25.1336),\n",
              " (0.0001, 0.01, 0.2): (854.4312, 0.6263),\n",
              " (0.0001, 0.01, 0.4): (1137.4663, 383.3751),\n",
              " (0.0001, 0.01, 0.6): (1701.5796, 1182.1943),\n",
              " (0.01, 1e-05, 0): (4371.789, 403.0548),\n",
              " (0.01, 1e-05, 0.2): (14210.834, 6304.591),\n",
              " (0.01, 1e-05, 0.4): (24082.232, 7379.8394),\n",
              " (0.01, 1e-05, 0.6): (30278.4, 9708.526),\n",
              " (0.01, 0.01, 0): (849.6714, 1.4276),\n",
              " (0.01, 0.01, 0.2): (863.1802, 14.1088),\n",
              " (0.01, 0.01, 0.4): (925.7659, 39.4468),\n",
              " (0.01, 0.01, 0.6): (901.0834, 24.7162)}"
            ]
          },
          "metadata": {},
          "execution_count": 45
        }
      ],
      "source": [
        "results_5L"
      ]
    },
    {
      "cell_type": "markdown",
      "source": [
        "#### Adding all results to a table"
      ],
      "metadata": {
        "id": "4qOrBDW4t1je"
      }
    },
    {
      "cell_type": "code",
      "execution_count": 46,
      "metadata": {
        "id": "coibYYoOPw8r"
      },
      "outputs": [],
      "source": [
        "import pandas as pd\n",
        "combined_dict = {}\n",
        "combined_dict.update({1: results_1L})\n",
        "combined_dict.update({2: results})\n",
        "combined_dict.update({5: results_5L})\n",
        "\n",
        "# Convert the dictionary into a pandas DataFrame\n",
        "rows = []\n",
        "for dict_type, inner_dict in combined_dict.items():\n",
        "    for key, value in inner_dict.items():\n",
        "        rows.append((dict_type, key, round(value[0],4), round(value[1],4)))\n",
        "\n",
        "df = pd.DataFrame(rows, columns=['Layers', 'WD_LR_dropout', 'RMSE_mean', 'RMSE_std_dev'])"
      ]
    },
    {
      "cell_type": "code",
      "execution_count": 47,
      "metadata": {
        "colab": {
          "base_uri": "https://localhost:8080/",
          "height": 423
        },
        "id": "vhxf8vEaShn7",
        "outputId": "65309534-7339-4e49-e147-b8ba7e40e093"
      },
      "outputs": [
        {
          "output_type": "execute_result",
          "data": {
            "text/plain": [
              "    Layers         WD_LR_dropout      RMSE_mean  RMSE_std_dev\n",
              "44       2       (0.01, 0.01, 0)     844.219177     11.491900\n",
              "5        1        (0, 0.01, 0.2)     845.032227      7.410600\n",
              "68       5       (0.01, 0.01, 0)     849.671387      1.427600\n",
              "14       1   (0.0001, 0.01, 0.4)     850.082825      0.036100\n",
              "22       1     (0.01, 0.01, 0.4)     850.200378      0.121600\n",
              "..     ...                   ...            ...           ...\n",
              "0        1         (0, 1e-05, 0)   94490.148438    157.998505\n",
              "10       1  (0.0001, 1e-05, 0.4)  101163.757812    159.475204\n",
              "59       5  (0.0001, 1e-05, 0.6)  104951.437500  65356.589844\n",
              "16       1      (0.01, 1e-05, 0)  106510.117188    159.184998\n",
              "8        1    (0.0001, 1e-05, 0)  109131.632812    159.768600\n",
              "\n",
              "[72 rows x 4 columns]"
            ],
            "text/html": [
              "\n",
              "  <div id=\"df-9aaa876e-9503-4571-ac54-868b3f266379\">\n",
              "    <div class=\"colab-df-container\">\n",
              "      <div>\n",
              "<style scoped>\n",
              "    .dataframe tbody tr th:only-of-type {\n",
              "        vertical-align: middle;\n",
              "    }\n",
              "\n",
              "    .dataframe tbody tr th {\n",
              "        vertical-align: top;\n",
              "    }\n",
              "\n",
              "    .dataframe thead th {\n",
              "        text-align: right;\n",
              "    }\n",
              "</style>\n",
              "<table border=\"1\" class=\"dataframe\">\n",
              "  <thead>\n",
              "    <tr style=\"text-align: right;\">\n",
              "      <th></th>\n",
              "      <th>Layers</th>\n",
              "      <th>WD_LR_dropout</th>\n",
              "      <th>RMSE_mean</th>\n",
              "      <th>RMSE_std_dev</th>\n",
              "    </tr>\n",
              "  </thead>\n",
              "  <tbody>\n",
              "    <tr>\n",
              "      <th>44</th>\n",
              "      <td>2</td>\n",
              "      <td>(0.01, 0.01, 0)</td>\n",
              "      <td>844.219177</td>\n",
              "      <td>11.491900</td>\n",
              "    </tr>\n",
              "    <tr>\n",
              "      <th>5</th>\n",
              "      <td>1</td>\n",
              "      <td>(0, 0.01, 0.2)</td>\n",
              "      <td>845.032227</td>\n",
              "      <td>7.410600</td>\n",
              "    </tr>\n",
              "    <tr>\n",
              "      <th>68</th>\n",
              "      <td>5</td>\n",
              "      <td>(0.01, 0.01, 0)</td>\n",
              "      <td>849.671387</td>\n",
              "      <td>1.427600</td>\n",
              "    </tr>\n",
              "    <tr>\n",
              "      <th>14</th>\n",
              "      <td>1</td>\n",
              "      <td>(0.0001, 0.01, 0.4)</td>\n",
              "      <td>850.082825</td>\n",
              "      <td>0.036100</td>\n",
              "    </tr>\n",
              "    <tr>\n",
              "      <th>22</th>\n",
              "      <td>1</td>\n",
              "      <td>(0.01, 0.01, 0.4)</td>\n",
              "      <td>850.200378</td>\n",
              "      <td>0.121600</td>\n",
              "    </tr>\n",
              "    <tr>\n",
              "      <th>...</th>\n",
              "      <td>...</td>\n",
              "      <td>...</td>\n",
              "      <td>...</td>\n",
              "      <td>...</td>\n",
              "    </tr>\n",
              "    <tr>\n",
              "      <th>0</th>\n",
              "      <td>1</td>\n",
              "      <td>(0, 1e-05, 0)</td>\n",
              "      <td>94490.148438</td>\n",
              "      <td>157.998505</td>\n",
              "    </tr>\n",
              "    <tr>\n",
              "      <th>10</th>\n",
              "      <td>1</td>\n",
              "      <td>(0.0001, 1e-05, 0.4)</td>\n",
              "      <td>101163.757812</td>\n",
              "      <td>159.475204</td>\n",
              "    </tr>\n",
              "    <tr>\n",
              "      <th>59</th>\n",
              "      <td>5</td>\n",
              "      <td>(0.0001, 1e-05, 0.6)</td>\n",
              "      <td>104951.437500</td>\n",
              "      <td>65356.589844</td>\n",
              "    </tr>\n",
              "    <tr>\n",
              "      <th>16</th>\n",
              "      <td>1</td>\n",
              "      <td>(0.01, 1e-05, 0)</td>\n",
              "      <td>106510.117188</td>\n",
              "      <td>159.184998</td>\n",
              "    </tr>\n",
              "    <tr>\n",
              "      <th>8</th>\n",
              "      <td>1</td>\n",
              "      <td>(0.0001, 1e-05, 0)</td>\n",
              "      <td>109131.632812</td>\n",
              "      <td>159.768600</td>\n",
              "    </tr>\n",
              "  </tbody>\n",
              "</table>\n",
              "<p>72 rows × 4 columns</p>\n",
              "</div>\n",
              "      <button class=\"colab-df-convert\" onclick=\"convertToInteractive('df-9aaa876e-9503-4571-ac54-868b3f266379')\"\n",
              "              title=\"Convert this dataframe to an interactive table.\"\n",
              "              style=\"display:none;\">\n",
              "        \n",
              "  <svg xmlns=\"http://www.w3.org/2000/svg\" height=\"24px\"viewBox=\"0 0 24 24\"\n",
              "       width=\"24px\">\n",
              "    <path d=\"M0 0h24v24H0V0z\" fill=\"none\"/>\n",
              "    <path d=\"M18.56 5.44l.94 2.06.94-2.06 2.06-.94-2.06-.94-.94-2.06-.94 2.06-2.06.94zm-11 1L8.5 8.5l.94-2.06 2.06-.94-2.06-.94L8.5 2.5l-.94 2.06-2.06.94zm10 10l.94 2.06.94-2.06 2.06-.94-2.06-.94-.94-2.06-.94 2.06-2.06.94z\"/><path d=\"M17.41 7.96l-1.37-1.37c-.4-.4-.92-.59-1.43-.59-.52 0-1.04.2-1.43.59L10.3 9.45l-7.72 7.72c-.78.78-.78 2.05 0 2.83L4 21.41c.39.39.9.59 1.41.59.51 0 1.02-.2 1.41-.59l7.78-7.78 2.81-2.81c.8-.78.8-2.07 0-2.86zM5.41 20L4 18.59l7.72-7.72 1.47 1.35L5.41 20z\"/>\n",
              "  </svg>\n",
              "      </button>\n",
              "      \n",
              "  <style>\n",
              "    .colab-df-container {\n",
              "      display:flex;\n",
              "      flex-wrap:wrap;\n",
              "      gap: 12px;\n",
              "    }\n",
              "\n",
              "    .colab-df-convert {\n",
              "      background-color: #E8F0FE;\n",
              "      border: none;\n",
              "      border-radius: 50%;\n",
              "      cursor: pointer;\n",
              "      display: none;\n",
              "      fill: #1967D2;\n",
              "      height: 32px;\n",
              "      padding: 0 0 0 0;\n",
              "      width: 32px;\n",
              "    }\n",
              "\n",
              "    .colab-df-convert:hover {\n",
              "      background-color: #E2EBFA;\n",
              "      box-shadow: 0px 1px 2px rgba(60, 64, 67, 0.3), 0px 1px 3px 1px rgba(60, 64, 67, 0.15);\n",
              "      fill: #174EA6;\n",
              "    }\n",
              "\n",
              "    [theme=dark] .colab-df-convert {\n",
              "      background-color: #3B4455;\n",
              "      fill: #D2E3FC;\n",
              "    }\n",
              "\n",
              "    [theme=dark] .colab-df-convert:hover {\n",
              "      background-color: #434B5C;\n",
              "      box-shadow: 0px 1px 3px 1px rgba(0, 0, 0, 0.15);\n",
              "      filter: drop-shadow(0px 1px 2px rgba(0, 0, 0, 0.3));\n",
              "      fill: #FFFFFF;\n",
              "    }\n",
              "  </style>\n",
              "\n",
              "      <script>\n",
              "        const buttonEl =\n",
              "          document.querySelector('#df-9aaa876e-9503-4571-ac54-868b3f266379 button.colab-df-convert');\n",
              "        buttonEl.style.display =\n",
              "          google.colab.kernel.accessAllowed ? 'block' : 'none';\n",
              "\n",
              "        async function convertToInteractive(key) {\n",
              "          const element = document.querySelector('#df-9aaa876e-9503-4571-ac54-868b3f266379');\n",
              "          const dataTable =\n",
              "            await google.colab.kernel.invokeFunction('convertToInteractive',\n",
              "                                                     [key], {});\n",
              "          if (!dataTable) return;\n",
              "\n",
              "          const docLinkHtml = 'Like what you see? Visit the ' +\n",
              "            '<a target=\"_blank\" href=https://colab.research.google.com/notebooks/data_table.ipynb>data table notebook</a>'\n",
              "            + ' to learn more about interactive tables.';\n",
              "          element.innerHTML = '';\n",
              "          dataTable['output_type'] = 'display_data';\n",
              "          await google.colab.output.renderOutput(dataTable, element);\n",
              "          const docLink = document.createElement('div');\n",
              "          docLink.innerHTML = docLinkHtml;\n",
              "          element.appendChild(docLink);\n",
              "        }\n",
              "      </script>\n",
              "    </div>\n",
              "  </div>\n",
              "  "
            ]
          },
          "metadata": {},
          "execution_count": 47
        }
      ],
      "source": [
        "sorted_df = df.sort_values(by=['RMSE_mean'], ascending=True)\n",
        "sorted_df"
      ]
    },
    {
      "cell_type": "markdown",
      "source": [
        "I have a rounding problem here that I am not able to solve"
      ],
      "metadata": {
        "id": "vDxFwYFXAw8N"
      }
    },
    {
      "cell_type": "markdown",
      "source": [
        "Best performance is for 2 layers, a weight decay of 0.01, a learning rate of 0.01 and a dropout rate of 0. We will use this on the test set "
      ],
      "metadata": {
        "id": "9ItadyhTuL_9"
      }
    },
    {
      "cell_type": "markdown",
      "source": [
        "## Evaluate on the test set"
      ],
      "metadata": {
        "id": "qGZwHbD1D0U2"
      }
    },
    {
      "cell_type": "code",
      "source": [
        "import torch\n",
        "import torch.nn.functional as F\n",
        "from torch_geometric.nn import GCNConv\n",
        "\n",
        "class GCN(torch.nn.Module):\n",
        "    def __init__(self, dropout):\n",
        "        super().__init__()\n",
        "        self.conv1 = GCNConv(data.num_node_features, 16, dropout=dropout)\n",
        "        self.conv2 = GCNConv(16, data.num_classes)\n",
        "        self.dropout = dropout\n",
        "\n",
        "    def forward(self, data):\n",
        "        x, edge_index = data.x, data.edge_index\n",
        "\n",
        "        x = self.conv1(x, edge_index)\n",
        "        x = F.relu(x)\n",
        "        x = F.dropout(x, training=self.training, p=self.dropout)\n",
        "        x = self.conv2(x, edge_index)\n",
        "\n",
        "        return x"
      ],
      "metadata": {
        "id": "irHtqEdTD2cL"
      },
      "execution_count": 48,
      "outputs": []
    },
    {
      "cell_type": "code",
      "source": [
        "model = GCN(dropout = 0)#\n",
        "optimizer = torch.optim.Adam(model.parameters(), lr=1e-2, weight_decay=0.01)\n",
        "criterion = torch.nn.MSELoss()\n",
        "\n",
        "model.train()\n",
        "loss_values = []\n",
        "for epoch in range(200):\n",
        "    optimizer.zero_grad()\n",
        "    out = model(data)\n",
        "    loss = criterion(out[data.train_mask].squeeze(), data.y[data.train_mask].squeeze())\n",
        "\n",
        "    loss_values.append(loss.item())\n",
        "    loss.backward()\n",
        "    optimizer.step()"
      ],
      "metadata": {
        "id": "AB2VJBQWD2cL"
      },
      "execution_count": 51,
      "outputs": []
    },
    {
      "cell_type": "code",
      "source": [
        "# Evaluate model on valid set\n",
        "model.eval()\n",
        "with torch.no_grad():\n",
        "  out = model(data)\n",
        "  mse_loss = criterion(out[data.test_mask].squeeze(), data.y[data.test_mask].squeeze())\n",
        "  print(f'Val set MSE: {mse_loss.item():.4f}')\n",
        "  print(f'val RMSE: {mse_loss.sqrt():.4f}')\n"
      ],
      "metadata": {
        "colab": {
          "base_uri": "https://localhost:8080/"
        },
        "outputId": "fc2a3dad-0d57-4f5c-f4cf-f2eb92ec6acc",
        "id": "AtIVa1M3D2cM"
      },
      "execution_count": 52,
      "outputs": [
        {
          "output_type": "stream",
          "name": "stdout",
          "text": [
            "Val set MSE: 109034.5625\n",
            "val RMSE: 330.2038\n"
          ]
        }
      ]
    },
    {
      "cell_type": "markdown",
      "source": [
        "## References\n",
        "\n",
        "Link Regression on Movielens.ipynb - Colaboratory\n",
        "https://colab.research.google.com/drive/1N3LvAO0AXV4kBPbTMX866OwJM9YS6Ji2?usp=sharing#scrollTo=_5_rbeCjJnsz  (useful for the loss function and metric)"
      ],
      "metadata": {
        "id": "38-sAt4P5h6T"
      }
    }
  ]
}